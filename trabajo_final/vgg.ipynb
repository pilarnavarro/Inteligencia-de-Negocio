{
 "cells": [
  {
   "cell_type": "markdown",
   "metadata": {
    "id": "xc41JP14nF1a"
   },
   "source": [
    "Pilar Navarro Ramírez"
   ]
  },
  {
   "cell_type": "code",
   "execution_count": 7,
   "metadata": {
    "executionInfo": {
     "elapsed": 3061,
     "status": "ok",
     "timestamp": 1612278146050,
     "user": {
      "displayName": "Pilar Navarro",
      "photoUrl": "https://lh3.googleusercontent.com/a-/AOh14GjVEQ2fcXNkztOVtwH3gYkL7MU-0jktiO2acTgy7Q=s64",
      "userId": "13653515932275687032"
     },
     "user_tz": -60
    },
    "id": "s6a-zO_cY1BB"
   },
   "outputs": [],
   "source": [
    "import pandas as pd\n",
    "import numpy as np\n",
    "from mnist import MNIST\n",
    "import matplotlib.pyplot as plt\n",
    "import seaborn as sns\n",
    "\n",
    "from sklearn.model_selection import train_test_split\n",
    "from sklearn.metrics import confusion_matrix\n",
    "import itertools\n",
    "\n",
    "from keras.models import Sequential\n",
    "from keras.layers import Flatten, Dense, Conv2D, AveragePooling2D,Dropout\n",
    "from keras.utils.np_utils import to_categorical\n",
    "from keras.applications.vgg16 import VGG16\n",
    "from keras.applications.vgg19 import VGG19\n",
    "from keras.preprocessing.image import ImageDataGenerator\n",
    "from keras.callbacks import EarlyStopping, ReduceLROnPlateau, ModelCheckpoint\n",
    "from keras.optimizers import Adam\n",
    "\n",
    "sns.set(style='white', context='notebook', palette='deep')\n",
    "\n",
    "%matplotlib inline"
   ]
  },
  {
   "cell_type": "code",
   "execution_count": 9,
   "metadata": {
    "executionInfo": {
     "elapsed": 867,
     "status": "ok",
     "timestamp": 1612278177787,
     "user": {
      "displayName": "Pilar Navarro",
      "photoUrl": "https://lh3.googleusercontent.com/a-/AOh14GjVEQ2fcXNkztOVtwH3gYkL7MU-0jktiO2acTgy7Q=s64",
      "userId": "13653515932275687032"
     },
     "user_tz": -60
    },
    "id": "EmtWx9DF5EDZ"
   },
   "outputs": [],
   "source": [
    "#########################################################################\n",
    "## FUNCIÓN PARA PINTAR LA PÉRDIDA Y EL ACCURACY EN TRAIN Y VALIDACIÓN ###\n",
    "#########################################################################\n",
    "\n",
    "# Esta función pinta dos gráficas, una con la evolución\n",
    "# de la función de pérdida en el conjunto de train y\n",
    "# en el de validación, y otra con la evolución de la\n",
    "# accuracy en el conjunto de train y el de validación.\n",
    "# Es necesario pasarle como parámetro el historial del\n",
    "# entrenamiento del modelo (lo que devuelven las\n",
    "# funciones fit() y fit_generator()).\n",
    "def mostrarEvolucion(hist):\n",
    "    loss = hist.history['loss']\n",
    "    val_loss = hist.history['val_loss']\n",
    "    plt.plot(loss)\n",
    "    plt.plot(val_loss)\n",
    "    plt.legend(['Training loss', 'Validation loss'])\n",
    "    plt.show()\n",
    "    \n",
    "    acc = hist.history['accuracy']\n",
    "    val_acc = hist.history['val_accuracy']\n",
    "    plt.plot(acc)\n",
    "    plt.plot(val_acc)\n",
    "    plt.legend(['Training accuracy','Validation accuracy'])\n",
    "    plt.show()"
   ]
  },
  {
   "cell_type": "markdown",
   "metadata": {
    "id": "3jsjgJVBZEGe"
   },
   "source": [
    "## Lectura de los datos y preprocesamiento"
   ]
  },
  {
   "cell_type": "code",
   "execution_count": 10,
   "metadata": {
    "executionInfo": {
     "elapsed": 9419,
     "status": "ok",
     "timestamp": 1612278195339,
     "user": {
      "displayName": "Pilar Navarro",
      "photoUrl": "https://lh3.googleusercontent.com/a-/AOh14GjVEQ2fcXNkztOVtwH3gYkL7MU-0jktiO2acTgy7Q=s64",
      "userId": "13653515932275687032"
     },
     "user_tz": -60
    },
    "id": "s-f51NpRWgMo"
   },
   "outputs": [],
   "source": [
    "mndata = MNIST('data')\n",
    "\n",
    "x_train, y_train = mndata.load_training()\n",
    "x_test, y_test = mndata.load_testing()\n",
    "\n",
    "x_train = np.asarray(x_train)\n",
    "y_train = np.asarray(y_train)\n",
    "x_test = np.asarray(x_test)\n",
    "y_test = np.asarray(y_test)"
   ]
  },
  {
   "cell_type": "code",
   "execution_count": 11,
   "metadata": {
    "executionInfo": {
     "elapsed": 9412,
     "status": "ok",
     "timestamp": 1612278195345,
     "user": {
      "displayName": "Pilar Navarro",
      "photoUrl": "https://lh3.googleusercontent.com/a-/AOh14GjVEQ2fcXNkztOVtwH3gYkL7MU-0jktiO2acTgy7Q=s64",
      "userId": "13653515932275687032"
     },
     "user_tz": -60
    },
    "id": "WTkVzWpCWgMp"
   },
   "outputs": [],
   "source": [
    "x_train = x_train.reshape((len(x_train),28,28))\n",
    "x_test = x_test.reshape((len(x_test),28,28))"
   ]
  },
  {
   "cell_type": "code",
   "execution_count": 12,
   "metadata": {
    "colab": {
     "base_uri": "https://localhost:8080/"
    },
    "executionInfo": {
     "elapsed": 9405,
     "status": "ok",
     "timestamp": 1612278195347,
     "user": {
      "displayName": "Pilar Navarro",
      "photoUrl": "https://lh3.googleusercontent.com/a-/AOh14GjVEQ2fcXNkztOVtwH3gYkL7MU-0jktiO2acTgy7Q=s64",
      "userId": "13653515932275687032"
     },
     "user_tz": -60
    },
    "id": "qRcjzM1QWgMp",
    "outputId": "ec81a64a-5a9e-4137-dfc7-5a2c4cca28f0"
   },
   "outputs": [
    {
     "data": {
      "text/plain": [
       "array([5, 0, 4, ..., 5, 6, 8], dtype=uint8)"
      ]
     },
     "execution_count": 12,
     "metadata": {
      "tags": []
     },
     "output_type": "execute_result"
    }
   ],
   "source": [
    "y_train"
   ]
  },
  {
   "cell_type": "code",
   "execution_count": 13,
   "metadata": {
    "executionInfo": {
     "elapsed": 9400,
     "status": "ok",
     "timestamp": 1612278195351,
     "user": {
      "displayName": "Pilar Navarro",
      "photoUrl": "https://lh3.googleusercontent.com/a-/AOh14GjVEQ2fcXNkztOVtwH3gYkL7MU-0jktiO2acTgy7Q=s64",
      "userId": "13653515932275687032"
     },
     "user_tz": -60
    },
    "id": "ukNMuVIdZaP6"
   },
   "outputs": [],
   "source": [
    "y_train=pd.DataFrame(y_train)"
   ]
  },
  {
   "cell_type": "code",
   "execution_count": 14,
   "metadata": {
    "colab": {
     "base_uri": "https://localhost:8080/",
     "height": 313
    },
    "executionInfo": {
     "elapsed": 9391,
     "status": "ok",
     "timestamp": 1612278195352,
     "user": {
      "displayName": "Pilar Navarro",
      "photoUrl": "https://lh3.googleusercontent.com/a-/AOh14GjVEQ2fcXNkztOVtwH3gYkL7MU-0jktiO2acTgy7Q=s64",
      "userId": "13653515932275687032"
     },
     "user_tz": -60
    },
    "id": "EsV-R0NWZnz_",
    "outputId": "4796493a-60b6-40f6-dc05-0536211885ab"
   },
   "outputs": [
    {
     "data": {
      "text/plain": [
       "<matplotlib.axes._subplots.AxesSubplot at 0x7f79373b9cf8>"
      ]
     },
     "execution_count": 14,
     "metadata": {
      "tags": []
     },
     "output_type": "execute_result"
    },
    {
     "data": {
      "image/png": "[encoded data removed]",
      "text/plain": [
       "<Figure size 432x288 with 1 Axes>"
      ]
     },
     "metadata": {
      "needs_background": "light",
      "tags": []
     },
     "output_type": "display_data"
    }
   ],
   "source": [
    "hist = y_train.value_counts()\n",
    "hist.plot.bar()"
   ]
  },
  {
   "cell_type": "code",
   "execution_count": 15,
   "metadata": {
    "executionInfo": {
     "elapsed": 9382,
     "status": "ok",
     "timestamp": 1612278195353,
     "user": {
      "displayName": "Pilar Navarro",
      "photoUrl": "https://lh3.googleusercontent.com/a-/AOh14GjVEQ2fcXNkztOVtwH3gYkL7MU-0jktiO2acTgy7Q=s64",
      "userId": "13653515932275687032"
     },
     "user_tz": -60
    },
    "id": "iAatgMe1ankL"
   },
   "outputs": [],
   "source": [
    "#normalization\n",
    "x_train = x_train / 255.0\n",
    "x_test = x_test / 255.0"
   ]
  },
  {
   "cell_type": "code",
   "execution_count": 16,
   "metadata": {
    "executionInfo": {
     "elapsed": 10359,
     "status": "ok",
     "timestamp": 1612278196339,
     "user": {
      "displayName": "Pilar Navarro",
      "photoUrl": "https://lh3.googleusercontent.com/a-/AOh14GjVEQ2fcXNkztOVtwH3gYkL7MU-0jktiO2acTgy7Q=s64",
      "userId": "13653515932275687032"
     },
     "user_tz": -60
    },
    "id": "1sO1UZYvark_"
   },
   "outputs": [],
   "source": [
    "#reshape\n",
    "x_train = x_train.reshape(-1, 28,28,1)\n",
    "x_test = x_test.reshape(-1, 28,28,1)\n",
    "# Padding the input to make it 32x32. \n",
    "x_train = np.pad(x_train, [(0, 0), (2, 2), (2, 2), (0, 0)], \"constant\") \n",
    "x_test = np.pad(x_test, [(0, 0), (2, 2), (2, 2), (0, 0)], \"constant\") "
   ]
  },
  {
   "cell_type": "code",
   "execution_count": 17,
   "metadata": {
    "executionInfo": {
     "elapsed": 10930,
     "status": "ok",
     "timestamp": 1612278196919,
     "user": {
      "displayName": "Pilar Navarro",
      "photoUrl": "https://lh3.googleusercontent.com/a-/AOh14GjVEQ2fcXNkztOVtwH3gYkL7MU-0jktiO2acTgy7Q=s64",
      "userId": "13653515932275687032"
     },
     "user_tz": -60
    },
    "id": "1qjjqC8_dFW9"
   },
   "outputs": [],
   "source": [
    "#Convert the data into 3 dimensions\n",
    "train=x_train.copy()\n",
    "test=x_test.copy()\n",
    "\n",
    "train=train.reshape(-1,32,32)\n",
    "test=test.reshape(-1,32,32)\n",
    "\n",
    "train=np.stack([train,train,train],axis=-1)\n",
    "test=np.stack([test,test,test],axis=-1)"
   ]
  },
  {
   "cell_type": "code",
   "execution_count": 18,
   "metadata": {
    "colab": {
     "base_uri": "https://localhost:8080/"
    },
    "executionInfo": {
     "elapsed": 10924,
     "status": "ok",
     "timestamp": 1612278196922,
     "user": {
      "displayName": "Pilar Navarro",
      "photoUrl": "https://lh3.googleusercontent.com/a-/AOh14GjVEQ2fcXNkztOVtwH3gYkL7MU-0jktiO2acTgy7Q=s64",
      "userId": "13653515932275687032"
     },
     "user_tz": -60
    },
    "id": "Xyudidn4duNn",
    "outputId": "133a34f7-f69a-4e05-f946-4468e019cd31"
   },
   "outputs": [
    {
     "name": "stdout",
     "output_type": "stream",
     "text": [
      "X_train shape:  (60000, 32, 32, 3)\n",
      "x_test shape:  (10000, 32, 32, 3)\n"
     ]
    }
   ],
   "source": [
    "print(\"X_train shape: \", train.shape)\n",
    "print(\"x_test shape: \", test.shape)"
   ]
  },
  {
   "cell_type": "code",
   "execution_count": 19,
   "metadata": {
    "executionInfo": {
     "elapsed": 10916,
     "status": "ok",
     "timestamp": 1612278196923,
     "user": {
      "displayName": "Pilar Navarro",
      "photoUrl": "https://lh3.googleusercontent.com/a-/AOh14GjVEQ2fcXNkztOVtwH3gYkL7MU-0jktiO2acTgy7Q=s64",
      "userId": "13653515932275687032"
     },
     "user_tz": -60
    },
    "id": "isPvRxN_Zpm_"
   },
   "outputs": [],
   "source": [
    "#label encoding\n",
    "y_train = to_categorical(y_train, num_classes=10)\n",
    "y_test = to_categorical(y_test, num_classes=10)"
   ]
  },
  {
   "cell_type": "code",
   "execution_count": 20,
   "metadata": {
    "colab": {
     "base_uri": "https://localhost:8080/"
    },
    "executionInfo": {
     "elapsed": 10909,
     "status": "ok",
     "timestamp": 1612278196924,
     "user": {
      "displayName": "Pilar Navarro",
      "photoUrl": "https://lh3.googleusercontent.com/a-/AOh14GjVEQ2fcXNkztOVtwH3gYkL7MU-0jktiO2acTgy7Q=s64",
      "userId": "13653515932275687032"
     },
     "user_tz": -60
    },
    "id": "9VmV8Pl9bkpz",
    "outputId": "69216cb5-89f9-49f3-c9fb-4c12bf0d7768"
   },
   "outputs": [
    {
     "data": {
      "text/plain": [
       "array([0., 0., 0., 0., 0., 1., 0., 0., 0., 0.], dtype=float32)"
      ]
     },
     "execution_count": 20,
     "metadata": {
      "tags": []
     },
     "output_type": "execute_result"
    }
   ],
   "source": [
    "y_train[0]"
   ]
  },
  {
   "cell_type": "code",
   "execution_count": 21,
   "metadata": {
    "executionInfo": {
     "elapsed": 11314,
     "status": "ok",
     "timestamp": 1612278197341,
     "user": {
      "displayName": "Pilar Navarro",
      "photoUrl": "https://lh3.googleusercontent.com/a-/AOh14GjVEQ2fcXNkztOVtwH3gYkL7MU-0jktiO2acTgy7Q=s64",
      "userId": "13653515932275687032"
     },
     "user_tz": -60
    },
    "id": "sgpPZhURa9dK"
   },
   "outputs": [],
   "source": [
    "#split data into training and validation\n",
    "train, val, y_train, y_val = train_test_split(train, y_train, test_size = 0.1, random_state = 2)"
   ]
  },
  {
   "cell_type": "code",
   "execution_count": 22,
   "metadata": {
    "colab": {
     "base_uri": "https://localhost:8080/"
    },
    "executionInfo": {
     "elapsed": 11307,
     "status": "ok",
     "timestamp": 1612278197343,
     "user": {
      "displayName": "Pilar Navarro",
      "photoUrl": "https://lh3.googleusercontent.com/a-/AOh14GjVEQ2fcXNkztOVtwH3gYkL7MU-0jktiO2acTgy7Q=s64",
      "userId": "13653515932275687032"
     },
     "user_tz": -60
    },
    "id": "fzcQ8ub7bFPt",
    "outputId": "00c9dbf9-faf6-4a88-d84d-eb9155167513"
   },
   "outputs": [
    {
     "name": "stdout",
     "output_type": "stream",
     "text": [
      "X_train shape:  (54000, 32, 32, 3)\n",
      "X_val shape:  (6000, 32, 32, 3)\n",
      "y_train shape:  (54000, 10)\n",
      "y_val shape:  (6000, 10)\n"
     ]
    }
   ],
   "source": [
    "print(\"X_train shape: \", train.shape)\n",
    "print(\"X_val shape: \", val.shape)\n",
    "print(\"y_train shape: \", y_train.shape)\n",
    "print(\"y_val shape: \", y_val.shape)"
   ]
  },
  {
   "cell_type": "code",
   "execution_count": 23,
   "metadata": {
    "colab": {
     "base_uri": "https://localhost:8080/",
     "height": 501
    },
    "executionInfo": {
     "elapsed": 12230,
     "status": "ok",
     "timestamp": 1612278198275,
     "user": {
      "displayName": "Pilar Navarro",
      "photoUrl": "https://lh3.googleusercontent.com/a-/AOh14GjVEQ2fcXNkztOVtwH3gYkL7MU-0jktiO2acTgy7Q=s64",
      "userId": "13653515932275687032"
     },
     "user_tz": -60
    },
    "id": "oCYsYXw4bRQl",
    "outputId": "f0204a20-a924-4d46-e5d4-3dcdca4f5318"
   },
   "outputs": [
    {
     "data": {
      "image/png": "[encoded data removed]",
      "text/plain": [
       "<Figure size 864x576 with 4 Axes>"
      ]
     },
     "metadata": {
      "needs_background": "light",
      "tags": []
     },
     "output_type": "display_data"
    }
   ],
   "source": [
    "nrows = 2\n",
    "ncols = 2\n",
    "\n",
    "pic_indexes = np.random.randint(train.shape[0], size=(nrows*ncols))\n",
    "\n",
    "f, axs = plt.subplots(nrows, ncols, figsize=(12, 8))\n",
    "axs = axs.flatten()\n",
    "\n",
    "picture_index  = 0\n",
    "\n",
    "for picture_index, ax in zip(pic_indexes, axs):\n",
    "        ax.imshow(x_train[picture_index].reshape(32, 32), cmap='gray')\n",
    "        ax.set_title(f'Label: {y_train[picture_index]}')\n",
    "\n",
    "plt.show()"
   ]
  },
  {
   "cell_type": "code",
   "execution_count": 24,
   "metadata": {
    "colab": {
     "base_uri": "https://localhost:8080/",
     "height": 268
    },
    "executionInfo": {
     "elapsed": 12220,
     "status": "ok",
     "timestamp": 1612278198277,
     "user": {
      "displayName": "Pilar Navarro",
      "photoUrl": "https://lh3.googleusercontent.com/a-/AOh14GjVEQ2fcXNkztOVtwH3gYkL7MU-0jktiO2acTgy7Q=s64",
      "userId": "13653515932275687032"
     },
     "user_tz": -60
    },
    "id": "k9x8D-BFbecf",
    "outputId": "42d53cbe-959b-4650-a7df-eebf35f3f256"
   },
   "outputs": [
    {
     "data": {
      "image/png": "[encoded data removed]",
      "text/plain": [
       "<Figure size 432x288 with 1 Axes>"
      ]
     },
     "metadata": {
      "needs_background": "light",
      "tags": []
     },
     "output_type": "display_data"
    }
   ],
   "source": [
    "g = plt.imshow(x_train[0][:,:,0])"
   ]
  },
  {
   "cell_type": "markdown",
   "metadata": {
    "id": "FFvKEjGkbn46"
   },
   "source": [
    "## VGG16"
   ]
  },
  {
   "cell_type": "code",
   "execution_count": null,
   "metadata": {
    "id": "6i2v5RNtbmU-"
   },
   "outputs": [],
   "source": [
    "def nuevoVGG16():\n",
    "    model = Sequential()\n",
    "\n",
    "    model.add(VGG16(weights='imagenet', include_top=False, input_shape = (32,32,3)))\n",
    "\n",
    "\n",
    "    model.add(Flatten())\n",
    "    model.add(Dense(512, activation = 'relu'))\n",
    "    model.add(Dropout(0.5))\n",
    "    model.add(Dense(10, activation = 'softmax'))\n",
    "\n",
    "    return model"
   ]
  },
  {
   "cell_type": "code",
   "execution_count": null,
   "metadata": {
    "colab": {
     "base_uri": "https://localhost:8080/"
    },
    "executionInfo": {
     "elapsed": 1037,
     "status": "ok",
     "timestamp": 1612204028214,
     "user": {
      "displayName": "Alex Alonso Membrilla",
      "photoUrl": "",
      "userId": "04210505686941574266"
     },
     "user_tz": -60
    },
    "id": "pBvsTp_lbzzJ",
    "outputId": "d498381e-1fe7-4e3c-ad9e-37e10bf66331"
   },
   "outputs": [
    {
     "name": "stdout",
     "output_type": "stream",
     "text": [
      "Model: \"sequential_1\"\n",
      "_________________________________________________________________\n",
      "Layer (type)                 Output Shape              Param #   \n",
      "=================================================================\n",
      "vgg16 (Functional)           (None, 1, 1, 512)         14714688  \n",
      "_________________________________________________________________\n",
      "flatten_1 (Flatten)          (None, 512)               0         \n",
      "_________________________________________________________________\n",
      "dense_2 (Dense)              (None, 512)               262656    \n",
      "_________________________________________________________________\n",
      "dropout_1 (Dropout)          (None, 512)               0         \n",
      "_________________________________________________________________\n",
      "dense_3 (Dense)              (None, 10)                5130      \n",
      "=================================================================\n",
      "Total params: 14,982,474\n",
      "Trainable params: 14,982,474\n",
      "Non-trainable params: 0\n",
      "_________________________________________________________________\n"
     ]
    }
   ],
   "source": [
    "model = nuevoVGG16()\n",
    "model.summary()"
   ]
  },
  {
   "cell_type": "code",
   "execution_count": null,
   "metadata": {
    "id": "s6jKhL7oxWYM"
   },
   "outputs": [],
   "source": [
    "model.layers[0].trainable = False"
   ]
  },
  {
   "cell_type": "code",
   "execution_count": null,
   "metadata": {
    "colab": {
     "base_uri": "https://localhost:8080/"
    },
    "executionInfo": {
     "elapsed": 483,
     "status": "ok",
     "timestamp": 1612204030254,
     "user": {
      "displayName": "Alex Alonso Membrilla",
      "photoUrl": "",
      "userId": "04210505686941574266"
     },
     "user_tz": -60
    },
    "id": "LySIZAQhxc4J",
    "outputId": "261c5e09-a6da-4bf5-9cf0-cf3848b9c9a7"
   },
   "outputs": [
    {
     "name": "stdout",
     "output_type": "stream",
     "text": [
      "Model: \"sequential_1\"\n",
      "_________________________________________________________________\n",
      "Layer (type)                 Output Shape              Param #   \n",
      "=================================================================\n",
      "vgg16 (Functional)           (None, 1, 1, 512)         14714688  \n",
      "_________________________________________________________________\n",
      "flatten_1 (Flatten)          (None, 512)               0         \n",
      "_________________________________________________________________\n",
      "dense_2 (Dense)              (None, 512)               262656    \n",
      "_________________________________________________________________\n",
      "dropout_1 (Dropout)          (None, 512)               0         \n",
      "_________________________________________________________________\n",
      "dense_3 (Dense)              (None, 10)                5130      \n",
      "=================================================================\n",
      "Total params: 14,982,474\n",
      "Trainable params: 267,786\n",
      "Non-trainable params: 14,714,688\n",
      "_________________________________________________________________\n"
     ]
    }
   ],
   "source": [
    "model.summary()"
   ]
  },
  {
   "cell_type": "code",
   "execution_count": null,
   "metadata": {
    "id": "Mrm227ffb-Pz"
   },
   "outputs": [],
   "source": [
    "model.compile(optimizer = Adam(1e-4), loss = 'categorical_crossentropy', metrics = ['accuracy'])"
   ]
  },
  {
   "cell_type": "code",
   "execution_count": null,
   "metadata": {
    "id": "eA1RGAjlT_56"
   },
   "outputs": [],
   "source": [
    "epochs = 50 \n",
    "batch_size = 64\n",
    "callbacks1 = [ \n",
    "    EarlyStopping(monitor = 'val_loss', patience = 6, restore_best_weights=True), \n",
    "    ReduceLROnPlateau(monitor = 'val_loss', patience = 3)\n",
    "]"
   ]
  },
  {
   "cell_type": "code",
   "execution_count": null,
   "metadata": {
    "colab": {
     "base_uri": "https://localhost:8080/"
    },
    "executionInfo": {
     "elapsed": 262776,
     "status": "ok",
     "timestamp": 1612204296361,
     "user": {
      "displayName": "Alex Alonso Membrilla",
      "photoUrl": "",
      "userId": "04210505686941574266"
     },
     "user_tz": -60
    },
    "id": "sTxVUiANdmah",
    "outputId": "49748ca9-e03e-4799-b43b-afcaeda14835"
   },
   "outputs": [
    {
     "name": "stdout",
     "output_type": "stream",
     "text": [
      "Epoch 1/50\n",
      "843/843 - 6s - loss: 1.1201 - accuracy: 0.6534 - val_loss: 0.6279 - val_accuracy: 0.8297\n",
      "Epoch 2/50\n",
      "843/843 - 5s - loss: 0.5683 - accuracy: 0.8304 - val_loss: 0.4147 - val_accuracy: 0.8890\n",
      "Epoch 3/50\n",
      "843/843 - 5s - loss: 0.4198 - accuracy: 0.8761 - val_loss: 0.3184 - val_accuracy: 0.9137\n",
      "Epoch 4/50\n",
      "843/843 - 5s - loss: 0.3461 - accuracy: 0.8985 - val_loss: 0.2670 - val_accuracy: 0.9257\n",
      "Epoch 5/50\n",
      "843/843 - 5s - loss: 0.2949 - accuracy: 0.9133 - val_loss: 0.2309 - val_accuracy: 0.9347\n",
      "Epoch 6/50\n",
      "843/843 - 5s - loss: 0.2624 - accuracy: 0.9224 - val_loss: 0.2060 - val_accuracy: 0.9393\n",
      "Epoch 7/50\n",
      "843/843 - 5s - loss: 0.2387 - accuracy: 0.9291 - val_loss: 0.1897 - val_accuracy: 0.9443\n",
      "Epoch 8/50\n",
      "843/843 - 5s - loss: 0.2202 - accuracy: 0.9337 - val_loss: 0.1733 - val_accuracy: 0.9470\n",
      "Epoch 9/50\n",
      "843/843 - 5s - loss: 0.2050 - accuracy: 0.9370 - val_loss: 0.1619 - val_accuracy: 0.9513\n",
      "Epoch 10/50\n",
      "843/843 - 6s - loss: 0.1938 - accuracy: 0.9409 - val_loss: 0.1545 - val_accuracy: 0.9533\n",
      "Epoch 11/50\n",
      "843/843 - 5s - loss: 0.1829 - accuracy: 0.9446 - val_loss: 0.1467 - val_accuracy: 0.9552\n",
      "Epoch 12/50\n",
      "843/843 - 5s - loss: 0.1754 - accuracy: 0.9464 - val_loss: 0.1406 - val_accuracy: 0.9582\n",
      "Epoch 13/50\n",
      "843/843 - 5s - loss: 0.1674 - accuracy: 0.9482 - val_loss: 0.1337 - val_accuracy: 0.9580\n",
      "Epoch 14/50\n",
      "843/843 - 5s - loss: 0.1608 - accuracy: 0.9501 - val_loss: 0.1312 - val_accuracy: 0.9608\n",
      "Epoch 15/50\n",
      "843/843 - 5s - loss: 0.1549 - accuracy: 0.9524 - val_loss: 0.1270 - val_accuracy: 0.9600\n",
      "Epoch 16/50\n",
      "843/843 - 5s - loss: 0.1513 - accuracy: 0.9533 - val_loss: 0.1219 - val_accuracy: 0.9622\n",
      "Epoch 17/50\n",
      "843/843 - 5s - loss: 0.1459 - accuracy: 0.9547 - val_loss: 0.1198 - val_accuracy: 0.9630\n",
      "Epoch 18/50\n",
      "843/843 - 5s - loss: 0.1417 - accuracy: 0.9557 - val_loss: 0.1167 - val_accuracy: 0.9643\n",
      "Epoch 19/50\n",
      "843/843 - 5s - loss: 0.1371 - accuracy: 0.9576 - val_loss: 0.1151 - val_accuracy: 0.9637\n",
      "Epoch 20/50\n",
      "843/843 - 5s - loss: 0.1336 - accuracy: 0.9581 - val_loss: 0.1130 - val_accuracy: 0.9643\n",
      "Epoch 21/50\n",
      "843/843 - 5s - loss: 0.1315 - accuracy: 0.9591 - val_loss: 0.1087 - val_accuracy: 0.9657\n",
      "Epoch 22/50\n",
      "843/843 - 5s - loss: 0.1275 - accuracy: 0.9603 - val_loss: 0.1077 - val_accuracy: 0.9673\n",
      "Epoch 23/50\n",
      "843/843 - 5s - loss: 0.1247 - accuracy: 0.9602 - val_loss: 0.1045 - val_accuracy: 0.9663\n",
      "Epoch 24/50\n",
      "843/843 - 5s - loss: 0.1233 - accuracy: 0.9615 - val_loss: 0.1041 - val_accuracy: 0.9690\n",
      "Epoch 25/50\n",
      "843/843 - 5s - loss: 0.1207 - accuracy: 0.9625 - val_loss: 0.1017 - val_accuracy: 0.9652\n",
      "Epoch 26/50\n",
      "843/843 - 5s - loss: 0.1182 - accuracy: 0.9628 - val_loss: 0.1023 - val_accuracy: 0.9677\n",
      "Epoch 27/50\n",
      "843/843 - 5s - loss: 0.1153 - accuracy: 0.9633 - val_loss: 0.0991 - val_accuracy: 0.9677\n",
      "Epoch 28/50\n",
      "843/843 - 5s - loss: 0.1140 - accuracy: 0.9645 - val_loss: 0.0987 - val_accuracy: 0.9688\n",
      "Epoch 29/50\n",
      "843/843 - 5s - loss: 0.1129 - accuracy: 0.9639 - val_loss: 0.0962 - val_accuracy: 0.9688\n",
      "Epoch 30/50\n",
      "843/843 - 5s - loss: 0.1115 - accuracy: 0.9645 - val_loss: 0.0949 - val_accuracy: 0.9700\n",
      "Epoch 31/50\n",
      "843/843 - 5s - loss: 0.1071 - accuracy: 0.9658 - val_loss: 0.0935 - val_accuracy: 0.9705\n",
      "Epoch 32/50\n",
      "843/843 - 5s - loss: 0.1070 - accuracy: 0.9660 - val_loss: 0.0934 - val_accuracy: 0.9692\n",
      "Epoch 33/50\n",
      "843/843 - 5s - loss: 0.1048 - accuracy: 0.9669 - val_loss: 0.0923 - val_accuracy: 0.9695\n",
      "Epoch 34/50\n",
      "843/843 - 5s - loss: 0.1027 - accuracy: 0.9674 - val_loss: 0.0909 - val_accuracy: 0.9707\n",
      "Epoch 35/50\n",
      "843/843 - 5s - loss: 0.1040 - accuracy: 0.9670 - val_loss: 0.0919 - val_accuracy: 0.9708\n",
      "Epoch 36/50\n",
      "843/843 - 5s - loss: 0.1012 - accuracy: 0.9687 - val_loss: 0.0893 - val_accuracy: 0.9708\n",
      "Epoch 37/50\n",
      "843/843 - 5s - loss: 0.0983 - accuracy: 0.9691 - val_loss: 0.0873 - val_accuracy: 0.9715\n",
      "Epoch 38/50\n",
      "843/843 - 5s - loss: 0.0977 - accuracy: 0.9691 - val_loss: 0.0870 - val_accuracy: 0.9707\n",
      "Epoch 39/50\n",
      "843/843 - 5s - loss: 0.0961 - accuracy: 0.9697 - val_loss: 0.0878 - val_accuracy: 0.9710\n",
      "Epoch 40/50\n",
      "843/843 - 5s - loss: 0.0965 - accuracy: 0.9696 - val_loss: 0.0888 - val_accuracy: 0.9710\n",
      "Epoch 41/50\n",
      "843/843 - 5s - loss: 0.0938 - accuracy: 0.9707 - val_loss: 0.0847 - val_accuracy: 0.9722\n",
      "Epoch 42/50\n",
      "843/843 - 5s - loss: 0.0943 - accuracy: 0.9704 - val_loss: 0.0844 - val_accuracy: 0.9722\n",
      "Epoch 43/50\n",
      "843/843 - 5s - loss: 0.0918 - accuracy: 0.9714 - val_loss: 0.0832 - val_accuracy: 0.9727\n",
      "Epoch 44/50\n",
      "843/843 - 5s - loss: 0.0908 - accuracy: 0.9710 - val_loss: 0.0835 - val_accuracy: 0.9732\n",
      "Epoch 45/50\n",
      "843/843 - 5s - loss: 0.0897 - accuracy: 0.9714 - val_loss: 0.0846 - val_accuracy: 0.9715\n",
      "Epoch 46/50\n",
      "843/843 - 5s - loss: 0.0884 - accuracy: 0.9721 - val_loss: 0.0840 - val_accuracy: 0.9725\n",
      "Epoch 47/50\n",
      "843/843 - 5s - loss: 0.0843 - accuracy: 0.9740 - val_loss: 0.0804 - val_accuracy: 0.9738\n",
      "Epoch 48/50\n",
      "843/843 - 5s - loss: 0.0849 - accuracy: 0.9729 - val_loss: 0.0804 - val_accuracy: 0.9743\n",
      "Epoch 49/50\n",
      "843/843 - 5s - loss: 0.0837 - accuracy: 0.9737 - val_loss: 0.0802 - val_accuracy: 0.9737\n",
      "Epoch 50/50\n",
      "843/843 - 5s - loss: 0.0831 - accuracy: 0.9736 - val_loss: 0.0802 - val_accuracy: 0.9747\n"
     ]
    }
   ],
   "source": [
    "# Fit the model\n",
    "history1 = model.fit(train,y_train, batch_size=batch_size,\n",
    "                    epochs = epochs, validation_data = (val,y_val),\n",
    "                    verbose = 2, steps_per_epoch=train.shape[0] // batch_size,\n",
    "                    callbacks = callbacks1)"
   ]
  },
  {
   "cell_type": "markdown",
   "metadata": {
    "id": "8padPLS5zraQ"
   },
   "source": [
    "#### Fine Tuning"
   ]
  },
  {
   "cell_type": "code",
   "execution_count": null,
   "metadata": {
    "id": "iF_0-dY_z7n5"
   },
   "outputs": [],
   "source": [
    "model.layers[0].trainable = True"
   ]
  },
  {
   "cell_type": "code",
   "execution_count": null,
   "metadata": {
    "colab": {
     "base_uri": "https://localhost:8080/"
    },
    "executionInfo": {
     "elapsed": 608,
     "status": "ok",
     "timestamp": 1612204448921,
     "user": {
      "displayName": "Alex Alonso Membrilla",
      "photoUrl": "",
      "userId": "04210505686941574266"
     },
     "user_tz": -60
    },
    "id": "knx3vQE5z7n6",
    "outputId": "39e061bd-b436-4950-8423-9b874819d54a"
   },
   "outputs": [
    {
     "name": "stdout",
     "output_type": "stream",
     "text": [
      "Model: \"sequential_1\"\n",
      "_________________________________________________________________\n",
      "Layer (type)                 Output Shape              Param #   \n",
      "=================================================================\n",
      "vgg16 (Functional)           (None, 1, 1, 512)         14714688  \n",
      "_________________________________________________________________\n",
      "flatten_1 (Flatten)          (None, 512)               0         \n",
      "_________________________________________________________________\n",
      "dense_2 (Dense)              (None, 512)               262656    \n",
      "_________________________________________________________________\n",
      "dropout_1 (Dropout)          (None, 512)               0         \n",
      "_________________________________________________________________\n",
      "dense_3 (Dense)              (None, 10)                5130      \n",
      "=================================================================\n",
      "Total params: 14,982,474\n",
      "Trainable params: 14,982,474\n",
      "Non-trainable params: 0\n",
      "_________________________________________________________________\n"
     ]
    }
   ],
   "source": [
    "model.summary()"
   ]
  },
  {
   "cell_type": "code",
   "execution_count": null,
   "metadata": {
    "id": "cRSBNqMLzp8l"
   },
   "outputs": [],
   "source": [
    "model.compile(optimizer=Adam(1e-5), loss = 'categorical_crossentropy', metrics = ['accuracy'])"
   ]
  },
  {
   "cell_type": "code",
   "execution_count": null,
   "metadata": {
    "id": "0eBJNdGlzp9D"
   },
   "outputs": [],
   "source": [
    "epochs = 20 \n",
    "batch_size = 32\n",
    "callbacks2 = [ \n",
    "    EarlyStopping(monitor = 'val_loss', patience = 3, restore_best_weights=True), \n",
    "    ReduceLROnPlateau(monitor = 'val_loss', patience = 3)\n",
    "]"
   ]
  },
  {
   "cell_type": "code",
   "execution_count": null,
   "metadata": {
    "colab": {
     "base_uri": "https://localhost:8080/"
    },
    "executionInfo": {
     "elapsed": 197376,
     "status": "ok",
     "timestamp": 1612204656906,
     "user": {
      "displayName": "Alex Alonso Membrilla",
      "photoUrl": "",
      "userId": "04210505686941574266"
     },
     "user_tz": -60
    },
    "id": "WRSHDD_czp9E",
    "outputId": "532dc0d0-00b5-4d70-aac0-2dc7be57d52f"
   },
   "outputs": [
    {
     "name": "stdout",
     "output_type": "stream",
     "text": [
      "Epoch 1/20\n",
      "1687/1687 - 19s - loss: 0.0767 - accuracy: 0.9769 - val_loss: 0.0358 - val_accuracy: 0.9895\n",
      "Epoch 2/20\n",
      "1687/1687 - 18s - loss: 0.0353 - accuracy: 0.9896 - val_loss: 0.0384 - val_accuracy: 0.9898\n",
      "Epoch 3/20\n",
      "1687/1687 - 18s - loss: 0.0276 - accuracy: 0.9915 - val_loss: 0.0285 - val_accuracy: 0.9922\n",
      "Epoch 4/20\n",
      "1687/1687 - 18s - loss: 0.0216 - accuracy: 0.9931 - val_loss: 0.0265 - val_accuracy: 0.9927\n",
      "Epoch 5/20\n",
      "1687/1687 - 18s - loss: 0.0174 - accuracy: 0.9945 - val_loss: 0.0272 - val_accuracy: 0.9928\n",
      "Epoch 6/20\n",
      "1687/1687 - 18s - loss: 0.0136 - accuracy: 0.9956 - val_loss: 0.0400 - val_accuracy: 0.9908\n",
      "Epoch 7/20\n",
      "1687/1687 - 18s - loss: 0.0143 - accuracy: 0.9959 - val_loss: 0.0218 - val_accuracy: 0.9950\n",
      "Epoch 8/20\n",
      "1687/1687 - 18s - loss: 0.0109 - accuracy: 0.9968 - val_loss: 0.0215 - val_accuracy: 0.9938\n",
      "Epoch 9/20\n",
      "1687/1687 - 18s - loss: 0.0088 - accuracy: 0.9975 - val_loss: 0.0418 - val_accuracy: 0.9922\n",
      "Epoch 10/20\n",
      "1687/1687 - 18s - loss: 0.0078 - accuracy: 0.9977 - val_loss: 0.0488 - val_accuracy: 0.9867\n",
      "Epoch 11/20\n",
      "1687/1687 - 18s - loss: 0.0076 - accuracy: 0.9976 - val_loss: 0.0283 - val_accuracy: 0.9942\n"
     ]
    }
   ],
   "source": [
    "# Fit the model\n",
    "history2 = model.fit(train,y_train, batch_size=batch_size,\n",
    "                    epochs = epochs, validation_data = (val,y_val),\n",
    "                    verbose = 2, steps_per_epoch=train.shape[0] // batch_size,\n",
    "                    callbacks = callbacks2)"
   ]
  },
  {
   "cell_type": "code",
   "execution_count": null,
   "metadata": {
    "id": "2bqNi6rIfCSb"
   },
   "outputs": [],
   "source": [
    "# Confusion matrix \n",
    "\n",
    "def plot_confusion_matrix(cm, classes,\n",
    "                          normalize=False,\n",
    "                          title='Confusion matrix',\n",
    "                          cmap=plt.cm.Blues):\n",
    "    \"\"\"\n",
    "    This function prints and plots the confusion matrix.\n",
    "    Normalization can be applied by setting `normalize=True`.\n",
    "    \"\"\"\n",
    "    plt.imshow(cm, interpolation='nearest', cmap=cmap)\n",
    "    plt.title(title)\n",
    "    plt.colorbar()\n",
    "    tick_marks = np.arange(len(classes))\n",
    "    plt.xticks(tick_marks, classes, rotation=45)\n",
    "    plt.yticks(tick_marks, classes)\n",
    "\n",
    "    if normalize:\n",
    "        cm = cm.astype('float') / cm.sum(axis=1)[:, np.newaxis]\n",
    "\n",
    "    thresh = cm.max() / 2.\n",
    "    for i, j in itertools.product(range(cm.shape[0]), range(cm.shape[1])):\n",
    "        plt.text(j, i, cm[i, j],\n",
    "                 horizontalalignment=\"center\",\n",
    "                 color=\"white\" if cm[i, j] > thresh else \"black\")\n",
    "\n",
    "    plt.tight_layout()\n",
    "    plt.ylabel('True label')\n",
    "    plt.xlabel('Predicted label')"
   ]
  },
  {
   "cell_type": "markdown",
   "metadata": {
    "id": "x0AccqTjkWjW"
   },
   "source": [
    "#### Result"
   ]
  },
  {
   "cell_type": "code",
   "execution_count": null,
   "metadata": {
    "colab": {
     "base_uri": "https://localhost:8080/",
     "height": 314
    },
    "executionInfo": {
     "elapsed": 2672,
     "status": "ok",
     "timestamp": 1612204712684,
     "user": {
      "displayName": "Alex Alonso Membrilla",
      "photoUrl": "",
      "userId": "04210505686941574266"
     },
     "user_tz": -60
    },
    "id": "qlxyPQhLffBb",
    "outputId": "d41f2d34-7d6a-4494-a868-bb9941dc34fe"
   },
   "outputs": [
    {
     "data": {
      "image/png": "[encoded data removed]",
      "text/plain": [
       "<Figure size 432x288 with 2 Axes>"
      ]
     },
     "metadata": {
      "needs_background": "light",
      "tags": []
     },
     "output_type": "display_data"
    }
   ],
   "source": [
    "# Predict the values from the test dataset\n",
    "y_pred = model.predict(test)\n",
    "# Convert predictions classes to one hot vectors \n",
    "y_pred_classes = np.argmax(y_pred,axis = 1) \n",
    "# Convert test observations to one hot vectors\n",
    "y_true = np.argmax(y_test,axis = 1) \n",
    "# compute the confusion matrix\n",
    "confusion_mtx = confusion_matrix(y_true, y_pred_classes) \n",
    "# plot the confusion matrix\n",
    "plot_confusion_matrix(confusion_mtx, classes = range(10)) "
   ]
  },
  {
   "cell_type": "code",
   "execution_count": null,
   "metadata": {
    "colab": {
     "base_uri": "https://localhost:8080/"
    },
    "executionInfo": {
     "elapsed": 2335,
     "status": "ok",
     "timestamp": 1612204718532,
     "user": {
      "displayName": "Alex Alonso Membrilla",
      "photoUrl": "",
      "userId": "04210505686941574266"
     },
     "user_tz": -60
    },
    "id": "TGm6cFJqfTqQ",
    "outputId": "ce96f972-034a-4f71-e84d-a9e499b05aa2"
   },
   "outputs": [
    {
     "name": "stdout",
     "output_type": "stream",
     "text": [
      "Test Accuracy:  0.993399977684021\n"
     ]
    }
   ],
   "source": [
    "score = model.evaluate(test, y_test, verbose = 0)\n",
    "print(\"Test Accuracy: \",score[1])"
   ]
  },
  {
   "cell_type": "code",
   "execution_count": null,
   "metadata": {
    "colab": {
     "base_uri": "https://localhost:8080/"
    },
    "executionInfo": {
     "elapsed": 3260,
     "status": "ok",
     "timestamp": 1612114094605,
     "user": {
      "displayName": "Pilar Navarro",
      "photoUrl": "https://lh3.googleusercontent.com/a-/AOh14GjVEQ2fcXNkztOVtwH3gYkL7MU-0jktiO2acTgy7Q=s64",
      "userId": "13653515932275687032"
     },
     "user_tz": -60
    },
    "id": "vl4-n21jkWOf",
    "outputId": "6121bfb6-0146-4b1d-9462-e67af8a5db26"
   },
   "outputs": [
    {
     "data": {
      "text/plain": [
       "0    7\n",
       "1    2\n",
       "2    1\n",
       "3    0\n",
       "4    4\n",
       "Name: Label, dtype: int64"
      ]
     },
     "execution_count": 59,
     "metadata": {
      "tags": []
     },
     "output_type": "execute_result"
    }
   ],
   "source": [
    "result = model.predict(x_test)\n",
    "\n",
    "result = np.argmax(result, axis=1)\n",
    "\n",
    "result = pd.Series(result, name='Label')\n",
    "\n",
    "result.head()"
   ]
  },
  {
   "cell_type": "code",
   "execution_count": null,
   "metadata": {
    "colab": {
     "base_uri": "https://localhost:8080/",
     "height": 426
    },
    "executionInfo": {
     "elapsed": 860,
     "status": "ok",
     "timestamp": 1612114098274,
     "user": {
      "displayName": "Pilar Navarro",
      "photoUrl": "https://lh3.googleusercontent.com/a-/AOh14GjVEQ2fcXNkztOVtwH3gYkL7MU-0jktiO2acTgy7Q=s64",
      "userId": "13653515932275687032"
     },
     "user_tz": -60
    },
    "id": "2JrsjsfmktDM",
    "outputId": "067b646f-19d0-464a-b40e-690c9cf9f1fd"
   },
   "outputs": [
    {
     "name": "stderr",
     "output_type": "stream",
     "text": [
      "/usr/local/lib/python3.6/dist-packages/seaborn/_decorators.py:43: FutureWarning: Pass the following variable as a keyword arg: x. From version 0.12, the only valid positional argument will be `data`, and passing other arguments without an explicit keyword will result in an error or misinterpretation.\n",
      "  FutureWarning\n"
     ]
    },
    {
     "data": {
      "text/plain": [
       "Text(0.5, 1.0, '(Test data) Number of Digits classes predicted')"
      ]
     },
     "execution_count": 60,
     "metadata": {
      "tags": []
     },
     "output_type": "execute_result"
    },
    {
     "data": {
      "image/png": "[encoded data removed]",
      "text/plain": [
       "<Figure size 720x360 with 1 Axes>"
      ]
     },
     "metadata": {
      "needs_background": "light",
      "tags": []
     },
     "output_type": "display_data"
    }
   ],
   "source": [
    "plt.figure(figsize=(10,5))\n",
    "sns.countplot(result)\n",
    "plt.title(\"(Test data) Number of Digits classes predicted\")"
   ]
  },
  {
   "cell_type": "code",
   "execution_count": null,
   "metadata": {
    "colab": {
     "base_uri": "https://localhost:8080/",
     "height": 424
    },
    "executionInfo": {
     "elapsed": 881,
     "status": "ok",
     "timestamp": 1612114105362,
     "user": {
      "displayName": "Pilar Navarro",
      "photoUrl": "https://lh3.googleusercontent.com/a-/AOh14GjVEQ2fcXNkztOVtwH3gYkL7MU-0jktiO2acTgy7Q=s64",
      "userId": "13653515932275687032"
     },
     "user_tz": -60
    },
    "id": "ofc5lQaftY-u",
    "outputId": "962fc19c-aab9-44d8-8caa-437077d10c17"
   },
   "outputs": [
    {
     "name": "stderr",
     "output_type": "stream",
     "text": [
      "/usr/local/lib/python3.6/dist-packages/seaborn/_decorators.py:43: FutureWarning: Pass the following variable as a keyword arg: x. From version 0.12, the only valid positional argument will be `data`, and passing other arguments without an explicit keyword will result in an error or misinterpretation.\n",
      "  FutureWarning\n"
     ]
    },
    {
     "data": {
      "text/plain": [
       "Text(0.5, 1.0, '(Test data) Number of Digits classes real')"
      ]
     },
     "execution_count": 61,
     "metadata": {
      "tags": []
     },
     "output_type": "execute_result"
    },
    {
     "data": {
      "image/png": "[encoded data removed]",
      "text/plain": [
       "<Figure size 720x360 with 1 Axes>"
      ]
     },
     "metadata": {
      "needs_background": "light",
      "tags": []
     },
     "output_type": "display_data"
    }
   ],
   "source": [
    "plt.figure(figsize=(10,5))\n",
    "y_true = pd.Series(y_true, name='Label')\n",
    "sns.countplot(y_true)\n",
    "plt.title(\"(Test data) Number of Digits classes real\")"
   ]
  },
  {
   "cell_type": "code",
   "execution_count": null,
   "metadata": {
    "colab": {
     "base_uri": "https://localhost:8080/",
     "height": 522
    },
    "executionInfo": {
     "elapsed": 1250,
     "status": "ok",
     "timestamp": 1612204800529,
     "user": {
      "displayName": "Alex Alonso Membrilla",
      "photoUrl": "",
      "userId": "04210505686941574266"
     },
     "user_tz": -60
    },
    "id": "25SPVOI25MmG",
    "outputId": "cff39a2e-baad-476d-9b69-6fce5e484076"
   },
   "outputs": [
    {
     "data": {
      "image/png": "[encoded data removed]",
      "text/plain": [
       "<Figure size 432x288 with 1 Axes>"
      ]
     },
     "metadata": {
      "needs_background": "light",
      "tags": []
     },
     "output_type": "display_data"
    },
    {
     "data": {
      "image/png": "[encoded data removed]",
      "text/plain": [
       "<Figure size 432x288 with 1 Axes>"
      ]
     },
     "metadata": {
      "needs_background": "light",
      "tags": []
     },
     "output_type": "display_data"
    }
   ],
   "source": [
    "mostrarEvolucion(history)"
   ]
  },
  {
   "cell_type": "markdown",
   "metadata": {
    "id": "CJrV2m3qk02V"
   },
   "source": [
    "### Con data augmentation"
   ]
  },
  {
   "cell_type": "code",
   "execution_count": null,
   "metadata": {
    "id": "7WIc-nOEk0A9"
   },
   "outputs": [],
   "source": [
    "model = nuevoVGG16()\n",
    "\n",
    "#Data Augmentation\n",
    "datagen = ImageDataGenerator(\n",
    "        featurewise_center=False,  # set input mean to 0 over the dataset\n",
    "        samplewise_center=False,  # set each sample mean to 0\n",
    "        featurewise_std_normalization=False,  # divide inputs by std of the dataset\n",
    "        samplewise_std_normalization=False,  # divide each input by its std\n",
    "        zca_whitening=False,  # apply ZCA whitening\n",
    "        rotation_range=10,  # randomly rotate images in the range (degrees, 0 to 180)\n",
    "        zoom_range = 0.1, # Randomly zoom image \n",
    "        width_shift_range=0.1,  # randomly shift images horizontally (fraction of total width)\n",
    "        height_shift_range=0.1,  # randomly shift images vertically (fraction of total height)\n",
    "        horizontal_flip=False,  # randomly flip images\n",
    "        vertical_flip=False)  # randomly flip images\n",
    "\n",
    "\n",
    "datagen.fit(train)"
   ]
  },
  {
   "cell_type": "code",
   "execution_count": null,
   "metadata": {
    "id": "iIBY8_tC7E_y"
   },
   "outputs": [],
   "source": [
    "model.layers[0].trainable = False"
   ]
  },
  {
   "cell_type": "code",
   "execution_count": null,
   "metadata": {
    "id": "41Z6nRAU6Tw2"
   },
   "outputs": [],
   "source": [
    "model.compile(optimizer = Adam(1e-4), loss = 'categorical_crossentropy', metrics = ['accuracy'])"
   ]
  },
  {
   "cell_type": "code",
   "execution_count": null,
   "metadata": {
    "id": "06B3GIOx6TxW"
   },
   "outputs": [],
   "source": [
    "epochs = 50 \n",
    "batch_size = 64\n",
    "callbacks1 = [ \n",
    "    EarlyStopping(monitor = 'val_loss', patience = 5, restore_best_weights=True), \n",
    "    ReduceLROnPlateau(monitor = 'val_loss', patience = 3)\n",
    "]"
   ]
  },
  {
   "cell_type": "code",
   "execution_count": null,
   "metadata": {
    "colab": {
     "base_uri": "https://localhost:8080/"
    },
    "executionInfo": {
     "elapsed": 1095618,
     "status": "ok",
     "timestamp": 1612206397332,
     "user": {
      "displayName": "Alex Alonso Membrilla",
      "photoUrl": "",
      "userId": "04210505686941574266"
     },
     "user_tz": -60
    },
    "id": "H29VNcD16TxX",
    "outputId": "3a9ead42-48af-4a43-cf4b-ab2d2714a14d"
   },
   "outputs": [
    {
     "name": "stdout",
     "output_type": "stream",
     "text": [
      "Epoch 1/50\n",
      "843/843 - 29s - loss: 1.2339 - accuracy: 0.6060 - val_loss: 0.7105 - val_accuracy: 0.7850\n",
      "Epoch 2/50\n",
      "843/843 - 28s - loss: 0.6825 - accuracy: 0.7900 - val_loss: 0.4993 - val_accuracy: 0.8517\n",
      "Epoch 3/50\n",
      "843/843 - 28s - loss: 0.5344 - accuracy: 0.8358 - val_loss: 0.4000 - val_accuracy: 0.8807\n",
      "Epoch 4/50\n",
      "843/843 - 28s - loss: 0.4517 - accuracy: 0.8604 - val_loss: 0.3467 - val_accuracy: 0.8985\n",
      "Epoch 5/50\n",
      "843/843 - 28s - loss: 0.3958 - accuracy: 0.8793 - val_loss: 0.3174 - val_accuracy: 0.9025\n",
      "Epoch 6/50\n",
      "843/843 - 28s - loss: 0.3602 - accuracy: 0.8886 - val_loss: 0.2881 - val_accuracy: 0.9103\n",
      "Epoch 7/50\n",
      "843/843 - 28s - loss: 0.3322 - accuracy: 0.8974 - val_loss: 0.2723 - val_accuracy: 0.9152\n",
      "Epoch 8/50\n",
      "843/843 - 28s - loss: 0.3087 - accuracy: 0.9043 - val_loss: 0.2514 - val_accuracy: 0.9225\n",
      "Epoch 9/50\n",
      "843/843 - 28s - loss: 0.2926 - accuracy: 0.9096 - val_loss: 0.2512 - val_accuracy: 0.9198\n",
      "Epoch 10/50\n",
      "843/843 - 28s - loss: 0.2793 - accuracy: 0.9125 - val_loss: 0.2373 - val_accuracy: 0.9275\n",
      "Epoch 11/50\n",
      "843/843 - 28s - loss: 0.2607 - accuracy: 0.9178 - val_loss: 0.2275 - val_accuracy: 0.9273\n",
      "Epoch 12/50\n",
      "843/843 - 28s - loss: 0.2540 - accuracy: 0.9208 - val_loss: 0.2346 - val_accuracy: 0.9227\n",
      "Epoch 13/50\n",
      "843/843 - 28s - loss: 0.2464 - accuracy: 0.9231 - val_loss: 0.2175 - val_accuracy: 0.9305\n",
      "Epoch 14/50\n",
      "843/843 - 28s - loss: 0.2384 - accuracy: 0.9253 - val_loss: 0.2138 - val_accuracy: 0.9288\n",
      "Epoch 15/50\n",
      "843/843 - 29s - loss: 0.2295 - accuracy: 0.9268 - val_loss: 0.2167 - val_accuracy: 0.9270\n",
      "Epoch 16/50\n",
      "843/843 - 28s - loss: 0.2205 - accuracy: 0.9305 - val_loss: 0.2122 - val_accuracy: 0.9277\n",
      "Epoch 17/50\n",
      "843/843 - 29s - loss: 0.2152 - accuracy: 0.9323 - val_loss: 0.1964 - val_accuracy: 0.9343\n",
      "Epoch 18/50\n",
      "843/843 - 29s - loss: 0.2130 - accuracy: 0.9336 - val_loss: 0.1993 - val_accuracy: 0.9327\n",
      "Epoch 19/50\n",
      "843/843 - 28s - loss: 0.2081 - accuracy: 0.9346 - val_loss: 0.1937 - val_accuracy: 0.9360\n",
      "Epoch 20/50\n",
      "843/843 - 28s - loss: 0.2054 - accuracy: 0.9352 - val_loss: 0.1842 - val_accuracy: 0.9382\n",
      "Epoch 21/50\n",
      "843/843 - 28s - loss: 0.2000 - accuracy: 0.9369 - val_loss: 0.1926 - val_accuracy: 0.9340\n",
      "Epoch 22/50\n",
      "843/843 - 27s - loss: 0.1922 - accuracy: 0.9397 - val_loss: 0.1831 - val_accuracy: 0.9377\n",
      "Epoch 23/50\n",
      "843/843 - 28s - loss: 0.1927 - accuracy: 0.9396 - val_loss: 0.1834 - val_accuracy: 0.9382\n",
      "Epoch 24/50\n",
      "843/843 - 27s - loss: 0.1872 - accuracy: 0.9414 - val_loss: 0.1825 - val_accuracy: 0.9380\n",
      "Epoch 25/50\n",
      "843/843 - 28s - loss: 0.1865 - accuracy: 0.9398 - val_loss: 0.1881 - val_accuracy: 0.9358\n",
      "Epoch 26/50\n",
      "843/843 - 27s - loss: 0.1836 - accuracy: 0.9421 - val_loss: 0.1862 - val_accuracy: 0.9358\n",
      "Epoch 27/50\n",
      "843/843 - 27s - loss: 0.1808 - accuracy: 0.9431 - val_loss: 0.1782 - val_accuracy: 0.9388\n",
      "Epoch 28/50\n",
      "843/843 - 28s - loss: 0.1810 - accuracy: 0.9432 - val_loss: 0.1680 - val_accuracy: 0.9440\n",
      "Epoch 29/50\n",
      "843/843 - 28s - loss: 0.1747 - accuracy: 0.9440 - val_loss: 0.1832 - val_accuracy: 0.9378\n",
      "Epoch 30/50\n",
      "843/843 - 28s - loss: 0.1755 - accuracy: 0.9442 - val_loss: 0.1752 - val_accuracy: 0.9410\n",
      "Epoch 31/50\n",
      "843/843 - 28s - loss: 0.1699 - accuracy: 0.9452 - val_loss: 0.1680 - val_accuracy: 0.9428\n",
      "Epoch 32/50\n",
      "843/843 - 28s - loss: 0.1681 - accuracy: 0.9470 - val_loss: 0.1724 - val_accuracy: 0.9402\n",
      "Epoch 33/50\n",
      "843/843 - 28s - loss: 0.1627 - accuracy: 0.9475 - val_loss: 0.1718 - val_accuracy: 0.9413\n",
      "Epoch 34/50\n",
      "843/843 - 28s - loss: 0.1658 - accuracy: 0.9469 - val_loss: 0.1666 - val_accuracy: 0.9417\n",
      "Epoch 35/50\n",
      "843/843 - 28s - loss: 0.1651 - accuracy: 0.9480 - val_loss: 0.1682 - val_accuracy: 0.9412\n",
      "Epoch 36/50\n",
      "843/843 - 29s - loss: 0.1653 - accuracy: 0.9473 - val_loss: 0.1680 - val_accuracy: 0.9422\n",
      "Epoch 37/50\n",
      "843/843 - 28s - loss: 0.1639 - accuracy: 0.9479 - val_loss: 0.1667 - val_accuracy: 0.9415\n",
      "Epoch 38/50\n",
      "843/843 - 28s - loss: 0.1623 - accuracy: 0.9485 - val_loss: 0.1674 - val_accuracy: 0.9410\n",
      "Epoch 39/50\n",
      "843/843 - 28s - loss: 0.1635 - accuracy: 0.9481 - val_loss: 0.1680 - val_accuracy: 0.9410\n"
     ]
    }
   ],
   "source": [
    "# Fit the model\n",
    "history1 = model.fit(datagen.flow(train,y_train, batch_size=batch_size),\n",
    "                    epochs = epochs, validation_data = (val,y_val),\n",
    "                    verbose = 2, steps_per_epoch=train.shape[0] // batch_size,\n",
    "                    callbacks = callbacks1)"
   ]
  },
  {
   "cell_type": "markdown",
   "metadata": {
    "id": "3u2dc0nj6TxY"
   },
   "source": [
    "#### Fine Tuning"
   ]
  },
  {
   "cell_type": "code",
   "execution_count": null,
   "metadata": {
    "id": "MbRzxtl-6TxY"
   },
   "outputs": [],
   "source": [
    "model.layers[0].trainable = True"
   ]
  },
  {
   "cell_type": "code",
   "execution_count": null,
   "metadata": {
    "colab": {
     "base_uri": "https://localhost:8080/"
    },
    "executionInfo": {
     "elapsed": 887,
     "status": "ok",
     "timestamp": 1612206405309,
     "user": {
      "displayName": "Alex Alonso Membrilla",
      "photoUrl": "",
      "userId": "04210505686941574266"
     },
     "user_tz": -60
    },
    "id": "ZwvA9wUB6TxZ",
    "outputId": "9a9a6923-bf6a-4c3b-ffa7-8f4cae39dd3d"
   },
   "outputs": [
    {
     "name": "stdout",
     "output_type": "stream",
     "text": [
      "Model: \"sequential_3\"\n",
      "_________________________________________________________________\n",
      "Layer (type)                 Output Shape              Param #   \n",
      "=================================================================\n",
      "vgg16 (Functional)           (None, 1, 1, 512)         14714688  \n",
      "_________________________________________________________________\n",
      "flatten_3 (Flatten)          (None, 512)               0         \n",
      "_________________________________________________________________\n",
      "dense_6 (Dense)              (None, 512)               262656    \n",
      "_________________________________________________________________\n",
      "dropout_3 (Dropout)          (None, 512)               0         \n",
      "_________________________________________________________________\n",
      "dense_7 (Dense)              (None, 10)                5130      \n",
      "=================================================================\n",
      "Total params: 14,982,474\n",
      "Trainable params: 14,982,474\n",
      "Non-trainable params: 0\n",
      "_________________________________________________________________\n"
     ]
    }
   ],
   "source": [
    "model.summary()"
   ]
  },
  {
   "cell_type": "code",
   "execution_count": null,
   "metadata": {
    "id": "MQQFZ1dL6TxZ"
   },
   "outputs": [],
   "source": [
    "model.compile(optimizer=Adam(1e-5), loss = 'categorical_crossentropy', metrics = ['accuracy'])"
   ]
  },
  {
   "cell_type": "code",
   "execution_count": null,
   "metadata": {
    "id": "LAuHw_Os6Txa"
   },
   "outputs": [],
   "source": [
    "epochs = 20 \n",
    "batch_size = 64\n",
    "callbacks2 = [ \n",
    "    EarlyStopping(monitor = 'val_loss', patience = 3, restore_best_weights=True), \n",
    "    ReduceLROnPlateau(monitor = 'val_loss', patience = 3)\n",
    "]"
   ]
  },
  {
   "cell_type": "code",
   "execution_count": null,
   "metadata": {
    "colab": {
     "base_uri": "https://localhost:8080/"
    },
    "executionInfo": {
     "elapsed": 306894,
     "status": "ok",
     "timestamp": 1612206737186,
     "user": {
      "displayName": "Alex Alonso Membrilla",
      "photoUrl": "",
      "userId": "04210505686941574266"
     },
     "user_tz": -60
    },
    "id": "Otg4m6A16Txa",
    "outputId": "e8da11eb-1597-448e-8778-8c5f563b323f"
   },
   "outputs": [
    {
     "name": "stdout",
     "output_type": "stream",
     "text": [
      "Epoch 1/20\n",
      "843/843 - 33s - loss: 0.0952 - accuracy: 0.9694 - val_loss: 0.0368 - val_accuracy: 0.9888\n",
      "Epoch 2/20\n",
      "843/843 - 31s - loss: 0.0515 - accuracy: 0.9836 - val_loss: 0.0395 - val_accuracy: 0.9883\n",
      "Epoch 3/20\n",
      "843/843 - 30s - loss: 0.0378 - accuracy: 0.9891 - val_loss: 0.0396 - val_accuracy: 0.9893\n",
      "Epoch 4/20\n",
      "843/843 - 31s - loss: 0.0330 - accuracy: 0.9893 - val_loss: 0.0303 - val_accuracy: 0.9912\n",
      "Epoch 5/20\n",
      "843/843 - 30s - loss: 0.0271 - accuracy: 0.9915 - val_loss: 0.0406 - val_accuracy: 0.9878\n",
      "Epoch 6/20\n",
      "843/843 - 30s - loss: 0.0238 - accuracy: 0.9921 - val_loss: 0.0298 - val_accuracy: 0.9912\n",
      "Epoch 7/20\n",
      "843/843 - 30s - loss: 0.0216 - accuracy: 0.9931 - val_loss: 0.0249 - val_accuracy: 0.9928\n",
      "Epoch 8/20\n",
      "843/843 - 30s - loss: 0.0207 - accuracy: 0.9937 - val_loss: 0.0257 - val_accuracy: 0.9942\n",
      "Epoch 9/20\n",
      "843/843 - 30s - loss: 0.0185 - accuracy: 0.9945 - val_loss: 0.0352 - val_accuracy: 0.9923\n",
      "Epoch 10/20\n",
      "843/843 - 30s - loss: 0.0176 - accuracy: 0.9943 - val_loss: 0.0255 - val_accuracy: 0.9915\n"
     ]
    }
   ],
   "source": [
    "# Fit the model\n",
    "history2 = model.fit(datagen.flow(train,y_train, batch_size=batch_size),\n",
    "                    epochs = epochs, validation_data = (val,y_val),\n",
    "                    verbose = 2, steps_per_epoch=train.shape[0] // batch_size,\n",
    "                    callbacks = callbacks2)"
   ]
  },
  {
   "cell_type": "markdown",
   "metadata": {
    "id": "NGW593IUrEH4"
   },
   "source": [
    "#### Result"
   ]
  },
  {
   "cell_type": "code",
   "execution_count": null,
   "metadata": {
    "colab": {
     "base_uri": "https://localhost:8080/",
     "height": 314
    },
    "executionInfo": {
     "elapsed": 2674,
     "status": "ok",
     "timestamp": 1612206764648,
     "user": {
      "displayName": "Alex Alonso Membrilla",
      "photoUrl": "",
      "userId": "04210505686941574266"
     },
     "user_tz": -60
    },
    "id": "Byaaqg0krEH4",
    "outputId": "c9d63b46-e557-459e-f1ac-8a51979170d0"
   },
   "outputs": [
    {
     "data": {
      "image/png": "[encoded data removed]",
      "text/plain": [
       "<Figure size 432x288 with 2 Axes>"
      ]
     },
     "metadata": {
      "needs_background": "light",
      "tags": []
     },
     "output_type": "display_data"
    }
   ],
   "source": [
    "# Predict the values from the test dataset\n",
    "y_pred = model.predict(test)\n",
    "# Convert predictions classes to one hot vectors \n",
    "y_pred_classes = np.argmax(y_pred,axis = 1) \n",
    "# Convert test observations to one hot vectors\n",
    "y_true = np.argmax(y_test,axis = 1) \n",
    "# compute the confusion matrix\n",
    "confusion_mtx = confusion_matrix(y_true, y_pred_classes) \n",
    "# plot the confusion matrix\n",
    "plot_confusion_matrix(confusion_mtx, classes = range(10)) "
   ]
  },
  {
   "cell_type": "code",
   "execution_count": null,
   "metadata": {
    "colab": {
     "base_uri": "https://localhost:8080/"
    },
    "executionInfo": {
     "elapsed": 2230,
     "status": "ok",
     "timestamp": 1612206767963,
     "user": {
      "displayName": "Alex Alonso Membrilla",
      "photoUrl": "",
      "userId": "04210505686941574266"
     },
     "user_tz": -60
    },
    "id": "uxPk4Q4mrEIP",
    "outputId": "8896b1c4-8955-4be2-de1b-4726c5f27d3e"
   },
   "outputs": [
    {
     "name": "stdout",
     "output_type": "stream",
     "text": [
      "Test Accuracy:  0.9936000108718872\n"
     ]
    }
   ],
   "source": [
    "score = model.evaluate(test, y_test, verbose = 0)\n",
    "print(\"Test Accuracy: \",score[1])"
   ]
  },
  {
   "cell_type": "markdown",
   "metadata": {
    "id": "BGQnPaH4AZNq"
   },
   "source": [
    "## VGG19"
   ]
  },
  {
   "cell_type": "code",
   "execution_count": 50,
   "metadata": {
    "executionInfo": {
     "elapsed": 898,
     "status": "ok",
     "timestamp": 1612283478131,
     "user": {
      "displayName": "Pilar Navarro",
      "photoUrl": "https://lh3.googleusercontent.com/a-/AOh14GjVEQ2fcXNkztOVtwH3gYkL7MU-0jktiO2acTgy7Q=s64",
      "userId": "13653515932275687032"
     },
     "user_tz": -60
    },
    "id": "47G3e1k4AZNz"
   },
   "outputs": [],
   "source": [
    "def nuevoVGG19():\n",
    "    model = Sequential()\n",
    "\n",
    "    model.add(VGG19(weights='imagenet', include_top=False, input_shape = (32,32,3)))\n",
    "\n",
    "\n",
    "    model.add(Flatten())\n",
    "    model.add(Dense(512, activation = 'relu'))\n",
    "    model.add(Dropout(0.5))\n",
    "    model.add(Dense(10, activation = 'softmax'))\n",
    "\n",
    "    return model"
   ]
  },
  {
   "cell_type": "code",
   "execution_count": 51,
   "metadata": {
    "colab": {
     "base_uri": "https://localhost:8080/"
    },
    "executionInfo": {
     "elapsed": 1213,
     "status": "ok",
     "timestamp": 1612283478462,
     "user": {
      "displayName": "Pilar Navarro",
      "photoUrl": "https://lh3.googleusercontent.com/a-/AOh14GjVEQ2fcXNkztOVtwH3gYkL7MU-0jktiO2acTgy7Q=s64",
      "userId": "13653515932275687032"
     },
     "user_tz": -60
    },
    "id": "HkCkXVSWAZN1",
    "outputId": "43be8282-63d4-4d37-dfbd-d534d086ec33"
   },
   "outputs": [
    {
     "name": "stdout",
     "output_type": "stream",
     "text": [
      "Model: \"sequential_2\"\n",
      "_________________________________________________________________\n",
      "Layer (type)                 Output Shape              Param #   \n",
      "=================================================================\n",
      "vgg19 (Functional)           (None, 1, 1, 512)         20024384  \n",
      "_________________________________________________________________\n",
      "flatten_2 (Flatten)          (None, 512)               0         \n",
      "_________________________________________________________________\n",
      "dense_4 (Dense)              (None, 512)               262656    \n",
      "_________________________________________________________________\n",
      "dropout_2 (Dropout)          (None, 512)               0         \n",
      "_________________________________________________________________\n",
      "dense_5 (Dense)              (None, 10)                5130      \n",
      "=================================================================\n",
      "Total params: 20,292,170\n",
      "Trainable params: 20,292,170\n",
      "Non-trainable params: 0\n",
      "_________________________________________________________________\n"
     ]
    }
   ],
   "source": [
    "model = nuevoVGG19()\n",
    "model.summary()"
   ]
  },
  {
   "cell_type": "code",
   "execution_count": 52,
   "metadata": {
    "executionInfo": {
     "elapsed": 1205,
     "status": "ok",
     "timestamp": 1612283478464,
     "user": {
      "displayName": "Pilar Navarro",
      "photoUrl": "https://lh3.googleusercontent.com/a-/AOh14GjVEQ2fcXNkztOVtwH3gYkL7MU-0jktiO2acTgy7Q=s64",
      "userId": "13653515932275687032"
     },
     "user_tz": -60
    },
    "id": "9T6OzfSSAZN2"
   },
   "outputs": [],
   "source": [
    "model.layers[0].trainable = False"
   ]
  },
  {
   "cell_type": "code",
   "execution_count": 53,
   "metadata": {
    "colab": {
     "base_uri": "https://localhost:8080/"
    },
    "executionInfo": {
     "elapsed": 1195,
     "status": "ok",
     "timestamp": 1612283478466,
     "user": {
      "displayName": "Pilar Navarro",
      "photoUrl": "https://lh3.googleusercontent.com/a-/AOh14GjVEQ2fcXNkztOVtwH3gYkL7MU-0jktiO2acTgy7Q=s64",
      "userId": "13653515932275687032"
     },
     "user_tz": -60
    },
    "id": "HU62KjZbAZN3",
    "outputId": "d48a5d25-2a74-40cb-8152-7ad205cc8a93"
   },
   "outputs": [
    {
     "name": "stdout",
     "output_type": "stream",
     "text": [
      "Model: \"sequential_2\"\n",
      "_________________________________________________________________\n",
      "Layer (type)                 Output Shape              Param #   \n",
      "=================================================================\n",
      "vgg19 (Functional)           (None, 1, 1, 512)         20024384  \n",
      "_________________________________________________________________\n",
      "flatten_2 (Flatten)          (None, 512)               0         \n",
      "_________________________________________________________________\n",
      "dense_4 (Dense)              (None, 512)               262656    \n",
      "_________________________________________________________________\n",
      "dropout_2 (Dropout)          (None, 512)               0         \n",
      "_________________________________________________________________\n",
      "dense_5 (Dense)              (None, 10)                5130      \n",
      "=================================================================\n",
      "Total params: 20,292,170\n",
      "Trainable params: 267,786\n",
      "Non-trainable params: 20,024,384\n",
      "_________________________________________________________________\n"
     ]
    }
   ],
   "source": [
    "model.summary()"
   ]
  },
  {
   "cell_type": "code",
   "execution_count": 54,
   "metadata": {
    "executionInfo": {
     "elapsed": 1184,
     "status": "ok",
     "timestamp": 1612283478468,
     "user": {
      "displayName": "Pilar Navarro",
      "photoUrl": "https://lh3.googleusercontent.com/a-/AOh14GjVEQ2fcXNkztOVtwH3gYkL7MU-0jktiO2acTgy7Q=s64",
      "userId": "13653515932275687032"
     },
     "user_tz": -60
    },
    "id": "XtsJlRUdAZN3"
   },
   "outputs": [],
   "source": [
    "model.compile(optimizer = Adam(1e-4), loss = 'categorical_crossentropy', metrics = ['accuracy'])"
   ]
  },
  {
   "cell_type": "code",
   "execution_count": 55,
   "metadata": {
    "executionInfo": {
     "elapsed": 1174,
     "status": "ok",
     "timestamp": 1612283478469,
     "user": {
      "displayName": "Pilar Navarro",
      "photoUrl": "https://lh3.googleusercontent.com/a-/AOh14GjVEQ2fcXNkztOVtwH3gYkL7MU-0jktiO2acTgy7Q=s64",
      "userId": "13653515932275687032"
     },
     "user_tz": -60
    },
    "id": "VqtiM3TYAZN4"
   },
   "outputs": [],
   "source": [
    "epochs = 50 \n",
    "batch_size = 64\n",
    "callbacks1 = [ \n",
    "    EarlyStopping(monitor = 'val_loss', patience = 6, restore_best_weights=True), \n",
    "    ReduceLROnPlateau(monitor = 'val_loss', patience = 3)\n",
    "]"
   ]
  },
  {
   "cell_type": "code",
   "execution_count": 56,
   "metadata": {
    "colab": {
     "base_uri": "https://localhost:8080/"
    },
    "executionInfo": {
     "elapsed": 611148,
     "status": "ok",
     "timestamp": 1612284088453,
     "user": {
      "displayName": "Pilar Navarro",
      "photoUrl": "https://lh3.googleusercontent.com/a-/AOh14GjVEQ2fcXNkztOVtwH3gYkL7MU-0jktiO2acTgy7Q=s64",
      "userId": "13653515932275687032"
     },
     "user_tz": -60
    },
    "id": "WUeY5AUCAZN5",
    "outputId": "402a1130-d755-4e2e-c789-6c5346484fca"
   },
   "outputs": [
    {
     "name": "stdout",
     "output_type": "stream",
     "text": [
      "Epoch 1/50\n",
      "843/843 - 13s - loss: 1.1118 - accuracy: 0.6648 - val_loss: 0.5778 - val_accuracy: 0.8593\n",
      "Epoch 2/50\n",
      "843/843 - 12s - loss: 0.5143 - accuracy: 0.8561 - val_loss: 0.3681 - val_accuracy: 0.9025\n",
      "Epoch 3/50\n",
      "843/843 - 12s - loss: 0.3700 - accuracy: 0.8951 - val_loss: 0.2814 - val_accuracy: 0.9253\n",
      "Epoch 4/50\n",
      "843/843 - 12s - loss: 0.3012 - accuracy: 0.9138 - val_loss: 0.2368 - val_accuracy: 0.9338\n",
      "Epoch 5/50\n",
      "843/843 - 13s - loss: 0.2601 - accuracy: 0.9232 - val_loss: 0.2047 - val_accuracy: 0.9390\n",
      "Epoch 6/50\n",
      "843/843 - 12s - loss: 0.2327 - accuracy: 0.9310 - val_loss: 0.1867 - val_accuracy: 0.9437\n",
      "Epoch 7/50\n",
      "843/843 - 12s - loss: 0.2111 - accuracy: 0.9364 - val_loss: 0.1781 - val_accuracy: 0.9447\n",
      "Epoch 8/50\n",
      "843/843 - 12s - loss: 0.1959 - accuracy: 0.9407 - val_loss: 0.1598 - val_accuracy: 0.9485\n",
      "Epoch 9/50\n",
      "843/843 - 12s - loss: 0.1852 - accuracy: 0.9437 - val_loss: 0.1509 - val_accuracy: 0.9517\n",
      "Epoch 10/50\n",
      "843/843 - 12s - loss: 0.1758 - accuracy: 0.9464 - val_loss: 0.1434 - val_accuracy: 0.9532\n",
      "Epoch 11/50\n",
      "843/843 - 12s - loss: 0.1671 - accuracy: 0.9486 - val_loss: 0.1381 - val_accuracy: 0.9562\n",
      "Epoch 12/50\n",
      "843/843 - 12s - loss: 0.1608 - accuracy: 0.9510 - val_loss: 0.1336 - val_accuracy: 0.9567\n",
      "Epoch 13/50\n",
      "843/843 - 12s - loss: 0.1544 - accuracy: 0.9518 - val_loss: 0.1285 - val_accuracy: 0.9588\n",
      "Epoch 14/50\n",
      "843/843 - 12s - loss: 0.1486 - accuracy: 0.9543 - val_loss: 0.1253 - val_accuracy: 0.9605\n",
      "Epoch 15/50\n",
      "843/843 - 12s - loss: 0.1449 - accuracy: 0.9556 - val_loss: 0.1212 - val_accuracy: 0.9598\n",
      "Epoch 16/50\n",
      "843/843 - 12s - loss: 0.1408 - accuracy: 0.9564 - val_loss: 0.1202 - val_accuracy: 0.9592\n",
      "Epoch 17/50\n",
      "843/843 - 12s - loss: 0.1373 - accuracy: 0.9573 - val_loss: 0.1177 - val_accuracy: 0.9620\n",
      "Epoch 18/50\n",
      "843/843 - 12s - loss: 0.1351 - accuracy: 0.9576 - val_loss: 0.1137 - val_accuracy: 0.9618\n",
      "Epoch 19/50\n",
      "843/843 - 12s - loss: 0.1313 - accuracy: 0.9595 - val_loss: 0.1129 - val_accuracy: 0.9632\n",
      "Epoch 20/50\n",
      "843/843 - 12s - loss: 0.1271 - accuracy: 0.9605 - val_loss: 0.1089 - val_accuracy: 0.9660\n",
      "Epoch 21/50\n",
      "843/843 - 12s - loss: 0.1249 - accuracy: 0.9609 - val_loss: 0.1081 - val_accuracy: 0.9657\n",
      "Epoch 22/50\n",
      "843/843 - 12s - loss: 0.1223 - accuracy: 0.9616 - val_loss: 0.1081 - val_accuracy: 0.9628\n",
      "Epoch 23/50\n",
      "843/843 - 12s - loss: 0.1200 - accuracy: 0.9632 - val_loss: 0.1041 - val_accuracy: 0.9668\n",
      "Epoch 24/50\n",
      "843/843 - 12s - loss: 0.1177 - accuracy: 0.9644 - val_loss: 0.1027 - val_accuracy: 0.9652\n",
      "Epoch 25/50\n",
      "843/843 - 12s - loss: 0.1152 - accuracy: 0.9634 - val_loss: 0.1032 - val_accuracy: 0.9665\n",
      "Epoch 26/50\n",
      "843/843 - 12s - loss: 0.1145 - accuracy: 0.9637 - val_loss: 0.1013 - val_accuracy: 0.9670\n",
      "Epoch 27/50\n",
      "843/843 - 12s - loss: 0.1134 - accuracy: 0.9650 - val_loss: 0.0986 - val_accuracy: 0.9673\n",
      "Epoch 28/50\n",
      "843/843 - 12s - loss: 0.1104 - accuracy: 0.9658 - val_loss: 0.0974 - val_accuracy: 0.9678\n",
      "Epoch 29/50\n",
      "843/843 - 12s - loss: 0.1077 - accuracy: 0.9661 - val_loss: 0.0985 - val_accuracy: 0.9675\n",
      "Epoch 30/50\n",
      "843/843 - 12s - loss: 0.1076 - accuracy: 0.9654 - val_loss: 0.0950 - val_accuracy: 0.9688\n",
      "Epoch 31/50\n",
      "843/843 - 12s - loss: 0.1054 - accuracy: 0.9663 - val_loss: 0.0970 - val_accuracy: 0.9665\n",
      "Epoch 32/50\n",
      "843/843 - 12s - loss: 0.1028 - accuracy: 0.9674 - val_loss: 0.0922 - val_accuracy: 0.9700\n",
      "Epoch 33/50\n",
      "843/843 - 12s - loss: 0.1035 - accuracy: 0.9671 - val_loss: 0.0919 - val_accuracy: 0.9695\n",
      "Epoch 34/50\n",
      "843/843 - 12s - loss: 0.1004 - accuracy: 0.9682 - val_loss: 0.0929 - val_accuracy: 0.9698\n",
      "Epoch 35/50\n",
      "843/843 - 12s - loss: 0.1013 - accuracy: 0.9684 - val_loss: 0.0909 - val_accuracy: 0.9695\n",
      "Epoch 36/50\n",
      "843/843 - 12s - loss: 0.0977 - accuracy: 0.9687 - val_loss: 0.0896 - val_accuracy: 0.9718\n",
      "Epoch 37/50\n",
      "843/843 - 12s - loss: 0.0971 - accuracy: 0.9689 - val_loss: 0.0879 - val_accuracy: 0.9700\n",
      "Epoch 38/50\n",
      "843/843 - 12s - loss: 0.0958 - accuracy: 0.9705 - val_loss: 0.0910 - val_accuracy: 0.9693\n",
      "Epoch 39/50\n",
      "843/843 - 12s - loss: 0.0952 - accuracy: 0.9700 - val_loss: 0.0875 - val_accuracy: 0.9705\n",
      "Epoch 40/50\n",
      "843/843 - 12s - loss: 0.0947 - accuracy: 0.9704 - val_loss: 0.0870 - val_accuracy: 0.9708\n",
      "Epoch 41/50\n",
      "843/843 - 12s - loss: 0.0921 - accuracy: 0.9710 - val_loss: 0.0851 - val_accuracy: 0.9712\n",
      "Epoch 42/50\n",
      "843/843 - 12s - loss: 0.0920 - accuracy: 0.9705 - val_loss: 0.0848 - val_accuracy: 0.9713\n",
      "Epoch 43/50\n",
      "843/843 - 12s - loss: 0.0907 - accuracy: 0.9715 - val_loss: 0.0842 - val_accuracy: 0.9732\n",
      "Epoch 44/50\n",
      "843/843 - 12s - loss: 0.0901 - accuracy: 0.9713 - val_loss: 0.0876 - val_accuracy: 0.9718\n",
      "Epoch 45/50\n",
      "843/843 - 12s - loss: 0.0896 - accuracy: 0.9716 - val_loss: 0.0824 - val_accuracy: 0.9725\n",
      "Epoch 46/50\n",
      "843/843 - 12s - loss: 0.0870 - accuracy: 0.9732 - val_loss: 0.0828 - val_accuracy: 0.9715\n",
      "Epoch 47/50\n",
      "843/843 - 12s - loss: 0.0868 - accuracy: 0.9727 - val_loss: 0.0836 - val_accuracy: 0.9707\n",
      "Epoch 48/50\n",
      "843/843 - 12s - loss: 0.0858 - accuracy: 0.9731 - val_loss: 0.0820 - val_accuracy: 0.9723\n",
      "Epoch 49/50\n",
      "843/843 - 12s - loss: 0.0839 - accuracy: 0.9731 - val_loss: 0.0830 - val_accuracy: 0.9725\n",
      "Epoch 50/50\n",
      "843/843 - 12s - loss: 0.0856 - accuracy: 0.9727 - val_loss: 0.0795 - val_accuracy: 0.9737\n"
     ]
    }
   ],
   "source": [
    "# Fit the model\n",
    "history1 = model.fit(train,y_train, batch_size=batch_size,\n",
    "                    epochs = epochs, validation_data = (val,y_val),\n",
    "                    verbose = 2, steps_per_epoch=train.shape[0] // batch_size,\n",
    "                    callbacks = callbacks1)"
   ]
  },
  {
   "cell_type": "markdown",
   "metadata": {
    "id": "1kfi4lFAAZN5"
   },
   "source": [
    "#### Fine Tuning"
   ]
  },
  {
   "cell_type": "code",
   "execution_count": 57,
   "metadata": {
    "executionInfo": {
     "elapsed": 611140,
     "status": "ok",
     "timestamp": 1612284088456,
     "user": {
      "displayName": "Pilar Navarro",
      "photoUrl": "https://lh3.googleusercontent.com/a-/AOh14GjVEQ2fcXNkztOVtwH3gYkL7MU-0jktiO2acTgy7Q=s64",
      "userId": "13653515932275687032"
     },
     "user_tz": -60
    },
    "id": "DreG9iheAZN6"
   },
   "outputs": [],
   "source": [
    "model.layers[0].trainable = True"
   ]
  },
  {
   "cell_type": "code",
   "execution_count": 58,
   "metadata": {
    "colab": {
     "base_uri": "https://localhost:8080/"
    },
    "executionInfo": {
     "elapsed": 611129,
     "status": "ok",
     "timestamp": 1612284088457,
     "user": {
      "displayName": "Pilar Navarro",
      "photoUrl": "https://lh3.googleusercontent.com/a-/AOh14GjVEQ2fcXNkztOVtwH3gYkL7MU-0jktiO2acTgy7Q=s64",
      "userId": "13653515932275687032"
     },
     "user_tz": -60
    },
    "id": "tkK3ymZFAZN6",
    "outputId": "85d707ce-9cc6-499e-c055-3afdf95c3605"
   },
   "outputs": [
    {
     "name": "stdout",
     "output_type": "stream",
     "text": [
      "Model: \"sequential_2\"\n",
      "_________________________________________________________________\n",
      "Layer (type)                 Output Shape              Param #   \n",
      "=================================================================\n",
      "vgg19 (Functional)           (None, 1, 1, 512)         20024384  \n",
      "_________________________________________________________________\n",
      "flatten_2 (Flatten)          (None, 512)               0         \n",
      "_________________________________________________________________\n",
      "dense_4 (Dense)              (None, 512)               262656    \n",
      "_________________________________________________________________\n",
      "dropout_2 (Dropout)          (None, 512)               0         \n",
      "_________________________________________________________________\n",
      "dense_5 (Dense)              (None, 10)                5130      \n",
      "=================================================================\n",
      "Total params: 20,292,170\n",
      "Trainable params: 20,292,170\n",
      "Non-trainable params: 0\n",
      "_________________________________________________________________\n"
     ]
    }
   ],
   "source": [
    "model.summary()"
   ]
  },
  {
   "cell_type": "code",
   "execution_count": 59,
   "metadata": {
    "executionInfo": {
     "elapsed": 611119,
     "status": "ok",
     "timestamp": 1612284088458,
     "user": {
      "displayName": "Pilar Navarro",
      "photoUrl": "https://lh3.googleusercontent.com/a-/AOh14GjVEQ2fcXNkztOVtwH3gYkL7MU-0jktiO2acTgy7Q=s64",
      "userId": "13653515932275687032"
     },
     "user_tz": -60
    },
    "id": "eGmcgPCMAZN6"
   },
   "outputs": [],
   "source": [
    "model.compile(optimizer=Adam(1e-5), loss = 'categorical_crossentropy', metrics = ['accuracy'])"
   ]
  },
  {
   "cell_type": "code",
   "execution_count": 60,
   "metadata": {
    "executionInfo": {
     "elapsed": 611109,
     "status": "ok",
     "timestamp": 1612284088459,
     "user": {
      "displayName": "Pilar Navarro",
      "photoUrl": "https://lh3.googleusercontent.com/a-/AOh14GjVEQ2fcXNkztOVtwH3gYkL7MU-0jktiO2acTgy7Q=s64",
      "userId": "13653515932275687032"
     },
     "user_tz": -60
    },
    "id": "wxB20l0VAZN7"
   },
   "outputs": [],
   "source": [
    "epochs = 20 \n",
    "batch_size = 32\n",
    "callbacks2 = [ \n",
    "    EarlyStopping(monitor = 'val_loss', patience = 3, restore_best_weights=True), \n",
    "    ReduceLROnPlateau(monitor = 'val_loss', patience = 3)\n",
    "]"
   ]
  },
  {
   "cell_type": "code",
   "execution_count": 61,
   "metadata": {
    "colab": {
     "base_uri": "https://localhost:8080/"
    },
    "executionInfo": {
     "elapsed": 1228124,
     "status": "ok",
     "timestamp": 1612284705484,
     "user": {
      "displayName": "Pilar Navarro",
      "photoUrl": "https://lh3.googleusercontent.com/a-/AOh14GjVEQ2fcXNkztOVtwH3gYkL7MU-0jktiO2acTgy7Q=s64",
      "userId": "13653515932275687032"
     },
     "user_tz": -60
    },
    "id": "foY-xgYEAZN7",
    "outputId": "ef472d72-8772-4566-fb56-ada341663fb8"
   },
   "outputs": [
    {
     "name": "stdout",
     "output_type": "stream",
     "text": [
      "Epoch 1/20\n",
      "1687/1687 - 63s - loss: 0.0830 - accuracy: 0.9746 - val_loss: 0.0457 - val_accuracy: 0.9868\n",
      "Epoch 2/20\n",
      "1687/1687 - 62s - loss: 0.0418 - accuracy: 0.9871 - val_loss: 0.0246 - val_accuracy: 0.9923\n",
      "Epoch 3/20\n",
      "1687/1687 - 62s - loss: 0.0293 - accuracy: 0.9904 - val_loss: 0.0324 - val_accuracy: 0.9898\n",
      "Epoch 4/20\n",
      "1687/1687 - 62s - loss: 0.0250 - accuracy: 0.9918 - val_loss: 0.0239 - val_accuracy: 0.9923\n",
      "Epoch 5/20\n",
      "1687/1687 - 61s - loss: 0.0204 - accuracy: 0.9940 - val_loss: 0.0238 - val_accuracy: 0.9927\n",
      "Epoch 6/20\n",
      "1687/1687 - 61s - loss: 0.0174 - accuracy: 0.9946 - val_loss: 0.0244 - val_accuracy: 0.9933\n",
      "Epoch 7/20\n",
      "1687/1687 - 61s - loss: 0.0142 - accuracy: 0.9958 - val_loss: 0.0223 - val_accuracy: 0.9938\n",
      "Epoch 8/20\n",
      "1687/1687 - 61s - loss: 0.0110 - accuracy: 0.9970 - val_loss: 0.0276 - val_accuracy: 0.9918\n",
      "Epoch 9/20\n",
      "1687/1687 - 62s - loss: 0.0128 - accuracy: 0.9962 - val_loss: 0.0329 - val_accuracy: 0.9928\n",
      "Epoch 10/20\n",
      "1687/1687 - 61s - loss: 0.0104 - accuracy: 0.9970 - val_loss: 0.0253 - val_accuracy: 0.9948\n"
     ]
    }
   ],
   "source": [
    "# Fit the model\n",
    "history2 = model.fit(train,y_train, batch_size=batch_size,\n",
    "                    epochs = epochs, validation_data = (val,y_val),\n",
    "                    verbose = 2, steps_per_epoch=train.shape[0] // batch_size,\n",
    "                    callbacks = callbacks2)"
   ]
  },
  {
   "cell_type": "markdown",
   "metadata": {
    "id": "ROwm3PCaAZN8"
   },
   "source": [
    "#### Result"
   ]
  },
  {
   "cell_type": "code",
   "execution_count": 63,
   "metadata": {
    "colab": {
     "base_uri": "https://localhost:8080/",
     "height": 314
    },
    "executionInfo": {
     "elapsed": 1229419,
     "status": "ok",
     "timestamp": 1612284709131,
     "user": {
      "displayName": "Pilar Navarro",
      "photoUrl": "https://lh3.googleusercontent.com/a-/AOh14GjVEQ2fcXNkztOVtwH3gYkL7MU-0jktiO2acTgy7Q=s64",
      "userId": "13653515932275687032"
     },
     "user_tz": -60
    },
    "id": "VBFx0Cv9AZN8",
    "outputId": "7c34c5da-65f8-456a-d2a1-b0d8d513fbb1"
   },
   "outputs": [
    {
     "data": {
      "image/png": "[encoded data removed]",
      "text/plain": [
       "<Figure size 432x288 with 2 Axes>"
      ]
     },
     "metadata": {
      "needs_background": "light",
      "tags": []
     },
     "output_type": "display_data"
    }
   ],
   "source": [
    "# Predict the values from the test dataset\n",
    "y_pred = model.predict(test)\n",
    "# Convert predictions classes to one hot vectors \n",
    "y_pred_classes = np.argmax(y_pred,axis = 1) \n",
    "# Convert test observations to one hot vectors\n",
    "y_true = np.argmax(y_test,axis = 1) \n",
    "# compute the confusion matrix\n",
    "confusion_mtx = confusion_matrix(y_true, y_pred_classes) \n",
    "# plot the confusion matrix\n",
    "plot_confusion_matrix(confusion_mtx, classes = range(10)) "
   ]
  },
  {
   "cell_type": "code",
   "execution_count": 64,
   "metadata": {
    "colab": {
     "base_uri": "https://localhost:8080/"
    },
    "executionInfo": {
     "elapsed": 1232605,
     "status": "ok",
     "timestamp": 1612284712334,
     "user": {
      "displayName": "Pilar Navarro",
      "photoUrl": "https://lh3.googleusercontent.com/a-/AOh14GjVEQ2fcXNkztOVtwH3gYkL7MU-0jktiO2acTgy7Q=s64",
      "userId": "13653515932275687032"
     },
     "user_tz": -60
    },
    "id": "_HabXCkhAZN9",
    "outputId": "56dfd568-d6d6-43cb-afea-448903ea9314"
   },
   "outputs": [
    {
     "name": "stdout",
     "output_type": "stream",
     "text": [
      "Test Accuracy:  0.9936000108718872\n"
     ]
    }
   ],
   "source": [
    "score = model.evaluate(test, y_test, verbose = 0)\n",
    "print(\"Test Accuracy: \",score[1])"
   ]
  },
  {
   "cell_type": "code",
   "execution_count": 65,
   "metadata": {
    "colab": {
     "base_uri": "https://localhost:8080/"
    },
    "executionInfo": {
     "elapsed": 1235704,
     "status": "ok",
     "timestamp": 1612284715449,
     "user": {
      "displayName": "Pilar Navarro",
      "photoUrl": "https://lh3.googleusercontent.com/a-/AOh14GjVEQ2fcXNkztOVtwH3gYkL7MU-0jktiO2acTgy7Q=s64",
      "userId": "13653515932275687032"
     },
     "user_tz": -60
    },
    "id": "8De3T0hpAZN-",
    "outputId": "b75404ee-ac08-492d-f0e2-057cf455e906"
   },
   "outputs": [
    {
     "data": {
      "text/plain": [
       "0    7\n",
       "1    2\n",
       "2    1\n",
       "3    0\n",
       "4    4\n",
       "Name: Label, dtype: int64"
      ]
     },
     "execution_count": 65,
     "metadata": {
      "tags": []
     },
     "output_type": "execute_result"
    }
   ],
   "source": [
    "result = model.predict(test)\n",
    "\n",
    "result = np.argmax(result, axis=1)\n",
    "\n",
    "result = pd.Series(result, name='Label')\n",
    "\n",
    "result.head()"
   ]
  },
  {
   "cell_type": "code",
   "execution_count": 66,
   "metadata": {
    "colab": {
     "base_uri": "https://localhost:8080/",
     "height": 426
    },
    "executionInfo": {
     "elapsed": 1235690,
     "status": "ok",
     "timestamp": 1612284715450,
     "user": {
      "displayName": "Pilar Navarro",
      "photoUrl": "https://lh3.googleusercontent.com/a-/AOh14GjVEQ2fcXNkztOVtwH3gYkL7MU-0jktiO2acTgy7Q=s64",
      "userId": "13653515932275687032"
     },
     "user_tz": -60
    },
    "id": "PnZiueKXAZN-",
    "outputId": "1051dcb0-1211-45b7-8c5f-2105d26aac51"
   },
   "outputs": [
    {
     "name": "stderr",
     "output_type": "stream",
     "text": [
      "/usr/local/lib/python3.6/dist-packages/seaborn/_decorators.py:43: FutureWarning: Pass the following variable as a keyword arg: x. From version 0.12, the only valid positional argument will be `data`, and passing other arguments without an explicit keyword will result in an error or misinterpretation.\n",
      "  FutureWarning\n"
     ]
    },
    {
     "data": {
      "text/plain": [
       "Text(0.5, 1.0, '(Test data) Number of Digits classes predicted')"
      ]
     },
     "execution_count": 66,
     "metadata": {
      "tags": []
     },
     "output_type": "execute_result"
    },
    {
     "data": {
      "image/png": "[encoded data removed]",
      "text/plain": [
       "<Figure size 720x360 with 1 Axes>"
      ]
     },
     "metadata": {
      "needs_background": "light",
      "tags": []
     },
     "output_type": "display_data"
    }
   ],
   "source": [
    "plt.figure(figsize=(10,5))\n",
    "sns.countplot(result)\n",
    "plt.title(\"(Test data) Number of Digits classes predicted\")"
   ]
  },
  {
   "cell_type": "code",
   "execution_count": 67,
   "metadata": {
    "colab": {
     "base_uri": "https://localhost:8080/",
     "height": 426
    },
    "executionInfo": {
     "elapsed": 1235676,
     "status": "ok",
     "timestamp": 1612284715451,
     "user": {
      "displayName": "Pilar Navarro",
      "photoUrl": "https://lh3.googleusercontent.com/a-/AOh14GjVEQ2fcXNkztOVtwH3gYkL7MU-0jktiO2acTgy7Q=s64",
      "userId": "13653515932275687032"
     },
     "user_tz": -60
    },
    "id": "B8hAjoEiAZN-",
    "outputId": "48be1f9d-4e7c-4d4f-e177-51776a78c29d"
   },
   "outputs": [
    {
     "name": "stderr",
     "output_type": "stream",
     "text": [
      "/usr/local/lib/python3.6/dist-packages/seaborn/_decorators.py:43: FutureWarning: Pass the following variable as a keyword arg: x. From version 0.12, the only valid positional argument will be `data`, and passing other arguments without an explicit keyword will result in an error or misinterpretation.\n",
      "  FutureWarning\n"
     ]
    },
    {
     "data": {
      "text/plain": [
       "Text(0.5, 1.0, '(Test data) Number of Digits classes real')"
      ]
     },
     "execution_count": 67,
     "metadata": {
      "tags": []
     },
     "output_type": "execute_result"
    },
    {
     "data": {
      "image/png": "[encoded data removed]",
      "text/plain": [
       "<Figure size 720x360 with 1 Axes>"
      ]
     },
     "metadata": {
      "needs_background": "light",
      "tags": []
     },
     "output_type": "display_data"
    }
   ],
   "source": [
    "plt.figure(figsize=(10,5))\n",
    "y_true = pd.Series(y_true, name='Label')\n",
    "sns.countplot(y_true)\n",
    "plt.title(\"(Test data) Number of Digits classes real\")"
   ]
  },
  {
   "cell_type": "code",
   "execution_count": 69,
   "metadata": {
    "colab": {
     "base_uri": "https://localhost:8080/",
     "height": 519
    },
    "executionInfo": {
     "elapsed": 1032,
     "status": "ok",
     "timestamp": 1612284783703,
     "user": {
      "displayName": "Pilar Navarro",
      "photoUrl": "https://lh3.googleusercontent.com/a-/AOh14GjVEQ2fcXNkztOVtwH3gYkL7MU-0jktiO2acTgy7Q=s64",
      "userId": "13653515932275687032"
     },
     "user_tz": -60
    },
    "id": "0sJSlspfAZN_",
    "outputId": "f93bd371-be0a-4783-9ce0-56e138aaaff1"
   },
   "outputs": [
    {
     "data": {
      "image/png": "[encoded data removed]",
      "text/plain": [
       "<Figure size 432x288 with 1 Axes>"
      ]
     },
     "metadata": {
      "needs_background": "light",
      "tags": []
     },
     "output_type": "display_data"
    },
    {
     "data": {
      "image/png": "[encoded data removed]",
      "text/plain": [
       "<Figure size 432x288 with 1 Axes>"
      ]
     },
     "metadata": {
      "needs_background": "light",
      "tags": []
     },
     "output_type": "display_data"
    }
   ],
   "source": [
    "mostrarEvolucion(history1)"
   ]
  },
  {
   "cell_type": "markdown",
   "metadata": {
    "id": "ynJb3sVFAZN_"
   },
   "source": [
    "### Con data augmentation"
   ]
  },
  {
   "cell_type": "code",
   "execution_count": 70,
   "metadata": {
    "executionInfo": {
     "elapsed": 3237,
     "status": "ok",
     "timestamp": 1612284806228,
     "user": {
      "displayName": "Pilar Navarro",
      "photoUrl": "https://lh3.googleusercontent.com/a-/AOh14GjVEQ2fcXNkztOVtwH3gYkL7MU-0jktiO2acTgy7Q=s64",
      "userId": "13653515932275687032"
     },
     "user_tz": -60
    },
    "id": "DrHFuB3ZAZN_"
   },
   "outputs": [],
   "source": [
    "model = nuevoVGG19()\n",
    "\n",
    "#Data Augmentation\n",
    "datagen = ImageDataGenerator(\n",
    "        featurewise_center=False,  # set input mean to 0 over the dataset\n",
    "        samplewise_center=False,  # set each sample mean to 0\n",
    "        featurewise_std_normalization=False,  # divide inputs by std of the dataset\n",
    "        samplewise_std_normalization=False,  # divide each input by its std\n",
    "        zca_whitening=False,  # apply ZCA whitening\n",
    "        rotation_range=10,  # randomly rotate images in the range (degrees, 0 to 180)\n",
    "        zoom_range = 0.1, # Randomly zoom image \n",
    "        width_shift_range=0.1,  # randomly shift images horizontally (fraction of total width)\n",
    "        height_shift_range=0.1,  # randomly shift images vertically (fraction of total height)\n",
    "        horizontal_flip=False,  # randomly flip images\n",
    "        vertical_flip=False)  # randomly flip images\n",
    "\n",
    "\n",
    "datagen.fit(train)"
   ]
  },
  {
   "cell_type": "code",
   "execution_count": 71,
   "metadata": {
    "executionInfo": {
     "elapsed": 3231,
     "status": "ok",
     "timestamp": 1612284806235,
     "user": {
      "displayName": "Pilar Navarro",
      "photoUrl": "https://lh3.googleusercontent.com/a-/AOh14GjVEQ2fcXNkztOVtwH3gYkL7MU-0jktiO2acTgy7Q=s64",
      "userId": "13653515932275687032"
     },
     "user_tz": -60
    },
    "id": "s-R7_Z6QAZOA"
   },
   "outputs": [],
   "source": [
    "model.layers[0].trainable = False"
   ]
  },
  {
   "cell_type": "code",
   "execution_count": 72,
   "metadata": {
    "executionInfo": {
     "elapsed": 3223,
     "status": "ok",
     "timestamp": 1612284806237,
     "user": {
      "displayName": "Pilar Navarro",
      "photoUrl": "https://lh3.googleusercontent.com/a-/AOh14GjVEQ2fcXNkztOVtwH3gYkL7MU-0jktiO2acTgy7Q=s64",
      "userId": "13653515932275687032"
     },
     "user_tz": -60
    },
    "id": "1hhZTxrkAZOA"
   },
   "outputs": [],
   "source": [
    "model.compile(optimizer = Adam(1e-4), loss = 'categorical_crossentropy', metrics = ['accuracy'])"
   ]
  },
  {
   "cell_type": "code",
   "execution_count": 73,
   "metadata": {
    "executionInfo": {
     "elapsed": 3212,
     "status": "ok",
     "timestamp": 1612284806239,
     "user": {
      "displayName": "Pilar Navarro",
      "photoUrl": "https://lh3.googleusercontent.com/a-/AOh14GjVEQ2fcXNkztOVtwH3gYkL7MU-0jktiO2acTgy7Q=s64",
      "userId": "13653515932275687032"
     },
     "user_tz": -60
    },
    "id": "hb718JgBAZOA"
   },
   "outputs": [],
   "source": [
    "epochs = 50 \n",
    "batch_size = 64\n",
    "callbacks1 = [ \n",
    "    EarlyStopping(monitor = 'val_loss', patience = 5, restore_best_weights=True), \n",
    "    ReduceLROnPlateau(monitor = 'val_loss', patience = 3)\n",
    "]"
   ]
  },
  {
   "cell_type": "code",
   "execution_count": 74,
   "metadata": {
    "colab": {
     "base_uri": "https://localhost:8080/"
    },
    "executionInfo": {
     "elapsed": 740616,
     "status": "ok",
     "timestamp": 1612285543653,
     "user": {
      "displayName": "Pilar Navarro",
      "photoUrl": "https://lh3.googleusercontent.com/a-/AOh14GjVEQ2fcXNkztOVtwH3gYkL7MU-0jktiO2acTgy7Q=s64",
      "userId": "13653515932275687032"
     },
     "user_tz": -60
    },
    "id": "_NRxvIliAZOB",
    "outputId": "cba4dd54-dd1c-4d49-dda9-65f9657c730c"
   },
   "outputs": [
    {
     "name": "stdout",
     "output_type": "stream",
     "text": [
      "Epoch 1/50\n",
      "843/843 - 27s - loss: 1.2246 - accuracy: 0.6201 - val_loss: 0.6716 - val_accuracy: 0.8197\n",
      "Epoch 2/50\n",
      "843/843 - 26s - loss: 0.6400 - accuracy: 0.8117 - val_loss: 0.4762 - val_accuracy: 0.8607\n",
      "Epoch 3/50\n",
      "843/843 - 26s - loss: 0.4897 - accuracy: 0.8555 - val_loss: 0.3960 - val_accuracy: 0.8808\n",
      "Epoch 4/50\n",
      "843/843 - 26s - loss: 0.4123 - accuracy: 0.8757 - val_loss: 0.3337 - val_accuracy: 0.8968\n",
      "Epoch 5/50\n",
      "843/843 - 26s - loss: 0.3624 - accuracy: 0.8905 - val_loss: 0.3222 - val_accuracy: 0.8937\n",
      "Epoch 6/50\n",
      "843/843 - 26s - loss: 0.3323 - accuracy: 0.8995 - val_loss: 0.2994 - val_accuracy: 0.8977\n",
      "Epoch 7/50\n",
      "843/843 - 26s - loss: 0.3047 - accuracy: 0.9063 - val_loss: 0.2861 - val_accuracy: 0.9060\n",
      "Epoch 8/50\n",
      "843/843 - 26s - loss: 0.2906 - accuracy: 0.9093 - val_loss: 0.2677 - val_accuracy: 0.9118\n",
      "Epoch 9/50\n",
      "843/843 - 26s - loss: 0.2753 - accuracy: 0.9142 - val_loss: 0.2655 - val_accuracy: 0.9097\n",
      "Epoch 10/50\n",
      "843/843 - 26s - loss: 0.2633 - accuracy: 0.9187 - val_loss: 0.2543 - val_accuracy: 0.9137\n",
      "Epoch 11/50\n",
      "843/843 - 26s - loss: 0.2499 - accuracy: 0.9216 - val_loss: 0.2467 - val_accuracy: 0.9172\n",
      "Epoch 12/50\n",
      "843/843 - 26s - loss: 0.2439 - accuracy: 0.9240 - val_loss: 0.2488 - val_accuracy: 0.9160\n",
      "Epoch 13/50\n",
      "843/843 - 26s - loss: 0.2329 - accuracy: 0.9278 - val_loss: 0.2270 - val_accuracy: 0.9238\n",
      "Epoch 14/50\n",
      "843/843 - 26s - loss: 0.2282 - accuracy: 0.9273 - val_loss: 0.2220 - val_accuracy: 0.9277\n",
      "Epoch 15/50\n",
      "843/843 - 26s - loss: 0.2220 - accuracy: 0.9298 - val_loss: 0.2262 - val_accuracy: 0.9258\n",
      "Epoch 16/50\n",
      "843/843 - 26s - loss: 0.2163 - accuracy: 0.9315 - val_loss: 0.2191 - val_accuracy: 0.9268\n",
      "Epoch 17/50\n",
      "843/843 - 26s - loss: 0.2124 - accuracy: 0.9335 - val_loss: 0.2340 - val_accuracy: 0.9218\n",
      "Epoch 18/50\n",
      "843/843 - 26s - loss: 0.2077 - accuracy: 0.9336 - val_loss: 0.2267 - val_accuracy: 0.9205\n",
      "Epoch 19/50\n",
      "843/843 - 26s - loss: 0.2049 - accuracy: 0.9348 - val_loss: 0.2108 - val_accuracy: 0.9283\n",
      "Epoch 20/50\n",
      "843/843 - 26s - loss: 0.2002 - accuracy: 0.9367 - val_loss: 0.2303 - val_accuracy: 0.9218\n",
      "Epoch 21/50\n",
      "843/843 - 26s - loss: 0.1996 - accuracy: 0.9358 - val_loss: 0.2186 - val_accuracy: 0.9253\n",
      "Epoch 22/50\n",
      "843/843 - 26s - loss: 0.1917 - accuracy: 0.9395 - val_loss: 0.2142 - val_accuracy: 0.9230\n",
      "Epoch 23/50\n",
      "843/843 - 26s - loss: 0.1914 - accuracy: 0.9397 - val_loss: 0.1974 - val_accuracy: 0.9317\n",
      "Epoch 24/50\n",
      "843/843 - 26s - loss: 0.1842 - accuracy: 0.9414 - val_loss: 0.1997 - val_accuracy: 0.9297\n",
      "Epoch 25/50\n",
      "843/843 - 26s - loss: 0.1866 - accuracy: 0.9407 - val_loss: 0.2014 - val_accuracy: 0.9305\n",
      "Epoch 26/50\n",
      "843/843 - 26s - loss: 0.1863 - accuracy: 0.9412 - val_loss: 0.2011 - val_accuracy: 0.9293\n",
      "Epoch 27/50\n",
      "843/843 - 26s - loss: 0.1871 - accuracy: 0.9397 - val_loss: 0.2013 - val_accuracy: 0.9290\n",
      "Epoch 28/50\n",
      "843/843 - 26s - loss: 0.1869 - accuracy: 0.9412 - val_loss: 0.2015 - val_accuracy: 0.9302\n"
     ]
    }
   ],
   "source": [
    "# Fit the model\n",
    "history1 = model.fit(datagen.flow(train,y_train, batch_size=batch_size),\n",
    "                    epochs = epochs, validation_data = (val,y_val),\n",
    "                    verbose = 2, steps_per_epoch=train.shape[0] // batch_size,\n",
    "                    callbacks = callbacks1)"
   ]
  },
  {
   "cell_type": "markdown",
   "metadata": {
    "id": "BZkzeY6bAZOB"
   },
   "source": [
    "#### Fine Tuning"
   ]
  },
  {
   "cell_type": "code",
   "execution_count": 75,
   "metadata": {
    "executionInfo": {
     "elapsed": 740608,
     "status": "ok",
     "timestamp": 1612285543655,
     "user": {
      "displayName": "Pilar Navarro",
      "photoUrl": "https://lh3.googleusercontent.com/a-/AOh14GjVEQ2fcXNkztOVtwH3gYkL7MU-0jktiO2acTgy7Q=s64",
      "userId": "13653515932275687032"
     },
     "user_tz": -60
    },
    "id": "30E05cG9AZOD"
   },
   "outputs": [],
   "source": [
    "model.layers[0].trainable = True"
   ]
  },
  {
   "cell_type": "code",
   "execution_count": 76,
   "metadata": {
    "colab": {
     "base_uri": "https://localhost:8080/"
    },
    "executionInfo": {
     "elapsed": 740598,
     "status": "ok",
     "timestamp": 1612285543656,
     "user": {
      "displayName": "Pilar Navarro",
      "photoUrl": "https://lh3.googleusercontent.com/a-/AOh14GjVEQ2fcXNkztOVtwH3gYkL7MU-0jktiO2acTgy7Q=s64",
      "userId": "13653515932275687032"
     },
     "user_tz": -60
    },
    "id": "l_Wja-FMAZOD",
    "outputId": "2c3e5417-11d5-4726-f59a-50275b121b39"
   },
   "outputs": [
    {
     "name": "stdout",
     "output_type": "stream",
     "text": [
      "Model: \"sequential_3\"\n",
      "_________________________________________________________________\n",
      "Layer (type)                 Output Shape              Param #   \n",
      "=================================================================\n",
      "vgg19 (Functional)           (None, 1, 1, 512)         20024384  \n",
      "_________________________________________________________________\n",
      "flatten_3 (Flatten)          (None, 512)               0         \n",
      "_________________________________________________________________\n",
      "dense_6 (Dense)              (None, 512)               262656    \n",
      "_________________________________________________________________\n",
      "dropout_3 (Dropout)          (None, 512)               0         \n",
      "_________________________________________________________________\n",
      "dense_7 (Dense)              (None, 10)                5130      \n",
      "=================================================================\n",
      "Total params: 20,292,170\n",
      "Trainable params: 20,292,170\n",
      "Non-trainable params: 0\n",
      "_________________________________________________________________\n"
     ]
    }
   ],
   "source": [
    "model.summary()"
   ]
  },
  {
   "cell_type": "code",
   "execution_count": 77,
   "metadata": {
    "executionInfo": {
     "elapsed": 740589,
     "status": "ok",
     "timestamp": 1612285543657,
     "user": {
      "displayName": "Pilar Navarro",
      "photoUrl": "https://lh3.googleusercontent.com/a-/AOh14GjVEQ2fcXNkztOVtwH3gYkL7MU-0jktiO2acTgy7Q=s64",
      "userId": "13653515932275687032"
     },
     "user_tz": -60
    },
    "id": "4pzFs4iLAZOD"
   },
   "outputs": [],
   "source": [
    "model.compile(optimizer=Adam(1e-5), loss = 'categorical_crossentropy', metrics = ['accuracy'])"
   ]
  },
  {
   "cell_type": "code",
   "execution_count": 78,
   "metadata": {
    "executionInfo": {
     "elapsed": 740580,
     "status": "ok",
     "timestamp": 1612285543658,
     "user": {
      "displayName": "Pilar Navarro",
      "photoUrl": "https://lh3.googleusercontent.com/a-/AOh14GjVEQ2fcXNkztOVtwH3gYkL7MU-0jktiO2acTgy7Q=s64",
      "userId": "13653515932275687032"
     },
     "user_tz": -60
    },
    "id": "o3A4uxSKAZOD"
   },
   "outputs": [],
   "source": [
    "epochs = 20 \n",
    "batch_size = 64\n",
    "callbacks2 = [ \n",
    "    EarlyStopping(monitor = 'val_loss', patience = 3, restore_best_weights=True), \n",
    "    ReduceLROnPlateau(monitor = 'val_loss', patience = 3)\n",
    "]"
   ]
  },
  {
   "cell_type": "code",
   "execution_count": 79,
   "metadata": {
    "colab": {
     "base_uri": "https://localhost:8080/"
    },
    "executionInfo": {
     "elapsed": 1013389,
     "status": "ok",
     "timestamp": 1612285816475,
     "user": {
      "displayName": "Pilar Navarro",
      "photoUrl": "https://lh3.googleusercontent.com/a-/AOh14GjVEQ2fcXNkztOVtwH3gYkL7MU-0jktiO2acTgy7Q=s64",
      "userId": "13653515932275687032"
     },
     "user_tz": -60
    },
    "id": "4kCRb20kAZOE",
    "outputId": "e9b8a7ea-940f-4d19-d304-98bd80f39c74"
   },
   "outputs": [
    {
     "name": "stdout",
     "output_type": "stream",
     "text": [
      "Epoch 1/20\n",
      "843/843 - 40s - loss: 0.1037 - accuracy: 0.9671 - val_loss: 0.0861 - val_accuracy: 0.9700\n",
      "Epoch 2/20\n",
      "843/843 - 39s - loss: 0.0576 - accuracy: 0.9818 - val_loss: 0.0548 - val_accuracy: 0.9832\n",
      "Epoch 3/20\n",
      "843/843 - 39s - loss: 0.0407 - accuracy: 0.9875 - val_loss: 0.0381 - val_accuracy: 0.9890\n",
      "Epoch 4/20\n",
      "843/843 - 39s - loss: 0.0355 - accuracy: 0.9894 - val_loss: 0.0300 - val_accuracy: 0.9902\n",
      "Epoch 5/20\n",
      "843/843 - 39s - loss: 0.0286 - accuracy: 0.9912 - val_loss: 0.0408 - val_accuracy: 0.9878\n",
      "Epoch 6/20\n",
      "843/843 - 39s - loss: 0.0262 - accuracy: 0.9919 - val_loss: 0.0676 - val_accuracy: 0.9798\n",
      "Epoch 7/20\n",
      "843/843 - 39s - loss: 0.0251 - accuracy: 0.9924 - val_loss: 0.0325 - val_accuracy: 0.9905\n"
     ]
    }
   ],
   "source": [
    "# Fit the model\n",
    "history2 = model.fit(datagen.flow(train,y_train, batch_size=batch_size),\n",
    "                    epochs = epochs, validation_data = (val,y_val),\n",
    "                    verbose = 2, steps_per_epoch=train.shape[0] // batch_size,\n",
    "                    callbacks = callbacks2)"
   ]
  },
  {
   "cell_type": "markdown",
   "metadata": {
    "id": "hSMXsjoqAZOE"
   },
   "source": [
    "#### Result"
   ]
  },
  {
   "cell_type": "code",
   "execution_count": null,
   "metadata": {
    "colab": {
     "base_uri": "https://localhost:8080/",
     "height": 314
    },
    "id": "C45KRl0_uZH4",
    "outputId": "4f5e117e-b4ae-4f48-dd98-b6ca6772f8dc"
   },
   "outputs": [
    {
     "data": {
      "image/png": "[encoded data removed]",
      "text/plain": [
       "<Figure size 432x288 with 2 Axes>"
      ]
     },
     "metadata": {
      "needs_background": "light",
      "tags": []
     },
     "output_type": "display_data"
    }
   ],
   "source": [
    "# Predict the values from the test dataset\n",
    "y_pred = model.predict(test)\n",
    "# Convert predictions classes to one hot vectors \n",
    "y_pred_classes = np.argmax(y_pred,axis = 1) \n",
    "# Convert test observations to one hot vectors\n",
    "y_true = np.argmax(y_test,axis = 1) \n",
    "# compute the confusion matrix\n",
    "confusion_mtx = confusion_matrix(y_true, y_pred_classes) \n",
    "# plot the confusion matrix\n",
    "plot_confusion_matrix(confusion_mtx, classes = range(10)) "
   ]
  },
  {
   "cell_type": "code",
   "execution_count": 80,
   "metadata": {
    "colab": {
     "base_uri": "https://localhost:8080/"
    },
    "executionInfo": {
     "elapsed": 1014767,
     "status": "ok",
     "timestamp": 1612285819798,
     "user": {
      "displayName": "Pilar Navarro",
      "photoUrl": "https://lh3.googleusercontent.com/a-/AOh14GjVEQ2fcXNkztOVtwH3gYkL7MU-0jktiO2acTgy7Q=s64",
      "userId": "13653515932275687032"
     },
     "user_tz": -60
    },
    "id": "FekC98fNAZOF",
    "outputId": "c6988537-daf8-4418-b33a-85911e507482"
   },
   "outputs": [
    {
     "name": "stdout",
     "output_type": "stream",
     "text": [
      "Test Accuracy:  0.9911999702453613\n"
     ]
    }
   ],
   "source": [
    "score = model.evaluate(test, y_test, verbose = 0)\n",
    "print(\"Test Accuracy: \",score[1])"
   ]
  }
 ],
 "metadata": {
  "accelerator": "GPU",
  "colab": {
   "collapsed_sections": [
    "3jsjgJVBZEGe",
    "FFvKEjGkbn46",
    "x0AccqTjkWjW",
    "CJrV2m3qk02V",
    "NGW593IUrEH4",
    "hSMXsjoqAZOE"
   ],
   "name": "Copia de vgg.ipynb",
   "provenance": []
  },
  "kernelspec": {
   "display_name": "Python 3",
   "language": "python",
   "name": "python3"
  },
  "language_info": {
   "codemirror_mode": {
    "name": "ipython",
    "version": 3
   },
   "file_extension": ".py",
   "mimetype": "text/x-python",
   "name": "python",
   "nbconvert_exporter": "python",
   "pygments_lexer": "ipython3",
   "version": "3.8.5"
  }
 },
 "nbformat": 4,
 "nbformat_minor": 1
}
