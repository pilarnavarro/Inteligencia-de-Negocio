{
 "cells": [
  {
   "cell_type": "markdown",
   "metadata": {},
   "source": [
    "# Práctica 3 - Segunda prueba\n",
    "\n",
    "#### Pilar Navarro Ramírez"
   ]
  },
  {
   "cell_type": "code",
   "execution_count": 79,
   "metadata": {},
   "outputs": [],
   "source": [
    "import pandas as pd"
   ]
  },
  {
   "cell_type": "markdown",
   "metadata": {},
   "source": [
    "## Preprocesamiento"
   ]
  },
  {
   "cell_type": "code",
   "execution_count": 80,
   "metadata": {},
   "outputs": [],
   "source": [
    "df_train=pd.read_csv(\"data/train.csv\",na_values=[\"\"])\n",
    "df_test=pd.read_csv(\"data/test.csv\",na_values=[\"\"])"
   ]
  },
  {
   "cell_type": "code",
   "execution_count": 81,
   "metadata": {},
   "outputs": [
    {
     "name": "stdout",
     "output_type": "stream",
     "text": [
      "<class 'pandas.core.frame.DataFrame'>\n",
      "RangeIndex: 4819 entries, 0 to 4818\n",
      "Data columns (total 14 columns):\n",
      " #   Column        Non-Null Count  Dtype  \n",
      "---  ------        --------------  -----  \n",
      " 0   id            4747 non-null   float64\n",
      " 1   Nombre        4747 non-null   object \n",
      " 2   Ciudad        4747 non-null   object \n",
      " 3   Año           4747 non-null   float64\n",
      " 4   Kilometros    4747 non-null   float64\n",
      " 5   Combustible   4747 non-null   object \n",
      " 6   Tipo_marchas  4747 non-null   object \n",
      " 7   Mano          4747 non-null   object \n",
      " 8   Consumo       4746 non-null   object \n",
      " 9   Motor_CC      4718 non-null   object \n",
      " 10  Potencia      4644 non-null   object \n",
      " 11  Asientos      4713 non-null   float64\n",
      " 12  Descuento     659 non-null    float64\n",
      " 13  Precio_cat    4819 non-null   int64  \n",
      "dtypes: float64(5), int64(1), object(8)\n",
      "memory usage: 527.2+ KB\n"
     ]
    }
   ],
   "source": [
    "df_train.info()"
   ]
  },
  {
   "cell_type": "code",
   "execution_count": 82,
   "metadata": {},
   "outputs": [
    {
     "name": "stdout",
     "output_type": "stream",
     "text": [
      "<class 'pandas.core.frame.DataFrame'>\n",
      "RangeIndex: 1159 entries, 0 to 1158\n",
      "Data columns (total 13 columns):\n",
      " #   Column        Non-Null Count  Dtype  \n",
      "---  ------        --------------  -----  \n",
      " 0   id            1159 non-null   int64  \n",
      " 1   Nombre        1159 non-null   object \n",
      " 2   Ciudad        1159 non-null   object \n",
      " 3   Año           1159 non-null   int64  \n",
      " 4   Kilometros    1159 non-null   int64  \n",
      " 5   Combustible   1159 non-null   object \n",
      " 6   Tipo_marchas  1159 non-null   object \n",
      " 7   Mano          1159 non-null   object \n",
      " 8   Consumo       1159 non-null   object \n",
      " 9   Motor_CC      1159 non-null   object \n",
      " 10  Potencia      1159 non-null   object \n",
      " 11  Asientos      1159 non-null   float64\n",
      " 12  Descuento     155 non-null    float64\n",
      "dtypes: float64(2), int64(3), object(8)\n",
      "memory usage: 117.8+ KB\n"
     ]
    }
   ],
   "source": [
    "df_test.info()"
   ]
  },
  {
   "cell_type": "code",
   "execution_count": 83,
   "metadata": {},
   "outputs": [],
   "source": [
    "df_train.columns = [col.lower() for col in df_train]\n",
    "df_test.columns = [col.lower() for col in df_test]\n",
    "\n",
    "df_train_orig = df_train.copy()\n",
    "df_test_orig = df_test.copy()\n",
    "\n",
    "del df_train[\"id\"]\n",
    "del df_test[\"id\"]"
   ]
  },
  {
   "cell_type": "code",
   "execution_count": 84,
   "metadata": {},
   "outputs": [
    {
     "data": {
      "text/html": [
       "<div>\n",
       "<style scoped>\n",
       "    .dataframe tbody tr th:only-of-type {\n",
       "        vertical-align: middle;\n",
       "    }\n",
       "\n",
       "    .dataframe tbody tr th {\n",
       "        vertical-align: top;\n",
       "    }\n",
       "\n",
       "    .dataframe thead th {\n",
       "        text-align: right;\n",
       "    }\n",
       "</style>\n",
       "<table border=\"1\" class=\"dataframe\">\n",
       "  <thead>\n",
       "    <tr style=\"text-align: right;\">\n",
       "      <th></th>\n",
       "      <th>año</th>\n",
       "      <th>kilometros</th>\n",
       "      <th>asientos</th>\n",
       "      <th>descuento</th>\n",
       "    </tr>\n",
       "  </thead>\n",
       "  <tbody>\n",
       "    <tr>\n",
       "      <th>count</th>\n",
       "      <td>1159.000000</td>\n",
       "      <td>1159.000000</td>\n",
       "      <td>1159.000000</td>\n",
       "      <td>155.000000</td>\n",
       "    </tr>\n",
       "    <tr>\n",
       "      <th>mean</th>\n",
       "      <td>2012.691976</td>\n",
       "      <td>59377.421915</td>\n",
       "      <td>5.257981</td>\n",
       "      <td>24.211613</td>\n",
       "    </tr>\n",
       "    <tr>\n",
       "      <th>std</th>\n",
       "      <td>3.609266</td>\n",
       "      <td>35706.375000</td>\n",
       "      <td>0.791723</td>\n",
       "      <td>21.726252</td>\n",
       "    </tr>\n",
       "    <tr>\n",
       "      <th>min</th>\n",
       "      <td>1998.000000</td>\n",
       "      <td>600.000000</td>\n",
       "      <td>2.000000</td>\n",
       "      <td>1.040000</td>\n",
       "    </tr>\n",
       "    <tr>\n",
       "      <th>25%</th>\n",
       "      <td>2010.000000</td>\n",
       "      <td>35272.500000</td>\n",
       "      <td>5.000000</td>\n",
       "      <td>8.930000</td>\n",
       "    </tr>\n",
       "    <tr>\n",
       "      <th>50%</th>\n",
       "      <td>2013.000000</td>\n",
       "      <td>55000.000000</td>\n",
       "      <td>5.000000</td>\n",
       "      <td>14.200000</td>\n",
       "    </tr>\n",
       "    <tr>\n",
       "      <th>75%</th>\n",
       "      <td>2016.000000</td>\n",
       "      <td>75000.000000</td>\n",
       "      <td>5.000000</td>\n",
       "      <td>36.815000</td>\n",
       "    </tr>\n",
       "    <tr>\n",
       "      <th>max</th>\n",
       "      <td>2019.000000</td>\n",
       "      <td>480000.000000</td>\n",
       "      <td>8.000000</td>\n",
       "      <td>95.380000</td>\n",
       "    </tr>\n",
       "  </tbody>\n",
       "</table>\n",
       "</div>"
      ],
      "text/plain": [
       "               año     kilometros     asientos   descuento\n",
       "count  1159.000000    1159.000000  1159.000000  155.000000\n",
       "mean   2012.691976   59377.421915     5.257981   24.211613\n",
       "std       3.609266   35706.375000     0.791723   21.726252\n",
       "min    1998.000000     600.000000     2.000000    1.040000\n",
       "25%    2010.000000   35272.500000     5.000000    8.930000\n",
       "50%    2013.000000   55000.000000     5.000000   14.200000\n",
       "75%    2016.000000   75000.000000     5.000000   36.815000\n",
       "max    2019.000000  480000.000000     8.000000   95.380000"
      ]
     },
     "execution_count": 84,
     "metadata": {},
     "output_type": "execute_result"
    }
   ],
   "source": [
    "df_test.describe()"
   ]
  },
  {
   "cell_type": "code",
   "execution_count": 85,
   "metadata": {},
   "outputs": [
    {
     "data": {
      "text/html": [
       "<div>\n",
       "<style scoped>\n",
       "    .dataframe tbody tr th:only-of-type {\n",
       "        vertical-align: middle;\n",
       "    }\n",
       "\n",
       "    .dataframe tbody tr th {\n",
       "        vertical-align: top;\n",
       "    }\n",
       "\n",
       "    .dataframe thead th {\n",
       "        text-align: right;\n",
       "    }\n",
       "</style>\n",
       "<table border=\"1\" class=\"dataframe\">\n",
       "  <thead>\n",
       "    <tr style=\"text-align: right;\">\n",
       "      <th></th>\n",
       "      <th>año</th>\n",
       "      <th>kilometros</th>\n",
       "      <th>asientos</th>\n",
       "      <th>descuento</th>\n",
       "      <th>precio_cat</th>\n",
       "    </tr>\n",
       "  </thead>\n",
       "  <tbody>\n",
       "    <tr>\n",
       "      <th>count</th>\n",
       "      <td>4747.000000</td>\n",
       "      <td>4.747000e+03</td>\n",
       "      <td>4713.000000</td>\n",
       "      <td>659.000000</td>\n",
       "      <td>4819.000000</td>\n",
       "    </tr>\n",
       "    <tr>\n",
       "      <th>mean</th>\n",
       "      <td>2013.571098</td>\n",
       "      <td>5.852946e+04</td>\n",
       "      <td>5.286442</td>\n",
       "      <td>19.304598</td>\n",
       "      <td>3.281386</td>\n",
       "    </tr>\n",
       "    <tr>\n",
       "      <th>std</th>\n",
       "      <td>3.114298</td>\n",
       "      <td>1.011517e+05</td>\n",
       "      <td>0.815192</td>\n",
       "      <td>19.752814</td>\n",
       "      <td>1.049861</td>\n",
       "    </tr>\n",
       "    <tr>\n",
       "      <th>min</th>\n",
       "      <td>1998.000000</td>\n",
       "      <td>1.710000e+02</td>\n",
       "      <td>0.000000</td>\n",
       "      <td>1.000000</td>\n",
       "      <td>1.000000</td>\n",
       "    </tr>\n",
       "    <tr>\n",
       "      <th>25%</th>\n",
       "      <td>2012.000000</td>\n",
       "      <td>3.300000e+04</td>\n",
       "      <td>5.000000</td>\n",
       "      <td>7.630000</td>\n",
       "      <td>3.000000</td>\n",
       "    </tr>\n",
       "    <tr>\n",
       "      <th>50%</th>\n",
       "      <td>2014.000000</td>\n",
       "      <td>5.237300e+04</td>\n",
       "      <td>5.000000</td>\n",
       "      <td>11.190000</td>\n",
       "      <td>3.000000</td>\n",
       "    </tr>\n",
       "    <tr>\n",
       "      <th>75%</th>\n",
       "      <td>2016.000000</td>\n",
       "      <td>7.200000e+04</td>\n",
       "      <td>5.000000</td>\n",
       "      <td>21.535000</td>\n",
       "      <td>4.000000</td>\n",
       "    </tr>\n",
       "    <tr>\n",
       "      <th>max</th>\n",
       "      <td>2019.000000</td>\n",
       "      <td>6.500000e+06</td>\n",
       "      <td>10.000000</td>\n",
       "      <td>99.920000</td>\n",
       "      <td>5.000000</td>\n",
       "    </tr>\n",
       "  </tbody>\n",
       "</table>\n",
       "</div>"
      ],
      "text/plain": [
       "               año    kilometros     asientos   descuento   precio_cat\n",
       "count  4747.000000  4.747000e+03  4713.000000  659.000000  4819.000000\n",
       "mean   2013.571098  5.852946e+04     5.286442   19.304598     3.281386\n",
       "std       3.114298  1.011517e+05     0.815192   19.752814     1.049861\n",
       "min    1998.000000  1.710000e+02     0.000000    1.000000     1.000000\n",
       "25%    2012.000000  3.300000e+04     5.000000    7.630000     3.000000\n",
       "50%    2014.000000  5.237300e+04     5.000000   11.190000     3.000000\n",
       "75%    2016.000000  7.200000e+04     5.000000   21.535000     4.000000\n",
       "max    2019.000000  6.500000e+06    10.000000   99.920000     5.000000"
      ]
     },
     "execution_count": 85,
     "metadata": {},
     "output_type": "execute_result"
    }
   ],
   "source": [
    "df_train.describe()"
   ]
  },
  {
   "cell_type": "code",
   "execution_count": 86,
   "metadata": {},
   "outputs": [
    {
     "data": {
      "text/plain": [
       "count          4746\n",
       "unique          405\n",
       "top       18.9 kmpl\n",
       "freq            140\n",
       "Name: consumo, dtype: object"
      ]
     },
     "execution_count": 86,
     "metadata": {},
     "output_type": "execute_result"
    }
   ],
   "source": [
    "df_train[\"consumo\"].describe()"
   ]
  },
  {
   "cell_type": "code",
   "execution_count": 87,
   "metadata": {},
   "outputs": [
    {
     "data": {
      "text/plain": [
       "count       4644\n",
       "unique       345\n",
       "top       74 bhp\n",
       "freq         200\n",
       "Name: potencia, dtype: object"
      ]
     },
     "execution_count": 87,
     "metadata": {},
     "output_type": "execute_result"
    }
   ],
   "source": [
    "df_train[\"potencia\"].describe()"
   ]
  },
  {
   "cell_type": "code",
   "execution_count": 88,
   "metadata": {},
   "outputs": [
    {
     "data": {
      "text/plain": [
       "count        4718\n",
       "unique        138\n",
       "top       1197 CC\n",
       "freq          484\n",
       "Name: motor_cc, dtype: object"
      ]
     },
     "execution_count": 88,
     "metadata": {},
     "output_type": "execute_result"
    }
   ],
   "source": [
    "df_train[\"motor_cc\"].describe()"
   ]
  },
  {
   "cell_type": "markdown",
   "metadata": {},
   "source": [
    "### Tratamos los datos perdidos"
   ]
  },
  {
   "cell_type": "code",
   "execution_count": 89,
   "metadata": {},
   "outputs": [],
   "source": [
    "from sklearn import impute"
   ]
  },
  {
   "cell_type": "code",
   "execution_count": 90,
   "metadata": {},
   "outputs": [
    {
     "name": "stdout",
     "output_type": "stream",
     "text": [
      "<class 'pandas.core.frame.DataFrame'>\n",
      "RangeIndex: 1159 entries, 0 to 1158\n",
      "Data columns (total 11 columns):\n",
      " #   Column        Non-Null Count  Dtype  \n",
      "---  ------        --------------  -----  \n",
      " 0   nombre        1159 non-null   object \n",
      " 1   ciudad        1159 non-null   object \n",
      " 2   año           1159 non-null   int64  \n",
      " 3   kilometros    1159 non-null   int64  \n",
      " 4   combustible   1159 non-null   object \n",
      " 5   tipo_marchas  1159 non-null   object \n",
      " 6   mano          1159 non-null   object \n",
      " 7   consumo       1159 non-null   object \n",
      " 8   motor_cc      1159 non-null   object \n",
      " 9   potencia      1159 non-null   object \n",
      " 10  asientos      1159 non-null   float64\n",
      "dtypes: float64(1), int64(2), object(8)\n",
      "memory usage: 99.7+ KB\n"
     ]
    }
   ],
   "source": [
    "del df_train['descuento']\n",
    "del df_test['descuento']\n",
    "\n",
    "df_test.info()"
   ]
  },
  {
   "cell_type": "code",
   "execution_count": 91,
   "metadata": {},
   "outputs": [
    {
     "name": "stdout",
     "output_type": "stream",
     "text": [
      "<class 'pandas.core.frame.DataFrame'>\n",
      "RangeIndex: 4819 entries, 0 to 4818\n",
      "Data columns (total 12 columns):\n",
      " #   Column        Non-Null Count  Dtype  \n",
      "---  ------        --------------  -----  \n",
      " 0   nombre        4747 non-null   object \n",
      " 1   ciudad        4747 non-null   object \n",
      " 2   año           4747 non-null   float64\n",
      " 3   kilometros    4747 non-null   float64\n",
      " 4   combustible   4747 non-null   object \n",
      " 5   tipo_marchas  4747 non-null   object \n",
      " 6   mano          4747 non-null   object \n",
      " 7   consumo       4746 non-null   object \n",
      " 8   motor_cc      4718 non-null   object \n",
      " 9   potencia      4644 non-null   object \n",
      " 10  asientos      4713 non-null   float64\n",
      " 11  precio_cat    4819 non-null   int64  \n",
      "dtypes: float64(3), int64(1), object(8)\n",
      "memory usage: 451.9+ KB\n"
     ]
    }
   ],
   "source": [
    "df_train.info()"
   ]
  },
  {
   "cell_type": "code",
   "execution_count": 92,
   "metadata": {},
   "outputs": [
    {
     "data": {
      "text/html": [
       "<div>\n",
       "<style scoped>\n",
       "    .dataframe tbody tr th:only-of-type {\n",
       "        vertical-align: middle;\n",
       "    }\n",
       "\n",
       "    .dataframe tbody tr th {\n",
       "        vertical-align: top;\n",
       "    }\n",
       "\n",
       "    .dataframe thead th {\n",
       "        text-align: right;\n",
       "    }\n",
       "</style>\n",
       "<table border=\"1\" class=\"dataframe\">\n",
       "  <thead>\n",
       "    <tr style=\"text-align: right;\">\n",
       "      <th></th>\n",
       "      <th>año</th>\n",
       "      <th>kilometros</th>\n",
       "      <th>asientos</th>\n",
       "      <th>precio_cat</th>\n",
       "    </tr>\n",
       "  </thead>\n",
       "  <tbody>\n",
       "    <tr>\n",
       "      <th>count</th>\n",
       "      <td>4747.000000</td>\n",
       "      <td>4.747000e+03</td>\n",
       "      <td>4713.000000</td>\n",
       "      <td>4819.000000</td>\n",
       "    </tr>\n",
       "    <tr>\n",
       "      <th>mean</th>\n",
       "      <td>2013.571098</td>\n",
       "      <td>5.852946e+04</td>\n",
       "      <td>5.286442</td>\n",
       "      <td>3.281386</td>\n",
       "    </tr>\n",
       "    <tr>\n",
       "      <th>std</th>\n",
       "      <td>3.114298</td>\n",
       "      <td>1.011517e+05</td>\n",
       "      <td>0.815192</td>\n",
       "      <td>1.049861</td>\n",
       "    </tr>\n",
       "    <tr>\n",
       "      <th>min</th>\n",
       "      <td>1998.000000</td>\n",
       "      <td>1.710000e+02</td>\n",
       "      <td>0.000000</td>\n",
       "      <td>1.000000</td>\n",
       "    </tr>\n",
       "    <tr>\n",
       "      <th>25%</th>\n",
       "      <td>2012.000000</td>\n",
       "      <td>3.300000e+04</td>\n",
       "      <td>5.000000</td>\n",
       "      <td>3.000000</td>\n",
       "    </tr>\n",
       "    <tr>\n",
       "      <th>50%</th>\n",
       "      <td>2014.000000</td>\n",
       "      <td>5.237300e+04</td>\n",
       "      <td>5.000000</td>\n",
       "      <td>3.000000</td>\n",
       "    </tr>\n",
       "    <tr>\n",
       "      <th>75%</th>\n",
       "      <td>2016.000000</td>\n",
       "      <td>7.200000e+04</td>\n",
       "      <td>5.000000</td>\n",
       "      <td>4.000000</td>\n",
       "    </tr>\n",
       "    <tr>\n",
       "      <th>max</th>\n",
       "      <td>2019.000000</td>\n",
       "      <td>6.500000e+06</td>\n",
       "      <td>10.000000</td>\n",
       "      <td>5.000000</td>\n",
       "    </tr>\n",
       "  </tbody>\n",
       "</table>\n",
       "</div>"
      ],
      "text/plain": [
       "               año    kilometros     asientos   precio_cat\n",
       "count  4747.000000  4.747000e+03  4713.000000  4819.000000\n",
       "mean   2013.571098  5.852946e+04     5.286442     3.281386\n",
       "std       3.114298  1.011517e+05     0.815192     1.049861\n",
       "min    1998.000000  1.710000e+02     0.000000     1.000000\n",
       "25%    2012.000000  3.300000e+04     5.000000     3.000000\n",
       "50%    2014.000000  5.237300e+04     5.000000     3.000000\n",
       "75%    2016.000000  7.200000e+04     5.000000     4.000000\n",
       "max    2019.000000  6.500000e+06    10.000000     5.000000"
      ]
     },
     "execution_count": 92,
     "metadata": {},
     "output_type": "execute_result"
    }
   ],
   "source": [
    "df_train.describe()"
   ]
  },
  {
   "cell_type": "code",
   "execution_count": 93,
   "metadata": {},
   "outputs": [
    {
     "name": "stdout",
     "output_type": "stream",
     "text": [
      "<class 'pandas.core.frame.DataFrame'>\n",
      "RangeIndex: 4819 entries, 0 to 4818\n",
      "Data columns (total 12 columns):\n",
      " #   Column        Non-Null Count  Dtype  \n",
      "---  ------        --------------  -----  \n",
      " 0   nombre        4747 non-null   object \n",
      " 1   ciudad        4747 non-null   object \n",
      " 2   año           4747 non-null   float64\n",
      " 3   kilometros    4747 non-null   float64\n",
      " 4   combustible   4747 non-null   object \n",
      " 5   tipo_marchas  4747 non-null   object \n",
      " 6   mano          4747 non-null   object \n",
      " 7   consumo       4746 non-null   object \n",
      " 8   motor_cc      4718 non-null   object \n",
      " 9   potencia      4644 non-null   object \n",
      " 10  asientos      4814 non-null   float64\n",
      " 11  precio_cat    4819 non-null   int64  \n",
      "dtypes: float64(3), int64(1), object(8)\n",
      "memory usage: 451.9+ KB\n"
     ]
    }
   ],
   "source": [
    "df_train_replaced=df_train.copy()\n",
    "imputer=impute.SimpleImputer(strategy=\"most_frequent\")\n",
    "values = imputer.fit_transform([df_train_replaced.asientos.values])\n",
    "df_train_replaced.asientos.update(pd.Series(values[0]))\n",
    "df_train_replaced.info()"
   ]
  },
  {
   "cell_type": "code",
   "execution_count": 94,
   "metadata": {},
   "outputs": [],
   "source": [
    "df_train_replaced=df_train_replaced.dropna()\n",
    "df_train=df_train.dropna()"
   ]
  },
  {
   "cell_type": "code",
   "execution_count": 95,
   "metadata": {},
   "outputs": [
    {
     "name": "stdout",
     "output_type": "stream",
     "text": [
      "<class 'pandas.core.frame.DataFrame'>\n",
      "Int64Index: 4001 entries, 0 to 4818\n",
      "Data columns (total 12 columns):\n",
      " #   Column        Non-Null Count  Dtype  \n",
      "---  ------        --------------  -----  \n",
      " 0   nombre        4001 non-null   object \n",
      " 1   ciudad        4001 non-null   object \n",
      " 2   año           4001 non-null   float64\n",
      " 3   kilometros    4001 non-null   float64\n",
      " 4   combustible   4001 non-null   object \n",
      " 5   tipo_marchas  4001 non-null   object \n",
      " 6   mano          4001 non-null   object \n",
      " 7   consumo       4001 non-null   object \n",
      " 8   motor_cc      4001 non-null   object \n",
      " 9   potencia      4001 non-null   object \n",
      " 10  asientos      4001 non-null   float64\n",
      " 11  precio_cat    4001 non-null   int64  \n",
      "dtypes: float64(3), int64(1), object(8)\n",
      "memory usage: 406.4+ KB\n"
     ]
    }
   ],
   "source": [
    "df_train.info()"
   ]
  },
  {
   "cell_type": "markdown",
   "metadata": {},
   "source": [
    "Separamos el atributo a predecir del resto de atributos en el conjunto de entrenamiento."
   ]
  },
  {
   "cell_type": "code",
   "execution_count": 96,
   "metadata": {},
   "outputs": [],
   "source": [
    "cols = [col for col in df_train.columns if col not in ['precio_cat']]    \n",
    "df_train, df_train_obj= df_train[cols], df_train['precio_cat']\n",
    "df_train_replaced, df_train_obj_replaced= df_train_replaced[cols], df_train_replaced['precio_cat']"
   ]
  },
  {
   "cell_type": "markdown",
   "metadata": {},
   "source": [
    "### 'Transformación' de variables categóricas a numéricas"
   ]
  },
  {
   "cell_type": "code",
   "execution_count": 97,
   "metadata": {},
   "outputs": [],
   "source": [
    "from sklearn.preprocessing import LabelEncoder\n",
    "\n",
    "categorical=[\"nombre\",\"ciudad\",\"combustible\",\"tipo_marchas\",\"mano\",\"consumo\",\"motor_cc\",\"potencia\"]\n",
    "\n",
    "df_train_num=df_train.copy()\n",
    "df_train_num_rpl=df_train_replaced.copy()\n",
    "df_test_num=df_test.copy()\n",
    "\n",
    "for atributo in categorical:\n",
    "    data=pd.read_csv(\"data/\"+atributo+\".csv\")\n",
    "    data.columns = [col.lower() for col in data]\n",
    "    label = LabelEncoder().fit(data[atributo])\n",
    "    df_train_num[atributo]=label.transform(df_train[atributo])\n",
    "    df_train_num_rpl[atributo]=label.transform(df_train_replaced[atributo])\n",
    "    df_test_num[atributo]=label.transform(df_test[atributo])"
   ]
  },
  {
   "cell_type": "code",
   "execution_count": 98,
   "metadata": {},
   "outputs": [
    {
     "data": {
      "text/html": [
       "<div>\n",
       "<style scoped>\n",
       "    .dataframe tbody tr th:only-of-type {\n",
       "        vertical-align: middle;\n",
       "    }\n",
       "\n",
       "    .dataframe tbody tr th {\n",
       "        vertical-align: top;\n",
       "    }\n",
       "\n",
       "    .dataframe thead th {\n",
       "        text-align: right;\n",
       "    }\n",
       "</style>\n",
       "<table border=\"1\" class=\"dataframe\">\n",
       "  <thead>\n",
       "    <tr style=\"text-align: right;\">\n",
       "      <th></th>\n",
       "      <th>nombre</th>\n",
       "      <th>ciudad</th>\n",
       "      <th>año</th>\n",
       "      <th>kilometros</th>\n",
       "      <th>combustible</th>\n",
       "      <th>tipo_marchas</th>\n",
       "      <th>mano</th>\n",
       "      <th>consumo</th>\n",
       "      <th>motor_cc</th>\n",
       "      <th>potencia</th>\n",
       "      <th>asientos</th>\n",
       "    </tr>\n",
       "  </thead>\n",
       "  <tbody>\n",
       "    <tr>\n",
       "      <th>count</th>\n",
       "      <td>4057.000000</td>\n",
       "      <td>4057.000000</td>\n",
       "      <td>4057.000000</td>\n",
       "      <td>4.057000e+03</td>\n",
       "      <td>4057.000000</td>\n",
       "      <td>4057.000000</td>\n",
       "      <td>4057.000000</td>\n",
       "      <td>4057.000000</td>\n",
       "      <td>4057.000000</td>\n",
       "      <td>4057.000000</td>\n",
       "      <td>4057.000000</td>\n",
       "    </tr>\n",
       "    <tr>\n",
       "      <th>mean</th>\n",
       "      <td>917.404979</td>\n",
       "      <td>4.365541</td>\n",
       "      <td>2013.646290</td>\n",
       "      <td>5.866337e+04</td>\n",
       "      <td>2.333251</td>\n",
       "      <td>0.712842</td>\n",
       "      <td>0.329307</td>\n",
       "      <td>222.104264</td>\n",
       "      <td>50.874291</td>\n",
       "      <td>203.686221</td>\n",
       "      <td>5.284693</td>\n",
       "    </tr>\n",
       "    <tr>\n",
       "      <th>std</th>\n",
       "      <td>530.157485</td>\n",
       "      <td>3.010784</td>\n",
       "      <td>3.043546</td>\n",
       "      <td>1.084457e+05</td>\n",
       "      <td>1.502254</td>\n",
       "      <td>0.452492</td>\n",
       "      <td>0.773075</td>\n",
       "      <td>109.783567</td>\n",
       "      <td>41.351198</td>\n",
       "      <td>122.113535</td>\n",
       "      <td>0.806192</td>\n",
       "    </tr>\n",
       "    <tr>\n",
       "      <th>min</th>\n",
       "      <td>1.000000</td>\n",
       "      <td>0.000000</td>\n",
       "      <td>1998.000000</td>\n",
       "      <td>1.710000e+02</td>\n",
       "      <td>0.000000</td>\n",
       "      <td>0.000000</td>\n",
       "      <td>0.000000</td>\n",
       "      <td>0.000000</td>\n",
       "      <td>0.000000</td>\n",
       "      <td>0.000000</td>\n",
       "      <td>0.000000</td>\n",
       "    </tr>\n",
       "    <tr>\n",
       "      <th>25%</th>\n",
       "      <td>472.000000</td>\n",
       "      <td>2.000000</td>\n",
       "      <td>2012.000000</td>\n",
       "      <td>3.300000e+04</td>\n",
       "      <td>1.000000</td>\n",
       "      <td>0.000000</td>\n",
       "      <td>0.000000</td>\n",
       "      <td>139.000000</td>\n",
       "      <td>14.000000</td>\n",
       "      <td>75.000000</td>\n",
       "      <td>5.000000</td>\n",
       "    </tr>\n",
       "    <tr>\n",
       "      <th>50%</th>\n",
       "      <td>921.000000</td>\n",
       "      <td>4.000000</td>\n",
       "      <td>2014.000000</td>\n",
       "      <td>5.238000e+04</td>\n",
       "      <td>1.000000</td>\n",
       "      <td>1.000000</td>\n",
       "      <td>0.000000</td>\n",
       "      <td>235.000000</td>\n",
       "      <td>37.000000</td>\n",
       "      <td>252.000000</td>\n",
       "      <td>5.000000</td>\n",
       "    </tr>\n",
       "    <tr>\n",
       "      <th>75%</th>\n",
       "      <td>1314.000000</td>\n",
       "      <td>7.000000</td>\n",
       "      <td>2016.000000</td>\n",
       "      <td>7.200000e+04</td>\n",
       "      <td>4.000000</td>\n",
       "      <td>1.000000</td>\n",
       "      <td>0.000000</td>\n",
       "      <td>317.000000</td>\n",
       "      <td>74.000000</td>\n",
       "      <td>313.000000</td>\n",
       "      <td>5.000000</td>\n",
       "    </tr>\n",
       "    <tr>\n",
       "      <th>max</th>\n",
       "      <td>1875.000000</td>\n",
       "      <td>10.000000</td>\n",
       "      <td>2019.000000</td>\n",
       "      <td>6.500000e+06</td>\n",
       "      <td>4.000000</td>\n",
       "      <td>1.000000</td>\n",
       "      <td>3.000000</td>\n",
       "      <td>429.000000</td>\n",
       "      <td>145.000000</td>\n",
       "      <td>370.000000</td>\n",
       "      <td>10.000000</td>\n",
       "    </tr>\n",
       "  </tbody>\n",
       "</table>\n",
       "</div>"
      ],
      "text/plain": [
       "            nombre       ciudad          año    kilometros  combustible  \\\n",
       "count  4057.000000  4057.000000  4057.000000  4.057000e+03  4057.000000   \n",
       "mean    917.404979     4.365541  2013.646290  5.866337e+04     2.333251   \n",
       "std     530.157485     3.010784     3.043546  1.084457e+05     1.502254   \n",
       "min       1.000000     0.000000  1998.000000  1.710000e+02     0.000000   \n",
       "25%     472.000000     2.000000  2012.000000  3.300000e+04     1.000000   \n",
       "50%     921.000000     4.000000  2014.000000  5.238000e+04     1.000000   \n",
       "75%    1314.000000     7.000000  2016.000000  7.200000e+04     4.000000   \n",
       "max    1875.000000    10.000000  2019.000000  6.500000e+06     4.000000   \n",
       "\n",
       "       tipo_marchas         mano      consumo     motor_cc     potencia  \\\n",
       "count   4057.000000  4057.000000  4057.000000  4057.000000  4057.000000   \n",
       "mean       0.712842     0.329307   222.104264    50.874291   203.686221   \n",
       "std        0.452492     0.773075   109.783567    41.351198   122.113535   \n",
       "min        0.000000     0.000000     0.000000     0.000000     0.000000   \n",
       "25%        0.000000     0.000000   139.000000    14.000000    75.000000   \n",
       "50%        1.000000     0.000000   235.000000    37.000000   252.000000   \n",
       "75%        1.000000     0.000000   317.000000    74.000000   313.000000   \n",
       "max        1.000000     3.000000   429.000000   145.000000   370.000000   \n",
       "\n",
       "          asientos  \n",
       "count  4057.000000  \n",
       "mean      5.284693  \n",
       "std       0.806192  \n",
       "min       0.000000  \n",
       "25%       5.000000  \n",
       "50%       5.000000  \n",
       "75%       5.000000  \n",
       "max      10.000000  "
      ]
     },
     "execution_count": 98,
     "metadata": {},
     "output_type": "execute_result"
    }
   ],
   "source": [
    "df_train_num_rpl.describe()"
   ]
  },
  {
   "cell_type": "code",
   "execution_count": 99,
   "metadata": {},
   "outputs": [
    {
     "data": {
      "text/html": [
       "<div>\n",
       "<style scoped>\n",
       "    .dataframe tbody tr th:only-of-type {\n",
       "        vertical-align: middle;\n",
       "    }\n",
       "\n",
       "    .dataframe tbody tr th {\n",
       "        vertical-align: top;\n",
       "    }\n",
       "\n",
       "    .dataframe thead th {\n",
       "        text-align: right;\n",
       "    }\n",
       "</style>\n",
       "<table border=\"1\" class=\"dataframe\">\n",
       "  <thead>\n",
       "    <tr style=\"text-align: right;\">\n",
       "      <th></th>\n",
       "      <th>nombre</th>\n",
       "      <th>ciudad</th>\n",
       "      <th>año</th>\n",
       "      <th>kilometros</th>\n",
       "      <th>combustible</th>\n",
       "      <th>tipo_marchas</th>\n",
       "      <th>mano</th>\n",
       "      <th>consumo</th>\n",
       "      <th>motor_cc</th>\n",
       "      <th>potencia</th>\n",
       "      <th>asientos</th>\n",
       "    </tr>\n",
       "  </thead>\n",
       "  <tbody>\n",
       "    <tr>\n",
       "      <th>count</th>\n",
       "      <td>1159.000000</td>\n",
       "      <td>1159.000000</td>\n",
       "      <td>1159.000000</td>\n",
       "      <td>1159.000000</td>\n",
       "      <td>1159.000000</td>\n",
       "      <td>1159.000000</td>\n",
       "      <td>1159.000000</td>\n",
       "      <td>1159.000000</td>\n",
       "      <td>1159.000000</td>\n",
       "      <td>1159.000000</td>\n",
       "      <td>1159.000000</td>\n",
       "    </tr>\n",
       "    <tr>\n",
       "      <th>mean</th>\n",
       "      <td>890.649698</td>\n",
       "      <td>4.266609</td>\n",
       "      <td>2012.691976</td>\n",
       "      <td>59377.421915</td>\n",
       "      <td>2.376186</td>\n",
       "      <td>0.701467</td>\n",
       "      <td>0.523727</td>\n",
       "      <td>211.939603</td>\n",
       "      <td>57.542709</td>\n",
       "      <td>208.125108</td>\n",
       "      <td>5.257981</td>\n",
       "    </tr>\n",
       "    <tr>\n",
       "      <th>std</th>\n",
       "      <td>534.574990</td>\n",
       "      <td>2.926653</td>\n",
       "      <td>3.609266</td>\n",
       "      <td>35706.375000</td>\n",
       "      <td>1.508749</td>\n",
       "      <td>0.457812</td>\n",
       "      <td>0.925132</td>\n",
       "      <td>109.051555</td>\n",
       "      <td>44.922517</td>\n",
       "      <td>111.448544</td>\n",
       "      <td>0.791723</td>\n",
       "    </tr>\n",
       "    <tr>\n",
       "      <th>min</th>\n",
       "      <td>0.000000</td>\n",
       "      <td>0.000000</td>\n",
       "      <td>1998.000000</td>\n",
       "      <td>600.000000</td>\n",
       "      <td>0.000000</td>\n",
       "      <td>0.000000</td>\n",
       "      <td>0.000000</td>\n",
       "      <td>0.000000</td>\n",
       "      <td>1.000000</td>\n",
       "      <td>0.000000</td>\n",
       "      <td>2.000000</td>\n",
       "    </tr>\n",
       "    <tr>\n",
       "      <th>25%</th>\n",
       "      <td>432.500000</td>\n",
       "      <td>2.000000</td>\n",
       "      <td>2010.000000</td>\n",
       "      <td>35272.500000</td>\n",
       "      <td>1.000000</td>\n",
       "      <td>0.000000</td>\n",
       "      <td>0.000000</td>\n",
       "      <td>128.000000</td>\n",
       "      <td>14.000000</td>\n",
       "      <td>116.000000</td>\n",
       "      <td>5.000000</td>\n",
       "    </tr>\n",
       "    <tr>\n",
       "      <th>50%</th>\n",
       "      <td>921.000000</td>\n",
       "      <td>4.000000</td>\n",
       "      <td>2013.000000</td>\n",
       "      <td>55000.000000</td>\n",
       "      <td>1.000000</td>\n",
       "      <td>1.000000</td>\n",
       "      <td>0.000000</td>\n",
       "      <td>215.000000</td>\n",
       "      <td>46.000000</td>\n",
       "      <td>241.000000</td>\n",
       "      <td>5.000000</td>\n",
       "    </tr>\n",
       "    <tr>\n",
       "      <th>75%</th>\n",
       "      <td>1292.500000</td>\n",
       "      <td>7.000000</td>\n",
       "      <td>2016.000000</td>\n",
       "      <td>75000.000000</td>\n",
       "      <td>4.000000</td>\n",
       "      <td>1.000000</td>\n",
       "      <td>0.000000</td>\n",
       "      <td>291.500000</td>\n",
       "      <td>89.000000</td>\n",
       "      <td>302.000000</td>\n",
       "      <td>5.000000</td>\n",
       "    </tr>\n",
       "    <tr>\n",
       "      <th>max</th>\n",
       "      <td>1871.000000</td>\n",
       "      <td>10.000000</td>\n",
       "      <td>2019.000000</td>\n",
       "      <td>480000.000000</td>\n",
       "      <td>4.000000</td>\n",
       "      <td>1.000000</td>\n",
       "      <td>3.000000</td>\n",
       "      <td>429.000000</td>\n",
       "      <td>145.000000</td>\n",
       "      <td>369.000000</td>\n",
       "      <td>8.000000</td>\n",
       "    </tr>\n",
       "  </tbody>\n",
       "</table>\n",
       "</div>"
      ],
      "text/plain": [
       "            nombre       ciudad          año     kilometros  combustible  \\\n",
       "count  1159.000000  1159.000000  1159.000000    1159.000000  1159.000000   \n",
       "mean    890.649698     4.266609  2012.691976   59377.421915     2.376186   \n",
       "std     534.574990     2.926653     3.609266   35706.375000     1.508749   \n",
       "min       0.000000     0.000000  1998.000000     600.000000     0.000000   \n",
       "25%     432.500000     2.000000  2010.000000   35272.500000     1.000000   \n",
       "50%     921.000000     4.000000  2013.000000   55000.000000     1.000000   \n",
       "75%    1292.500000     7.000000  2016.000000   75000.000000     4.000000   \n",
       "max    1871.000000    10.000000  2019.000000  480000.000000     4.000000   \n",
       "\n",
       "       tipo_marchas         mano      consumo     motor_cc     potencia  \\\n",
       "count   1159.000000  1159.000000  1159.000000  1159.000000  1159.000000   \n",
       "mean       0.701467     0.523727   211.939603    57.542709   208.125108   \n",
       "std        0.457812     0.925132   109.051555    44.922517   111.448544   \n",
       "min        0.000000     0.000000     0.000000     1.000000     0.000000   \n",
       "25%        0.000000     0.000000   128.000000    14.000000   116.000000   \n",
       "50%        1.000000     0.000000   215.000000    46.000000   241.000000   \n",
       "75%        1.000000     0.000000   291.500000    89.000000   302.000000   \n",
       "max        1.000000     3.000000   429.000000   145.000000   369.000000   \n",
       "\n",
       "          asientos  \n",
       "count  1159.000000  \n",
       "mean      5.257981  \n",
       "std       0.791723  \n",
       "min       2.000000  \n",
       "25%       5.000000  \n",
       "50%       5.000000  \n",
       "75%       5.000000  \n",
       "max       8.000000  "
      ]
     },
     "execution_count": 99,
     "metadata": {},
     "output_type": "execute_result"
    }
   ],
   "source": [
    "df_test_num.describe()"
   ]
  },
  {
   "cell_type": "markdown",
   "metadata": {},
   "source": [
    "### Normalización de los datos"
   ]
  },
  {
   "cell_type": "code",
   "execution_count": 100,
   "metadata": {},
   "outputs": [],
   "source": [
    "from sklearn.preprocessing import MinMaxScaler, LabelEncoder\n",
    "\n",
    "cols = [col for col in df_train_orig.columns if col not in ['precio_cat','id','descuento']]  \n",
    "categorical=[\"nombre\",\"ciudad\",\"combustible\",\"tipo_marchas\",\"mano\",\"consumo\",\"motor_cc\",\"potencia\"]\n",
    "\n",
    "df_train_norm=df_train_num.copy()\n",
    "df_train_norm_rpl=df_train_num_rpl.copy()\n",
    "df_test_norm=df_test_num.copy()\n",
    "\n",
    "\n",
    "for atributo in cols:\n",
    "    data=pd.read_csv(\"data/\"+atributo+\".csv\")\n",
    "    data.columns = [col.lower() for col in data]\n",
    "    if atributo in categorical:\n",
    "        label = LabelEncoder().fit(data[atributo])\n",
    "        data[atributo]=label.transform(data[atributo])\n",
    "    scaler = MinMaxScaler().fit(data.values)\n",
    "    train_values=df_train_num[atributo].values.reshape(-1,1)\n",
    "    df_train_norm[atributo]=scaler.transform(train_values)\n",
    "    train_values_rpl=df_train_num_rpl[atributo].values.reshape(-1,1)\n",
    "    df_train_norm_rpl[atributo]=scaler.transform(train_values_rpl)\n",
    "    test_values=df_test_num[atributo].values.reshape(-1,1)\n",
    "    df_test_norm[atributo]=scaler.transform(test_values)\n",
    "    "
   ]
  },
  {
   "cell_type": "code",
   "execution_count": 101,
   "metadata": {},
   "outputs": [
    {
     "data": {
      "text/html": [
       "<div>\n",
       "<style scoped>\n",
       "    .dataframe tbody tr th:only-of-type {\n",
       "        vertical-align: middle;\n",
       "    }\n",
       "\n",
       "    .dataframe tbody tr th {\n",
       "        vertical-align: top;\n",
       "    }\n",
       "\n",
       "    .dataframe thead th {\n",
       "        text-align: right;\n",
       "    }\n",
       "</style>\n",
       "<table border=\"1\" class=\"dataframe\">\n",
       "  <thead>\n",
       "    <tr style=\"text-align: right;\">\n",
       "      <th></th>\n",
       "      <th>nombre</th>\n",
       "      <th>ciudad</th>\n",
       "      <th>año</th>\n",
       "      <th>kilometros</th>\n",
       "      <th>combustible</th>\n",
       "      <th>tipo_marchas</th>\n",
       "      <th>mano</th>\n",
       "      <th>consumo</th>\n",
       "      <th>motor_cc</th>\n",
       "      <th>potencia</th>\n",
       "      <th>asientos</th>\n",
       "    </tr>\n",
       "  </thead>\n",
       "  <tbody>\n",
       "    <tr>\n",
       "      <th>0</th>\n",
       "      <td>0.609600</td>\n",
       "      <td>0.5</td>\n",
       "      <td>0.666667</td>\n",
       "      <td>0.012743</td>\n",
       "      <td>0.25</td>\n",
       "      <td>1.0</td>\n",
       "      <td>0.0</td>\n",
       "      <td>0.822844</td>\n",
       "      <td>0.096552</td>\n",
       "      <td>0.808108</td>\n",
       "      <td>0.5</td>\n",
       "    </tr>\n",
       "    <tr>\n",
       "      <th>1</th>\n",
       "      <td>0.642133</td>\n",
       "      <td>0.7</td>\n",
       "      <td>0.857143</td>\n",
       "      <td>0.000712</td>\n",
       "      <td>1.00</td>\n",
       "      <td>1.0</td>\n",
       "      <td>0.0</td>\n",
       "      <td>0.675991</td>\n",
       "      <td>0.993103</td>\n",
       "      <td>0.754054</td>\n",
       "      <td>0.5</td>\n",
       "    </tr>\n",
       "    <tr>\n",
       "      <th>2</th>\n",
       "      <td>0.451200</td>\n",
       "      <td>0.4</td>\n",
       "      <td>0.857143</td>\n",
       "      <td>0.003974</td>\n",
       "      <td>0.25</td>\n",
       "      <td>1.0</td>\n",
       "      <td>0.0</td>\n",
       "      <td>0.878788</td>\n",
       "      <td>0.075862</td>\n",
       "      <td>0.832432</td>\n",
       "      <td>0.6</td>\n",
       "    </tr>\n",
       "    <tr>\n",
       "      <th>3</th>\n",
       "      <td>0.380800</td>\n",
       "      <td>0.3</td>\n",
       "      <td>0.714286</td>\n",
       "      <td>0.008609</td>\n",
       "      <td>1.00</td>\n",
       "      <td>1.0</td>\n",
       "      <td>0.0</td>\n",
       "      <td>0.547786</td>\n",
       "      <td>0.068966</td>\n",
       "      <td>0.843243</td>\n",
       "      <td>0.5</td>\n",
       "    </tr>\n",
       "    <tr>\n",
       "      <th>4</th>\n",
       "      <td>0.251733</td>\n",
       "      <td>0.6</td>\n",
       "      <td>0.904762</td>\n",
       "      <td>0.006432</td>\n",
       "      <td>1.00</td>\n",
       "      <td>1.0</td>\n",
       "      <td>0.0</td>\n",
       "      <td>0.564103</td>\n",
       "      <td>0.082759</td>\n",
       "      <td>0.929730</td>\n",
       "      <td>0.5</td>\n",
       "    </tr>\n",
       "  </tbody>\n",
       "</table>\n",
       "</div>"
      ],
      "text/plain": [
       "     nombre  ciudad       año  kilometros  combustible  tipo_marchas  mano  \\\n",
       "0  0.609600     0.5  0.666667    0.012743         0.25           1.0   0.0   \n",
       "1  0.642133     0.7  0.857143    0.000712         1.00           1.0   0.0   \n",
       "2  0.451200     0.4  0.857143    0.003974         0.25           1.0   0.0   \n",
       "3  0.380800     0.3  0.714286    0.008609         1.00           1.0   0.0   \n",
       "4  0.251733     0.6  0.904762    0.006432         1.00           1.0   0.0   \n",
       "\n",
       "    consumo  motor_cc  potencia  asientos  \n",
       "0  0.822844  0.096552  0.808108       0.5  \n",
       "1  0.675991  0.993103  0.754054       0.5  \n",
       "2  0.878788  0.075862  0.832432       0.6  \n",
       "3  0.547786  0.068966  0.843243       0.5  \n",
       "4  0.564103  0.082759  0.929730       0.5  "
      ]
     },
     "execution_count": 101,
     "metadata": {},
     "output_type": "execute_result"
    }
   ],
   "source": [
    "df_train_norm_rpl.head()"
   ]
  },
  {
   "cell_type": "markdown",
   "metadata": {},
   "source": [
    "## Aplicación de los algoritmos"
   ]
  },
  {
   "cell_type": "code",
   "execution_count": 102,
   "metadata": {},
   "outputs": [],
   "source": [
    "import numpy as np\n",
    "from sklearn.model_selection import cross_val_score\n",
    "\n",
    "def cross_validation(clf,x,y,mostrar=False):\n",
    "    scores=cross_val_score(clf,x,y,scoring='accuracy',cv=5)\n",
    "    accuracy=np.mean(scores)  \n",
    "    if mostrar:\n",
    "        print(\"Accuracy: \", accuracy)\n",
    "    return accuracy"
   ]
  },
  {
   "cell_type": "code",
   "execution_count": 56,
   "metadata": {},
   "outputs": [
    {
     "name": "stdout",
     "output_type": "stream",
     "text": [
      "Datos normalizados con todos nulos eliminados: \n",
      "LinearSVC(random_state=10)\n",
      "Accuracy:  0.6273405118601749\n",
      "Datos normalizados con nulos en asientos reemplazados: \n",
      "LinearSVC(random_state=10)\n",
      "Accuracy:  0.6238624698571975\n",
      "Datos normalizados con todos nulos eliminados: \n",
      "KNeighborsClassifier()\n",
      "Accuracy:  0.735815543071161\n",
      "Datos normalizados con nulos en asientos reemplazados: \n",
      "KNeighborsClassifier()\n",
      "Accuracy:  0.7197378411375605\n",
      "Datos normalizados con todos nulos eliminados: \n",
      "DecisionTreeClassifier(random_state=10)\n",
      "Accuracy:  0.743059925093633\n",
      "Datos normalizados con nulos en asientos reemplazados: \n",
      "DecisionTreeClassifier(random_state=10)\n",
      "Accuracy:  0.7406971870767101\n",
      "Datos normalizados con todos nulos eliminados: \n",
      "RandomForestClassifier(random_state=10)\n",
      "Accuracy:  0.822791822721598\n",
      "Datos normalizados con nulos en asientos reemplazados: \n",
      "RandomForestClassifier(random_state=10)\n",
      "Accuracy:  0.8225264679620732\n",
      "Datos normalizados con todos nulos eliminados: \n",
      "MLPClassifier(max_iter=10000, random_state=10)\n",
      "Accuracy:  0.6995602372034957\n",
      "Datos normalizados con nulos en asientos reemplazados: \n",
      "MLPClassifier(max_iter=10000, random_state=10)\n",
      "Accuracy:  0.7510483924851032\n"
     ]
    }
   ],
   "source": [
    "from sklearn.svm import LinearSVC\n",
    "from sklearn.neighbors import KNeighborsClassifier\n",
    "from sklearn.tree import DecisionTreeClassifier\n",
    "from sklearn.ensemble import RandomForestClassifier\n",
    "from sklearn.neural_network import MLPClassifier\n",
    "\n",
    "svc=LinearSVC(random_state=10)\n",
    "knn=KNeighborsClassifier()\n",
    "tree=DecisionTreeClassifier(random_state=10)\n",
    "forest=RandomForestClassifier(random_state=10)\n",
    "NN=MLPClassifier(random_state=10,max_iter=10000)\n",
    "\n",
    "clfs=[svc,knn,tree,forest,NN]\n",
    "\n",
    "for clf in clfs:\n",
    "    print(\"Datos normalizados con todos nulos eliminados: \")\n",
    "    print(clf)\n",
    "    cross_validation(clf, df_train_norm, df_train_obj,True)\n",
    "    print(\"Datos normalizados con nulos en asientos reemplazados: \")\n",
    "    print(clf)\n",
    "    cross_validation(clf,df_train_norm_rpl,df_train_obj_replaced,True)"
   ]
  },
  {
   "cell_type": "markdown",
   "metadata": {},
   "source": [
    "### Configuración de los parámetros"
   ]
  },
  {
   "cell_type": "markdown",
   "metadata": {},
   "source": [
    "##### Random Forest"
   ]
  },
  {
   "cell_type": "code",
   "execution_count": 57,
   "metadata": {},
   "outputs": [],
   "source": [
    "from matplotlib import pyplot as plt\n",
    "\n",
    "#Para el parámetro min_samples_split\n",
    "def tune_forest_1(max_value):\n",
    "    acc=[]\n",
    "    for i in range(2,max_value):\n",
    "        forest=RandomForestClassifier(min_samples_split=i,random_state=10)\n",
    "        acc.append(cross_validation(forest,df_train_norm,df_train_obj))\n",
    "\n",
    "    fig, ax =plt.subplots(figsize=(15,5))\n",
    "    ax.plot(range(2,max_value), acc)\n",
    "    ax.set_title('Random Forest')\n",
    "    ax.set_xlabel('Valor parámetro')\n",
    "    ax.set_ylabel('Accuracy')\n",
    "    plt.show()"
   ]
  },
  {
   "cell_type": "code",
   "execution_count": 58,
   "metadata": {},
   "outputs": [
    {
     "data": {
      "image/png": "[encoded data removed]",
      "text/plain": [
       "<Figure size 1080x360 with 1 Axes>"
      ]
     },
     "metadata": {
      "needs_background": "light"
     },
     "output_type": "display_data"
    }
   ],
   "source": [
    "tune_forest_1(200)"
   ]
  },
  {
   "cell_type": "code",
   "execution_count": 59,
   "metadata": {},
   "outputs": [
    {
     "data": {
      "image/png": "[encoded data removed]",
      "text/plain": [
       "<Figure size 1080x360 with 1 Axes>"
      ]
     },
     "metadata": {
      "needs_background": "light"
     },
     "output_type": "display_data"
    }
   ],
   "source": [
    "tune_forest_1(15)"
   ]
  },
  {
   "cell_type": "code",
   "execution_count": 60,
   "metadata": {},
   "outputs": [
    {
     "name": "stdout",
     "output_type": "stream",
     "text": [
      "Accuracy:  0.8245411985018727\n"
     ]
    },
    {
     "data": {
      "text/plain": [
       "0.8245411985018727"
      ]
     },
     "execution_count": 60,
     "metadata": {},
     "output_type": "execute_result"
    }
   ],
   "source": [
    "forest=RandomForestClassifier(min_samples_split=8,random_state=10)\n",
    "cross_validation(forest,df_train_norm,df_train_obj,True)"
   ]
  },
  {
   "cell_type": "code",
   "execution_count": 61,
   "metadata": {},
   "outputs": [],
   "source": [
    "#Para el parámetro max_depth\n",
    "def tune_forest_2(max_value):\n",
    "    acc=[]\n",
    "    for i in range(2,max_value):\n",
    "        forest=RandomForestClassifier(max_depth=i,random_state=10)\n",
    "        acc.append(cross_validation(forest,df_train_norm,df_train_obj))\n",
    "\n",
    "    fig, ax =plt.subplots(figsize=(15,5))\n",
    "    ax.plot(range(2,max_value), acc)\n",
    "    ax.set_title('Random Forest')\n",
    "    ax.set_xlabel('Valor parámetro')\n",
    "    ax.set_ylabel('Accuracy')\n",
    "    plt.show()"
   ]
  },
  {
   "cell_type": "code",
   "execution_count": 62,
   "metadata": {},
   "outputs": [
    {
     "data": {
      "image/png": "[encoded data removed]",
      "text/plain": [
       "<Figure size 1080x360 with 1 Axes>"
      ]
     },
     "metadata": {
      "needs_background": "light"
     },
     "output_type": "display_data"
    }
   ],
   "source": [
    "tune_forest_2(50)"
   ]
  },
  {
   "cell_type": "code",
   "execution_count": 104,
   "metadata": {},
   "outputs": [
    {
     "name": "stdout",
     "output_type": "stream",
     "text": [
      "Accuracy:  0.8195424469413233\n"
     ]
    },
    {
     "data": {
      "text/plain": [
       "0.8195424469413233"
      ]
     },
     "execution_count": 104,
     "metadata": {},
     "output_type": "execute_result"
    }
   ],
   "source": [
    "forest=RandomForestClassifier(max_depth=20,random_state=10)\n",
    "cross_validation(forest,df_train_norm,df_train_obj,True)"
   ]
  },
  {
   "cell_type": "code",
   "execution_count": 64,
   "metadata": {},
   "outputs": [],
   "source": [
    "#Para el parámetro max_leaf_nodes\n",
    "def tune_forest_3(max_value):\n",
    "    acc=[]\n",
    "    for i in range(2,max_value):\n",
    "        forest=RandomForestClassifier(max_leaf_nodes=i,random_state=10)\n",
    "        acc.append(cross_validation(forest,df_train_norm,df_train_obj))\n",
    "\n",
    "    fig, ax =plt.subplots(figsize=(15,5))\n",
    "    ax.plot(range(2,max_value), acc)\n",
    "    ax.set_title('Random Forest')\n",
    "    ax.set_xlabel('Valor parámetro')\n",
    "    ax.set_ylabel('Accuracy')\n",
    "    plt.show()"
   ]
  },
  {
   "cell_type": "code",
   "execution_count": 65,
   "metadata": {},
   "outputs": [
    {
     "data": {
      "image/png": "[encoded data removed]",
      "text/plain": [
       "<Figure size 1080x360 with 1 Axes>"
      ]
     },
     "metadata": {
      "needs_background": "light"
     },
     "output_type": "display_data"
    }
   ],
   "source": [
    "tune_forest_3(200)"
   ]
  },
  {
   "cell_type": "code",
   "execution_count": 106,
   "metadata": {},
   "outputs": [
    {
     "name": "stdout",
     "output_type": "stream",
     "text": [
      "Accuracy:  0.8147933832709114\n"
     ]
    },
    {
     "data": {
      "text/plain": [
       "0.8147933832709114"
      ]
     },
     "execution_count": 106,
     "metadata": {},
     "output_type": "execute_result"
    }
   ],
   "source": [
    "forest=RandomForestClassifier(max_leaf_nodes=300,random_state=10)\n",
    "cross_validation(forest,df_train_norm,df_train_obj,True)"
   ]
  },
  {
   "cell_type": "code",
   "execution_count": 66,
   "metadata": {},
   "outputs": [],
   "source": [
    "#Para el parámetro min_samples_leaf\n",
    "def tune_forest_4(max_value):\n",
    "    acc=[]\n",
    "    for i in range(2,max_value):\n",
    "        forest=RandomForestClassifier(min_samples_leaf=i,random_state=10)\n",
    "        acc.append(cross_validation(forest,df_train_norm,df_train_obj))\n",
    "\n",
    "    fig, ax =plt.subplots(figsize=(15,5))\n",
    "    ax.plot(range(2,max_value), acc)\n",
    "    ax.set_title('Random Forest')\n",
    "    ax.set_xlabel('Valor parámetro')\n",
    "    ax.set_ylabel('Accuracy')\n",
    "    plt.show()"
   ]
  },
  {
   "cell_type": "code",
   "execution_count": 67,
   "metadata": {},
   "outputs": [
    {
     "data": {
      "image/png": "[encoded data removed]",
      "text/plain": [
       "<Figure size 1080x360 with 1 Axes>"
      ]
     },
     "metadata": {
      "needs_background": "light"
     },
     "output_type": "display_data"
    }
   ],
   "source": [
    "tune_forest_4(500)"
   ]
  },
  {
   "cell_type": "code",
   "execution_count": 71,
   "metadata": {},
   "outputs": [
    {
     "data": {
      "image/png": "[encoded data removed]",
      "text/plain": [
       "<Figure size 1080x360 with 1 Axes>"
      ]
     },
     "metadata": {
      "needs_background": "light"
     },
     "output_type": "display_data"
    }
   ],
   "source": [
    "#Para el parámetro n_estimators\n",
    "def tune_forest_5(max_value):\n",
    "    acc=[]\n",
    "    for i in range(2,max_value):\n",
    "        forest=RandomForestClassifier(n_estimators=i,min_samples_split=8,random_state=10)\n",
    "        acc.append(cross_validation(forest,df_train_norm,df_train_obj))\n",
    "\n",
    "    fig, ax =plt.subplots(figsize=(15,5))\n",
    "    ax.plot(range(2,max_value), acc)\n",
    "    ax.set_title('Random Forest')\n",
    "    ax.set_xlabel('Valor parámetro')\n",
    "    ax.set_ylabel('Accuracy')\n",
    "    plt.show()\n",
    "tune_forest_5(400)"
   ]
  },
  {
   "cell_type": "code",
   "execution_count": 110,
   "metadata": {},
   "outputs": [
    {
     "name": "stdout",
     "output_type": "stream",
     "text": [
      "Número de árboles = 200\n",
      "Accuracy:  0.8240405742821473\n",
      "Número de árboles = 100\n",
      "Accuracy:  0.8245411985018727\n",
      "Número de árboles = 300\n",
      "Accuracy:  0.82429088639201\n"
     ]
    },
    {
     "data": {
      "text/plain": [
       "0.82429088639201"
      ]
     },
     "execution_count": 110,
     "metadata": {},
     "output_type": "execute_result"
    }
   ],
   "source": [
    "print(\"Número de árboles = 200\")\n",
    "forest=RandomForestClassifier(n_estimators=200,min_samples_split=8,random_state=10)\n",
    "cross_validation(forest,df_train_norm,df_train_obj,True)\n",
    "print(\"Número de árboles = 100\")\n",
    "forest=RandomForestClassifier(n_estimators=100,min_samples_split=8,random_state=10)\n",
    "cross_validation(forest,df_train_norm,df_train_obj,True)\n",
    "print(\"Número de árboles = 300\")\n",
    "forest=RandomForestClassifier(n_estimators=300,min_samples_split=8,random_state=10)\n",
    "cross_validation(forest,df_train_norm,df_train_obj,True)"
   ]
  },
  {
   "cell_type": "markdown",
   "metadata": {},
   "source": [
    "### Aplicación al conjunto de test"
   ]
  },
  {
   "cell_type": "code",
   "execution_count": 118,
   "metadata": {},
   "outputs": [],
   "source": [
    "forest=RandomForestClassifier(n_estimators=100,min_samples_split=8,random_state=10)\n",
    "forest.fit(df_train_norm,df_train_obj)\n",
    "pred=forest.predict(df_test_norm)\n",
    "ids=df_test_orig[\"id\"]\n",
    "\n",
    "df_result = pd.DataFrame({'id': ids, 'Precio_cat': pred})\n",
    "df_result.to_csv(\"resultados_2.csv\", index=False)"
   ]
  },
  {
   "cell_type": "code",
   "execution_count": 119,
   "metadata": {},
   "outputs": [
    {
     "data": {
      "text/html": [
       "<div>\n",
       "<style scoped>\n",
       "    .dataframe tbody tr th:only-of-type {\n",
       "        vertical-align: middle;\n",
       "    }\n",
       "\n",
       "    .dataframe tbody tr th {\n",
       "        vertical-align: top;\n",
       "    }\n",
       "\n",
       "    .dataframe thead th {\n",
       "        text-align: right;\n",
       "    }\n",
       "</style>\n",
       "<table border=\"1\" class=\"dataframe\">\n",
       "  <thead>\n",
       "    <tr style=\"text-align: right;\">\n",
       "      <th></th>\n",
       "      <th>id</th>\n",
       "      <th>Precio_cat</th>\n",
       "    </tr>\n",
       "  </thead>\n",
       "  <tbody>\n",
       "    <tr>\n",
       "      <th>0</th>\n",
       "      <td>4820</td>\n",
       "      <td>5</td>\n",
       "    </tr>\n",
       "    <tr>\n",
       "      <th>1</th>\n",
       "      <td>4821</td>\n",
       "      <td>2</td>\n",
       "    </tr>\n",
       "    <tr>\n",
       "      <th>2</th>\n",
       "      <td>4822</td>\n",
       "      <td>2</td>\n",
       "    </tr>\n",
       "    <tr>\n",
       "      <th>3</th>\n",
       "      <td>4823</td>\n",
       "      <td>3</td>\n",
       "    </tr>\n",
       "    <tr>\n",
       "      <th>4</th>\n",
       "      <td>4824</td>\n",
       "      <td>2</td>\n",
       "    </tr>\n",
       "  </tbody>\n",
       "</table>\n",
       "</div>"
      ],
      "text/plain": [
       "     id  Precio_cat\n",
       "0  4820           5\n",
       "1  4821           2\n",
       "2  4822           2\n",
       "3  4823           3\n",
       "4  4824           2"
      ]
     },
     "execution_count": 119,
     "metadata": {},
     "output_type": "execute_result"
    }
   ],
   "source": [
    "df_result.head()"
   ]
  }
 ],
 "metadata": {
  "kernelspec": {
   "display_name": "Python 3",
   "language": "python",
   "name": "python3"
  },
  "language_info": {
   "codemirror_mode": {
    "name": "ipython",
    "version": 3
   },
   "file_extension": ".py",
   "mimetype": "text/x-python",
   "name": "python",
   "nbconvert_exporter": "python",
   "pygments_lexer": "ipython3",
   "version": "3.8.5"
  }
 },
 "nbformat": 4,
 "nbformat_minor": 4
}
