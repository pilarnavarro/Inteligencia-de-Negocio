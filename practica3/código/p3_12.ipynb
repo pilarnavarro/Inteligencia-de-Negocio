{
 "cells": [
  {
   "cell_type": "markdown",
   "metadata": {
    "id": "xDSjZXkYB0_K"
   },
   "source": [
    "# Práctica 3 - Prueba 12\n",
    "\n",
    "#### Pilar Navarro Ramírez"
   ]
  },
  {
   "cell_type": "code",
   "execution_count": 1,
   "metadata": {
    "executionInfo": {
     "elapsed": 787,
     "status": "ok",
     "timestamp": 1609427025928,
     "user": {
      "displayName": "Pilar Navarro",
      "photoUrl": "https://lh3.googleusercontent.com/a-/AOh14GjVEQ2fcXNkztOVtwH3gYkL7MU-0jktiO2acTgy7Q=s64",
      "userId": "13653515932275687032"
     },
     "user_tz": -60
    },
    "id": "TTUQbXJNB0_W"
   },
   "outputs": [],
   "source": [
    "import pandas as pd"
   ]
  },
  {
   "cell_type": "markdown",
   "metadata": {
    "id": "sX9PCxhkB0_Y"
   },
   "source": [
    "## Preprocesamiento"
   ]
  },
  {
   "cell_type": "code",
   "execution_count": 2,
   "metadata": {
    "executionInfo": {
     "elapsed": 1300,
     "status": "ok",
     "timestamp": 1609427064323,
     "user": {
      "displayName": "Pilar Navarro",
      "photoUrl": "https://lh3.googleusercontent.com/a-/AOh14GjVEQ2fcXNkztOVtwH3gYkL7MU-0jktiO2acTgy7Q=s64",
      "userId": "13653515932275687032"
     },
     "user_tz": -60
    },
    "id": "R6Gk-aHrB0_w"
   },
   "outputs": [],
   "source": [
    "df_train=pd.read_csv(\"data/train.csv\",na_values=[\"\"])\n",
    "df_test=pd.read_csv(\"data/test.csv\",na_values=[\"\"])"
   ]
  },
  {
   "cell_type": "code",
   "execution_count": 3,
   "metadata": {
    "executionInfo": {
     "elapsed": 859,
     "status": "ok",
     "timestamp": 1609427064793,
     "user": {
      "displayName": "Pilar Navarro",
      "photoUrl": "https://lh3.googleusercontent.com/a-/AOh14GjVEQ2fcXNkztOVtwH3gYkL7MU-0jktiO2acTgy7Q=s64",
      "userId": "13653515932275687032"
     },
     "user_tz": -60
    },
    "id": "RFl-nvt_B0_x"
   },
   "outputs": [],
   "source": [
    "df_train.columns = [col.lower() for col in df_train]\n",
    "df_test.columns = [col.lower() for col in df_test]\n",
    "\n",
    "df_train_orig = df_train.copy()\n",
    "df_test_orig = df_test.copy()\n",
    "\n",
    "del df_train[\"id\"]\n",
    "del df_test[\"id\"]"
   ]
  },
  {
   "cell_type": "markdown",
   "metadata": {
    "id": "gZnFoXbmB0_z"
   },
   "source": [
    "### Tratamos los datos perdidos"
   ]
  },
  {
   "cell_type": "code",
   "execution_count": 4,
   "metadata": {
    "executionInfo": {
     "elapsed": 658,
     "status": "ok",
     "timestamp": 1609427066870,
     "user": {
      "displayName": "Pilar Navarro",
      "photoUrl": "https://lh3.googleusercontent.com/a-/AOh14GjVEQ2fcXNkztOVtwH3gYkL7MU-0jktiO2acTgy7Q=s64",
      "userId": "13653515932275687032"
     },
     "user_tz": -60
    },
    "id": "NN_I8d9mB0_1"
   },
   "outputs": [],
   "source": [
    "from sklearn import impute"
   ]
  },
  {
   "cell_type": "code",
   "execution_count": 5,
   "metadata": {
    "executionInfo": {
     "elapsed": 1140,
     "status": "ok",
     "timestamp": 1609427067371,
     "user": {
      "displayName": "Pilar Navarro",
      "photoUrl": "https://lh3.googleusercontent.com/a-/AOh14GjVEQ2fcXNkztOVtwH3gYkL7MU-0jktiO2acTgy7Q=s64",
      "userId": "13653515932275687032"
     },
     "user_tz": -60
    },
    "id": "Zxy9HpAcB0_4"
   },
   "outputs": [],
   "source": [
    "del df_train['descuento']\n",
    "del df_test['descuento']"
   ]
  },
  {
   "cell_type": "code",
   "execution_count": 6,
   "metadata": {
    "executionInfo": {
     "elapsed": 1426,
     "status": "ok",
     "timestamp": 1609427067673,
     "user": {
      "displayName": "Pilar Navarro",
      "photoUrl": "https://lh3.googleusercontent.com/a-/AOh14GjVEQ2fcXNkztOVtwH3gYkL7MU-0jktiO2acTgy7Q=s64",
      "userId": "13653515932275687032"
     },
     "user_tz": -60
    },
    "id": "Qxb2TLxqB0_5"
   },
   "outputs": [],
   "source": [
    "df_train_replaced=df_train.copy()\n",
    "imputer=impute.SimpleImputer(strategy=\"most_frequent\")\n",
    "values = imputer.fit_transform([df_train_replaced.asientos.values])\n",
    "df_train_replaced.asientos.update(pd.Series(values[0]))"
   ]
  },
  {
   "cell_type": "code",
   "execution_count": 7,
   "metadata": {
    "executionInfo": {
     "elapsed": 1414,
     "status": "ok",
     "timestamp": 1609427067674,
     "user": {
      "displayName": "Pilar Navarro",
      "photoUrl": "https://lh3.googleusercontent.com/a-/AOh14GjVEQ2fcXNkztOVtwH3gYkL7MU-0jktiO2acTgy7Q=s64",
      "userId": "13653515932275687032"
     },
     "user_tz": -60
    },
    "id": "FOZg8amEB0_8"
   },
   "outputs": [],
   "source": [
    "df_train_replaced=df_train_replaced.dropna()\n",
    "df_train=df_train.dropna()"
   ]
  },
  {
   "cell_type": "markdown",
   "metadata": {
    "id": "cI9VvNx5B0_-"
   },
   "source": [
    "Separamos el atributo a predecir del resto de atributos en el conjunto de entrenamiento."
   ]
  },
  {
   "cell_type": "code",
   "execution_count": 8,
   "metadata": {
    "executionInfo": {
     "elapsed": 1403,
     "status": "ok",
     "timestamp": 1609427067675,
     "user": {
      "displayName": "Pilar Navarro",
      "photoUrl": "https://lh3.googleusercontent.com/a-/AOh14GjVEQ2fcXNkztOVtwH3gYkL7MU-0jktiO2acTgy7Q=s64",
      "userId": "13653515932275687032"
     },
     "user_tz": -60
    },
    "id": "8IQxwKS_B1AA"
   },
   "outputs": [],
   "source": [
    "cols = [col for col in df_train.columns if col not in ['precio_cat']]    \n",
    "df_train, df_train_obj= df_train[cols], df_train['precio_cat']\n",
    "df_train_replaced, df_train_obj_replaced= df_train_replaced[cols], df_train_replaced['precio_cat']"
   ]
  },
  {
   "cell_type": "markdown",
   "metadata": {
    "id": "esLHLcbSzV50"
   },
   "source": [
    "### Nos quedamos sólo con la marca del nombre"
   ]
  },
  {
   "cell_type": "code",
   "execution_count": 9,
   "metadata": {
    "executionInfo": {
     "elapsed": 677,
     "status": "ok",
     "timestamp": 1609427073214,
     "user": {
      "displayName": "Pilar Navarro",
      "photoUrl": "https://lh3.googleusercontent.com/a-/AOh14GjVEQ2fcXNkztOVtwH3gYkL7MU-0jktiO2acTgy7Q=s64",
      "userId": "13653515932275687032"
     },
     "user_tz": -60
    },
    "id": "gZF7Nb0RzLxv"
   },
   "outputs": [],
   "source": [
    "nombre=pd.read_csv(\"data/nombre.csv\")\n",
    "nombre.columns = [col.lower() for col in nombre]\n",
    "\n",
    "#Función que se queda con la primera palabra de una cadena\n",
    "def marca(cad):\n",
    "    return cad.split(' ', 1)[0]\n",
    "nombre['nombre'] = nombre['nombre'].map(marca)\n",
    "nombre=nombre.drop_duplicates()\n",
    "df_train['nombre']=df_train['nombre'].map(marca)\n",
    "df_train_replaced['nombre']=df_train_replaced['nombre'].map(marca)\n",
    "df_test['nombre']=df_test['nombre'].map(marca)"
   ]
  },
  {
   "cell_type": "markdown",
   "metadata": {
    "id": "BrdvYqGVwkv9"
   },
   "source": [
    "## Transformación de variables categóricas a numéricas"
   ]
  },
  {
   "cell_type": "code",
   "execution_count": 10,
   "metadata": {
    "executionInfo": {
     "elapsed": 2664,
     "status": "ok",
     "timestamp": 1609427076979,
     "user": {
      "displayName": "Pilar Navarro",
      "photoUrl": "https://lh3.googleusercontent.com/a-/AOh14GjVEQ2fcXNkztOVtwH3gYkL7MU-0jktiO2acTgy7Q=s64",
      "userId": "13653515932275687032"
     },
     "user_tz": -60
    },
    "id": "xtUXRscCwqW0"
   },
   "outputs": [],
   "source": [
    "from sklearn.preprocessing import LabelEncoder\n",
    "\n",
    "categorical=[\"nombre\",\"ciudad\",\"combustible\",\"tipo_marchas\",\"mano\",\"consumo\",\"motor_cc\",\"potencia\"]\n",
    "\n",
    "df_train_num=df_train.copy()\n",
    "df_train_num_rpl=df_train_replaced.copy()\n",
    "df_test_num=df_test.copy()\n",
    "\n",
    "for atributo in categorical:\n",
    "    if atributo=='nombre':\n",
    "        data=nombre.copy()\n",
    "    else:\n",
    "        data=pd.read_csv(\"data/\"+atributo+\".csv\")\n",
    "        data.columns = [col.lower() for col in data]\n",
    "    label = LabelEncoder().fit(data[atributo])\n",
    "    df_train_num[atributo]=label.transform(df_train[atributo])\n",
    "    df_train_num_rpl[atributo]=label.transform(df_train_replaced[atributo])\n",
    "    df_test_num[atributo]=label.transform(df_test[atributo])"
   ]
  },
  {
   "cell_type": "code",
   "execution_count": 11,
   "metadata": {
    "colab": {
     "base_uri": "https://localhost:8080/"
    },
    "executionInfo": {
     "elapsed": 2641,
     "status": "ok",
     "timestamp": 1609427076980,
     "user": {
      "displayName": "Pilar Navarro",
      "photoUrl": "https://lh3.googleusercontent.com/a-/AOh14GjVEQ2fcXNkztOVtwH3gYkL7MU-0jktiO2acTgy7Q=s64",
      "userId": "13653515932275687032"
     },
     "user_tz": -60
    },
    "id": "-uxJbaIS2FwU",
    "outputId": "af1bf4d3-bab1-439f-c6e7-eed58d939bb6"
   },
   "outputs": [
    {
     "data": {
      "text/plain": [
       "array([18, 17, 10,  9,  8,  1, 19, 28,  4, 24, 27, 29, 13,  2,  6, 25, 20,\n",
       "       21, 22,  7, 23, 16, 30, 14,  5,  3, 15, 12, 11])"
      ]
     },
     "execution_count": 11,
     "metadata": {},
     "output_type": "execute_result"
    }
   ],
   "source": [
    "df_train_num['nombre'].unique()"
   ]
  },
  {
   "cell_type": "markdown",
   "metadata": {
    "id": "fcEmDN3CB1AC"
   },
   "source": [
    "### Normalización de los datos"
   ]
  },
  {
   "cell_type": "code",
   "execution_count": 12,
   "metadata": {
    "executionInfo": {
     "elapsed": 770,
     "status": "ok",
     "timestamp": 1609427086807,
     "user": {
      "displayName": "Pilar Navarro",
      "photoUrl": "https://lh3.googleusercontent.com/a-/AOh14GjVEQ2fcXNkztOVtwH3gYkL7MU-0jktiO2acTgy7Q=s64",
      "userId": "13653515932275687032"
     },
     "user_tz": -60
    },
    "id": "x2nHfzyQB1AE"
   },
   "outputs": [],
   "source": [
    "from sklearn.preprocessing import MinMaxScaler, LabelEncoder\n",
    "\n",
    "cols = [col for col in df_train_orig.columns if col not in ['precio_cat','id','descuento']]  \n",
    "categorical=[\"nombre\",\"ciudad\",\"combustible\",\"tipo_marchas\",\"mano\",\"consumo\",\"motor_cc\",\"potencia\"]\n",
    "\n",
    "df_train_norm=df_train_num.copy()\n",
    "df_train_norm_rpl=df_train_num_rpl.copy()\n",
    "df_test_norm=df_test_num.copy()\n",
    "\n",
    "\n",
    "for atributo in cols:\n",
    "    if atributo=='nombre':\n",
    "        data=nombre.copy()\n",
    "    else:\n",
    "        data=pd.read_csv(\"data/\"+atributo+\".csv\")\n",
    "        data.columns = [col.lower() for col in data]\n",
    "    if atributo in categorical:\n",
    "        label = LabelEncoder().fit(data[atributo])\n",
    "        data[atributo]=label.transform(data[atributo])\n",
    "    scaler = MinMaxScaler().fit(data.values)\n",
    "    train_values=df_train_num[atributo].values.reshape(-1,1)\n",
    "    df_train_norm[atributo]=scaler.transform(train_values)\n",
    "    train_values_rpl=df_train_num_rpl[atributo].values.reshape(-1,1)\n",
    "    df_train_norm_rpl[atributo]=scaler.transform(train_values_rpl)\n",
    "    test_values=df_test_num[atributo].values.reshape(-1,1)\n",
    "    df_test_norm[atributo]=scaler.transform(test_values)\n",
    "    "
   ]
  },
  {
   "cell_type": "code",
   "execution_count": 13,
   "metadata": {
    "colab": {
     "base_uri": "https://localhost:8080/"
    },
    "executionInfo": {
     "elapsed": 1069,
     "status": "ok",
     "timestamp": 1609427087149,
     "user": {
      "displayName": "Pilar Navarro",
      "photoUrl": "https://lh3.googleusercontent.com/a-/AOh14GjVEQ2fcXNkztOVtwH3gYkL7MU-0jktiO2acTgy7Q=s64",
      "userId": "13653515932275687032"
     },
     "user_tz": -60
    },
    "id": "Ft6EdZTD2WfY",
    "outputId": "12525898-c015-4849-b9df-2eaf7cec33ae"
   },
   "outputs": [
    {
     "data": {
      "text/plain": [
       "array([0.6       , 0.56666667, 0.33333333, 0.3       , 0.26666667,\n",
       "       0.03333333, 0.63333333, 0.93333333, 0.13333333, 0.8       ,\n",
       "       0.9       , 0.96666667, 0.43333333, 0.06666667, 0.2       ,\n",
       "       0.83333333, 0.66666667, 0.7       , 0.73333333, 0.23333333,\n",
       "       0.76666667, 0.53333333, 1.        , 0.46666667, 0.16666667,\n",
       "       0.1       , 0.5       , 0.4       , 0.36666667])"
      ]
     },
     "execution_count": 13,
     "metadata": {},
     "output_type": "execute_result"
    }
   ],
   "source": [
    "df_train_norm['nombre'].unique()"
   ]
  },
  {
   "cell_type": "code",
   "execution_count": 14,
   "metadata": {
    "colab": {
     "base_uri": "https://localhost:8080/",
     "height": 197
    },
    "executionInfo": {
     "elapsed": 1066,
     "status": "ok",
     "timestamp": 1609427087156,
     "user": {
      "displayName": "Pilar Navarro",
      "photoUrl": "https://lh3.googleusercontent.com/a-/AOh14GjVEQ2fcXNkztOVtwH3gYkL7MU-0jktiO2acTgy7Q=s64",
      "userId": "13653515932275687032"
     },
     "user_tz": -60
    },
    "id": "ElWLZdJO2ga4",
    "outputId": "096dd3a4-575e-4495-debe-57a685e0463a"
   },
   "outputs": [
    {
     "data": {
      "text/html": [
       "<div>\n",
       "<style scoped>\n",
       "    .dataframe tbody tr th:only-of-type {\n",
       "        vertical-align: middle;\n",
       "    }\n",
       "\n",
       "    .dataframe tbody tr th {\n",
       "        vertical-align: top;\n",
       "    }\n",
       "\n",
       "    .dataframe thead th {\n",
       "        text-align: right;\n",
       "    }\n",
       "</style>\n",
       "<table border=\"1\" class=\"dataframe\">\n",
       "  <thead>\n",
       "    <tr style=\"text-align: right;\">\n",
       "      <th></th>\n",
       "      <th>nombre</th>\n",
       "      <th>ciudad</th>\n",
       "      <th>año</th>\n",
       "      <th>kilometros</th>\n",
       "      <th>combustible</th>\n",
       "      <th>tipo_marchas</th>\n",
       "      <th>mano</th>\n",
       "      <th>consumo</th>\n",
       "      <th>motor_cc</th>\n",
       "      <th>potencia</th>\n",
       "      <th>asientos</th>\n",
       "    </tr>\n",
       "  </thead>\n",
       "  <tbody>\n",
       "    <tr>\n",
       "      <th>0</th>\n",
       "      <td>0.600000</td>\n",
       "      <td>0.5</td>\n",
       "      <td>0.666667</td>\n",
       "      <td>0.012743</td>\n",
       "      <td>0.25</td>\n",
       "      <td>1.0</td>\n",
       "      <td>0.0</td>\n",
       "      <td>0.822844</td>\n",
       "      <td>0.096552</td>\n",
       "      <td>0.808108</td>\n",
       "      <td>0.5</td>\n",
       "    </tr>\n",
       "    <tr>\n",
       "      <th>1</th>\n",
       "      <td>0.600000</td>\n",
       "      <td>0.7</td>\n",
       "      <td>0.857143</td>\n",
       "      <td>0.000712</td>\n",
       "      <td>1.00</td>\n",
       "      <td>1.0</td>\n",
       "      <td>0.0</td>\n",
       "      <td>0.675991</td>\n",
       "      <td>0.993103</td>\n",
       "      <td>0.754054</td>\n",
       "      <td>0.5</td>\n",
       "    </tr>\n",
       "    <tr>\n",
       "      <th>2</th>\n",
       "      <td>0.566667</td>\n",
       "      <td>0.4</td>\n",
       "      <td>0.857143</td>\n",
       "      <td>0.003974</td>\n",
       "      <td>0.25</td>\n",
       "      <td>1.0</td>\n",
       "      <td>0.0</td>\n",
       "      <td>0.878788</td>\n",
       "      <td>0.075862</td>\n",
       "      <td>0.832432</td>\n",
       "      <td>0.6</td>\n",
       "    </tr>\n",
       "    <tr>\n",
       "      <th>3</th>\n",
       "      <td>0.333333</td>\n",
       "      <td>0.3</td>\n",
       "      <td>0.714286</td>\n",
       "      <td>0.008609</td>\n",
       "      <td>1.00</td>\n",
       "      <td>1.0</td>\n",
       "      <td>0.0</td>\n",
       "      <td>0.547786</td>\n",
       "      <td>0.068966</td>\n",
       "      <td>0.843243</td>\n",
       "      <td>0.5</td>\n",
       "    </tr>\n",
       "    <tr>\n",
       "      <th>4</th>\n",
       "      <td>0.300000</td>\n",
       "      <td>0.6</td>\n",
       "      <td>0.904762</td>\n",
       "      <td>0.006432</td>\n",
       "      <td>1.00</td>\n",
       "      <td>1.0</td>\n",
       "      <td>0.0</td>\n",
       "      <td>0.564103</td>\n",
       "      <td>0.082759</td>\n",
       "      <td>0.929730</td>\n",
       "      <td>0.5</td>\n",
       "    </tr>\n",
       "  </tbody>\n",
       "</table>\n",
       "</div>"
      ],
      "text/plain": [
       "     nombre  ciudad       año  kilometros  combustible  tipo_marchas  mano  \\\n",
       "0  0.600000     0.5  0.666667    0.012743         0.25           1.0   0.0   \n",
       "1  0.600000     0.7  0.857143    0.000712         1.00           1.0   0.0   \n",
       "2  0.566667     0.4  0.857143    0.003974         0.25           1.0   0.0   \n",
       "3  0.333333     0.3  0.714286    0.008609         1.00           1.0   0.0   \n",
       "4  0.300000     0.6  0.904762    0.006432         1.00           1.0   0.0   \n",
       "\n",
       "    consumo  motor_cc  potencia  asientos  \n",
       "0  0.822844  0.096552  0.808108       0.5  \n",
       "1  0.675991  0.993103  0.754054       0.5  \n",
       "2  0.878788  0.075862  0.832432       0.6  \n",
       "3  0.547786  0.068966  0.843243       0.5  \n",
       "4  0.564103  0.082759  0.929730       0.5  "
      ]
     },
     "execution_count": 14,
     "metadata": {},
     "output_type": "execute_result"
    }
   ],
   "source": [
    "df_train_norm.head()"
   ]
  },
  {
   "cell_type": "markdown",
   "metadata": {
    "id": "228HY0uYB1AQ"
   },
   "source": [
    "### Oversampling"
   ]
  },
  {
   "cell_type": "code",
   "execution_count": 15,
   "metadata": {
    "colab": {
     "base_uri": "https://localhost:8080/"
    },
    "executionInfo": {
     "elapsed": 830,
     "status": "ok",
     "timestamp": 1609427095685,
     "user": {
      "displayName": "Pilar Navarro",
      "photoUrl": "https://lh3.googleusercontent.com/a-/AOh14GjVEQ2fcXNkztOVtwH3gYkL7MU-0jktiO2acTgy7Q=s64",
      "userId": "13653515932275687032"
     },
     "user_tz": -60
    },
    "id": "PRyR5h_ZB1AR",
    "outputId": "fdbb6df2-e086-4ee6-94d3-d73d6384eadd"
   },
   "outputs": [
    {
     "data": {
      "text/plain": [
       "Counter({3: 1825, 2: 1825, 4: 1825, 5: 1825, 1: 1825})"
      ]
     },
     "execution_count": 15,
     "metadata": {},
     "output_type": "execute_result"
    }
   ],
   "source": [
    "from imblearn.over_sampling import BorderlineSMOTE\n",
    "from collections import Counter\n",
    "smote=BorderlineSMOTE(random_state=10)\n",
    "df_train_over, df_train_obj_over = smote.fit_resample(df_train_num, df_train_obj)\n",
    "df_train_over_rpl, df_train_obj_over_rpl = smote.fit_resample(df_train_num_rpl, df_train_obj_replaced)\n",
    "Counter(df_train_obj_over)"
   ]
  },
  {
   "cell_type": "markdown",
   "metadata": {
    "id": "4uPPvTs2B1AY"
   },
   "source": [
    "## Aplicación de los algoritmos"
   ]
  },
  {
   "cell_type": "code",
   "execution_count": 16,
   "metadata": {
    "executionInfo": {
     "elapsed": 710,
     "status": "ok",
     "timestamp": 1609427104726,
     "user": {
      "displayName": "Pilar Navarro",
      "photoUrl": "https://lh3.googleusercontent.com/a-/AOh14GjVEQ2fcXNkztOVtwH3gYkL7MU-0jktiO2acTgy7Q=s64",
      "userId": "13653515932275687032"
     },
     "user_tz": -60
    },
    "id": "PoE1pWdUB1Aa"
   },
   "outputs": [],
   "source": [
    "import numpy as np\n",
    "\n",
    "from sklearn.model_selection import cross_val_score\n",
    "\n",
    "def cross_validation(clf,x,y,mostrar=False):\n",
    "    scores=cross_val_score(clf,x,y,scoring='accuracy',cv=5)\n",
    "    accuracy=np.mean(scores)  \n",
    "    if mostrar:\n",
    "        print(\"Accuracy: \", accuracy)\n",
    "    return accuracy"
   ]
  },
  {
   "cell_type": "code",
   "execution_count": null,
   "metadata": {
    "colab": {
     "base_uri": "https://localhost:8080/"
    },
    "executionInfo": {
     "elapsed": 88607,
     "status": "ok",
     "timestamp": 1609368870848,
     "user": {
      "displayName": "Pilar Navarro",
      "photoUrl": "https://lh3.googleusercontent.com/a-/AOh14GjVEQ2fcXNkztOVtwH3gYkL7MU-0jktiO2acTgy7Q=s64",
      "userId": "13653515932275687032"
     },
     "user_tz": -60
    },
    "id": "_wK5eioFB1Ac",
    "outputId": "95cae961-b6be-4c0f-b363-9eb90292c9ff"
   },
   "outputs": [
    {
     "name": "stdout",
     "output_type": "stream",
     "text": [
      "Datos normalizados con todos nulos eliminados: \n",
      "GradientBoostingClassifier(ccp_alpha=0.0, criterion='friedman_mse', init=None,\n",
      "                           learning_rate=0.1, loss='deviance', max_depth=3,\n",
      "                           max_features='auto', max_leaf_nodes=None,\n",
      "                           min_impurity_decrease=0.0, min_impurity_split=None,\n",
      "                           min_samples_leaf=1, min_samples_split=2,\n",
      "                           min_weight_fraction_leaf=0.0, n_estimators=100,\n",
      "                           n_iter_no_change=None, presort='deprecated',\n",
      "                           random_state=10, subsample=1.0, tol=0.0001,\n",
      "                           validation_fraction=0.1, verbose=0,\n",
      "                           warm_start=False)\n",
      "Accuracy:  0.8613698630136986\n",
      "Datos normalizados con nulos en asientos reemplazados: \n",
      "GradientBoostingClassifier(ccp_alpha=0.0, criterion='friedman_mse', init=None,\n",
      "                           learning_rate=0.1, loss='deviance', max_depth=3,\n",
      "                           max_features='auto', max_leaf_nodes=None,\n",
      "                           min_impurity_decrease=0.0, min_impurity_split=None,\n",
      "                           min_samples_leaf=1, min_samples_split=2,\n",
      "                           min_weight_fraction_leaf=0.0, n_estimators=100,\n",
      "                           n_iter_no_change=None, presort='deprecated',\n",
      "                           random_state=10, subsample=1.0, tol=0.0001,\n",
      "                           validation_fraction=0.1, verbose=0,\n",
      "                           warm_start=False)\n",
      "Accuracy:  0.8607758620689655\n"
     ]
    }
   ],
   "source": [
    "from sklearn.ensemble import GradientBoostingClassifier\n",
    "\n",
    "clf=GradientBoostingClassifier(random_state=10,max_features='auto')\n",
    "print(\"Datos normalizados con todos nulos eliminados: \")\n",
    "print(clf)\n",
    "cross_validation(clf, df_train_over, df_train_obj_over,True)\n",
    "print(\"Datos normalizados con nulos en asientos reemplazados: \")\n",
    "print(clf)\n",
    "cross_validation(clf, df_train_over_rpl, df_train_obj_over_rpl,True)"
   ]
  },
  {
   "cell_type": "markdown",
   "metadata": {
    "id": "cseXXU9BB1Ag"
   },
   "source": [
    "### Configuración de los parámetros"
   ]
  },
  {
   "cell_type": "markdown",
   "metadata": {
    "id": "egadxxqkB1BC"
   },
   "source": [
    "#### Gradient Boosting"
   ]
  },
  {
   "cell_type": "code",
   "execution_count": null,
   "metadata": {
    "colab": {
     "base_uri": "https://localhost:8080/"
    },
    "executionInfo": {
     "elapsed": 217101,
     "status": "ok",
     "timestamp": 1609369036349,
     "user": {
      "displayName": "Pilar Navarro",
      "photoUrl": "https://lh3.googleusercontent.com/a-/AOh14GjVEQ2fcXNkztOVtwH3gYkL7MU-0jktiO2acTgy7Q=s64",
      "userId": "13653515932275687032"
     },
     "user_tz": -60
    },
    "id": "C9-B1dhIB1BC",
    "outputId": "bc1daf47-994a-4cf2-aead-f1dcbb5261ac"
   },
   "outputs": [
    {
     "name": "stdout",
     "output_type": "stream",
     "text": [
      "Fraction of samples to be used for fitting the individual base learners = 0.8\n",
      "Accuracy:  0.8613698630136988\n",
      "Fraction of samples to be used for fitting the individual base learners = 0.6\n",
      "Accuracy:  0.8613698630136986\n",
      "Fraction of samples to be used for fitting the individual base learners = 0.9\n",
      "Accuracy:  0.8613698630136988\n",
      "Fraction of samples to be used for fitting the individual base learners = 0.7\n",
      "Accuracy:  0.8609315068493151\n",
      "Fraction of samples to be used for fitting the individual base learners = 0.5\n",
      "Accuracy:  0.8614794520547946\n"
     ]
    },
    {
     "data": {
      "text/plain": [
       "0.8614794520547946"
      ]
     },
     "execution_count": 34,
     "metadata": {
      "tags": []
     },
     "output_type": "execute_result"
    }
   ],
   "source": [
    "print(\"Fraction of samples to be used for fitting the individual base learners = 0.8\")\n",
    "gradient=GradientBoostingClassifier(random_state=10,max_features='auto',subsample=0.8)\n",
    "cross_validation(gradient, df_train_over, df_train_obj_over,True)\n",
    "print(\"Fraction of samples to be used for fitting the individual base learners = 0.6\")\n",
    "gradient=GradientBoostingClassifier(random_state=10,max_features='auto',subsample=0.6)\n",
    "cross_validation(gradient,df_train_over, df_train_obj_over,True)\n",
    "print(\"Fraction of samples to be used for fitting the individual base learners = 0.9\")\n",
    "gradient=GradientBoostingClassifier(random_state=10,max_features='auto',subsample=0.9)\n",
    "cross_validation(gradient,df_train_over, df_train_obj_over,True)\n",
    "print(\"Fraction of samples to be used for fitting the individual base learners = 0.7\")\n",
    "gradient=GradientBoostingClassifier(random_state=10,max_features='auto',subsample=0.7)\n",
    "cross_validation(gradient,df_train_over, df_train_obj_over,True)\n",
    "print(\"Fraction of samples to be used for fitting the individual base learners = 0.5\")\n",
    "gradient=GradientBoostingClassifier(random_state=10,max_features='auto',subsample=0.5)\n",
    "cross_validation(gradient,df_train_over, df_train_obj_over,True)"
   ]
  },
  {
   "cell_type": "markdown",
   "metadata": {
    "id": "SbBMGom-B1BD"
   },
   "source": [
    "Configurando el parámetro max_depth de cada estimador."
   ]
  },
  {
   "cell_type": "code",
   "execution_count": 17,
   "metadata": {
    "id": "laTNHNQQB1BD"
   },
   "outputs": [],
   "source": [
    "import matplotlib.pyplot as plt\n",
    "from sklearn.ensemble import GradientBoostingClassifier\n",
    "def tune_gradient_boosting(max_value):\n",
    "    acc=[]\n",
    "    for i in range(2,max_value):\n",
    "        gradient=GradientBoostingClassifier(max_depth=i,random_state=10,subsample=0.5)\n",
    "        print(i)\n",
    "        acc.append(cross_validation(gradient,df_train_over,df_train_obj_over,True))\n",
    "\n",
    "    fig, ax =plt.subplots(figsize=(15,5))\n",
    "    ax.plot(range(2,max_value), acc)\n",
    "    ax.set_title('Gradient Boosting')\n",
    "    ax.set_xlabel('Max depth')\n",
    "    ax.set_ylabel('Accuracy')\n",
    "    plt.show()"
   ]
  },
  {
   "cell_type": "code",
   "execution_count": 18,
   "metadata": {
    "colab": {
     "base_uri": "https://localhost:8080/",
     "height": 877
    },
    "executionInfo": {
     "elapsed": 1427942,
     "status": "error",
     "timestamp": 1609371068716,
     "user": {
      "displayName": "Pilar Navarro",
      "photoUrl": "https://lh3.googleusercontent.com/a-/AOh14GjVEQ2fcXNkztOVtwH3gYkL7MU-0jktiO2acTgy7Q=s64",
      "userId": "13653515932275687032"
     },
     "user_tz": -60
    },
    "id": "xB-uQNr5B1BE",
    "outputId": "b24a026e-932a-4616-e432-7fdb3973cdcb"
   },
   "outputs": [
    {
     "name": "stdout",
     "output_type": "stream",
     "text": [
      "2\n",
      "Accuracy:  0.8122739726027397\n",
      "3\n",
      "Accuracy:  0.8561095890410959\n",
      "4\n",
      "Accuracy:  0.8781369863013699\n",
      "5\n",
      "Accuracy:  0.8920547945205479\n",
      "6\n",
      "Accuracy:  0.8980821917808219\n",
      "7\n",
      "Accuracy:  0.8997260273972604\n",
      "8\n",
      "Accuracy:  0.9035616438356164\n",
      "9\n",
      "Accuracy:  0.9064109589041095\n",
      "10\n",
      "Accuracy:  0.9059726027397259\n",
      "11\n",
      "Accuracy:  0.9066301369863015\n",
      "12\n",
      "Accuracy:  0.9060821917808219\n",
      "13\n",
      "Accuracy:  0.9032328767123288\n",
      "14\n",
      "Accuracy:  0.9046575342465755\n",
      "15\n",
      "Accuracy:  0.9024657534246575\n",
      "16\n",
      "Accuracy:  0.9032328767123288\n",
      "17\n",
      "Accuracy:  0.9007123287671233\n",
      "18\n",
      "Accuracy:  0.9002739726027397\n",
      "19\n",
      "Accuracy:  0.9006027397260274\n"
     ]
    },
    {
     "data": {
      "image/png": "[encoded data removed]",
      "text/plain": [
       "<Figure size 1080x360 with 1 Axes>"
      ]
     },
     "metadata": {
      "needs_background": "light"
     },
     "output_type": "display_data"
    }
   ],
   "source": [
    "tune_gradient_boosting(20)"
   ]
  },
  {
   "cell_type": "markdown",
   "metadata": {
    "id": "TP8uy_DRB1BF"
   },
   "source": [
    "Configurando el número de estimadores."
   ]
  },
  {
   "cell_type": "code",
   "execution_count": 19,
   "metadata": {
    "colab": {
     "base_uri": "https://localhost:8080/",
     "height": 611
    },
    "executionInfo": {
     "elapsed": 1156241,
     "status": "error",
     "timestamp": 1609372414542,
     "user": {
      "displayName": "Pilar Navarro",
      "photoUrl": "https://lh3.googleusercontent.com/a-/AOh14GjVEQ2fcXNkztOVtwH3gYkL7MU-0jktiO2acTgy7Q=s64",
      "userId": "13653515932275687032"
     },
     "user_tz": -60
    },
    "id": "WoB83Y-cB1BF",
    "outputId": "047db397-1d34-4141-a65a-c7a396f335a4"
   },
   "outputs": [
    {
     "name": "stdout",
     "output_type": "stream",
     "text": [
      "50\n",
      "Accuracy:  0.8918356164383561\n",
      "100\n",
      "Accuracy:  0.9035616438356164\n",
      "150\n",
      "Accuracy:  0.9079452054794521\n",
      "200\n",
      "Accuracy:  0.9092602739726028\n",
      "250\n",
      "Accuracy:  0.9113424657534246\n",
      "300\n",
      "Accuracy:  0.9106849315068495\n",
      "350\n",
      "Accuracy:  0.9115616438356164\n",
      "400\n",
      "Accuracy:  0.9113424657534246\n",
      "450\n",
      "Accuracy:  0.9111232876712329\n"
     ]
    },
    {
     "data": {
      "image/png": "[encoded data removed]",
      "text/plain": [
       "<Figure size 1080x360 with 1 Axes>"
      ]
     },
     "metadata": {
      "needs_background": "light"
     },
     "output_type": "display_data"
    }
   ],
   "source": [
    "from sklearn.ensemble import GradientBoostingClassifier\n",
    "def tune_gradient_boosting_2(max_value):\n",
    "    acc=[]\n",
    "    for i in range(50,max_value,50):\n",
    "        gradient=GradientBoostingClassifier(n_estimators=i,max_depth=8,random_state=10,subsample=0.5)\n",
    "        print(i)\n",
    "        acc.append(cross_validation(gradient,df_train_over,df_train_obj_over,True))\n",
    "\n",
    "    fig, ax =plt.subplots(figsize=(15,5))\n",
    "    ax.plot(range(50,max_value,50), acc)\n",
    "    ax.set_title('Gradient Boosting')\n",
    "    ax.set_xlabel('Num estimadores')\n",
    "    ax.set_ylabel('Accuracy')\n",
    "    plt.show()\n",
    "tune_gradient_boosting_2(500) "
   ]
  },
  {
   "cell_type": "markdown",
   "metadata": {
    "id": "hAvdgjv0B1BG"
   },
   "source": [
    "Configurando el parámetro learning_rate."
   ]
  },
  {
   "cell_type": "code",
   "execution_count": null,
   "metadata": {
    "colab": {
     "background_save": true,
     "base_uri": "https://localhost:8080/"
    },
    "id": "QEqszgbvB1BG",
    "outputId": "2c1140b7-4bc1-4576-8344-0dc32e6eb96b"
   },
   "outputs": [
    {
     "name": "stdout",
     "output_type": "stream",
     "text": [
      "Learning rate=0.2\n",
      "Accuracy:  0.9088219178082191\n",
      "Learning rate=0.05\n",
      "Accuracy:  0.9107945205479453\n",
      "Learning rate=0.15\n",
      "Accuracy:  0.9102465753424657\n",
      "Learning rate=0.3\n",
      "Accuracy:  0.9039999999999999\n",
      "Learning rate=0.1\n",
      "Accuracy:  0.9117808219178082\n"
     ]
    },
    {
     "data": {
      "text/plain": [
       "0.9117808219178082"
      ]
     },
     "execution_count": 0,
     "metadata": {
      "tags": []
     },
     "output_type": "execute_result"
    }
   ],
   "source": [
    "print(\"Learning rate=0.2\")\n",
    "gradient=GradientBoostingClassifier(n_estimators=450, learning_rate=0.2, random_state=10,max_features='auto',subsample=0.5,max_depth=8)\n",
    "cross_validation(gradient,df_train_over,df_train_obj_over,True)\n",
    "print(\"Learning rate=0.05\")\n",
    "gradient=GradientBoostingClassifier(n_estimators=450, learning_rate=0.05, random_state=10,max_features='auto',subsample=0.5,max_depth=8)\n",
    "cross_validation(gradient,df_train_over,df_train_obj_over,True)\n",
    "print(\"Learning rate=0.15\")\n",
    "gradient=GradientBoostingClassifier(n_estimators=450, learning_rate=0.15, random_state=10,max_features='auto',subsample=0.5,max_depth=8)\n",
    "cross_validation(gradient,df_train_over,df_train_obj_over,True)\n",
    "print(\"Learning rate=0.3\")\n",
    "gradient=GradientBoostingClassifier(n_estimators=450, learning_rate=0.3, random_state=10,max_features='auto',subsample=0.5,max_depth=8)\n",
    "cross_validation(gradient,df_train_over,df_train_obj_over,True)\n",
    "print(\"Learning rate=0.1\")\n",
    "gradient=GradientBoostingClassifier(n_estimators=450, learning_rate=0.1, random_state=10,max_features='auto',subsample=0.5,max_depth=8)\n",
    "cross_validation(gradient,df_train_over,df_train_obj_over,True) "
   ]
  },
  {
   "cell_type": "markdown",
   "metadata": {
    "id": "7pN732bqB1BV"
   },
   "source": [
    "### Aplicación al conjunto de test"
   ]
  },
  {
   "cell_type": "markdown",
   "metadata": {
    "id": "sAwr71uHB1BV"
   },
   "source": [
    "#### Entrega 23\n"
   ]
  },
  {
   "cell_type": "code",
   "execution_count": 28,
   "metadata": {
    "colab": {
     "base_uri": "https://localhost:8080/"
    },
    "executionInfo": {
     "elapsed": 262495,
     "status": "ok",
     "timestamp": 1609427765895,
     "user": {
      "displayName": "Pilar Navarro",
      "photoUrl": "https://lh3.googleusercontent.com/a-/AOh14GjVEQ2fcXNkztOVtwH3gYkL7MU-0jktiO2acTgy7Q=s64",
      "userId": "13653515932275687032"
     },
     "user_tz": -60
    },
    "id": "botUfiKRB1BV",
    "outputId": "ca06ce6e-ebfd-4e69-8273-813cddcef358"
   },
   "outputs": [
    {
     "name": "stdout",
     "output_type": "stream",
     "text": [
      "Accuracy:  0.9117808219178082\n"
     ]
    }
   ],
   "source": [
    "gradient=GradientBoostingClassifier(n_estimators=450, learning_rate=0.1, random_state=10,max_features='auto',subsample=0.5,max_depth=8)\n",
    "cross_validation(gradient,df_train_over,df_train_obj_over,True)\n",
    "gradient.fit(df_train_over,df_train_obj_over)\n",
    "pred=gradient.predict(df_test_num)\n",
    "ids=df_test_orig[\"id\"]\n",
    "\n",
    "df_result = pd.DataFrame({'id': ids, 'Precio_cat': pred})\n",
    "df_result.to_csv(\"resultados_23.csv\", index=False)"
   ]
  }
 ],
 "metadata": {
  "colab": {
   "collapsed_sections": [
    "rP5eOplbB1Ah"
   ],
   "name": "p3_12.ipynb",
   "provenance": []
  },
  "kernelspec": {
   "display_name": "Python 3",
   "language": "python",
   "name": "python3"
  },
  "language_info": {
   "codemirror_mode": {
    "name": "ipython",
    "version": 3
   },
   "file_extension": ".py",
   "mimetype": "text/x-python",
   "name": "python",
   "nbconvert_exporter": "python",
   "pygments_lexer": "ipython3",
   "version": "3.8.5"
  }
 },
 "nbformat": 4,
 "nbformat_minor": 1
}
