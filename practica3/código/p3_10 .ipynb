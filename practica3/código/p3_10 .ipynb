{
 "cells": [
  {
   "cell_type": "markdown",
   "metadata": {
    "id": "kAl2Pfqgt7jV"
   },
   "source": [
    "# Práctica 3 - Décima prueba\n",
    "\n",
    "#### Pilar Navarro Ramírez"
   ]
  },
  {
   "cell_type": "code",
   "execution_count": 2,
   "metadata": {
    "colab": {
     "base_uri": "https://localhost:8080/"
    },
    "executionInfo": {
     "elapsed": 47942,
     "status": "ok",
     "timestamp": 1609237392857,
     "user": {
      "displayName": "Pilar Navarro",
      "photoUrl": "https://lh3.googleusercontent.com/a-/AOh14GjVEQ2fcXNkztOVtwH3gYkL7MU-0jktiO2acTgy7Q=s64",
      "userId": "13653515932275687032"
     },
     "user_tz": -60
    },
    "id": "Z2aby8a7t7jX",
    "outputId": "be7d9860-4b42-40a6-a83f-c3724e74eed7"
   },
   "outputs": [],
   "source": [
    "import pandas as pd"
   ]
  },
  {
   "cell_type": "markdown",
   "metadata": {
    "id": "ve9FJ0aYt7jY"
   },
   "source": [
    "## Preprocesamiento"
   ]
  },
  {
   "cell_type": "code",
   "execution_count": 3,
   "metadata": {
    "id": "HSkhuWhJt7jZ"
   },
   "outputs": [],
   "source": [
    "df_train=pd.read_csv(\"data/train.csv\",na_values=[\"\"])\n",
    "df_test=pd.read_csv(\"data/test.csv\",na_values=[\"\"])"
   ]
  },
  {
   "cell_type": "code",
   "execution_count": 4,
   "metadata": {
    "id": "AUgXDG4Dt7jb"
   },
   "outputs": [],
   "source": [
    "df_train.columns = [col.lower() for col in df_train]\n",
    "df_test.columns = [col.lower() for col in df_test]\n",
    "\n",
    "df_train_orig = df_train.copy()\n",
    "df_test_orig = df_test.copy()\n",
    "\n",
    "del df_train[\"id\"]\n",
    "del df_test[\"id\"]"
   ]
  },
  {
   "cell_type": "markdown",
   "metadata": {
    "id": "QP6GuJ7_t7jc"
   },
   "source": [
    "### Tratamos los datos perdidos"
   ]
  },
  {
   "cell_type": "code",
   "execution_count": 5,
   "metadata": {
    "id": "yqa3QvXjt7je"
   },
   "outputs": [],
   "source": [
    "from sklearn import impute"
   ]
  },
  {
   "cell_type": "code",
   "execution_count": 6,
   "metadata": {
    "id": "qMO612VMt7je"
   },
   "outputs": [],
   "source": [
    "del df_train['descuento']\n",
    "del df_test['descuento']"
   ]
  },
  {
   "cell_type": "code",
   "execution_count": 7,
   "metadata": {
    "id": "orpFPZzTt7jf"
   },
   "outputs": [],
   "source": [
    "df_train_replaced=df_train.copy()\n",
    "imputer=impute.SimpleImputer(strategy=\"most_frequent\")\n",
    "values = imputer.fit_transform([df_train_replaced.asientos.values])\n",
    "df_train_replaced.asientos.update(pd.Series(values[0]))"
   ]
  },
  {
   "cell_type": "code",
   "execution_count": 8,
   "metadata": {
    "id": "B5xbcN7Xt7jg"
   },
   "outputs": [],
   "source": [
    "df_train_replaced=df_train_replaced.dropna()\n",
    "df_train=df_train.dropna()"
   ]
  },
  {
   "cell_type": "markdown",
   "metadata": {
    "id": "0HETHDJct7jg"
   },
   "source": [
    "Separamos el atributo a predecir del resto de atributos en el conjunto de entrenamiento."
   ]
  },
  {
   "cell_type": "code",
   "execution_count": 9,
   "metadata": {
    "id": "PSwFypeut7jh"
   },
   "outputs": [],
   "source": [
    "cols = [col for col in df_train.columns if col not in ['precio_cat']]    \n",
    "df_train, df_train_obj= df_train[cols], df_train['precio_cat']\n",
    "df_train_replaced, df_train_obj_replaced= df_train_replaced[cols], df_train_replaced['precio_cat']"
   ]
  },
  {
   "cell_type": "markdown",
   "metadata": {
    "id": "Qv74uLNgt7jh"
   },
   "source": [
    "### Nos quedamos sólo con la marca del nombre"
   ]
  },
  {
   "cell_type": "code",
   "execution_count": 10,
   "metadata": {},
   "outputs": [
    {
     "name": "stdout",
     "output_type": "stream",
     "text": [
      "<class 'pandas.core.frame.DataFrame'>\n",
      "RangeIndex: 1876 entries, 0 to 1875\n",
      "Data columns (total 1 columns):\n",
      " #   Column  Non-Null Count  Dtype \n",
      "---  ------  --------------  ----- \n",
      " 0   Nombre  1876 non-null   object\n",
      "dtypes: object(1)\n",
      "memory usage: 14.8+ KB\n"
     ]
    }
   ],
   "source": [
    "nombre=pd.read_csv(\"data/nombre.csv\")\n",
    "nombre.info()"
   ]
  },
  {
   "cell_type": "code",
   "execution_count": 11,
   "metadata": {
    "id": "TWrX0hUxt7jh"
   },
   "outputs": [],
   "source": [
    "nombre.columns = [col.lower() for col in nombre]\n",
    "\n",
    "#Función que se queda con la primera palabra de una cadena\n",
    "def marca(cad):\n",
    "    return cad.split(' ', 1)[0]"
   ]
  },
  {
   "cell_type": "code",
   "execution_count": 12,
   "metadata": {
    "colab": {
     "base_uri": "https://localhost:8080/"
    },
    "executionInfo": {
     "elapsed": 3449,
     "status": "ok",
     "timestamp": 1609237403166,
     "user": {
      "displayName": "Pilar Navarro",
      "photoUrl": "https://lh3.googleusercontent.com/a-/AOh14GjVEQ2fcXNkztOVtwH3gYkL7MU-0jktiO2acTgy7Q=s64",
      "userId": "13653515932275687032"
     },
     "user_tz": -60
    },
    "id": "G3kDqqCkt7ji",
    "outputId": "f2181835-bed7-46f8-b24b-f99f2e12118f"
   },
   "outputs": [
    {
     "data": {
      "text/html": [
       "<div>\n",
       "<style scoped>\n",
       "    .dataframe tbody tr th:only-of-type {\n",
       "        vertical-align: middle;\n",
       "    }\n",
       "\n",
       "    .dataframe tbody tr th {\n",
       "        vertical-align: top;\n",
       "    }\n",
       "\n",
       "    .dataframe thead th {\n",
       "        text-align: right;\n",
       "    }\n",
       "</style>\n",
       "<table border=\"1\" class=\"dataframe\">\n",
       "  <thead>\n",
       "    <tr style=\"text-align: right;\">\n",
       "      <th></th>\n",
       "      <th>nombre</th>\n",
       "      <th>ciudad</th>\n",
       "      <th>año</th>\n",
       "      <th>kilometros</th>\n",
       "      <th>combustible</th>\n",
       "      <th>tipo_marchas</th>\n",
       "      <th>mano</th>\n",
       "      <th>consumo</th>\n",
       "      <th>motor_cc</th>\n",
       "      <th>potencia</th>\n",
       "      <th>asientos</th>\n",
       "    </tr>\n",
       "  </thead>\n",
       "  <tbody>\n",
       "    <tr>\n",
       "      <th>0</th>\n",
       "      <td>Maruti Swift Dzire ZDI</td>\n",
       "      <td>G</td>\n",
       "      <td>2012.0</td>\n",
       "      <td>83000.0</td>\n",
       "      <td>Diesel</td>\n",
       "      <td>Manual</td>\n",
       "      <td>First</td>\n",
       "      <td>23.4 kmpl</td>\n",
       "      <td>1248 CC</td>\n",
       "      <td>74 bhp</td>\n",
       "      <td>5.0</td>\n",
       "    </tr>\n",
       "    <tr>\n",
       "      <th>1</th>\n",
       "      <td>Maruti Wagon R LXI Optional</td>\n",
       "      <td>I</td>\n",
       "      <td>2016.0</td>\n",
       "      <td>4800.0</td>\n",
       "      <td>Petrol</td>\n",
       "      <td>Manual</td>\n",
       "      <td>First</td>\n",
       "      <td>20.51 kmpl</td>\n",
       "      <td>998 CC</td>\n",
       "      <td>67.04 bhp</td>\n",
       "      <td>5.0</td>\n",
       "    </tr>\n",
       "    <tr>\n",
       "      <th>2</th>\n",
       "      <td>Mahindra KUV 100 mFALCON D75 K8</td>\n",
       "      <td>F</td>\n",
       "      <td>2016.0</td>\n",
       "      <td>26000.0</td>\n",
       "      <td>Diesel</td>\n",
       "      <td>Manual</td>\n",
       "      <td>First</td>\n",
       "      <td>25.32 kmpl</td>\n",
       "      <td>1198 CC</td>\n",
       "      <td>77 bhp</td>\n",
       "      <td>6.0</td>\n",
       "    </tr>\n",
       "    <tr>\n",
       "      <th>3</th>\n",
       "      <td>Hyundai i20 1.2 Magna</td>\n",
       "      <td>E</td>\n",
       "      <td>2013.0</td>\n",
       "      <td>56127.0</td>\n",
       "      <td>Petrol</td>\n",
       "      <td>Manual</td>\n",
       "      <td>First</td>\n",
       "      <td>18.5 kmpl</td>\n",
       "      <td>1197 CC</td>\n",
       "      <td>80 bhp</td>\n",
       "      <td>5.0</td>\n",
       "    </tr>\n",
       "    <tr>\n",
       "      <th>4</th>\n",
       "      <td>Honda Jazz 1.2 SV i VTEC</td>\n",
       "      <td>H</td>\n",
       "      <td>2017.0</td>\n",
       "      <td>41981.0</td>\n",
       "      <td>Petrol</td>\n",
       "      <td>Manual</td>\n",
       "      <td>First</td>\n",
       "      <td>18.7 kmpl</td>\n",
       "      <td>1199 CC</td>\n",
       "      <td>88.7 bhp</td>\n",
       "      <td>5.0</td>\n",
       "    </tr>\n",
       "  </tbody>\n",
       "</table>\n",
       "</div>"
      ],
      "text/plain": [
       "                            nombre ciudad     año  kilometros combustible  \\\n",
       "0           Maruti Swift Dzire ZDI      G  2012.0     83000.0      Diesel   \n",
       "1      Maruti Wagon R LXI Optional      I  2016.0      4800.0      Petrol   \n",
       "2  Mahindra KUV 100 mFALCON D75 K8      F  2016.0     26000.0      Diesel   \n",
       "3            Hyundai i20 1.2 Magna      E  2013.0     56127.0      Petrol   \n",
       "4         Honda Jazz 1.2 SV i VTEC      H  2017.0     41981.0      Petrol   \n",
       "\n",
       "  tipo_marchas   mano     consumo motor_cc   potencia  asientos  \n",
       "0       Manual  First   23.4 kmpl  1248 CC     74 bhp       5.0  \n",
       "1       Manual  First  20.51 kmpl   998 CC  67.04 bhp       5.0  \n",
       "2       Manual  First  25.32 kmpl  1198 CC     77 bhp       6.0  \n",
       "3       Manual  First   18.5 kmpl  1197 CC     80 bhp       5.0  \n",
       "4       Manual  First   18.7 kmpl  1199 CC   88.7 bhp       5.0  "
      ]
     },
     "execution_count": 12,
     "metadata": {},
     "output_type": "execute_result"
    }
   ],
   "source": [
    "df_train.head()"
   ]
  },
  {
   "cell_type": "code",
   "execution_count": 13,
   "metadata": {
    "colab": {
     "base_uri": "https://localhost:8080/"
    },
    "executionInfo": {
     "elapsed": 3421,
     "status": "ok",
     "timestamp": 1609237403167,
     "user": {
      "displayName": "Pilar Navarro",
      "photoUrl": "https://lh3.googleusercontent.com/a-/AOh14GjVEQ2fcXNkztOVtwH3gYkL7MU-0jktiO2acTgy7Q=s64",
      "userId": "13653515932275687032"
     },
     "user_tz": -60
    },
    "id": "rQKJehVdt7ji",
    "outputId": "20718214-854e-488d-b862-bbc90d711a19"
   },
   "outputs": [
    {
     "data": {
      "text/html": [
       "<div>\n",
       "<style scoped>\n",
       "    .dataframe tbody tr th:only-of-type {\n",
       "        vertical-align: middle;\n",
       "    }\n",
       "\n",
       "    .dataframe tbody tr th {\n",
       "        vertical-align: top;\n",
       "    }\n",
       "\n",
       "    .dataframe thead th {\n",
       "        text-align: right;\n",
       "    }\n",
       "</style>\n",
       "<table border=\"1\" class=\"dataframe\">\n",
       "  <thead>\n",
       "    <tr style=\"text-align: right;\">\n",
       "      <th></th>\n",
       "      <th>nombre</th>\n",
       "    </tr>\n",
       "  </thead>\n",
       "  <tbody>\n",
       "    <tr>\n",
       "      <th>0</th>\n",
       "      <td>Ambassador Classic Nova Diesel</td>\n",
       "    </tr>\n",
       "    <tr>\n",
       "      <th>1</th>\n",
       "      <td>Audi A3 35 TDI Attraction</td>\n",
       "    </tr>\n",
       "    <tr>\n",
       "      <th>2</th>\n",
       "      <td>Audi A3 35 TDI Premium</td>\n",
       "    </tr>\n",
       "    <tr>\n",
       "      <th>3</th>\n",
       "      <td>Audi A3 35 TDI Premium Plus</td>\n",
       "    </tr>\n",
       "    <tr>\n",
       "      <th>4</th>\n",
       "      <td>Audi A3 35 TDI Technology</td>\n",
       "    </tr>\n",
       "    <tr>\n",
       "      <th>5</th>\n",
       "      <td>Audi A4 1.8 TFSI</td>\n",
       "    </tr>\n",
       "    <tr>\n",
       "      <th>6</th>\n",
       "      <td>Audi A4 1.8 TFSI Technology Edition</td>\n",
       "    </tr>\n",
       "    <tr>\n",
       "      <th>7</th>\n",
       "      <td>Audi A4 2.0 TDI</td>\n",
       "    </tr>\n",
       "    <tr>\n",
       "      <th>8</th>\n",
       "      <td>Audi A4 2.0 TDI 177 Bhp Premium Plus</td>\n",
       "    </tr>\n",
       "    <tr>\n",
       "      <th>9</th>\n",
       "      <td>Audi A4 2.0 TDI 177 Bhp Technology Edition</td>\n",
       "    </tr>\n",
       "    <tr>\n",
       "      <th>10</th>\n",
       "      <td>Audi A4 2.0 TDI Celebration Edition</td>\n",
       "    </tr>\n",
       "    <tr>\n",
       "      <th>11</th>\n",
       "      <td>Audi A4 2.0 TDI Multitronic</td>\n",
       "    </tr>\n",
       "    <tr>\n",
       "      <th>12</th>\n",
       "      <td>Audi A4 2.0 TDI Premium Sport Limited Edition</td>\n",
       "    </tr>\n",
       "    <tr>\n",
       "      <th>13</th>\n",
       "      <td>Audi A4 2.0 TFSI</td>\n",
       "    </tr>\n",
       "    <tr>\n",
       "      <th>14</th>\n",
       "      <td>Audi A4 3.0 TDI Quattro</td>\n",
       "    </tr>\n",
       "    <tr>\n",
       "      <th>15</th>\n",
       "      <td>Audi A4 3.0 TDI Quattro Premium</td>\n",
       "    </tr>\n",
       "    <tr>\n",
       "      <th>16</th>\n",
       "      <td>Audi A4 3.2 FSI Tiptronic Quattro</td>\n",
       "    </tr>\n",
       "    <tr>\n",
       "      <th>17</th>\n",
       "      <td>Audi A4 30 TFSI Premium Plus</td>\n",
       "    </tr>\n",
       "    <tr>\n",
       "      <th>18</th>\n",
       "      <td>Audi A4 35 TDI Premium</td>\n",
       "    </tr>\n",
       "    <tr>\n",
       "      <th>19</th>\n",
       "      <td>Audi A4 35 TDI Premium Plus</td>\n",
       "    </tr>\n",
       "    <tr>\n",
       "      <th>20</th>\n",
       "      <td>Audi A4 35 TDI Premium Sport</td>\n",
       "    </tr>\n",
       "    <tr>\n",
       "      <th>21</th>\n",
       "      <td>Audi A4 35 TDI Technology</td>\n",
       "    </tr>\n",
       "    <tr>\n",
       "      <th>22</th>\n",
       "      <td>Audi A4 35 TDI Technology Edition</td>\n",
       "    </tr>\n",
       "    <tr>\n",
       "      <th>23</th>\n",
       "      <td>Audi A4 New 2.0 TDI Multitronic</td>\n",
       "    </tr>\n",
       "    <tr>\n",
       "      <th>24</th>\n",
       "      <td>Audi A6 2.0 TDI Design Edition</td>\n",
       "    </tr>\n",
       "    <tr>\n",
       "      <th>25</th>\n",
       "      <td>Audi A6 2.7 TDI</td>\n",
       "    </tr>\n",
       "    <tr>\n",
       "      <th>26</th>\n",
       "      <td>Audi A6 2.8 FSI</td>\n",
       "    </tr>\n",
       "    <tr>\n",
       "      <th>27</th>\n",
       "      <td>Audi A6 2011-2015 2.0 TDI</td>\n",
       "    </tr>\n",
       "    <tr>\n",
       "      <th>28</th>\n",
       "      <td>Audi A6 2011-2015 2.0 TDI Premium Plus</td>\n",
       "    </tr>\n",
       "    <tr>\n",
       "      <th>29</th>\n",
       "      <td>Audi A6 2011-2015 2.0 TDI Technology</td>\n",
       "    </tr>\n",
       "  </tbody>\n",
       "</table>\n",
       "</div>"
      ],
      "text/plain": [
       "                                           nombre\n",
       "0                  Ambassador Classic Nova Diesel\n",
       "1                       Audi A3 35 TDI Attraction\n",
       "2                          Audi A3 35 TDI Premium\n",
       "3                     Audi A3 35 TDI Premium Plus\n",
       "4                       Audi A3 35 TDI Technology\n",
       "5                                Audi A4 1.8 TFSI\n",
       "6             Audi A4 1.8 TFSI Technology Edition\n",
       "7                                 Audi A4 2.0 TDI\n",
       "8            Audi A4 2.0 TDI 177 Bhp Premium Plus\n",
       "9      Audi A4 2.0 TDI 177 Bhp Technology Edition\n",
       "10            Audi A4 2.0 TDI Celebration Edition\n",
       "11                    Audi A4 2.0 TDI Multitronic\n",
       "12  Audi A4 2.0 TDI Premium Sport Limited Edition\n",
       "13                               Audi A4 2.0 TFSI\n",
       "14                        Audi A4 3.0 TDI Quattro\n",
       "15                Audi A4 3.0 TDI Quattro Premium\n",
       "16              Audi A4 3.2 FSI Tiptronic Quattro\n",
       "17                   Audi A4 30 TFSI Premium Plus\n",
       "18                         Audi A4 35 TDI Premium\n",
       "19                    Audi A4 35 TDI Premium Plus\n",
       "20                   Audi A4 35 TDI Premium Sport\n",
       "21                      Audi A4 35 TDI Technology\n",
       "22              Audi A4 35 TDI Technology Edition\n",
       "23                Audi A4 New 2.0 TDI Multitronic\n",
       "24                 Audi A6 2.0 TDI Design Edition\n",
       "25                                Audi A6 2.7 TDI\n",
       "26                                Audi A6 2.8 FSI\n",
       "27                      Audi A6 2011-2015 2.0 TDI\n",
       "28         Audi A6 2011-2015 2.0 TDI Premium Plus\n",
       "29           Audi A6 2011-2015 2.0 TDI Technology"
      ]
     },
     "execution_count": 13,
     "metadata": {},
     "output_type": "execute_result"
    }
   ],
   "source": [
    "nombre.head(30)"
   ]
  },
  {
   "cell_type": "code",
   "execution_count": 14,
   "metadata": {
    "colab": {
     "base_uri": "https://localhost:8080/"
    },
    "executionInfo": {
     "elapsed": 3404,
     "status": "ok",
     "timestamp": 1609237403168,
     "user": {
      "displayName": "Pilar Navarro",
      "photoUrl": "https://lh3.googleusercontent.com/a-/AOh14GjVEQ2fcXNkztOVtwH3gYkL7MU-0jktiO2acTgy7Q=s64",
      "userId": "13653515932275687032"
     },
     "user_tz": -60
    },
    "id": "yCaNxgr1t7jj",
    "outputId": "cd396d04-30b1-40b3-812f-2d85ff6cac1a"
   },
   "outputs": [
    {
     "name": "stdout",
     "output_type": "stream",
     "text": [
      "<class 'pandas.core.frame.DataFrame'>\n",
      "RangeIndex: 1876 entries, 0 to 1875\n",
      "Data columns (total 1 columns):\n",
      " #   Column  Non-Null Count  Dtype \n",
      "---  ------  --------------  ----- \n",
      " 0   nombre  1876 non-null   object\n",
      "dtypes: object(1)\n",
      "memory usage: 14.8+ KB\n"
     ]
    }
   ],
   "source": [
    "nombre.info()"
   ]
  },
  {
   "cell_type": "markdown",
   "metadata": {
    "id": "AqrdiijRt7jj"
   },
   "source": [
    "### Normalización de los datos numéricos"
   ]
  },
  {
   "cell_type": "code",
   "execution_count": 15,
   "metadata": {
    "id": "QnJlXMstt7jk"
   },
   "outputs": [],
   "source": [
    "from sklearn.preprocessing import MinMaxScaler\n",
    "\n",
    "exc=[\"nombre\",\"ciudad\",\"combustible\",\"tipo_marchas\",\"mano\",\"consumo\",\"motor_cc\",\"potencia\",'precio_cat','id','descuento']\n",
    "cols = [col for col in df_train_orig.columns if col not in exc]  \n",
    "\n",
    "\n",
    "df_train_norm=df_train.copy()\n",
    "df_train_norm_rpl=df_train_replaced.copy()\n",
    "df_test_norm=df_test.copy()\n",
    "\n",
    "\n",
    "for atributo in cols:\n",
    "    data=pd.read_csv(\"data/\"+atributo+\".csv\")\n",
    "    data.columns = [col.lower() for col in data]\n",
    "    scaler = MinMaxScaler().fit(data.values)\n",
    "    train_values=df_train[atributo].values.reshape(-1,1)\n",
    "    df_train_norm[atributo]=scaler.transform(train_values)\n",
    "    train_values_rpl=df_train_replaced[atributo].values.reshape(-1,1)\n",
    "    df_train_norm_rpl[atributo]=scaler.transform(train_values_rpl)\n",
    "    test_values=df_test[atributo].values.reshape(-1,1)\n",
    "    df_test_norm[atributo]=scaler.transform(test_values)\n",
    "    "
   ]
  },
  {
   "cell_type": "markdown",
   "metadata": {
    "id": "cFt-2Qept7jk"
   },
   "source": [
    "### 'Transformación' de variables categóricas a binarias"
   ]
  },
  {
   "cell_type": "code",
   "execution_count": 16,
   "metadata": {
    "id": "ZeTzwyIpt7jl"
   },
   "outputs": [],
   "source": [
    "from sklearn.preprocessing import OneHotEncoder\n",
    "import numpy as np\n",
    "\n",
    "categorical=[\"nombre\",\"ciudad\",\"combustible\",\"tipo_marchas\",\"mano\",\"consumo\",\"motor_cc\",\"potencia\"]\n",
    "cols = [col for col in df_train.columns if col not in categorical]    \n",
    "\n",
    "df_train_num=df_train_norm.copy()\n",
    "df_train_num_rpl=df_train_norm_rpl.copy()\n",
    "df_test_num=df_test_norm.copy()\n",
    "\n",
    "df_train_num=np.array(df_train_num[cols])\n",
    "df_train_num_rpl=np.array(df_train_num_rpl[cols])\n",
    "df_test_num=np.array(df_test_num[cols])\n",
    "\n",
    "for atributo in categorical:\n",
    "    if atributo=='nombre':\n",
    "        data=nombre.copy()\n",
    "    else:\n",
    "        data=pd.read_csv(\"data/\"+atributo+\".csv\")\n",
    "        data.columns = [col.lower() for col in data]\n",
    "    enc = OneHotEncoder().fit(data[atributo].values.reshape(-1,1))\n",
    "\n",
    "    #Conjunto de entrenamiento con ambos preprocesamientos\n",
    "    enc_train=enc.transform(df_train[atributo].values.reshape(-1,1)).toarray()        \n",
    "    df_train_num=np.hstack((df_train_num,enc_train))\n",
    "    \n",
    "    enc_train_rpl=enc.transform(df_train_replaced[atributo].values.reshape(-1,1)).toarray()\n",
    "    df_train_num_rpl=np.hstack((df_train_num_rpl,enc_train_rpl))\n",
    "\n",
    "    \n",
    "    #Conjunto de test\n",
    "    enc_test=enc.transform(df_test[atributo].values.reshape(-1,1)).toarray()\n",
    "    df_test_num=np.hstack((df_test_num,enc_test))\n",
    "                          \n",
    "df_train_num=pd.DataFrame(df_train_num)\n",
    "df_train_num_rpl=pd.DataFrame(df_train_num_rpl)\n",
    "df_test_num=pd.DataFrame(df_test_num)"
   ]
  },
  {
   "cell_type": "markdown",
   "metadata": {
    "id": "435uFinGt7jm"
   },
   "source": [
    "Eliminamos las columnas que son todo nula."
   ]
  },
  {
   "cell_type": "code",
   "execution_count": 17,
   "metadata": {
    "id": "eFJrpKflt7jm"
   },
   "outputs": [],
   "source": [
    "cols = [col for col in df_train_num.columns if df_train_num[col].max()!=0.0]\n",
    "df_train_num=df_train_num[cols]\n",
    "df_test_num=df_test_num[cols]\n",
    "df_train_num_rpl=df_train_num_rpl[cols]"
   ]
  },
  {
   "cell_type": "code",
   "execution_count": 18,
   "metadata": {
    "colab": {
     "base_uri": "https://localhost:8080/"
    },
    "executionInfo": {
     "elapsed": 8572,
     "status": "ok",
     "timestamp": 1609237408382,
     "user": {
      "displayName": "Pilar Navarro",
      "photoUrl": "https://lh3.googleusercontent.com/a-/AOh14GjVEQ2fcXNkztOVtwH3gYkL7MU-0jktiO2acTgy7Q=s64",
      "userId": "13653515932275687032"
     },
     "user_tz": -60
    },
    "id": "cSO2xh7Zt7jm",
    "outputId": "36d8d2b4-a23e-4c25-ddea-958f975bbcaf"
   },
   "outputs": [
    {
     "data": {
      "text/html": [
       "<div>\n",
       "<style scoped>\n",
       "    .dataframe tbody tr th:only-of-type {\n",
       "        vertical-align: middle;\n",
       "    }\n",
       "\n",
       "    .dataframe tbody tr th {\n",
       "        vertical-align: top;\n",
       "    }\n",
       "\n",
       "    .dataframe thead th {\n",
       "        text-align: right;\n",
       "    }\n",
       "</style>\n",
       "<table border=\"1\" class=\"dataframe\">\n",
       "  <thead>\n",
       "    <tr style=\"text-align: right;\">\n",
       "      <th></th>\n",
       "      <th>0</th>\n",
       "      <th>1</th>\n",
       "      <th>2</th>\n",
       "      <th>5</th>\n",
       "      <th>6</th>\n",
       "      <th>7</th>\n",
       "      <th>8</th>\n",
       "      <th>9</th>\n",
       "      <th>10</th>\n",
       "      <th>11</th>\n",
       "      <th>...</th>\n",
       "      <th>2838</th>\n",
       "      <th>2839</th>\n",
       "      <th>2840</th>\n",
       "      <th>2841</th>\n",
       "      <th>2842</th>\n",
       "      <th>2843</th>\n",
       "      <th>2844</th>\n",
       "      <th>2845</th>\n",
       "      <th>2846</th>\n",
       "      <th>2847</th>\n",
       "    </tr>\n",
       "  </thead>\n",
       "  <tbody>\n",
       "    <tr>\n",
       "      <th>count</th>\n",
       "      <td>4001.000000</td>\n",
       "      <td>4001.000000</td>\n",
       "      <td>4001.000000</td>\n",
       "      <td>4001.000000</td>\n",
       "      <td>4001.000000</td>\n",
       "      <td>4001.000000</td>\n",
       "      <td>4001.000000</td>\n",
       "      <td>4001.000000</td>\n",
       "      <td>4001.000000</td>\n",
       "      <td>4001.000000</td>\n",
       "      <td>...</td>\n",
       "      <td>4001.000000</td>\n",
       "      <td>4001.000000</td>\n",
       "      <td>4001.000000</td>\n",
       "      <td>4001.000000</td>\n",
       "      <td>4001.000000</td>\n",
       "      <td>4001.000000</td>\n",
       "      <td>4001.000000</td>\n",
       "      <td>4001.000000</td>\n",
       "      <td>4001.000000</td>\n",
       "      <td>4001.000000</td>\n",
       "    </tr>\n",
       "    <tr>\n",
       "      <th>mean</th>\n",
       "      <td>0.745302</td>\n",
       "      <td>0.009001</td>\n",
       "      <td>0.529468</td>\n",
       "      <td>0.000250</td>\n",
       "      <td>0.000250</td>\n",
       "      <td>0.000250</td>\n",
       "      <td>0.000250</td>\n",
       "      <td>0.000250</td>\n",
       "      <td>0.003249</td>\n",
       "      <td>0.002999</td>\n",
       "      <td>...</td>\n",
       "      <td>0.000250</td>\n",
       "      <td>0.000500</td>\n",
       "      <td>0.000750</td>\n",
       "      <td>0.002999</td>\n",
       "      <td>0.026243</td>\n",
       "      <td>0.000250</td>\n",
       "      <td>0.000500</td>\n",
       "      <td>0.001500</td>\n",
       "      <td>0.002749</td>\n",
       "      <td>0.001000</td>\n",
       "    </tr>\n",
       "    <tr>\n",
       "      <th>std</th>\n",
       "      <td>0.145271</td>\n",
       "      <td>0.016793</td>\n",
       "      <td>0.081295</td>\n",
       "      <td>0.015809</td>\n",
       "      <td>0.015809</td>\n",
       "      <td>0.015809</td>\n",
       "      <td>0.015809</td>\n",
       "      <td>0.015809</td>\n",
       "      <td>0.056916</td>\n",
       "      <td>0.054690</td>\n",
       "      <td>...</td>\n",
       "      <td>0.015809</td>\n",
       "      <td>0.022355</td>\n",
       "      <td>0.027376</td>\n",
       "      <td>0.054690</td>\n",
       "      <td>0.159878</td>\n",
       "      <td>0.015809</td>\n",
       "      <td>0.022355</td>\n",
       "      <td>0.038701</td>\n",
       "      <td>0.052368</td>\n",
       "      <td>0.031607</td>\n",
       "    </tr>\n",
       "    <tr>\n",
       "      <th>min</th>\n",
       "      <td>0.000000</td>\n",
       "      <td>0.000000</td>\n",
       "      <td>0.200000</td>\n",
       "      <td>0.000000</td>\n",
       "      <td>0.000000</td>\n",
       "      <td>0.000000</td>\n",
       "      <td>0.000000</td>\n",
       "      <td>0.000000</td>\n",
       "      <td>0.000000</td>\n",
       "      <td>0.000000</td>\n",
       "      <td>...</td>\n",
       "      <td>0.000000</td>\n",
       "      <td>0.000000</td>\n",
       "      <td>0.000000</td>\n",
       "      <td>0.000000</td>\n",
       "      <td>0.000000</td>\n",
       "      <td>0.000000</td>\n",
       "      <td>0.000000</td>\n",
       "      <td>0.000000</td>\n",
       "      <td>0.000000</td>\n",
       "      <td>0.000000</td>\n",
       "    </tr>\n",
       "    <tr>\n",
       "      <th>25%</th>\n",
       "      <td>0.666667</td>\n",
       "      <td>0.005051</td>\n",
       "      <td>0.500000</td>\n",
       "      <td>0.000000</td>\n",
       "      <td>0.000000</td>\n",
       "      <td>0.000000</td>\n",
       "      <td>0.000000</td>\n",
       "      <td>0.000000</td>\n",
       "      <td>0.000000</td>\n",
       "      <td>0.000000</td>\n",
       "      <td>...</td>\n",
       "      <td>0.000000</td>\n",
       "      <td>0.000000</td>\n",
       "      <td>0.000000</td>\n",
       "      <td>0.000000</td>\n",
       "      <td>0.000000</td>\n",
       "      <td>0.000000</td>\n",
       "      <td>0.000000</td>\n",
       "      <td>0.000000</td>\n",
       "      <td>0.000000</td>\n",
       "      <td>0.000000</td>\n",
       "    </tr>\n",
       "    <tr>\n",
       "      <th>50%</th>\n",
       "      <td>0.761905</td>\n",
       "      <td>0.008011</td>\n",
       "      <td>0.500000</td>\n",
       "      <td>0.000000</td>\n",
       "      <td>0.000000</td>\n",
       "      <td>0.000000</td>\n",
       "      <td>0.000000</td>\n",
       "      <td>0.000000</td>\n",
       "      <td>0.000000</td>\n",
       "      <td>0.000000</td>\n",
       "      <td>...</td>\n",
       "      <td>0.000000</td>\n",
       "      <td>0.000000</td>\n",
       "      <td>0.000000</td>\n",
       "      <td>0.000000</td>\n",
       "      <td>0.000000</td>\n",
       "      <td>0.000000</td>\n",
       "      <td>0.000000</td>\n",
       "      <td>0.000000</td>\n",
       "      <td>0.000000</td>\n",
       "      <td>0.000000</td>\n",
       "    </tr>\n",
       "    <tr>\n",
       "      <th>75%</th>\n",
       "      <td>0.857143</td>\n",
       "      <td>0.011051</td>\n",
       "      <td>0.500000</td>\n",
       "      <td>0.000000</td>\n",
       "      <td>0.000000</td>\n",
       "      <td>0.000000</td>\n",
       "      <td>0.000000</td>\n",
       "      <td>0.000000</td>\n",
       "      <td>0.000000</td>\n",
       "      <td>0.000000</td>\n",
       "      <td>...</td>\n",
       "      <td>0.000000</td>\n",
       "      <td>0.000000</td>\n",
       "      <td>0.000000</td>\n",
       "      <td>0.000000</td>\n",
       "      <td>0.000000</td>\n",
       "      <td>0.000000</td>\n",
       "      <td>0.000000</td>\n",
       "      <td>0.000000</td>\n",
       "      <td>0.000000</td>\n",
       "      <td>0.000000</td>\n",
       "    </tr>\n",
       "    <tr>\n",
       "      <th>max</th>\n",
       "      <td>1.000000</td>\n",
       "      <td>1.000000</td>\n",
       "      <td>1.000000</td>\n",
       "      <td>1.000000</td>\n",
       "      <td>1.000000</td>\n",
       "      <td>1.000000</td>\n",
       "      <td>1.000000</td>\n",
       "      <td>1.000000</td>\n",
       "      <td>1.000000</td>\n",
       "      <td>1.000000</td>\n",
       "      <td>...</td>\n",
       "      <td>1.000000</td>\n",
       "      <td>1.000000</td>\n",
       "      <td>1.000000</td>\n",
       "      <td>1.000000</td>\n",
       "      <td>1.000000</td>\n",
       "      <td>1.000000</td>\n",
       "      <td>1.000000</td>\n",
       "      <td>1.000000</td>\n",
       "      <td>1.000000</td>\n",
       "      <td>1.000000</td>\n",
       "    </tr>\n",
       "  </tbody>\n",
       "</table>\n",
       "<p>8 rows × 2387 columns</p>\n",
       "</div>"
      ],
      "text/plain": [
       "              0            1            2            5            6     \\\n",
       "count  4001.000000  4001.000000  4001.000000  4001.000000  4001.000000   \n",
       "mean      0.745302     0.009001     0.529468     0.000250     0.000250   \n",
       "std       0.145271     0.016793     0.081295     0.015809     0.015809   \n",
       "min       0.000000     0.000000     0.200000     0.000000     0.000000   \n",
       "25%       0.666667     0.005051     0.500000     0.000000     0.000000   \n",
       "50%       0.761905     0.008011     0.500000     0.000000     0.000000   \n",
       "75%       0.857143     0.011051     0.500000     0.000000     0.000000   \n",
       "max       1.000000     1.000000     1.000000     1.000000     1.000000   \n",
       "\n",
       "              7            8            9            10           11    ...  \\\n",
       "count  4001.000000  4001.000000  4001.000000  4001.000000  4001.000000  ...   \n",
       "mean      0.000250     0.000250     0.000250     0.003249     0.002999  ...   \n",
       "std       0.015809     0.015809     0.015809     0.056916     0.054690  ...   \n",
       "min       0.000000     0.000000     0.000000     0.000000     0.000000  ...   \n",
       "25%       0.000000     0.000000     0.000000     0.000000     0.000000  ...   \n",
       "50%       0.000000     0.000000     0.000000     0.000000     0.000000  ...   \n",
       "75%       0.000000     0.000000     0.000000     0.000000     0.000000  ...   \n",
       "max       1.000000     1.000000     1.000000     1.000000     1.000000  ...   \n",
       "\n",
       "              2838         2839         2840         2841         2842  \\\n",
       "count  4001.000000  4001.000000  4001.000000  4001.000000  4001.000000   \n",
       "mean      0.000250     0.000500     0.000750     0.002999     0.026243   \n",
       "std       0.015809     0.022355     0.027376     0.054690     0.159878   \n",
       "min       0.000000     0.000000     0.000000     0.000000     0.000000   \n",
       "25%       0.000000     0.000000     0.000000     0.000000     0.000000   \n",
       "50%       0.000000     0.000000     0.000000     0.000000     0.000000   \n",
       "75%       0.000000     0.000000     0.000000     0.000000     0.000000   \n",
       "max       1.000000     1.000000     1.000000     1.000000     1.000000   \n",
       "\n",
       "              2843         2844         2845         2846         2847  \n",
       "count  4001.000000  4001.000000  4001.000000  4001.000000  4001.000000  \n",
       "mean      0.000250     0.000500     0.001500     0.002749     0.001000  \n",
       "std       0.015809     0.022355     0.038701     0.052368     0.031607  \n",
       "min       0.000000     0.000000     0.000000     0.000000     0.000000  \n",
       "25%       0.000000     0.000000     0.000000     0.000000     0.000000  \n",
       "50%       0.000000     0.000000     0.000000     0.000000     0.000000  \n",
       "75%       0.000000     0.000000     0.000000     0.000000     0.000000  \n",
       "max       1.000000     1.000000     1.000000     1.000000     1.000000  \n",
       "\n",
       "[8 rows x 2387 columns]"
      ]
     },
     "execution_count": 18,
     "metadata": {},
     "output_type": "execute_result"
    }
   ],
   "source": [
    "df_train_num.describe()"
   ]
  },
  {
   "cell_type": "code",
   "execution_count": 19,
   "metadata": {
    "colab": {
     "base_uri": "https://localhost:8080/"
    },
    "executionInfo": {
     "elapsed": 10447,
     "status": "ok",
     "timestamp": 1609237410274,
     "user": {
      "displayName": "Pilar Navarro",
      "photoUrl": "https://lh3.googleusercontent.com/a-/AOh14GjVEQ2fcXNkztOVtwH3gYkL7MU-0jktiO2acTgy7Q=s64",
      "userId": "13653515932275687032"
     },
     "user_tz": -60
    },
    "id": "9uGnTHB6t7jn",
    "outputId": "1612b961-90de-4a31-96e1-5aa2343b6fcc"
   },
   "outputs": [
    {
     "data": {
      "text/html": [
       "<div>\n",
       "<style scoped>\n",
       "    .dataframe tbody tr th:only-of-type {\n",
       "        vertical-align: middle;\n",
       "    }\n",
       "\n",
       "    .dataframe tbody tr th {\n",
       "        vertical-align: top;\n",
       "    }\n",
       "\n",
       "    .dataframe thead th {\n",
       "        text-align: right;\n",
       "    }\n",
       "</style>\n",
       "<table border=\"1\" class=\"dataframe\">\n",
       "  <thead>\n",
       "    <tr style=\"text-align: right;\">\n",
       "      <th></th>\n",
       "      <th>0</th>\n",
       "      <th>1</th>\n",
       "      <th>2</th>\n",
       "      <th>5</th>\n",
       "      <th>6</th>\n",
       "      <th>7</th>\n",
       "      <th>8</th>\n",
       "      <th>9</th>\n",
       "      <th>10</th>\n",
       "      <th>11</th>\n",
       "      <th>...</th>\n",
       "      <th>2838</th>\n",
       "      <th>2839</th>\n",
       "      <th>2840</th>\n",
       "      <th>2841</th>\n",
       "      <th>2842</th>\n",
       "      <th>2843</th>\n",
       "      <th>2844</th>\n",
       "      <th>2845</th>\n",
       "      <th>2846</th>\n",
       "      <th>2847</th>\n",
       "    </tr>\n",
       "  </thead>\n",
       "  <tbody>\n",
       "    <tr>\n",
       "      <th>count</th>\n",
       "      <td>1159.000000</td>\n",
       "      <td>1159.000000</td>\n",
       "      <td>1159.000000</td>\n",
       "      <td>1159.0</td>\n",
       "      <td>1159.0</td>\n",
       "      <td>1159.0</td>\n",
       "      <td>1159.000000</td>\n",
       "      <td>1159.0</td>\n",
       "      <td>1159.000000</td>\n",
       "      <td>1159.000000</td>\n",
       "      <td>...</td>\n",
       "      <td>1159.0</td>\n",
       "      <td>1159.000000</td>\n",
       "      <td>1159.000000</td>\n",
       "      <td>1159.000000</td>\n",
       "      <td>1159.000000</td>\n",
       "      <td>1159.0</td>\n",
       "      <td>1159.0</td>\n",
       "      <td>1159.000000</td>\n",
       "      <td>1159.000000</td>\n",
       "      <td>1159.0</td>\n",
       "    </tr>\n",
       "    <tr>\n",
       "      <th>mean</th>\n",
       "      <td>0.699618</td>\n",
       "      <td>0.009109</td>\n",
       "      <td>0.525798</td>\n",
       "      <td>0.0</td>\n",
       "      <td>0.0</td>\n",
       "      <td>0.0</td>\n",
       "      <td>0.000863</td>\n",
       "      <td>0.0</td>\n",
       "      <td>0.001726</td>\n",
       "      <td>0.002588</td>\n",
       "      <td>...</td>\n",
       "      <td>0.0</td>\n",
       "      <td>0.000863</td>\n",
       "      <td>0.000863</td>\n",
       "      <td>0.000863</td>\n",
       "      <td>0.009491</td>\n",
       "      <td>0.0</td>\n",
       "      <td>0.0</td>\n",
       "      <td>0.002588</td>\n",
       "      <td>0.005177</td>\n",
       "      <td>0.0</td>\n",
       "    </tr>\n",
       "    <tr>\n",
       "      <th>std</th>\n",
       "      <td>0.171870</td>\n",
       "      <td>0.005493</td>\n",
       "      <td>0.079172</td>\n",
       "      <td>0.0</td>\n",
       "      <td>0.0</td>\n",
       "      <td>0.0</td>\n",
       "      <td>0.029374</td>\n",
       "      <td>0.0</td>\n",
       "      <td>0.041523</td>\n",
       "      <td>0.050833</td>\n",
       "      <td>...</td>\n",
       "      <td>0.0</td>\n",
       "      <td>0.029374</td>\n",
       "      <td>0.029374</td>\n",
       "      <td>0.029374</td>\n",
       "      <td>0.097000</td>\n",
       "      <td>0.0</td>\n",
       "      <td>0.0</td>\n",
       "      <td>0.050833</td>\n",
       "      <td>0.071795</td>\n",
       "      <td>0.0</td>\n",
       "    </tr>\n",
       "    <tr>\n",
       "      <th>min</th>\n",
       "      <td>0.000000</td>\n",
       "      <td>0.000066</td>\n",
       "      <td>0.200000</td>\n",
       "      <td>0.0</td>\n",
       "      <td>0.0</td>\n",
       "      <td>0.0</td>\n",
       "      <td>0.000000</td>\n",
       "      <td>0.0</td>\n",
       "      <td>0.000000</td>\n",
       "      <td>0.000000</td>\n",
       "      <td>...</td>\n",
       "      <td>0.0</td>\n",
       "      <td>0.000000</td>\n",
       "      <td>0.000000</td>\n",
       "      <td>0.000000</td>\n",
       "      <td>0.000000</td>\n",
       "      <td>0.0</td>\n",
       "      <td>0.0</td>\n",
       "      <td>0.000000</td>\n",
       "      <td>0.000000</td>\n",
       "      <td>0.0</td>\n",
       "    </tr>\n",
       "    <tr>\n",
       "      <th>25%</th>\n",
       "      <td>0.571429</td>\n",
       "      <td>0.005400</td>\n",
       "      <td>0.500000</td>\n",
       "      <td>0.0</td>\n",
       "      <td>0.0</td>\n",
       "      <td>0.0</td>\n",
       "      <td>0.000000</td>\n",
       "      <td>0.0</td>\n",
       "      <td>0.000000</td>\n",
       "      <td>0.000000</td>\n",
       "      <td>...</td>\n",
       "      <td>0.0</td>\n",
       "      <td>0.000000</td>\n",
       "      <td>0.000000</td>\n",
       "      <td>0.000000</td>\n",
       "      <td>0.000000</td>\n",
       "      <td>0.0</td>\n",
       "      <td>0.0</td>\n",
       "      <td>0.000000</td>\n",
       "      <td>0.000000</td>\n",
       "      <td>0.0</td>\n",
       "    </tr>\n",
       "    <tr>\n",
       "      <th>50%</th>\n",
       "      <td>0.714286</td>\n",
       "      <td>0.008435</td>\n",
       "      <td>0.500000</td>\n",
       "      <td>0.0</td>\n",
       "      <td>0.0</td>\n",
       "      <td>0.0</td>\n",
       "      <td>0.000000</td>\n",
       "      <td>0.0</td>\n",
       "      <td>0.000000</td>\n",
       "      <td>0.000000</td>\n",
       "      <td>...</td>\n",
       "      <td>0.0</td>\n",
       "      <td>0.000000</td>\n",
       "      <td>0.000000</td>\n",
       "      <td>0.000000</td>\n",
       "      <td>0.000000</td>\n",
       "      <td>0.0</td>\n",
       "      <td>0.0</td>\n",
       "      <td>0.000000</td>\n",
       "      <td>0.000000</td>\n",
       "      <td>0.0</td>\n",
       "    </tr>\n",
       "    <tr>\n",
       "      <th>75%</th>\n",
       "      <td>0.857143</td>\n",
       "      <td>0.011512</td>\n",
       "      <td>0.500000</td>\n",
       "      <td>0.0</td>\n",
       "      <td>0.0</td>\n",
       "      <td>0.0</td>\n",
       "      <td>0.000000</td>\n",
       "      <td>0.0</td>\n",
       "      <td>0.000000</td>\n",
       "      <td>0.000000</td>\n",
       "      <td>...</td>\n",
       "      <td>0.0</td>\n",
       "      <td>0.000000</td>\n",
       "      <td>0.000000</td>\n",
       "      <td>0.000000</td>\n",
       "      <td>0.000000</td>\n",
       "      <td>0.0</td>\n",
       "      <td>0.0</td>\n",
       "      <td>0.000000</td>\n",
       "      <td>0.000000</td>\n",
       "      <td>0.0</td>\n",
       "    </tr>\n",
       "    <tr>\n",
       "      <th>max</th>\n",
       "      <td>1.000000</td>\n",
       "      <td>0.073822</td>\n",
       "      <td>0.800000</td>\n",
       "      <td>0.0</td>\n",
       "      <td>0.0</td>\n",
       "      <td>0.0</td>\n",
       "      <td>1.000000</td>\n",
       "      <td>0.0</td>\n",
       "      <td>1.000000</td>\n",
       "      <td>1.000000</td>\n",
       "      <td>...</td>\n",
       "      <td>0.0</td>\n",
       "      <td>1.000000</td>\n",
       "      <td>1.000000</td>\n",
       "      <td>1.000000</td>\n",
       "      <td>1.000000</td>\n",
       "      <td>0.0</td>\n",
       "      <td>0.0</td>\n",
       "      <td>1.000000</td>\n",
       "      <td>1.000000</td>\n",
       "      <td>0.0</td>\n",
       "    </tr>\n",
       "  </tbody>\n",
       "</table>\n",
       "<p>8 rows × 2387 columns</p>\n",
       "</div>"
      ],
      "text/plain": [
       "              0            1            2       5       6       7     \\\n",
       "count  1159.000000  1159.000000  1159.000000  1159.0  1159.0  1159.0   \n",
       "mean      0.699618     0.009109     0.525798     0.0     0.0     0.0   \n",
       "std       0.171870     0.005493     0.079172     0.0     0.0     0.0   \n",
       "min       0.000000     0.000066     0.200000     0.0     0.0     0.0   \n",
       "25%       0.571429     0.005400     0.500000     0.0     0.0     0.0   \n",
       "50%       0.714286     0.008435     0.500000     0.0     0.0     0.0   \n",
       "75%       0.857143     0.011512     0.500000     0.0     0.0     0.0   \n",
       "max       1.000000     0.073822     0.800000     0.0     0.0     0.0   \n",
       "\n",
       "              8       9            10           11    ...    2838  \\\n",
       "count  1159.000000  1159.0  1159.000000  1159.000000  ...  1159.0   \n",
       "mean      0.000863     0.0     0.001726     0.002588  ...     0.0   \n",
       "std       0.029374     0.0     0.041523     0.050833  ...     0.0   \n",
       "min       0.000000     0.0     0.000000     0.000000  ...     0.0   \n",
       "25%       0.000000     0.0     0.000000     0.000000  ...     0.0   \n",
       "50%       0.000000     0.0     0.000000     0.000000  ...     0.0   \n",
       "75%       0.000000     0.0     0.000000     0.000000  ...     0.0   \n",
       "max       1.000000     0.0     1.000000     1.000000  ...     0.0   \n",
       "\n",
       "              2839         2840         2841         2842    2843    2844  \\\n",
       "count  1159.000000  1159.000000  1159.000000  1159.000000  1159.0  1159.0   \n",
       "mean      0.000863     0.000863     0.000863     0.009491     0.0     0.0   \n",
       "std       0.029374     0.029374     0.029374     0.097000     0.0     0.0   \n",
       "min       0.000000     0.000000     0.000000     0.000000     0.0     0.0   \n",
       "25%       0.000000     0.000000     0.000000     0.000000     0.0     0.0   \n",
       "50%       0.000000     0.000000     0.000000     0.000000     0.0     0.0   \n",
       "75%       0.000000     0.000000     0.000000     0.000000     0.0     0.0   \n",
       "max       1.000000     1.000000     1.000000     1.000000     0.0     0.0   \n",
       "\n",
       "              2845         2846    2847  \n",
       "count  1159.000000  1159.000000  1159.0  \n",
       "mean      0.002588     0.005177     0.0  \n",
       "std       0.050833     0.071795     0.0  \n",
       "min       0.000000     0.000000     0.0  \n",
       "25%       0.000000     0.000000     0.0  \n",
       "50%       0.000000     0.000000     0.0  \n",
       "75%       0.000000     0.000000     0.0  \n",
       "max       1.000000     1.000000     0.0  \n",
       "\n",
       "[8 rows x 2387 columns]"
      ]
     },
     "execution_count": 19,
     "metadata": {},
     "output_type": "execute_result"
    }
   ],
   "source": [
    "df_test_num.describe()"
   ]
  },
  {
   "cell_type": "markdown",
   "metadata": {
    "id": "no9aePSlt7jn"
   },
   "source": [
    "### Oversampling"
   ]
  },
  {
   "cell_type": "code",
   "execution_count": 20,
   "metadata": {
    "colab": {
     "base_uri": "https://localhost:8080/"
    },
    "executionInfo": {
     "elapsed": 102599,
     "status": "ok",
     "timestamp": 1609237502438,
     "user": {
      "displayName": "Pilar Navarro",
      "photoUrl": "https://lh3.googleusercontent.com/a-/AOh14GjVEQ2fcXNkztOVtwH3gYkL7MU-0jktiO2acTgy7Q=s64",
      "userId": "13653515932275687032"
     },
     "user_tz": -60
    },
    "id": "Hq0dHYRat7jn",
    "outputId": "516de394-05dd-447b-dc8c-e569849c1bd1"
   },
   "outputs": [
    {
     "data": {
      "text/plain": [
       "Counter({3: 1753, 2: 1790, 4: 1777, 5: 1818, 1: 1821})"
      ]
     },
     "execution_count": 20,
     "metadata": {},
     "output_type": "execute_result"
    }
   ],
   "source": [
    "from imblearn.combine import SMOTETomek\n",
    "from collections import Counter\n",
    "smote=SMOTETomek(random_state=10)\n",
    "df_train_over, df_train_obj_over = smote.fit_resample(df_train_num, df_train_obj)\n",
    "df_train_over_rpl, df_train_obj_over_rpl = smote.fit_resample(df_train_num_rpl, df_train_obj_replaced)\n",
    "Counter(df_train_obj_over)"
   ]
  },
  {
   "cell_type": "markdown",
   "metadata": {
    "id": "SiGF1qsyt7jo"
   },
   "source": [
    "## Aplicación de los algoritmos"
   ]
  },
  {
   "cell_type": "code",
   "execution_count": 21,
   "metadata": {
    "id": "xwY1v01At7jo"
   },
   "outputs": [],
   "source": [
    "import numpy as np\n",
    "\n",
    "from sklearn.model_selection import cross_val_score\n",
    "\n",
    "def cross_validation(clf,x,y,mostrar=False):\n",
    "    scores=cross_val_score(clf,x,y,scoring='accuracy',cv=5)\n",
    "    accuracy=np.mean(scores)  \n",
    "    if mostrar:\n",
    "        print(\"Accuracy: \", accuracy)\n",
    "    return accuracy"
   ]
  },
  {
   "cell_type": "code",
   "execution_count": 22,
   "metadata": {
    "colab": {
     "base_uri": "https://localhost:8080/"
    },
    "executionInfo": {
     "elapsed": 1285917,
     "status": "ok",
     "timestamp": 1609186009654,
     "user": {
      "displayName": "Pilar Navarro",
      "photoUrl": "https://lh3.googleusercontent.com/a-/AOh14GjVEQ2fcXNkztOVtwH3gYkL7MU-0jktiO2acTgy7Q=s64",
      "userId": "13653515932275687032"
     },
     "user_tz": -60
    },
    "id": "KczhDVuEt7jp",
    "outputId": "c1bb8915-cb07-472f-db22-478364eb3282"
   },
   "outputs": [
    {
     "name": "stdout",
     "output_type": "stream",
     "text": [
      "One-hot-encoding: \n",
      "LinearSVC(random_state=10)\n",
      "Accuracy:  0.7528117977528089\n",
      "Oversampling\n",
      "LinearSVC(random_state=10)\n",
      "Accuracy:  0.8996565790260828\n",
      "One-hot-encoding: \n",
      "KNeighborsClassifier()\n",
      "Accuracy:  0.7485636704119851\n",
      "Oversampling\n",
      "KNeighborsClassifier()\n",
      "Accuracy:  0.8716408804937386\n",
      "One-hot-encoding: \n",
      "DecisionTreeClassifier(random_state=10)\n",
      "Accuracy:  0.7433136704119852\n",
      "Oversampling\n",
      "DecisionTreeClassifier(random_state=10)\n",
      "Accuracy:  0.8986532987357423\n",
      "One-hot-encoding: \n",
      "RandomForestClassifier(random_state=10)\n",
      "Accuracy:  0.7923014981273409\n",
      "Oversampling\n",
      "RandomForestClassifier(random_state=10)\n",
      "Accuracy:  0.9445282588537927\n",
      "One-hot-encoding: \n",
      "MLPClassifier(max_iter=10000, random_state=10)\n",
      "Accuracy:  0.7550614856429464\n",
      "Oversampling\n",
      "MLPClassifier(max_iter=10000, random_state=10)\n",
      "Accuracy:  0.9514472162399297\n",
      "One-hot-encoding: \n",
      "ExtraTreesClassifier(random_state=10)\n",
      "Accuracy:  0.774558052434457\n",
      "Oversampling\n",
      "ExtraTreesClassifier(random_state=10)\n",
      "Accuracy:  0.95401486599665\n",
      "One-hot-encoding: \n",
      "GradientBoostingClassifier(max_features='auto', random_state=10)\n",
      "Accuracy:  0.7675564918851436\n",
      "Oversampling\n",
      "GradientBoostingClassifier(max_features='auto', random_state=10)\n",
      "Accuracy:  0.863269596992901\n"
     ]
    }
   ],
   "source": [
    "from sklearn.svm import LinearSVC\n",
    "from sklearn.neighbors import KNeighborsClassifier\n",
    "from sklearn.tree import DecisionTreeClassifier\n",
    "from sklearn.ensemble import RandomForestClassifier,ExtraTreesClassifier,GradientBoostingClassifier\n",
    "from sklearn.neural_network import MLPClassifier\n",
    "\n",
    "\n",
    "extra=ExtraTreesClassifier(random_state=10)\n",
    "gradient=GradientBoostingClassifier(random_state=10,max_features='auto')\n",
    "svc=LinearSVC(random_state=10)\n",
    "knn=KNeighborsClassifier()\n",
    "tree=DecisionTreeClassifier(random_state=10)\n",
    "forest=RandomForestClassifier(random_state=10)\n",
    "NN=MLPClassifier(random_state=10,max_iter=10000)\n",
    "\n",
    "clfs=[svc,knn,tree,forest,NN,extra,gradient]\n",
    "for clf in clfs:\n",
    "    print(\"One-hot-encoding: \")\n",
    "    print(clf)\n",
    "    cross_validation(clf, df_train_num, df_train_obj,True)\n",
    "    print(\"Oversampling\")\n",
    "    print(clf)\n",
    "    cross_validation(clf, df_train_over, df_train_obj_over,True)"
   ]
  },
  {
   "cell_type": "markdown",
   "metadata": {
    "id": "NMqoQHcht7jp"
   },
   "source": [
    "### Configuración de los parámetros"
   ]
  },
  {
   "cell_type": "markdown",
   "metadata": {
    "id": "fzbHqlXct7j1"
   },
   "source": [
    "##### LinearSVC"
   ]
  },
  {
   "cell_type": "code",
   "execution_count": 23,
   "metadata": {
    "id": "iN8oUYHwt7j1"
   },
   "outputs": [],
   "source": [
    "from matplotlib import pyplot as plt\n",
    "\n",
    "def tune_svc(max_value,data,obj):\n",
    "    acc=[]\n",
    "    for i in range(2,max_value):\n",
    "        svc=LinearSVC(random_state=10,C=i,max_iter=100000)\n",
    "        acc.append(cross_validation(svc,data,obj))\n",
    "\n",
    "    fig, ax =plt.subplots(figsize=(15,5))\n",
    "    ax.plot(range(2,max_value), acc)\n",
    "    ax.set_title('Linear SVC')\n",
    "    ax.set_xlabel('Valor parámetro')\n",
    "    ax.set_ylabel('Accuracy')\n",
    "    plt.show()"
   ]
  },
  {
   "cell_type": "code",
   "execution_count": 24,
   "metadata": {
    "id": "jWxuiXq0t7j1",
    "outputId": "67fb16fa-62b7-49a8-b6ef-0812f062be93"
   },
   "outputs": [
    {
     "data": {
      "image/png": "[encoded data removed]",
      "text/plain": [
       "<Figure size 1080x360 with 1 Axes>"
      ]
     },
     "metadata": {
      "needs_background": "light"
     },
     "output_type": "display_data"
    }
   ],
   "source": [
    "tune_svc(60,df_train_over,df_train_obj_over)"
   ]
  },
  {
   "cell_type": "code",
   "execution_count": 25,
   "metadata": {
    "id": "1drj-G1Pt7j3",
    "outputId": "5f09dd30-face-42ad-a492-0054a9144562"
   },
   "outputs": [
    {
     "name": "stdout",
     "output_type": "stream",
     "text": [
      "Accuracy:  0.9064657987357421\n"
     ]
    },
    {
     "data": {
      "text/plain": [
       "0.9064657987357421"
      ]
     },
     "execution_count": 25,
     "metadata": {},
     "output_type": "execute_result"
    }
   ],
   "source": [
    "svc=LinearSVC(random_state=10,C=30,max_iter=100000,class_weight='balanced')\n",
    "cross_validation(svc, df_train_over,df_train_obj_over,True)"
   ]
  },
  {
   "cell_type": "code",
   "execution_count": 26,
   "metadata": {
    "id": "EWa9kOyvt7j3",
    "outputId": "dfbfd205-10ca-4da0-eed3-15de409e8ea4"
   },
   "outputs": [
    {
     "name": "stdout",
     "output_type": "stream",
     "text": [
      "Accuracy:  0.9065773435630533\n"
     ]
    },
    {
     "data": {
      "text/plain": [
       "0.9065773435630533"
      ]
     },
     "execution_count": 26,
     "metadata": {},
     "output_type": "execute_result"
    }
   ],
   "source": [
    "svc=LinearSVC(random_state=10,C=30,max_iter=100000)\n",
    "cross_validation(svc, df_train_over,df_train_obj_over,True)"
   ]
  },
  {
   "cell_type": "code",
   "execution_count": 27,
   "metadata": {
    "id": "wwlaQvEAt7j4",
    "outputId": "b7e85da4-6489-4c2f-af83-4022fe5172f4"
   },
   "outputs": [
    {
     "name": "stdout",
     "output_type": "stream",
     "text": [
      "Accuracy:  0.9068005578487677\n"
     ]
    },
    {
     "data": {
      "text/plain": [
       "0.9068005578487677"
      ]
     },
     "execution_count": 27,
     "metadata": {},
     "output_type": "execute_result"
    }
   ],
   "source": [
    "svc=LinearSVC(random_state=10,C=27,max_iter=100000)\n",
    "cross_validation(svc, df_train_over,df_train_obj_over,True)"
   ]
  },
  {
   "cell_type": "code",
   "execution_count": 28,
   "metadata": {
    "id": "3PHBxs3ut7j4",
    "outputId": "f754ad65-86d1-4304-964d-b30452c744f7"
   },
   "outputs": [
    {
     "name": "stdout",
     "output_type": "stream",
     "text": [
      "Accuracy:  0.906354129277339\n"
     ]
    },
    {
     "data": {
      "text/plain": [
       "0.906354129277339"
      ]
     },
     "execution_count": 28,
     "metadata": {},
     "output_type": "execute_result"
    }
   ],
   "source": [
    "svc=LinearSVC(random_state=10,C=50,max_iter=100000)\n",
    "cross_validation(svc, df_train_over,df_train_obj_over,True)"
   ]
  },
  {
   "cell_type": "code",
   "execution_count": 29,
   "metadata": {
    "colab": {
     "base_uri": "https://localhost:8080/"
    },
    "executionInfo": {
     "elapsed": 57826,
     "status": "ok",
     "timestamp": 1609186110371,
     "user": {
      "displayName": "Pilar Navarro",
      "photoUrl": "https://lh3.googleusercontent.com/a-/AOh14GjVEQ2fcXNkztOVtwH3gYkL7MU-0jktiO2acTgy7Q=s64",
      "userId": "13653515932275687032"
     },
     "user_tz": -60
    },
    "id": "Wz4G5p8I6wVD",
    "outputId": "4d61799f-aeba-41af-a11a-4cc13e175232"
   },
   "outputs": [
    {
     "name": "stdout",
     "output_type": "stream",
     "text": [
      "Accuracy:  0.9065773435630533\n"
     ]
    },
    {
     "data": {
      "text/plain": [
       "0.9065773435630533"
      ]
     },
     "execution_count": 29,
     "metadata": {},
     "output_type": "execute_result"
    }
   ],
   "source": [
    "svc=LinearSVC(random_state=10,C=50,max_iter=100000,class_weight='balanced')\n",
    "cross_validation(svc, df_train_over,df_train_obj_over,True)"
   ]
  },
  {
   "cell_type": "markdown",
   "metadata": {
    "id": "JXKt0ozjt7j5"
   },
   "source": [
    "#### Gradient Boosting"
   ]
  },
  {
   "cell_type": "code",
   "execution_count": 30,
   "metadata": {
    "id": "qDYdsfEst7j6",
    "outputId": "1ffd4f7e-99eb-420b-dd9a-691efb923ab0"
   },
   "outputs": [
    {
     "name": "stdout",
     "output_type": "stream",
     "text": [
      "Fraction of samples to be used for fitting the individual base learners = 0.8\n",
      "Accuracy:  0.8700784428092845\n",
      "Fraction of samples to be used for fitting the individual base learners = 0.6\n",
      "Accuracy:  0.8700781935471007\n",
      "Fraction of samples to be used for fitting the individual base learners = 0.9\n",
      "Accuracy:  0.8734271556193667\n",
      "Fraction of samples to be used for fitting the individual base learners = 0.7\n",
      "Accuracy:  0.8706360423147483\n",
      "Fraction of samples to be used for fitting the individual base learners = 0.5\n",
      "Accuracy:  0.8661716942849166\n"
     ]
    },
    {
     "data": {
      "text/plain": [
       "0.8661716942849166"
      ]
     },
     "execution_count": 30,
     "metadata": {},
     "output_type": "execute_result"
    }
   ],
   "source": [
    "print(\"Fraction of samples to be used for fitting the individual base learners = 0.8\")\n",
    "gradient=GradientBoostingClassifier(random_state=10,max_features='auto',subsample=0.8)\n",
    "cross_validation(gradient, df_train_over, df_train_obj_over,True)\n",
    "print(\"Fraction of samples to be used for fitting the individual base learners = 0.6\")\n",
    "gradient=GradientBoostingClassifier(random_state=10,max_features='auto',subsample=0.6)\n",
    "cross_validation(gradient,df_train_over, df_train_obj_over,True)\n",
    "print(\"Fraction of samples to be used for fitting the individual base learners = 0.9\")\n",
    "gradient=GradientBoostingClassifier(random_state=10,max_features='auto',subsample=0.9)\n",
    "cross_validation(gradient,df_train_over, df_train_obj_over,True)\n",
    "print(\"Fraction of samples to be used for fitting the individual base learners = 0.7\")\n",
    "gradient=GradientBoostingClassifier(random_state=10,max_features='auto',subsample=0.7)\n",
    "cross_validation(gradient,df_train_over, df_train_obj_over,True)\n",
    "print(\"Fraction of samples to be used for fitting the individual base learners = 0.5\")\n",
    "gradient=GradientBoostingClassifier(random_state=10,max_features='auto',subsample=0.5)\n",
    "cross_validation(gradient,df_train_over, df_train_obj_over,True)"
   ]
  },
  {
   "cell_type": "markdown",
   "metadata": {
    "id": "0D3flDtYt7j6"
   },
   "source": [
    "Configurando el parámetro max_depth de cada estimador."
   ]
  },
  {
   "cell_type": "code",
   "execution_count": 31,
   "metadata": {
    "id": "ngLmni_4t7j6"
   },
   "outputs": [],
   "source": [
    "def tune_gradient_boosting(max_value):\n",
    "    acc=[]\n",
    "    for i in range(2,max_value):\n",
    "        gradient=GradientBoostingClassifier(max_depth=i,random_state=10,subsample=0.8)\n",
    "        print(i)\n",
    "        acc.append(cross_validation(gradient,df_train_over,df_train_obj_over,True))\n",
    "\n",
    "    fig, ax =plt.subplots(figsize=(15,5))\n",
    "    ax.plot(range(2,max_value), acc)\n",
    "    ax.set_title('Gradient Boosting')\n",
    "    ax.set_xlabel('Max depth')\n",
    "    ax.set_ylabel('Accuracy')\n",
    "    plt.show()"
   ]
  },
  {
   "cell_type": "code",
   "execution_count": 32,
   "metadata": {
    "id": "CjbcR9P5t7j6",
    "outputId": "aa7a6058-6897-4944-adec-bb968c9bd6d8"
   },
   "outputs": [
    {
     "name": "stdout",
     "output_type": "stream",
     "text": [
      "2\n",
      "Accuracy:  0.814267829724017\n",
      "3\n",
      "Accuracy:  0.8700784428092845\n",
      "4\n",
      "Accuracy:  0.899880229520619\n",
      "5\n",
      "Accuracy:  0.9161766172130494\n",
      "6\n",
      "Accuracy:  0.9236558536731275\n",
      "7\n",
      "Accuracy:  0.9270044418521177\n",
      "8\n",
      "Accuracy:  0.928009030768924\n",
      "9\n",
      "Accuracy:  0.9299062898819495\n",
      "10\n",
      "Accuracy:  0.9310226105727049\n",
      "11\n",
      "Accuracy:  0.9322501645130414\n",
      "12\n",
      "Accuracy:  0.9349289228882508\n",
      "13\n",
      "Accuracy:  0.9352641182100981\n",
      "14\n",
      "Accuracy:  0.935152386436149\n",
      "15\n",
      "Accuracy:  0.9353756630374093\n",
      "16\n",
      "Accuracy:  0.936603279293292\n",
      "17\n",
      "Accuracy:  0.9360454305256442\n",
      "18\n",
      "Accuracy:  0.9364916721504347\n",
      "19\n",
      "Accuracy:  0.9358220916088378\n",
      "20\n",
      "Accuracy:  0.9352641182100981\n",
      "21\n",
      "Accuracy:  0.9366034039243838\n",
      "22\n",
      "Accuracy:  0.9360453058945521\n",
      "23\n",
      "Accuracy:  0.9357104844659807\n",
      "24\n",
      "Accuracy:  0.9363803765853076\n",
      "25\n",
      "Accuracy:  0.9362684578647205\n",
      "26\n",
      "Accuracy:  0.9354874571269043\n",
      "27\n",
      "Accuracy:  0.9369381630374093\n",
      "28\n",
      "Accuracy:  0.9349291721504347\n",
      "29\n",
      "Accuracy:  0.9369381630374093\n"
     ]
    },
    {
     "data": {
      "image/png": "[encoded data removed]",
      "text/plain": [
       "<Figure size 1080x360 with 1 Axes>"
      ]
     },
     "metadata": {
      "needs_background": "light"
     },
     "output_type": "display_data"
    }
   ],
   "source": [
    "tune_gradient_boosting(30) "
   ]
  },
  {
   "cell_type": "markdown",
   "metadata": {
    "id": "XOxLEpVUt7j8"
   },
   "source": [
    "Configurando el número de estimadores."
   ]
  },
  {
   "cell_type": "code",
   "execution_count": 33,
   "metadata": {
    "colab": {
     "base_uri": "https://localhost:8080/"
    },
    "id": "X6TvImAJUcA7",
    "outputId": "651fa6fb-30b5-44f2-b95b-9ed9ced91846"
   },
   "outputs": [
    {
     "name": "stdout",
     "output_type": "stream",
     "text": [
      "50\n",
      "Accuracy:  0.932920305894552\n",
      "100\n",
      "Accuracy:  0.9358220916088378\n",
      "150\n",
      "Accuracy:  0.9377195376685012\n",
      "200\n",
      "Accuracy:  0.938389305156736\n",
      "250\n",
      "Accuracy:  0.9390589480138789\n",
      "300\n",
      "Accuracy:  0.9392820376685013\n",
      "350\n",
      "Accuracy:  0.9391704928411901\n"
     ]
    },
    {
     "data": {
      "image/png": "[encoded data removed]",
      "text/plain": [
       "<Figure size 1080x360 with 1 Axes>"
      ]
     },
     "metadata": {
      "needs_background": "light"
     },
     "output_type": "display_data"
    }
   ],
   "source": [
    "def tune_gradient_boosting_2(max_value):\n",
    "    acc=[]\n",
    "    for i in range(50,max_value,50):\n",
    "        gradient=GradientBoostingClassifier(n_estimators=i,max_depth=19,random_state=10,subsample=0.8)\n",
    "        print(i)\n",
    "        acc.append(cross_validation(gradient,df_train_over,df_train_obj_over,True))\n",
    "\n",
    "    fig, ax =plt.subplots(figsize=(15,5))\n",
    "    ax.plot(range(50,max_value,50), acc)\n",
    "    ax.set_title('Gradient Boosting')\n",
    "    ax.set_xlabel('Num estimadores')\n",
    "    ax.set_ylabel('Accuracy')\n",
    "    plt.show()\n",
    "tune_gradient_boosting_2(400) "
   ]
  },
  {
   "cell_type": "code",
   "execution_count": 34,
   "metadata": {
    "colab": {
     "base_uri": "https://localhost:8080/"
    },
    "executionInfo": {
     "elapsed": 159935,
     "status": "ok",
     "timestamp": 1609262355652,
     "user": {
      "displayName": "Pilar Navarro",
      "photoUrl": "https://lh3.googleusercontent.com/a-/AOh14GjVEQ2fcXNkztOVtwH3gYkL7MU-0jktiO2acTgy7Q=s64",
      "userId": "13653515932275687032"
     },
     "user_tz": -60
    },
    "id": "XjVk8qMwbTcB",
    "outputId": "dc4f71b6-4cc2-4221-b574-eebfdf613dd8"
   },
   "outputs": [
    {
     "name": "stdout",
     "output_type": "stream",
     "text": [
      "Accuracy:  0.9358220916088378\n"
     ]
    },
    {
     "data": {
      "text/plain": [
       "0.9358220916088378"
      ]
     },
     "execution_count": 34,
     "metadata": {},
     "output_type": "execute_result"
    }
   ],
   "source": [
    "gradient=GradientBoostingClassifier(n_estimators=100, random_state=10,max_features='auto',subsample=0.8,max_depth=19)\n",
    "cross_validation(gradient,df_train_over,df_train_obj_over,True)"
   ]
  },
  {
   "cell_type": "code",
   "execution_count": 35,
   "metadata": {
    "colab": {
     "base_uri": "https://localhost:8080/"
    },
    "executionInfo": {
     "elapsed": 2579714,
     "status": "ok",
     "timestamp": 1609265033294,
     "user": {
      "displayName": "Pilar Navarro",
      "photoUrl": "https://lh3.googleusercontent.com/a-/AOh14GjVEQ2fcXNkztOVtwH3gYkL7MU-0jktiO2acTgy7Q=s64",
      "userId": "13653515932275687032"
     },
     "user_tz": -60
    },
    "id": "V4rBxKfrg_zg",
    "outputId": "98bb87f9-910b-4d93-a315-27e1ad80de8e"
   },
   "outputs": [
    {
     "name": "stdout",
     "output_type": "stream",
     "text": [
      "Accuracy:  0.938389305156736\n"
     ]
    },
    {
     "data": {
      "text/plain": [
       "0.938389305156736"
      ]
     },
     "execution_count": 35,
     "metadata": {},
     "output_type": "execute_result"
    }
   ],
   "source": [
    "gradient=GradientBoostingClassifier(n_estimators=150, random_state=10,max_features='auto',subsample=0.8,max_depth=18)\n",
    "cross_validation(gradient,df_train_over,df_train_obj_over,True)"
   ]
  },
  {
   "cell_type": "markdown",
   "metadata": {
    "id": "WHPCS6X6t7j8"
   },
   "source": [
    "Configurando el parámetro learning_rate."
   ]
  },
  {
   "cell_type": "code",
   "execution_count": 36,
   "metadata": {
    "id": "n4uboO1gt7j9"
   },
   "outputs": [
    {
     "name": "stdout",
     "output_type": "stream",
     "text": [
      "Learning rate=0.2\n",
      "Accuracy:  0.9362685824958124\n",
      "Learning rate=0.05\n",
      "Accuracy:  0.9333662982571589\n",
      "Learning rate=0.15\n",
      "Accuracy:  0.9368270544189199\n",
      "Learning rate=0.1\n",
      "Accuracy:  0.9358220916088378\n"
     ]
    },
    {
     "data": {
      "text/plain": [
       "0.9358220916088378"
      ]
     },
     "execution_count": 36,
     "metadata": {},
     "output_type": "execute_result"
    }
   ],
   "source": [
    "print(\"Learning rate=0.2\")\n",
    "gradient=GradientBoostingClassifier(n_estimators=100, learning_rate=0.2, random_state=10,max_features='auto',subsample=0.8,max_depth=19)\n",
    "cross_validation(gradient,df_train_over,df_train_obj_over,True)\n",
    "print(\"Learning rate=0.05\")\n",
    "gradient=GradientBoostingClassifier(n_estimators=100, learning_rate=0.05, random_state=10,max_features='auto',subsample=0.8,max_depth=19)\n",
    "cross_validation(gradient,df_train_over,df_train_obj_over,True)\n",
    "print(\"Learning rate=0.15\")\n",
    "gradient=GradientBoostingClassifier(n_estimators=100, learning_rate=0.15, random_state=10,max_features='auto',subsample=0.8,max_depth=19)\n",
    "cross_validation(gradient,df_train_over,df_train_obj_over,True)\n",
    "print(\"Learning rate=0.1\")\n",
    "gradient=GradientBoostingClassifier(n_estimators=100, learning_rate=0.1, random_state=10,max_features='auto',subsample=0.8,max_depth=19)\n",
    "cross_validation(gradient,df_train_over,df_train_obj_over,True)"
   ]
  },
  {
   "cell_type": "markdown",
   "metadata": {
    "id": "stHWC_hVt7j_"
   },
   "source": [
    "#### Red neuronal"
   ]
  },
  {
   "cell_type": "code",
   "execution_count": 37,
   "metadata": {
    "id": "sFJiYTP8t7j_"
   },
   "outputs": [],
   "source": [
    "def tune_layers(max_value):\n",
    "    acc=[]\n",
    "    for i in range(20,max_value,20):\n",
    "        NN=MLPClassifier(hidden_layer_sizes=(i,i),random_state=10,max_iter=1000)\n",
    "        print(i)\n",
    "        acc.append(cross_validation(NN,df_train_over,df_train_obj_over,True))\n",
    "\n",
    "    fig, ax =plt.subplots(figsize=(15,5))\n",
    "    ax.plot(range(20,max_value,20), acc)\n",
    "    ax.set_title('Neural Network')\n",
    "    ax.set_xlabel('Tamaño capas')\n",
    "    ax.set_ylabel('Accuracy')\n",
    "    plt.show()"
   ]
  },
  {
   "cell_type": "code",
   "execution_count": 38,
   "metadata": {
    "id": "O-5CloC6t7kA",
    "outputId": "08321f48-2dd6-4661-ff76-ef599ae4f59a"
   },
   "outputs": [
    {
     "name": "stdout",
     "output_type": "stream",
     "text": [
      "20\n",
      "Accuracy:  0.9528988568836244\n",
      "40\n",
      "Accuracy:  0.9539029472760628\n",
      "60\n",
      "Accuracy:  0.9520051896386695\n",
      "80\n",
      "Accuracy:  0.9503309578647204\n",
      "100\n",
      "Accuracy:  0.9539031965382468\n",
      "120\n",
      "Accuracy:  0.9535680012163995\n",
      "140\n",
      "Accuracy:  0.9543493135319453\n",
      "160\n",
      "Accuracy:  0.9501074943168222\n",
      "180\n",
      "Accuracy:  0.9535679389008533\n",
      "200\n",
      "Accuracy:  0.9525637238773232\n",
      "220\n",
      "Accuracy:  0.9550188317579963\n",
      "240\n",
      "Accuracy:  0.9514464061378319\n",
      "260\n",
      "Accuracy:  0.9528970497327908\n",
      "280\n",
      "Accuracy:  0.953790467715562\n",
      "300\n",
      "Accuracy:  0.9531215103294249\n",
      "320\n",
      "Accuracy:  0.9536792344659807\n",
      "340\n",
      "Accuracy:  0.9555763689479141\n",
      "360\n",
      "Accuracy:  0.9521168590970726\n",
      "380\n",
      "Accuracy:  0.9559118758474915\n",
      "400\n",
      "Accuracy:  0.9555758704235464\n",
      "420\n",
      "Accuracy:  0.9511123324958124\n",
      "440\n",
      "Accuracy:  0.9535671911143018\n",
      "460\n",
      "Accuracy:  0.9540138689479141\n",
      "480\n",
      "Accuracy:  0.954014679050012\n"
     ]
    },
    {
     "data": {
      "image/png": "[encoded data removed]",
      "text/plain": [
       "<Figure size 1080x360 with 1 Axes>"
      ]
     },
     "metadata": {
      "needs_background": "light"
     },
     "output_type": "display_data"
    }
   ],
   "source": [
    "tune_layers(500)"
   ]
  },
  {
   "cell_type": "code",
   "execution_count": 39,
   "metadata": {
    "id": "TRR2SGTBt7kB",
    "outputId": "50e3e5fb-f202-4f01-c71d-8256c0fa3274"
   },
   "outputs": [
    {
     "name": "stdout",
     "output_type": "stream",
     "text": [
      "Accuracy:  0.954014679050012\n"
     ]
    },
    {
     "data": {
      "text/plain": [
       "0.954014679050012"
      ]
     },
     "execution_count": 39,
     "metadata": {},
     "output_type": "execute_result"
    }
   ],
   "source": [
    "NN=MLPClassifier(hidden_layer_sizes=(480,480),random_state=10,max_iter=10000)\n",
    "cross_validation(NN,df_train_over,df_train_obj_over,True)"
   ]
  },
  {
   "cell_type": "code",
   "execution_count": 40,
   "metadata": {
    "colab": {
     "base_uri": "https://localhost:8080/"
    },
    "executionInfo": {
     "elapsed": 629984,
     "status": "ok",
     "timestamp": 1609184723707,
     "user": {
      "displayName": "Pilar Navarro",
      "photoUrl": "https://lh3.googleusercontent.com/a-/AOh14GjVEQ2fcXNkztOVtwH3gYkL7MU-0jktiO2acTgy7Q=s64",
      "userId": "13653515932275687032"
     },
     "user_tz": -60
    },
    "id": "xQNr5RMDt7kC",
    "outputId": "626a0f77-ba8b-4d0b-f5c1-e5c4ee8f0651"
   },
   "outputs": [
    {
     "name": "stdout",
     "output_type": "stream",
     "text": [
      "Accuracy:  0.9540138689479141\n"
     ]
    },
    {
     "data": {
      "text/plain": [
       "0.9540138689479141"
      ]
     },
     "execution_count": 40,
     "metadata": {},
     "output_type": "execute_result"
    }
   ],
   "source": [
    "NN=MLPClassifier(hidden_layer_sizes=(460,460),random_state=10,max_iter=1000)\n",
    "cross_validation(NN,df_train_over,df_train_obj_over,True)"
   ]
  },
  {
   "cell_type": "code",
   "execution_count": 41,
   "metadata": {
    "id": "X1kozx57t7kC",
    "outputId": "702bdb8b-127f-4459-d06b-74b375d6823b"
   },
   "outputs": [
    {
     "name": "stdout",
     "output_type": "stream",
     "text": [
      "Alpha=0.0015\n",
      "Accuracy:  0.9543490642697616\n",
      "Alpha=0.01\n",
      "Accuracy:  0.9570274487516951\n",
      "Alpha=0.02\n",
      "Accuracy:  0.9588137861928692\n",
      "Alpha=0.05\n",
      "Accuracy:  0.9547943088458165\n",
      "Alpha=0.003\n",
      "Accuracy:  0.9570276356983329\n",
      "Alpha=0.1\n",
      "Accuracy:  0.9584795879197575\n",
      "Alpha=0.015\n",
      "Accuracy:  0.9579201812634601\n",
      "Alpha=0.009\n",
      "Accuracy:  0.9568047953058946\n"
     ]
    },
    {
     "data": {
      "text/plain": [
       "0.9568047953058946"
      ]
     },
     "execution_count": 41,
     "metadata": {},
     "output_type": "execute_result"
    }
   ],
   "source": [
    "print(\"Alpha=0.0015\")\n",
    "NN=MLPClassifier(hidden_layer_sizes=(460,460),random_state=10,max_iter=1000,alpha=0.0015)\n",
    "cross_validation(NN,df_train_over,df_train_obj_over,True)\n",
    "print(\"Alpha=0.01\")\n",
    "NN=MLPClassifier(hidden_layer_sizes=(460,460),random_state=10,max_iter=1000,alpha=0.01)\n",
    "cross_validation(NN,df_train_over,df_train_obj_over,True)\n",
    "print(\"Alpha=0.02\")\n",
    "NN=MLPClassifier(hidden_layer_sizes=(460,460),random_state=10,max_iter=1000,alpha=0.02)\n",
    "cross_validation(NN,df_train_over,df_train_obj_over,True)\n",
    "print(\"Alpha=0.05\")\n",
    "NN=MLPClassifier(hidden_layer_sizes=(460,460),random_state=10,max_iter=1000,alpha=0.05)\n",
    "cross_validation(NN,df_train_over,df_train_obj_over,True)\n",
    "print(\"Alpha=0.003\")\n",
    "NN=MLPClassifier(hidden_layer_sizes=(460,460),random_state=10,max_iter=1000,alpha=0.003)\n",
    "cross_validation(NN,df_train_over,df_train_obj_over,True)\n",
    "print(\"Alpha=0.1\")\n",
    "NN=MLPClassifier(hidden_layer_sizes=(460,460),random_state=10,max_iter=1000,alpha=0.1)\n",
    "cross_validation(NN,df_train_over,df_train_obj_over,True)\n",
    "print(\"Alpha=0.015\")\n",
    "NN=MLPClassifier(hidden_layer_sizes=(460,460),random_state=10,max_iter=1000,alpha=0.015)\n",
    "cross_validation(NN,df_train_over,df_train_obj_over,True)\n",
    "print(\"Alpha=0.009\")\n",
    "NN=MLPClassifier(hidden_layer_sizes=(460,460),random_state=10,max_iter=1000,alpha=0.009)\n",
    "cross_validation(NN,df_train_over,df_train_obj_over,True)"
   ]
  },
  {
   "cell_type": "code",
   "execution_count": 42,
   "metadata": {
    "id": "erbRhx4Tt7kC"
   },
   "outputs": [
    {
     "name": "stdout",
     "output_type": "stream",
     "text": [
      "Alpha=0.0095\n",
      "Accuracy:  0.9547945581080004\n",
      "Alpha=0.008\n",
      "Accuracy:  0.9568040475193428\n"
     ]
    },
    {
     "data": {
      "text/plain": [
       "0.9568040475193428"
      ]
     },
     "execution_count": 42,
     "metadata": {},
     "output_type": "execute_result"
    }
   ],
   "source": [
    "print(\"Alpha=0.0095\")\n",
    "NN=MLPClassifier(hidden_layer_sizes=(460,460),random_state=10,max_iter=1000,alpha=0.0095)\n",
    "cross_validation(NN,df_train_over,df_train_obj_over,True)\n",
    "print(\"Alpha=0.008\")\n",
    "NN=MLPClassifier(hidden_layer_sizes=(460,460),random_state=10,max_iter=1000,alpha=0.008)\n",
    "cross_validation(NN,df_train_over,df_train_obj_over,True)"
   ]
  },
  {
   "cell_type": "markdown",
   "metadata": {
    "id": "yekSXcbAt7kF"
   },
   "source": [
    "### Aplicación al conjunto de test"
   ]
  },
  {
   "cell_type": "markdown",
   "metadata": {
    "id": "L7iMRUOgt7kF"
   },
   "source": [
    "#### **Entrega 14**"
   ]
  },
  {
   "cell_type": "code",
   "execution_count": 43,
   "metadata": {
    "colab": {
     "base_uri": "https://localhost:8080/"
    },
    "executionInfo": {
     "elapsed": 23148,
     "status": "ok",
     "timestamp": 1609186032847,
     "user": {
      "displayName": "Pilar Navarro",
      "photoUrl": "https://lh3.googleusercontent.com/a-/AOh14GjVEQ2fcXNkztOVtwH3gYkL7MU-0jktiO2acTgy7Q=s64",
      "userId": "13653515932275687032"
     },
     "user_tz": -60
    },
    "id": "Im-H0HLMt7kG",
    "outputId": "eed2b30f-caf9-412e-dfa1-409b8e1cbdd1"
   },
   "outputs": [
    {
     "name": "stdout",
     "output_type": "stream",
     "text": [
      "Accuracy:  0.9445282588537927\n"
     ]
    }
   ],
   "source": [
    "forest=RandomForestClassifier(random_state=10)\n",
    "cross_validation(forest, df_train_over,df_train_obj_over,True)\n",
    "forest.fit(df_train_over,df_train_obj_over)\n",
    "pred=forest.predict(df_test_num)\n",
    "ids=df_test_orig[\"id\"]\n",
    "\n",
    "df_result = pd.DataFrame({'id': ids, 'Precio_cat': pred})\n",
    "df_result.to_csv(\"resultados_14.csv\", index=False)"
   ]
  },
  {
   "cell_type": "markdown",
   "metadata": {
    "id": "ueZCAKZh9Nu8"
   },
   "source": [
    "#### Entrega 15"
   ]
  },
  {
   "cell_type": "code",
   "execution_count": 44,
   "metadata": {
    "colab": {
     "base_uri": "https://localhost:8080/"
    },
    "executionInfo": {
     "elapsed": 75963,
     "status": "ok",
     "timestamp": 1609186954333,
     "user": {
      "displayName": "Pilar Navarro",
      "photoUrl": "https://lh3.googleusercontent.com/a-/AOh14GjVEQ2fcXNkztOVtwH3gYkL7MU-0jktiO2acTgy7Q=s64",
      "userId": "13653515932275687032"
     },
     "user_tz": -60
    },
    "id": "0Eus6Fiz9exA",
    "outputId": "db4db266-98de-4d27-91fc-c111c7bccbe9"
   },
   "outputs": [
    {
     "name": "stdout",
     "output_type": "stream",
     "text": [
      "Accuracy:  0.906354129277339\n"
     ]
    }
   ],
   "source": [
    "svc=LinearSVC(random_state=10,C=50,max_iter=100000)\n",
    "cross_validation(svc, df_train_over,df_train_obj_over,True)\n",
    "svc.fit(df_train_over,df_train_obj_over)\n",
    "pred=svc.predict(df_test_num)\n",
    "ids=df_test_orig[\"id\"]\n",
    "\n",
    "df_result = pd.DataFrame({'id': ids, 'Precio_cat': pred})\n",
    "df_result.to_csv(\"resultados_15.csv\", index=False)"
   ]
  },
  {
   "cell_type": "markdown",
   "metadata": {
    "id": "bwFUBO6Et7kG"
   },
   "source": [
    "#### Entrega 16"
   ]
  },
  {
   "cell_type": "code",
   "execution_count": 45,
   "metadata": {
    "colab": {
     "base_uri": "https://localhost:8080/"
    },
    "executionInfo": {
     "elapsed": 898351,
     "status": "ok",
     "timestamp": 1609188105992,
     "user": {
      "displayName": "Pilar Navarro",
      "photoUrl": "https://lh3.googleusercontent.com/a-/AOh14GjVEQ2fcXNkztOVtwH3gYkL7MU-0jktiO2acTgy7Q=s64",
      "userId": "13653515932275687032"
     },
     "user_tz": -60
    },
    "id": "SwwKfp7kt7kG",
    "outputId": "d3739d2a-d534-4389-f611-72ad1550af94"
   },
   "outputs": [
    {
     "name": "stdout",
     "output_type": "stream",
     "text": [
      "Accuracy:  0.9568047953058946\n"
     ]
    }
   ],
   "source": [
    "NN=MLPClassifier(hidden_layer_sizes=(460,460),random_state=10,max_iter=10000,alpha=0.009)\n",
    "cross_validation(NN,df_train_over,df_train_obj_over,True)\n",
    "NN.fit(df_train_over,df_train_obj_over)\n",
    "pred=NN.predict(df_test_num)\n",
    "ids=df_test_orig[\"id\"]\n",
    "\n",
    "df_result = pd.DataFrame({'id': ids, 'Precio_cat': pred})\n",
    "df_result.to_csv(\"resultados_16.csv\", index=False)"
   ]
  },
  {
   "cell_type": "markdown",
   "metadata": {
    "id": "nL5fvaI-gpEO"
   },
   "source": [
    "#### Entrega 17"
   ]
  },
  {
   "cell_type": "code",
   "execution_count": 46,
   "metadata": {
    "colab": {
     "base_uri": "https://localhost:8080/"
    },
    "executionInfo": {
     "elapsed": 2444046,
     "status": "ok",
     "timestamp": 1609269145359,
     "user": {
      "displayName": "Pilar Navarro",
      "photoUrl": "https://lh3.googleusercontent.com/a-/AOh14GjVEQ2fcXNkztOVtwH3gYkL7MU-0jktiO2acTgy7Q=s64",
      "userId": "13653515932275687032"
     },
     "user_tz": -60
    },
    "id": "YeDZBLmUgtcr",
    "outputId": "eacb9394-92b1-4229-a218-1a69e22671f2"
   },
   "outputs": [
    {
     "name": "stdout",
     "output_type": "stream",
     "text": [
      "Accuracy:  0.9358220916088378\n"
     ]
    }
   ],
   "source": [
    "gradient=GradientBoostingClassifier(learning_rate=0.1,n_estimators=100, random_state=10,max_features='auto',subsample=0.8,max_depth=19)\n",
    "cross_validation(gradient,df_train_over,df_train_obj_over,True)\n",
    "gradient.fit(df_train_over,df_train_obj_over)\n",
    "pred=gradient.predict(df_test_num)\n",
    "ids=df_test_orig[\"id\"]\n",
    "\n",
    "df_result = pd.DataFrame({'id': ids, 'Precio_cat': pred})\n",
    "df_result.to_csv(\"resultados_17.csv\", index=False)"
   ]
  }
 ],
 "metadata": {
  "colab": {
   "collapsed_sections": [],
   "name": "p3_10.ipynb",
   "provenance": []
  },
  "kernelspec": {
   "display_name": "Python 3",
   "language": "python",
   "name": "python3"
  },
  "language_info": {
   "codemirror_mode": {
    "name": "ipython",
    "version": 3
   },
   "file_extension": ".py",
   "mimetype": "text/x-python",
   "name": "python",
   "nbconvert_exporter": "python",
   "pygments_lexer": "ipython3",
   "version": "3.8.5"
  }
 },
 "nbformat": 4,
 "nbformat_minor": 1
}
