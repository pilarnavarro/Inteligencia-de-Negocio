{
 "cells": [
  {
   "cell_type": "markdown",
   "metadata": {},
   "source": [
    "# Práctica 3 - Quinta prueba\n",
    "\n",
    "#### Pilar Navarro Ramírez"
   ]
  },
  {
   "cell_type": "code",
   "execution_count": 1,
   "metadata": {},
   "outputs": [],
   "source": [
    "import pandas as pd"
   ]
  },
  {
   "cell_type": "markdown",
   "metadata": {},
   "source": [
    "## Preprocesamiento"
   ]
  },
  {
   "cell_type": "code",
   "execution_count": 2,
   "metadata": {},
   "outputs": [],
   "source": [
    "df_train=pd.read_csv(\"data/train.csv\",na_values=[\"\"])\n",
    "df_test=pd.read_csv(\"data/test.csv\",na_values=[\"\"])"
   ]
  },
  {
   "cell_type": "code",
   "execution_count": 3,
   "metadata": {},
   "outputs": [
    {
     "name": "stdout",
     "output_type": "stream",
     "text": [
      "<class 'pandas.core.frame.DataFrame'>\n",
      "RangeIndex: 4819 entries, 0 to 4818\n",
      "Data columns (total 14 columns):\n",
      " #   Column        Non-Null Count  Dtype  \n",
      "---  ------        --------------  -----  \n",
      " 0   id            4747 non-null   float64\n",
      " 1   Nombre        4747 non-null   object \n",
      " 2   Ciudad        4747 non-null   object \n",
      " 3   Año           4747 non-null   float64\n",
      " 4   Kilometros    4747 non-null   float64\n",
      " 5   Combustible   4747 non-null   object \n",
      " 6   Tipo_marchas  4747 non-null   object \n",
      " 7   Mano          4747 non-null   object \n",
      " 8   Consumo       4746 non-null   object \n",
      " 9   Motor_CC      4718 non-null   object \n",
      " 10  Potencia      4644 non-null   object \n",
      " 11  Asientos      4713 non-null   float64\n",
      " 12  Descuento     659 non-null    float64\n",
      " 13  Precio_cat    4819 non-null   int64  \n",
      "dtypes: float64(5), int64(1), object(8)\n",
      "memory usage: 527.2+ KB\n"
     ]
    }
   ],
   "source": [
    "df_train.info()"
   ]
  },
  {
   "cell_type": "code",
   "execution_count": 4,
   "metadata": {},
   "outputs": [],
   "source": [
    "df_train.columns = [col.lower() for col in df_train]\n",
    "df_test.columns = [col.lower() for col in df_test]\n",
    "\n",
    "df_train_orig = df_train.copy()\n",
    "df_test_orig = df_test.copy()\n",
    "\n",
    "del df_train[\"id\"]\n",
    "del df_test[\"id\"]"
   ]
  },
  {
   "cell_type": "markdown",
   "metadata": {},
   "source": [
    "### Tratamos los datos perdidos"
   ]
  },
  {
   "cell_type": "code",
   "execution_count": 5,
   "metadata": {},
   "outputs": [],
   "source": [
    "from sklearn import impute"
   ]
  },
  {
   "cell_type": "code",
   "execution_count": 6,
   "metadata": {},
   "outputs": [],
   "source": [
    "del df_train['descuento']\n",
    "del df_test['descuento']"
   ]
  },
  {
   "cell_type": "code",
   "execution_count": 7,
   "metadata": {},
   "outputs": [],
   "source": [
    "df_train_replaced=df_train.copy()\n",
    "imputer=impute.SimpleImputer(strategy=\"most_frequent\")\n",
    "values = imputer.fit_transform([df_train_replaced.asientos.values])\n",
    "df_train_replaced.asientos.update(pd.Series(values[0]))"
   ]
  },
  {
   "cell_type": "code",
   "execution_count": 8,
   "metadata": {},
   "outputs": [],
   "source": [
    "df_train_replaced=df_train_replaced.dropna()\n",
    "df_train=df_train.dropna()"
   ]
  },
  {
   "cell_type": "markdown",
   "metadata": {},
   "source": [
    "Separamos el atributo a predecir del resto de atributos en el conjunto de entrenamiento."
   ]
  },
  {
   "cell_type": "code",
   "execution_count": 9,
   "metadata": {},
   "outputs": [],
   "source": [
    "cols = [col for col in df_train.columns if col not in ['precio_cat']]    \n",
    "df_train, df_train_obj= df_train[cols], df_train['precio_cat']\n",
    "df_train_replaced, df_train_obj_replaced= df_train_replaced[cols], df_train_replaced['precio_cat']"
   ]
  },
  {
   "cell_type": "markdown",
   "metadata": {},
   "source": [
    "### 'Transformación' de variables categóricas a numéricas"
   ]
  },
  {
   "cell_type": "code",
   "execution_count": 10,
   "metadata": {},
   "outputs": [],
   "source": [
    "from sklearn.preprocessing import LabelEncoder\n",
    "\n",
    "categorical=[\"nombre\",\"ciudad\",\"combustible\",\"tipo_marchas\",\"mano\",\"consumo\",\"motor_cc\",\"potencia\"]\n",
    "\n",
    "df_train_num=df_train.copy()\n",
    "df_train_num_rpl=df_train_replaced.copy()\n",
    "df_test_num=df_test.copy()\n",
    "\n",
    "for atributo in categorical:\n",
    "    data=pd.read_csv(\"data/\"+atributo+\".csv\")\n",
    "    data.columns = [col.lower() for col in data]\n",
    "    label = LabelEncoder().fit(data[atributo])\n",
    "    df_train_num[atributo]=label.transform(df_train[atributo])\n",
    "    df_train_num_rpl[atributo]=label.transform(df_train_replaced[atributo])\n",
    "    df_test_num[atributo]=label.transform(df_test[atributo])"
   ]
  },
  {
   "cell_type": "markdown",
   "metadata": {},
   "source": [
    "### Normalización de los datos"
   ]
  },
  {
   "cell_type": "code",
   "execution_count": 11,
   "metadata": {},
   "outputs": [],
   "source": [
    "from sklearn.preprocessing import MinMaxScaler, LabelEncoder\n",
    "\n",
    "cols = [col for col in df_train_orig.columns if col not in ['precio_cat','id','descuento']]  \n",
    "categorical=[\"nombre\",\"ciudad\",\"combustible\",\"tipo_marchas\",\"mano\",\"consumo\",\"motor_cc\",\"potencia\"]\n",
    "\n",
    "df_train_norm=df_train_num.copy()\n",
    "df_train_norm_rpl=df_train_num_rpl.copy()\n",
    "df_test_norm=df_test_num.copy()\n",
    "\n",
    "\n",
    "for atributo in cols:\n",
    "    data=pd.read_csv(\"data/\"+atributo+\".csv\")\n",
    "    data.columns = [col.lower() for col in data]\n",
    "    if atributo in categorical:\n",
    "        label = LabelEncoder().fit(data[atributo])\n",
    "        data[atributo]=label.transform(data[atributo])\n",
    "    scaler = MinMaxScaler().fit(data.values)\n",
    "    train_values=df_train_num[atributo].values.reshape(-1,1)\n",
    "    df_train_norm[atributo]=scaler.transform(train_values)\n",
    "    train_values_rpl=df_train_num_rpl[atributo].values.reshape(-1,1)\n",
    "    df_train_norm_rpl[atributo]=scaler.transform(train_values_rpl)\n",
    "    test_values=df_test_num[atributo].values.reshape(-1,1)\n",
    "    df_test_norm[atributo]=scaler.transform(test_values)\n",
    "    "
   ]
  },
  {
   "cell_type": "markdown",
   "metadata": {},
   "source": [
    "## Aplicación de los algoritmos"
   ]
  },
  {
   "cell_type": "code",
   "execution_count": 12,
   "metadata": {},
   "outputs": [],
   "source": [
    "import numpy as np\n",
    "\n",
    "from sklearn.model_selection import cross_val_score\n",
    "\n",
    "def cross_validation(clf,x,y,mostrar=False):\n",
    "    scores=cross_val_score(clf,x,y,scoring='accuracy',cv=5)\n",
    "    accuracy=np.mean(scores)  \n",
    "    if mostrar:\n",
    "        print(\"Accuracy: \", accuracy)\n",
    "    return accuracy"
   ]
  },
  {
   "cell_type": "code",
   "execution_count": 27,
   "metadata": {},
   "outputs": [
    {
     "name": "stdout",
     "output_type": "stream",
     "text": [
      "Datos normalizados con todos nulos eliminados: \n",
      "RandomForestClassifier(random_state=10)\n",
      "Accuracy:  0.822791822721598\n",
      "Datos normalizados con nulos en asientos reemplazados: \n",
      "RandomForestClassifier(random_state=10)\n",
      "Accuracy:  0.8225264679620732\n",
      "Datos normalizados con todos nulos eliminados: \n",
      "MLPClassifier(max_iter=10000, random_state=10)\n",
      "Accuracy:  0.6995602372034957\n",
      "Datos normalizados con nulos en asientos reemplazados: \n",
      "MLPClassifier(max_iter=10000, random_state=10)\n",
      "Accuracy:  0.7510483924851032\n"
     ]
    }
   ],
   "source": [
    "from sklearn.ensemble import RandomForestClassifier\n",
    "from sklearn.neural_network import MLPClassifier\n",
    "\n",
    "forest=RandomForestClassifier(random_state=10)\n",
    "NN=MLPClassifier(random_state=10,max_iter=10000)\n",
    "clfs=[forest,NN]\n",
    "\n",
    "for clf in clfs:\n",
    "    print(\"Datos normalizados con todos nulos eliminados: \")\n",
    "    print(clf)\n",
    "    cross_validation(clf, df_train_norm, df_train_obj,True)\n",
    "    print(\"Datos normalizados con nulos en asientos reemplazados: \")\n",
    "    print(clf)\n",
    "    cross_validation(clf,df_train_norm_rpl,df_train_obj_replaced,True)"
   ]
  },
  {
   "cell_type": "markdown",
   "metadata": {},
   "source": [
    "### Configuración de los parámetros"
   ]
  },
  {
   "cell_type": "markdown",
   "metadata": {},
   "source": [
    "##### Redes Neuronales"
   ]
  },
  {
   "cell_type": "code",
   "execution_count": 14,
   "metadata": {},
   "outputs": [],
   "source": [
    "from matplotlib import pyplot as plt\n",
    "from sklearn.neural_network import MLPClassifier\n",
    "\n",
    "def tune_layers(max_value):\n",
    "    acc=[]\n",
    "    for i in range(40,max_value,20):\n",
    "        NN=MLPClassifier(hidden_layer_sizes=(i,i),random_state=10,max_iter=1000)\n",
    "        acc.append(cross_validation(NN,df_train_norm,df_train_obj))\n",
    "\n",
    "    fig, ax =plt.subplots(figsize=(15,5))\n",
    "    ax.plot(range(40,max_value,20), acc)\n",
    "    ax.set_title('Neural Network')\n",
    "    ax.set_xlabel('Tamaño capas')\n",
    "    ax.set_ylabel('Accuracy')\n",
    "    plt.show()"
   ]
  },
  {
   "cell_type": "code",
   "execution_count": 29,
   "metadata": {},
   "outputs": [
    {
     "data": {
      "image/png": "[encoded data removed]",
      "text/plain": [
       "<Figure size 1080x360 with 1 Axes>"
      ]
     },
     "metadata": {
      "needs_background": "light"
     },
     "output_type": "display_data"
    }
   ],
   "source": [
    "tune_layers(600)"
   ]
  },
  {
   "cell_type": "code",
   "execution_count": 17,
   "metadata": {},
   "outputs": [
    {
     "name": "stdout",
     "output_type": "stream",
     "text": [
      "Accuracy:  0.7575505617977528\n"
     ]
    },
    {
     "data": {
      "text/plain": [
       "0.7575505617977528"
      ]
     },
     "execution_count": 17,
     "metadata": {},
     "output_type": "execute_result"
    }
   ],
   "source": [
    "NN=MLPClassifier(hidden_layer_sizes=(340,340),random_state=10,max_iter=1000)\n",
    "cross_validation(NN, df_train_norm, df_train_obj,True)"
   ]
  },
  {
   "cell_type": "code",
   "execution_count": 27,
   "metadata": {},
   "outputs": [
    {
     "data": {
      "text/plain": [
       "GridSearchCV(cv=5, estimator=MLPClassifier(random_state=10), n_jobs=-1,\n",
       "             param_grid={'alpha': [0.001, 0.0003, 0.0015, 0.01, 0.02, 0.1],\n",
       "                         'hidden_layer_sizes': [(200, 100, 100),\n",
       "                                                (300, 200, 100), (200, 100, 50),\n",
       "                                                (340, 340)],\n",
       "                         'max_iter': [10000]})"
      ]
     },
     "execution_count": 27,
     "metadata": {},
     "output_type": "execute_result"
    }
   ],
   "source": [
    "from sklearn.model_selection import GridSearchCV\n",
    "\n",
    "mlp=MLPClassifier(random_state=10)\n",
    "parameter_space = {\n",
    "    'hidden_layer_sizes': [(200,100,100),(300,200,100),(200,100,50),(340,340)],\n",
    "    'alpha': [0.001, 0.0003,0.0015,0.01,0.02,0.1,],\n",
    "    'max_iter':[10000],\n",
    "}\n",
    "\n",
    "clf=GridSearchCV(mlp, parameter_space, n_jobs=-1, cv=5)\n",
    "clf.fit(df_train_norm, df_train_obj)"
   ]
  },
  {
   "cell_type": "code",
   "execution_count": 29,
   "metadata": {},
   "outputs": [
    {
     "name": "stdout",
     "output_type": "stream",
     "text": [
      "Mejores parámetros:  {'alpha': 0.0015, 'hidden_layer_sizes': (300, 200, 100), 'max_iter': 10000}\n"
     ]
    }
   ],
   "source": [
    "print('Mejores parámetros: ', clf.best_params_)"
   ]
  },
  {
   "cell_type": "code",
   "execution_count": 21,
   "metadata": {},
   "outputs": [
    {
     "name": "stdout",
     "output_type": "stream",
     "text": [
      "Accuracy:  0.7578021223470662\n"
     ]
    },
    {
     "data": {
      "text/plain": [
       "0.7578021223470662"
      ]
     },
     "execution_count": 21,
     "metadata": {},
     "output_type": "execute_result"
    }
   ],
   "source": [
    "NN=MLPClassifier(hidden_layer_sizes=(300,200,100),random_state=10,max_iter=1000,alpha=0.0015)\n",
    "cross_validation(NN,df_train_norm,df_train_obj,True)"
   ]
  },
  {
   "cell_type": "code",
   "execution_count": 22,
   "metadata": {},
   "outputs": [
    {
     "data": {
      "text/plain": [
       "GridSearchCV(cv=5,\n",
       "             estimator=MLPClassifier(early_stopping=True, max_iter=10000,\n",
       "                                     random_state=10),\n",
       "             n_jobs=-1,\n",
       "             param_grid={'alpha': [0.0015, 0.002, 0.01, 0.0005, 0.0009, 0.003],\n",
       "                         'hidden_layer_sizes': [(400, 300, 200),\n",
       "                                                (300, 200, 100),\n",
       "                                                (300, 200, 300)]})"
      ]
     },
     "execution_count": 22,
     "metadata": {},
     "output_type": "execute_result"
    }
   ],
   "source": [
    "mlp=MLPClassifier(random_state=10,max_iter=10000,early_stopping=True)\n",
    "parameter_space = {\n",
    "    'hidden_layer_sizes': [(400,300,200),(300,200,100),(300,200,300)],\n",
    "    'alpha': [0.0015, 0.002,0.01,0.0005,0.0009,0.003],\n",
    "}\n",
    "\n",
    "clf=GridSearchCV(mlp, parameter_space, n_jobs=-1, cv=5)\n",
    "clf.fit(df_train_norm, df_train_obj)"
   ]
  },
  {
   "cell_type": "code",
   "execution_count": 23,
   "metadata": {},
   "outputs": [
    {
     "name": "stdout",
     "output_type": "stream",
     "text": [
      "Mejores parámetros:  {'alpha': 0.002, 'hidden_layer_sizes': (400, 300, 200)}\n"
     ]
    }
   ],
   "source": [
    "print('Mejores parámetros: ', clf.best_params_)"
   ]
  },
  {
   "cell_type": "code",
   "execution_count": 24,
   "metadata": {},
   "outputs": [
    {
     "name": "stdout",
     "output_type": "stream",
     "text": [
      "Accuracy:  0.7185546192259675\n"
     ]
    },
    {
     "data": {
      "text/plain": [
       "0.7185546192259675"
      ]
     },
     "execution_count": 24,
     "metadata": {},
     "output_type": "execute_result"
    }
   ],
   "source": [
    "NN=MLPClassifier(hidden_layer_sizes=(400,300,200),random_state=10,max_iter=1000,alpha=0.002)\n",
    "cross_validation(NN,df_train_norm,df_train_obj,True)"
   ]
  },
  {
   "cell_type": "markdown",
   "metadata": {},
   "source": [
    "### Aplicación al conjunto de test"
   ]
  },
  {
   "cell_type": "code",
   "execution_count": null,
   "metadata": {},
   "outputs": [],
   "source": [
    "NN=MLPClassifier(hidden_layer_sizes=(300,200,100),random_state=10,max_iter=1000,alpha=0.0015)\n",
    "NN.fit(df_train_norm,df_train_obj)\n",
    "pred=NN.predict(df_test_norm)\n",
    "ids=df_test_orig[\"id\"]\n",
    "\n",
    "df_result = pd.DataFrame({'id': ids, 'Precio_cat': pred})\n",
    "df_result.to_csv(\"resultados_6.csv\", index=False)"
   ]
  }
 ],
 "metadata": {
  "kernelspec": {
   "display_name": "Python 3",
   "language": "python",
   "name": "python3"
  },
  "language_info": {
   "codemirror_mode": {
    "name": "ipython",
    "version": 3
   },
   "file_extension": ".py",
   "mimetype": "text/x-python",
   "name": "python",
   "nbconvert_exporter": "python",
   "pygments_lexer": "ipython3",
   "version": "3.8.5"
  }
 },
 "nbformat": 4,
 "nbformat_minor": 4
}
