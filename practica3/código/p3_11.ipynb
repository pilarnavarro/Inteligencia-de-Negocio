{
 "cells": [
  {
   "cell_type": "markdown",
   "metadata": {
    "id": "kAl2Pfqgt7jV"
   },
   "source": [
    "# Práctica 3 - Prueba 11\n",
    "\n",
    "#### Pilar Navarro Ramírez"
   ]
  },
  {
   "cell_type": "code",
   "execution_count": 1,
   "metadata": {
    "executionInfo": {
     "elapsed": 94713,
     "status": "ok",
     "timestamp": 1609459392878,
     "user": {
      "displayName": "Pilar Navarro",
      "photoUrl": "https://lh3.googleusercontent.com/a-/AOh14GjVEQ2fcXNkztOVtwH3gYkL7MU-0jktiO2acTgy7Q=s64",
      "userId": "13653515932275687032"
     },
     "user_tz": -60
    },
    "id": "po-COB7rBcEj"
   },
   "outputs": [],
   "source": [
    "import pandas as pd"
   ]
  },
  {
   "cell_type": "markdown",
   "metadata": {
    "id": "ve9FJ0aYt7jY"
   },
   "source": [
    "## Preprocesamiento"
   ]
  },
  {
   "cell_type": "code",
   "execution_count": 2,
   "metadata": {
    "executionInfo": {
     "elapsed": 94841,
     "status": "ok",
     "timestamp": 1609459393156,
     "user": {
      "displayName": "Pilar Navarro",
      "photoUrl": "https://lh3.googleusercontent.com/a-/AOh14GjVEQ2fcXNkztOVtwH3gYkL7MU-0jktiO2acTgy7Q=s64",
      "userId": "13653515932275687032"
     },
     "user_tz": -60
    },
    "id": "HSkhuWhJt7jZ"
   },
   "outputs": [],
   "source": [
    "df_train=pd.read_csv(\"data/train.csv\",na_values=[\"\"])\n",
    "df_test=pd.read_csv(\"data/test.csv\",na_values=[\"\"])"
   ]
  },
  {
   "cell_type": "code",
   "execution_count": 3,
   "metadata": {
    "executionInfo": {
     "elapsed": 94824,
     "status": "ok",
     "timestamp": 1609459393158,
     "user": {
      "displayName": "Pilar Navarro",
      "photoUrl": "https://lh3.googleusercontent.com/a-/AOh14GjVEQ2fcXNkztOVtwH3gYkL7MU-0jktiO2acTgy7Q=s64",
      "userId": "13653515932275687032"
     },
     "user_tz": -60
    },
    "id": "AUgXDG4Dt7jb"
   },
   "outputs": [],
   "source": [
    "df_train.columns = [col.lower() for col in df_train]\n",
    "df_test.columns = [col.lower() for col in df_test]\n",
    "\n",
    "df_train_orig = df_train.copy()\n",
    "df_test_orig = df_test.copy()\n",
    "\n",
    "del df_train[\"id\"]\n",
    "del df_test[\"id\"]"
   ]
  },
  {
   "cell_type": "markdown",
   "metadata": {
    "id": "QP6GuJ7_t7jc"
   },
   "source": [
    "### Tratamos los datos perdidos"
   ]
  },
  {
   "cell_type": "code",
   "execution_count": 4,
   "metadata": {
    "executionInfo": {
     "elapsed": 95038,
     "status": "ok",
     "timestamp": 1609459393404,
     "user": {
      "displayName": "Pilar Navarro",
      "photoUrl": "https://lh3.googleusercontent.com/a-/AOh14GjVEQ2fcXNkztOVtwH3gYkL7MU-0jktiO2acTgy7Q=s64",
      "userId": "13653515932275687032"
     },
     "user_tz": -60
    },
    "id": "yqa3QvXjt7je"
   },
   "outputs": [],
   "source": [
    "from sklearn import impute"
   ]
  },
  {
   "cell_type": "code",
   "execution_count": 5,
   "metadata": {
    "executionInfo": {
     "elapsed": 95023,
     "status": "ok",
     "timestamp": 1609459393405,
     "user": {
      "displayName": "Pilar Navarro",
      "photoUrl": "https://lh3.googleusercontent.com/a-/AOh14GjVEQ2fcXNkztOVtwH3gYkL7MU-0jktiO2acTgy7Q=s64",
      "userId": "13653515932275687032"
     },
     "user_tz": -60
    },
    "id": "qMO612VMt7je"
   },
   "outputs": [],
   "source": [
    "del df_train['descuento']\n",
    "del df_test['descuento']"
   ]
  },
  {
   "cell_type": "code",
   "execution_count": 6,
   "metadata": {
    "executionInfo": {
     "elapsed": 95761,
     "status": "ok",
     "timestamp": 1609459394152,
     "user": {
      "displayName": "Pilar Navarro",
      "photoUrl": "https://lh3.googleusercontent.com/a-/AOh14GjVEQ2fcXNkztOVtwH3gYkL7MU-0jktiO2acTgy7Q=s64",
      "userId": "13653515932275687032"
     },
     "user_tz": -60
    },
    "id": "orpFPZzTt7jf"
   },
   "outputs": [],
   "source": [
    "df_train_replaced=df_train.copy()\n",
    "imputer=impute.SimpleImputer(strategy=\"most_frequent\")\n",
    "values = imputer.fit_transform([df_train_replaced.asientos.values])\n",
    "df_train_replaced.asientos.update(pd.Series(values[0]))"
   ]
  },
  {
   "cell_type": "code",
   "execution_count": 7,
   "metadata": {
    "executionInfo": {
     "elapsed": 95756,
     "status": "ok",
     "timestamp": 1609459394160,
     "user": {
      "displayName": "Pilar Navarro",
      "photoUrl": "https://lh3.googleusercontent.com/a-/AOh14GjVEQ2fcXNkztOVtwH3gYkL7MU-0jktiO2acTgy7Q=s64",
      "userId": "13653515932275687032"
     },
     "user_tz": -60
    },
    "id": "B5xbcN7Xt7jg"
   },
   "outputs": [],
   "source": [
    "df_train_replaced=df_train_replaced.dropna()\n",
    "df_train=df_train.dropna()"
   ]
  },
  {
   "cell_type": "markdown",
   "metadata": {
    "id": "0HETHDJct7jg"
   },
   "source": [
    "Separamos el atributo a predecir del resto de atributos en el conjunto de entrenamiento."
   ]
  },
  {
   "cell_type": "code",
   "execution_count": 8,
   "metadata": {
    "executionInfo": {
     "elapsed": 95744,
     "status": "ok",
     "timestamp": 1609459394161,
     "user": {
      "displayName": "Pilar Navarro",
      "photoUrl": "https://lh3.googleusercontent.com/a-/AOh14GjVEQ2fcXNkztOVtwH3gYkL7MU-0jktiO2acTgy7Q=s64",
      "userId": "13653515932275687032"
     },
     "user_tz": -60
    },
    "id": "PSwFypeut7jh"
   },
   "outputs": [],
   "source": [
    "cols = [col for col in df_train.columns if col not in ['precio_cat']]    \n",
    "df_train, df_train_obj= df_train[cols], df_train['precio_cat']\n",
    "df_train_replaced, df_train_obj_replaced= df_train_replaced[cols], df_train_replaced['precio_cat']"
   ]
  },
  {
   "cell_type": "markdown",
   "metadata": {
    "id": "Qv74uLNgt7jh"
   },
   "source": [
    "### Nos quedamos sólo con la marca del nombre"
   ]
  },
  {
   "cell_type": "code",
   "execution_count": 9,
   "metadata": {
    "executionInfo": {
     "elapsed": 95733,
     "status": "ok",
     "timestamp": 1609459394163,
     "user": {
      "displayName": "Pilar Navarro",
      "photoUrl": "https://lh3.googleusercontent.com/a-/AOh14GjVEQ2fcXNkztOVtwH3gYkL7MU-0jktiO2acTgy7Q=s64",
      "userId": "13653515932275687032"
     },
     "user_tz": -60
    },
    "id": "TWrX0hUxt7jh"
   },
   "outputs": [],
   "source": [
    "nombre=pd.read_csv(\"data/nombre.csv\")\n",
    "nombre.columns = [col.lower() for col in nombre]\n",
    "\n",
    "#Función que se queda con la primera palabra de una cadena\n",
    "def marca(cad):\n",
    "    return cad.split(' ', 1)[0]\n",
    "nombre['nombre'] = nombre['nombre'].map(marca)\n",
    "nombre=nombre.drop_duplicates()\n",
    "df_train['nombre']=df_train['nombre'].map(marca)\n",
    "df_train_replaced['nombre']=df_train_replaced['nombre'].map(marca)\n",
    "df_test['nombre']=df_test['nombre'].map(marca)"
   ]
  },
  {
   "cell_type": "markdown",
   "metadata": {
    "id": "AqrdiijRt7jj"
   },
   "source": [
    "### Normalización de los datos numéricos"
   ]
  },
  {
   "cell_type": "code",
   "execution_count": 10,
   "metadata": {
    "executionInfo": {
     "elapsed": 95685,
     "status": "ok",
     "timestamp": 1609459394167,
     "user": {
      "displayName": "Pilar Navarro",
      "photoUrl": "https://lh3.googleusercontent.com/a-/AOh14GjVEQ2fcXNkztOVtwH3gYkL7MU-0jktiO2acTgy7Q=s64",
      "userId": "13653515932275687032"
     },
     "user_tz": -60
    },
    "id": "QnJlXMstt7jk"
   },
   "outputs": [],
   "source": [
    "from sklearn.preprocessing import MinMaxScaler\n",
    "\n",
    "exc=[\"nombre\",\"ciudad\",\"combustible\",\"tipo_marchas\",\"mano\",\"consumo\",\"motor_cc\",\"potencia\",'precio_cat','id','descuento']\n",
    "cols = [col for col in df_train_orig.columns if col not in exc]  \n",
    "\n",
    "\n",
    "df_train_norm=df_train.copy()\n",
    "df_train_norm_rpl=df_train_replaced.copy()\n",
    "df_test_norm=df_test.copy()\n",
    "\n",
    "\n",
    "for atributo in cols:\n",
    "    data=pd.read_csv(\"data/\"+atributo+\".csv\")\n",
    "    data.columns = [col.lower() for col in data]\n",
    "    scaler = MinMaxScaler().fit(data.values)\n",
    "    train_values=df_train[atributo].values.reshape(-1,1)\n",
    "    df_train_norm[atributo]=scaler.transform(train_values)\n",
    "    train_values_rpl=df_train_replaced[atributo].values.reshape(-1,1)\n",
    "    df_train_norm_rpl[atributo]=scaler.transform(train_values_rpl)\n",
    "    test_values=df_test[atributo].values.reshape(-1,1)\n",
    "    df_test_norm[atributo]=scaler.transform(test_values)\n",
    "    "
   ]
  },
  {
   "cell_type": "markdown",
   "metadata": {
    "id": "cFt-2Qept7jk"
   },
   "source": [
    "### 'Transformación' de variables categóricas a binarias"
   ]
  },
  {
   "cell_type": "code",
   "execution_count": 11,
   "metadata": {
    "executionInfo": {
     "elapsed": 7531,
     "status": "ok",
     "timestamp": 1609459299054,
     "user": {
      "displayName": "Pilar Navarro",
      "photoUrl": "https://lh3.googleusercontent.com/a-/AOh14GjVEQ2fcXNkztOVtwH3gYkL7MU-0jktiO2acTgy7Q=s64",
      "userId": "13653515932275687032"
     },
     "user_tz": -60
    },
    "id": "ZeTzwyIpt7jl"
   },
   "outputs": [],
   "source": [
    "from sklearn.preprocessing import OneHotEncoder\n",
    "import numpy as np\n",
    "\n",
    "categorical=[\"nombre\",\"ciudad\",\"combustible\",\"tipo_marchas\",\"mano\",\"consumo\",\"motor_cc\",\"potencia\"]\n",
    "cols = [col for col in df_train.columns if col not in categorical]    \n",
    "\n",
    "df_train_num=df_train_norm.copy()\n",
    "df_train_num_rpl=df_train_norm_rpl.copy()\n",
    "df_test_num=df_test_norm.copy()\n",
    "\n",
    "df_train_num=np.array(df_train_num[cols])\n",
    "df_train_num_rpl=np.array(df_train_num_rpl[cols])\n",
    "df_test_num=np.array(df_test_num[cols])\n",
    "\n",
    "for atributo in categorical:\n",
    "    if atributo=='nombre':\n",
    "        data=nombre.copy()\n",
    "    else:\n",
    "        data=pd.read_csv(\"data/\"+atributo+\".csv\")\n",
    "        data.columns = [col.lower() for col in data]\n",
    "    enc = OneHotEncoder().fit(data[atributo].values.reshape(-1,1))\n",
    "\n",
    "    #Conjunto de entrenamiento con ambos preprocesamientos\n",
    "    enc_train=enc.transform(df_train[atributo].values.reshape(-1,1)).toarray()        \n",
    "    df_train_num=np.hstack((df_train_num,enc_train))\n",
    "    \n",
    "    enc_train_rpl=enc.transform(df_train_replaced[atributo].values.reshape(-1,1)).toarray()\n",
    "    df_train_num_rpl=np.hstack((df_train_num_rpl,enc_train_rpl))\n",
    "\n",
    "    \n",
    "    #Conjunto de test\n",
    "    enc_test=enc.transform(df_test[atributo].values.reshape(-1,1)).toarray()\n",
    "    df_test_num=np.hstack((df_test_num,enc_test))\n",
    "                          \n",
    "df_train_num=pd.DataFrame(df_train_num)\n",
    "df_train_num_rpl=pd.DataFrame(df_train_num_rpl)\n",
    "df_test_num=pd.DataFrame(df_test_num)"
   ]
  },
  {
   "cell_type": "markdown",
   "metadata": {
    "id": "435uFinGt7jm"
   },
   "source": [
    "Eliminamos las columnas que son todo nula."
   ]
  },
  {
   "cell_type": "code",
   "execution_count": 12,
   "metadata": {
    "executionInfo": {
     "elapsed": 7530,
     "status": "ok",
     "timestamp": 1609459299057,
     "user": {
      "displayName": "Pilar Navarro",
      "photoUrl": "https://lh3.googleusercontent.com/a-/AOh14GjVEQ2fcXNkztOVtwH3gYkL7MU-0jktiO2acTgy7Q=s64",
      "userId": "13653515932275687032"
     },
     "user_tz": -60
    },
    "id": "eFJrpKflt7jm"
   },
   "outputs": [],
   "source": [
    "cols = [col for col in df_train_num.columns if df_train_num[col].max()!=0.0]\n",
    "df_train_num=df_train_num[cols]\n",
    "df_test_num=df_test_num[cols]\n",
    "df_train_num_rpl=df_train_num_rpl[cols]"
   ]
  },
  {
   "cell_type": "markdown",
   "metadata": {
    "id": "no9aePSlt7jn"
   },
   "source": [
    "### Oversampling"
   ]
  },
  {
   "cell_type": "code",
   "execution_count": 13,
   "metadata": {
    "colab": {
     "base_uri": "https://localhost:8080/"
    },
    "executionInfo": {
     "elapsed": 101309,
     "status": "ok",
     "timestamp": 1609459392875,
     "user": {
      "displayName": "Pilar Navarro",
      "photoUrl": "https://lh3.googleusercontent.com/a-/AOh14GjVEQ2fcXNkztOVtwH3gYkL7MU-0jktiO2acTgy7Q=s64",
      "userId": "13653515932275687032"
     },
     "user_tz": -60
    },
    "id": "Hq0dHYRat7jn",
    "outputId": "85a6cf27-0dd7-4d3b-a673-559f9712963a"
   },
   "outputs": [
    {
     "data": {
      "text/plain": [
       "Counter({3: 1716, 2: 1763, 4: 1752, 5: 1818, 1: 1810})"
      ]
     },
     "execution_count": 13,
     "metadata": {},
     "output_type": "execute_result"
    }
   ],
   "source": [
    "from imblearn.combine import SMOTETomek\n",
    "from collections import Counter\n",
    "smote=SMOTETomek(random_state=10)\n",
    "df_train_over, df_train_obj_over = smote.fit_resample(df_train_num, df_train_obj)\n",
    "df_train_over_rpl, df_train_obj_over_rpl = smote.fit_resample(df_train_num_rpl, df_train_obj_replaced)\n",
    "Counter(df_train_obj_over)"
   ]
  },
  {
   "cell_type": "markdown",
   "metadata": {
    "id": "SiGF1qsyt7jo"
   },
   "source": [
    "## Aplicación de los algoritmos"
   ]
  },
  {
   "cell_type": "code",
   "execution_count": 14,
   "metadata": {
    "executionInfo": {
     "elapsed": 95682,
     "status": "ok",
     "timestamp": 1609459394168,
     "user": {
      "displayName": "Pilar Navarro",
      "photoUrl": "https://lh3.googleusercontent.com/a-/AOh14GjVEQ2fcXNkztOVtwH3gYkL7MU-0jktiO2acTgy7Q=s64",
      "userId": "13653515932275687032"
     },
     "user_tz": -60
    },
    "id": "xwY1v01At7jo"
   },
   "outputs": [],
   "source": [
    "import numpy as np\n",
    "\n",
    "from sklearn.model_selection import cross_val_score\n",
    "\n",
    "def cross_validation(clf,x,y,mostrar=False):\n",
    "    scores=cross_val_score(clf,x,y,scoring='accuracy',cv=5)\n",
    "    accuracy=np.mean(scores)  \n",
    "    if mostrar:\n",
    "        print(\"Accuracy: \", accuracy)\n",
    "    return accuracy"
   ]
  },
  {
   "cell_type": "markdown",
   "metadata": {
    "id": "2O76bXT0uzR8"
   },
   "source": [
    "### Stacking"
   ]
  },
  {
   "cell_type": "code",
   "execution_count": 20,
   "metadata": {
    "colab": {
     "base_uri": "https://localhost:8080/"
    },
    "executionInfo": {
     "elapsed": 11564396,
     "status": "ok",
     "timestamp": 1609470862894,
     "user": {
      "displayName": "Pilar Navarro",
      "photoUrl": "https://lh3.googleusercontent.com/a-/AOh14GjVEQ2fcXNkztOVtwH3gYkL7MU-0jktiO2acTgy7Q=s64",
      "userId": "13653515932275687032"
     },
     "user_tz": -60
    },
    "id": "kl-Y3IWMuxpV",
    "outputId": "c598853a-4cf2-44b2-82f7-b709e7f4dd24"
   },
   "outputs": [
    {
     "name": "stdout",
     "output_type": "stream",
     "text": [
      "Accuracy:  0.9636549729591245\n"
     ]
    },
    {
     "data": {
      "text/plain": [
       "0.9636549729591245"
      ]
     },
     "execution_count": 20,
     "metadata": {},
     "output_type": "execute_result"
    }
   ],
   "source": [
    "from sklearn.ensemble import StackingClassifier\n",
    "from sklearn.svm import LinearSVC\n",
    "from sklearn.tree import DecisionTreeClassifier\n",
    "from sklearn.ensemble import RandomForestClassifier,ExtraTreesClassifier,GradientBoostingClassifier\n",
    "from sklearn.neural_network import MLPClassifier\n",
    "\n",
    "forest=RandomForestClassifier(random_state=10)\n",
    "svc=LinearSVC(random_state=10,C=50,max_iter=100000)\n",
    "extra=ExtraTreesClassifier(n_estimators=180,random_state=10)\n",
    "NN=MLPClassifier(hidden_layer_sizes=(460,460),random_state=10,max_iter=10000,alpha=0.009)\n",
    "gradient=GradientBoostingClassifier(n_estimators=100, random_state=10,max_features='auto',subsample=0.8,max_depth=19)\n",
    "\n",
    "estimators = [('Linear SVC', svc),\n",
    "     ('forest', forest),('gradient', gradient),('Red',NN)]\n",
    "\n",
    "clf = StackingClassifier(estimators=estimators, final_estimator=forest,cv=5)\n",
    "cross_validation(clf, df_train_over, df_train_obj_over,True)"
   ]
  },
  {
   "cell_type": "code",
   "execution_count": 21,
   "metadata": {
    "colab": {
     "base_uri": "https://localhost:8080/"
    },
    "executionInfo": {
     "elapsed": 23207356,
     "status": "ok",
     "timestamp": 1609482505857,
     "user": {
      "displayName": "Pilar Navarro",
      "photoUrl": "https://lh3.googleusercontent.com/a-/AOh14GjVEQ2fcXNkztOVtwH3gYkL7MU-0jktiO2acTgy7Q=s64",
      "userId": "13653515932275687032"
     },
     "user_tz": -60
    },
    "id": "aJMjjroE765g",
    "outputId": "03f47c32-6a0f-4419-bc4d-22f0f00da439"
   },
   "outputs": [
    {
     "name": "stdout",
     "output_type": "stream",
     "text": [
      "Accuracy:  0.9647835774001248\n"
     ]
    },
    {
     "data": {
      "text/plain": [
       "0.9647835774001248"
      ]
     },
     "execution_count": 21,
     "metadata": {},
     "output_type": "execute_result"
    }
   ],
   "source": [
    "estimators = [('Linear SVC', svc),\n",
    "     ('forest', forest),('gradient', gradient),('Red',NN)]\n",
    "\n",
    "clf = StackingClassifier(estimators=estimators, final_estimator=gradient,cv=5)\n",
    "cross_validation(clf, df_train_over, df_train_obj_over,True)"
   ]
  },
  {
   "cell_type": "code",
   "execution_count": 22,
   "metadata": {
    "colab": {
     "background_save": true
    },
    "id": "qxYsQTUq8e9d"
   },
   "outputs": [
    {
     "name": "stdout",
     "output_type": "stream",
     "text": [
      "Accuracy:  0.9588016360908697\n"
     ]
    },
    {
     "data": {
      "text/plain": [
       "0.9588016360908697"
      ]
     },
     "execution_count": 22,
     "metadata": {},
     "output_type": "execute_result"
    }
   ],
   "source": [
    "estimators = [('Linear SVC', svc),\n",
    "     ('forest', forest),('gradient', gradient),('Red',NN)]\n",
    "\n",
    "clf = StackingClassifier(estimators=estimators, final_estimator=NN,cv=5)\n",
    "cross_validation(clf, df_train_over, df_train_obj_over,True)"
   ]
  },
  {
   "cell_type": "code",
   "execution_count": 23,
   "metadata": {
    "id": "HnfZHlklDl_W"
   },
   "outputs": [
    {
     "name": "stdout",
     "output_type": "stream",
     "text": [
      "Accuracy:  0.9633163725076572\n"
     ]
    },
    {
     "data": {
      "text/plain": [
       "0.9633163725076572"
      ]
     },
     "execution_count": 23,
     "metadata": {},
     "output_type": "execute_result"
    }
   ],
   "source": [
    "estimators = [('forest', forest),('gradient', gradient),('Red',NN)]\n",
    "\n",
    "clf = StackingClassifier(estimators=estimators, final_estimator=forest,cv=5)\n",
    "cross_validation(clf, df_train_over, df_train_obj_over,True)"
   ]
  },
  {
   "cell_type": "code",
   "execution_count": 15,
   "metadata": {
    "id": "kt5CjQjcD0yc"
   },
   "outputs": [
    {
     "name": "stdout",
     "output_type": "stream",
     "text": [
      "Accuracy:  0.9620743276744846\n"
     ]
    },
    {
     "data": {
      "text/plain": [
       "0.9620743276744846"
      ]
     },
     "execution_count": 15,
     "metadata": {},
     "output_type": "execute_result"
    }
   ],
   "source": [
    "estimators = [('gradient', gradient),('Red',NN)]\n",
    "\n",
    "clf = StackingClassifier(estimators=estimators, final_estimator=forest,cv=5)\n",
    "cross_validation(clf, df_train_over, df_train_obj_over,True)"
   ]
  },
  {
   "cell_type": "code",
   "execution_count": 16,
   "metadata": {
    "id": "lxXRajp3GCJU"
   },
   "outputs": [
    {
     "name": "stdout",
     "output_type": "stream",
     "text": [
      "Accuracy:  0.9646707105829689\n"
     ]
    },
    {
     "data": {
      "text/plain": [
       "0.9646707105829689"
      ]
     },
     "execution_count": 16,
     "metadata": {},
     "output_type": "execute_result"
    }
   ],
   "source": [
    "estimators = [('Linear SVC', svc),\n",
    "     ('forest', forest),('gradient', gradient),('Red',NN),('extra',extra)]\n",
    "\n",
    "clf = StackingClassifier(estimators=estimators, final_estimator=forest,cv=5)\n",
    "cross_validation(clf, df_train_over, df_train_obj_over,True) "
   ]
  },
  {
   "cell_type": "markdown",
   "metadata": {},
   "source": [
    "### Configuración de los parámetros"
   ]
  },
  {
   "cell_type": "markdown",
   "metadata": {
    "id": "tj51jG8Mt7jq"
   },
   "source": [
    "#### Extra Trees"
   ]
  },
  {
   "cell_type": "markdown",
   "metadata": {
    "id": "BUkrR3x_t7jr"
   },
   "source": [
    "Parámetro bootstrap."
   ]
  },
  {
   "cell_type": "code",
   "execution_count": 17,
   "metadata": {
    "id": "LdQLke4et7jr",
    "scrolled": true
   },
   "outputs": [
    {
     "name": "stdout",
     "output_type": "stream",
     "text": [
      "Accuracy:  0.9475136160335886\n"
     ]
    },
    {
     "data": {
      "text/plain": [
       "0.9475136160335886"
      ]
     },
     "execution_count": 17,
     "metadata": {},
     "output_type": "execute_result"
    }
   ],
   "source": [
    "extra=ExtraTreesClassifier(random_state=10,bootstrap=True)\n",
    "cross_validation(extra, df_train_over, df_train_obj_over,True)"
   ]
  },
  {
   "cell_type": "code",
   "execution_count": 18,
   "metadata": {
    "id": "WR4tMS1zt7jr",
    "scrolled": true
   },
   "outputs": [
    {
     "name": "stdout",
     "output_type": "stream",
     "text": [
      "Accuracy:  0.9527057445449829\n"
     ]
    },
    {
     "data": {
      "text/plain": [
       "0.9527057445449829"
      ]
     },
     "execution_count": 18,
     "metadata": {},
     "output_type": "execute_result"
    }
   ],
   "source": [
    "extra=ExtraTreesClassifier(random_state=10)\n",
    "cross_validation(extra, df_train_over, df_train_obj_over,True)"
   ]
  },
  {
   "cell_type": "markdown",
   "metadata": {
    "id": "vMo1fONzt7js"
   },
   "source": [
    "Configuramos el número de árboles"
   ]
  },
  {
   "cell_type": "code",
   "execution_count": 19,
   "metadata": {
    "id": "1Odyavn9t7js"
   },
   "outputs": [],
   "source": [
    "from matplotlib import pyplot as plt\n",
    "\n",
    "def tune_num_arboles(max_value):\n",
    "    acc=[]\n",
    "    for i in range(50,max_value,20):\n",
    "        extra=ExtraTreesClassifier(n_estimators=i,random_state=10)\n",
    "        print(i)\n",
    "        acc.append(cross_validation(extra,df_train_over,df_train_obj_over,True))\n",
    "\n",
    "    fig, ax =plt.subplots(figsize=(15,5))\n",
    "    ax.plot(range(50,max_value,20), acc)\n",
    "    ax.set_title('Extra trees')\n",
    "    ax.set_xlabel('Num árboles')\n",
    "    ax.set_ylabel('Accuracy')\n",
    "    plt.show()"
   ]
  },
  {
   "cell_type": "code",
   "execution_count": 20,
   "metadata": {
    "id": "iuwqAE01t7jt",
    "scrolled": true
   },
   "outputs": [
    {
     "name": "stdout",
     "output_type": "stream",
     "text": [
      "50\n",
      "Accuracy:  0.9523672715546304\n",
      "70\n",
      "Accuracy:  0.9528188662843682\n",
      "90\n",
      "Accuracy:  0.9529316693709665\n",
      "110\n",
      "Accuracy:  0.9537216733604994\n",
      "130\n",
      "Accuracy:  0.9534960034567455\n",
      "150\n",
      "Accuracy:  0.9538345401776553\n",
      "170\n",
      "Accuracy:  0.95417320435968\n",
      "190\n",
      "Accuracy:  0.9547374109843438\n",
      "210\n",
      "Accuracy:  0.9546244804366308\n",
      "230\n",
      "Accuracy:  0.9549631446186556\n",
      "250\n",
      "Accuracy:  0.9554148668095082\n",
      "270\n",
      "Accuracy:  0.9550762663580409\n",
      "290\n",
      "Accuracy:  0.9551891331751966\n"
     ]
    },
    {
     "data": {
      "image/png": "[encoded data removed]",
      "text/plain": [
       "<Figure size 1080x360 with 1 Axes>"
      ]
     },
     "metadata": {
      "needs_background": "light"
     },
     "output_type": "display_data"
    }
   ],
   "source": [
    "tune_num_arboles(300)"
   ]
  },
  {
   "cell_type": "code",
   "execution_count": 21,
   "metadata": {
    "id": "1SIomLfgt7ju",
    "scrolled": true
   },
   "outputs": [
    {
     "name": "stdout",
     "output_type": "stream",
     "text": [
      "Accuracy:  0.9546246078977456\n"
     ]
    },
    {
     "data": {
      "text/plain": [
       "0.9546246078977456"
      ]
     },
     "execution_count": 21,
     "metadata": {},
     "output_type": "execute_result"
    }
   ],
   "source": [
    "extra=ExtraTreesClassifier(n_estimators=175,random_state=10)\n",
    "cross_validation(extra, df_train_over, df_train_obj_over,True)"
   ]
  },
  {
   "cell_type": "code",
   "execution_count": 22,
   "metadata": {
    "id": "1se63kVsM-c1"
   },
   "outputs": [
    {
     "name": "stdout",
     "output_type": "stream",
     "text": [
      "Accuracy:  0.955076138896926\n"
     ]
    },
    {
     "data": {
      "text/plain": [
       "0.955076138896926"
      ]
     },
     "execution_count": 22,
     "metadata": {},
     "output_type": "execute_result"
    }
   ],
   "source": [
    "extra=ExtraTreesClassifier(n_estimators=180,random_state=10)\n",
    "cross_validation(extra, df_train_over, df_train_obj_over,True)"
   ]
  },
  {
   "cell_type": "code",
   "execution_count": 23,
   "metadata": {
    "id": "10g1CX0xNBkI"
   },
   "outputs": [
    {
     "name": "stdout",
     "output_type": "stream",
     "text": [
      "Accuracy:  0.9549631446186554\n"
     ]
    },
    {
     "data": {
      "text/plain": [
       "0.9549631446186554"
      ]
     },
     "execution_count": 23,
     "metadata": {},
     "output_type": "execute_result"
    }
   ],
   "source": [
    "extra=ExtraTreesClassifier(n_estimators=185,random_state=10)\n",
    "cross_validation(extra, df_train_over, df_train_obj_over,True)"
   ]
  },
  {
   "cell_type": "code",
   "execution_count": 24,
   "metadata": {
    "id": "kAjZ-MFXNKlv"
   },
   "outputs": [
    {
     "name": "stdout",
     "output_type": "stream",
     "text": [
      "Accuracy:  0.9547374109843438\n"
     ]
    },
    {
     "data": {
      "text/plain": [
       "0.9547374109843438"
      ]
     },
     "execution_count": 24,
     "metadata": {},
     "output_type": "execute_result"
    }
   ],
   "source": [
    "extra=ExtraTreesClassifier(n_estimators=190,random_state=10)\n",
    "cross_validation(extra, df_train_over, df_train_obj_over,True)"
   ]
  },
  {
   "cell_type": "markdown",
   "metadata": {
    "id": "UyAP36n3t7jw"
   },
   "source": [
    "Vemos si mejora al cambiar el parámetro max_depth:"
   ]
  },
  {
   "cell_type": "code",
   "execution_count": 25,
   "metadata": {
    "id": "66H-O7-Mt7jx",
    "scrolled": true
   },
   "outputs": [
    {
     "name": "stdout",
     "output_type": "stream",
     "text": [
      "Accuracy:  0.6700560064138432\n"
     ]
    },
    {
     "data": {
      "text/plain": [
       "0.6700560064138432"
      ]
     },
     "execution_count": 25,
     "metadata": {},
     "output_type": "execute_result"
    }
   ],
   "source": [
    "extra=ExtraTreesClassifier(n_estimators=180,random_state=10,max_depth=5)\n",
    "cross_validation(extra, df_train_over, df_train_obj_over,True)"
   ]
  },
  {
   "cell_type": "code",
   "execution_count": 26,
   "metadata": {
    "id": "fZzmLS6qt7jx"
   },
   "outputs": [
    {
     "name": "stdout",
     "output_type": "stream",
     "text": [
      "Accuracy:  0.7837254462094976\n"
     ]
    },
    {
     "data": {
      "text/plain": [
       "0.7837254462094976"
      ]
     },
     "execution_count": 26,
     "metadata": {},
     "output_type": "execute_result"
    }
   ],
   "source": [
    "extra=ExtraTreesClassifier(n_estimators=180,random_state=10,max_depth=10)\n",
    "cross_validation(extra, df_train_over, df_train_obj_over,True)"
   ]
  },
  {
   "cell_type": "code",
   "execution_count": 27,
   "metadata": {
    "id": "N39PN9nMt7jy",
    "scrolled": true
   },
   "outputs": [
    {
     "name": "stdout",
     "output_type": "stream",
     "text": [
      "Accuracy:  0.8987489691582342\n"
     ]
    },
    {
     "data": {
      "text/plain": [
       "0.8987489691582342"
      ]
     },
     "execution_count": 27,
     "metadata": {},
     "output_type": "execute_result"
    }
   ],
   "source": [
    "extra=ExtraTreesClassifier(n_estimators=180,random_state=10,max_depth=20)\n",
    "cross_validation(extra, df_train_over, df_train_obj_over,True)"
   ]
  },
  {
   "cell_type": "code",
   "execution_count": 28,
   "metadata": {
    "id": "ZYdheKT5t7jy",
    "scrolled": true
   },
   "outputs": [
    {
     "name": "stdout",
     "output_type": "stream",
     "text": [
      "Accuracy:  0.9539474707253686\n"
     ]
    },
    {
     "data": {
      "text/plain": [
       "0.9539474707253686"
      ]
     },
     "execution_count": 28,
     "metadata": {},
     "output_type": "execute_result"
    }
   ],
   "source": [
    "extra=ExtraTreesClassifier(n_estimators=180,random_state=10,max_depth=80)\n",
    "cross_validation(extra, df_train_over, df_train_obj_over,True)"
   ]
  },
  {
   "cell_type": "markdown",
   "metadata": {
    "id": "5ufoWmJVt7j0"
   },
   "source": [
    "Mejores resultados:"
   ]
  },
  {
   "cell_type": "code",
   "execution_count": 29,
   "metadata": {
    "id": "q-InvN3Wt7j0"
   },
   "outputs": [
    {
     "name": "stdout",
     "output_type": "stream",
     "text": [
      "Accuracy:  0.955076138896926\n"
     ]
    },
    {
     "data": {
      "text/plain": [
       "0.955076138896926"
      ]
     },
     "execution_count": 29,
     "metadata": {},
     "output_type": "execute_result"
    }
   ],
   "source": [
    "extra=ExtraTreesClassifier(n_estimators=180,random_state=10)\n",
    "cross_validation(extra, df_train_over, df_train_obj_over,True)"
   ]
  },
  {
   "cell_type": "markdown",
   "metadata": {
    "id": "yekSXcbAt7kF"
   },
   "source": [
    "### Aplicación al conjunto de test"
   ]
  },
  {
   "cell_type": "markdown",
   "metadata": {
    "id": "L7iMRUOgt7kF"
   },
   "source": [
    "#### **Entrega 18**"
   ]
  },
  {
   "cell_type": "code",
   "execution_count": 30,
   "metadata": {
    "id": "Im-H0HLMt7kG"
   },
   "outputs": [
    {
     "name": "stdout",
     "output_type": "stream",
     "text": [
      "Accuracy:  0.9647835774001248\n"
     ]
    }
   ],
   "source": [
    "forest=RandomForestClassifier(random_state=10)\n",
    "svc=LinearSVC(random_state=10,C=50,max_iter=100000)\n",
    "extra=ExtraTreesClassifier(n_estimators=180,random_state=10)\n",
    "NN=MLPClassifier(hidden_layer_sizes=(460,460),random_state=10,max_iter=10000,alpha=0.009)\n",
    "gradient=GradientBoostingClassifier(n_estimators=100, random_state=10,max_features='auto',subsample=0.8,max_depth=19)\n",
    "\n",
    "estimators = [('Linear SVC', svc),\n",
    "     ('forest', forest),('gradient', gradient),('Red',NN)]\n",
    "\n",
    "clf = StackingClassifier(estimators=estimators, final_estimator=gradient,cv=5)\n",
    "cross_validation(clf, df_train_over, df_train_obj_over,True)\n",
    "clf.fit(df_train_over,df_train_obj_over)\n",
    "pred=clf.predict(df_test_num)\n",
    "ids=df_test_orig[\"id\"]\n",
    "\n",
    "df_result = pd.DataFrame({'id': ids, 'Precio_cat': pred})\n",
    "df_result.to_csv(\"resultados_18.csv\", index=False)"
   ]
  },
  {
   "cell_type": "markdown",
   "metadata": {
    "id": "ueZCAKZh9Nu8"
   },
   "source": [
    "#### Entrega 19"
   ]
  },
  {
   "cell_type": "code",
   "execution_count": 31,
   "metadata": {
    "id": "0Eus6Fiz9exA"
   },
   "outputs": [
    {
     "name": "stdout",
     "output_type": "stream",
     "text": [
      "Accuracy:  0.9636549729591245\n"
     ]
    }
   ],
   "source": [
    "estimators = [('Linear SVC', svc),\n",
    "     ('forest', forest),('gradient', gradient),('Red',NN)]\n",
    "\n",
    "clf = StackingClassifier(estimators=estimators, final_estimator=forest,cv=5)\n",
    "cross_validation(clf, df_train_over, df_train_obj_over,True)\n",
    "clf.fit(df_train_over,df_train_obj_over)\n",
    "pred=clf.predict(df_test_num)\n",
    "ids=df_test_orig[\"id\"]\n",
    "\n",
    "df_result = pd.DataFrame({'id': ids, 'Precio_cat': pred})\n",
    "df_result.to_csv(\"resultados_19.csv\", index=False)"
   ]
  },
  {
   "cell_type": "markdown",
   "metadata": {
    "id": "bwFUBO6Et7kG"
   },
   "source": [
    "#### Entrega 20"
   ]
  },
  {
   "cell_type": "code",
   "execution_count": 32,
   "metadata": {
    "id": "SwwKfp7kt7kG"
   },
   "outputs": [
    {
     "name": "stdout",
     "output_type": "stream",
     "text": [
      "Accuracy:  0.9646707105829689\n"
     ]
    }
   ],
   "source": [
    "forest=RandomForestClassifier(random_state=10)\n",
    "svc=LinearSVC(random_state=10,C=50,max_iter=100000)\n",
    "extra=ExtraTreesClassifier(n_estimators=180,random_state=10)\n",
    "NN=MLPClassifier(hidden_layer_sizes=(460,460),random_state=10,max_iter=10000,alpha=0.009)\n",
    "gradient=GradientBoostingClassifier(n_estimators=100, random_state=10,max_features='auto',subsample=0.8,max_depth=19)\n",
    "estimators = [('Linear SVC', svc),\n",
    "     ('forest', forest),('gradient', gradient),('Red',NN),('extra',extra)]\n",
    "\n",
    "clf = StackingClassifier(estimators=estimators, final_estimator=forest,cv=5)\n",
    "cross_validation(clf, df_train_over, df_train_obj_over,True)\n",
    "clf.fit(df_train_over,df_train_obj_over)\n",
    "pred=clf.predict(df_test_num)\n",
    "ids=df_test_orig[\"id\"]\n",
    "\n",
    "df_result = pd.DataFrame({'id': ids, 'Precio_cat': pred})\n",
    "df_result.to_csv(\"resultados_20.csv\", index=False)"
   ]
  }
 ],
 "metadata": {
  "colab": {
   "collapsed_sections": [
    "ve9FJ0aYt7jY",
    "tj51jG8Mt7jq",
    "fzbHqlXct7j1",
    "JXKt0ozjt7j5",
    "stHWC_hVt7j_",
    "C83Jtrrjt7kD"
   ],
   "name": "p3_11.ipynb",
   "version": ""
  },
  "kernelspec": {
   "display_name": "Python 3",
   "language": "python",
   "name": "python3"
  },
  "language_info": {
   "codemirror_mode": {
    "name": "ipython",
    "version": 3
   },
   "file_extension": ".py",
   "mimetype": "text/x-python",
   "name": "python",
   "nbconvert_exporter": "python",
   "pygments_lexer": "ipython3",
   "version": "3.8.5"
  }
 },
 "nbformat": 4,
 "nbformat_minor": 1
}
