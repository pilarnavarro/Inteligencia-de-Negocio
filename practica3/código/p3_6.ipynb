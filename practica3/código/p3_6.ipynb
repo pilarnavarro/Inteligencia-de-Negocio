{
 "cells": [
  {
   "cell_type": "markdown",
   "metadata": {},
   "source": [
    "# Práctica 3 - Sexta prueba\n",
    "\n",
    "#### Pilar Navarro Ramírez"
   ]
  },
  {
   "cell_type": "code",
   "execution_count": 1,
   "metadata": {},
   "outputs": [],
   "source": [
    "import pandas as pd"
   ]
  },
  {
   "cell_type": "markdown",
   "metadata": {},
   "source": [
    "## Preprocesamiento"
   ]
  },
  {
   "cell_type": "code",
   "execution_count": 2,
   "metadata": {},
   "outputs": [],
   "source": [
    "df_train=pd.read_csv(\"data/train.csv\",na_values=[\"\"])\n",
    "df_test=pd.read_csv(\"data/test.csv\",na_values=[\"\"])"
   ]
  },
  {
   "cell_type": "code",
   "execution_count": 3,
   "metadata": {},
   "outputs": [],
   "source": [
    "df_train.columns = [col.lower() for col in df_train]\n",
    "df_test.columns = [col.lower() for col in df_test]\n",
    "\n",
    "df_train_orig = df_train.copy()\n",
    "df_test_orig = df_test.copy()\n",
    "\n",
    "del df_train[\"id\"]\n",
    "del df_test[\"id\"]"
   ]
  },
  {
   "cell_type": "markdown",
   "metadata": {},
   "source": [
    "### Tratamos los datos perdidos"
   ]
  },
  {
   "cell_type": "code",
   "execution_count": 4,
   "metadata": {},
   "outputs": [],
   "source": [
    "from sklearn import impute"
   ]
  },
  {
   "cell_type": "code",
   "execution_count": 5,
   "metadata": {},
   "outputs": [],
   "source": [
    "del df_train['descuento']\n",
    "del df_test['descuento']"
   ]
  },
  {
   "cell_type": "code",
   "execution_count": 6,
   "metadata": {},
   "outputs": [],
   "source": [
    "df_train_replaced=df_train.copy()\n",
    "imputer=impute.SimpleImputer(strategy=\"most_frequent\")\n",
    "values = imputer.fit_transform([df_train_replaced.asientos.values])\n",
    "df_train_replaced.asientos.update(pd.Series(values[0]))"
   ]
  },
  {
   "cell_type": "code",
   "execution_count": 7,
   "metadata": {},
   "outputs": [],
   "source": [
    "df_train_replaced=df_train_replaced.dropna()\n",
    "df_train=df_train.dropna()"
   ]
  },
  {
   "cell_type": "markdown",
   "metadata": {},
   "source": [
    "Separamos el atributo a predecir del resto de atributos en el conjunto de entrenamiento."
   ]
  },
  {
   "cell_type": "code",
   "execution_count": 8,
   "metadata": {},
   "outputs": [],
   "source": [
    "cols = [col for col in df_train.columns if col not in ['precio_cat']]    \n",
    "df_train, df_train_obj= df_train[cols], df_train['precio_cat']\n",
    "df_train_replaced, df_train_obj_replaced= df_train_replaced[cols], df_train_replaced['precio_cat']"
   ]
  },
  {
   "cell_type": "markdown",
   "metadata": {},
   "source": [
    "### 'Transformación' de variables categóricas a numéricas"
   ]
  },
  {
   "cell_type": "code",
   "execution_count": 9,
   "metadata": {},
   "outputs": [],
   "source": [
    "from sklearn.preprocessing import LabelEncoder\n",
    "\n",
    "categorical=[\"nombre\",\"ciudad\",\"combustible\",\"tipo_marchas\",\"mano\",\"consumo\",\"motor_cc\",\"potencia\"]\n",
    "\n",
    "df_train_num=df_train.copy()\n",
    "df_train_num_rpl=df_train_replaced.copy()\n",
    "df_test_num=df_test.copy()\n",
    "\n",
    "for atributo in categorical:\n",
    "    data=pd.read_csv(\"data/\"+atributo+\".csv\")\n",
    "    data.columns = [col.lower() for col in data]\n",
    "    label = LabelEncoder().fit(data[atributo])\n",
    "    df_train_num[atributo]=label.transform(df_train[atributo])\n",
    "    df_train_num_rpl[atributo]=label.transform(df_train_replaced[atributo])\n",
    "    df_test_num[atributo]=label.transform(df_test[atributo])"
   ]
  },
  {
   "cell_type": "markdown",
   "metadata": {},
   "source": [
    "### Normalización de los datos"
   ]
  },
  {
   "cell_type": "code",
   "execution_count": 10,
   "metadata": {},
   "outputs": [],
   "source": [
    "from sklearn.preprocessing import MinMaxScaler, LabelEncoder\n",
    "\n",
    "cols = [col for col in df_train_orig.columns if col not in ['precio_cat','id','descuento']]  \n",
    "categorical=[\"nombre\",\"ciudad\",\"combustible\",\"tipo_marchas\",\"mano\",\"consumo\",\"motor_cc\",\"potencia\"]\n",
    "\n",
    "df_train_norm=df_train_num.copy()\n",
    "df_train_norm_rpl=df_train_num_rpl.copy()\n",
    "df_test_norm=df_test_num.copy()\n",
    "\n",
    "\n",
    "for atributo in cols:\n",
    "    data=pd.read_csv(\"data/\"+atributo+\".csv\")\n",
    "    data.columns = [col.lower() for col in data]\n",
    "    if atributo in categorical:\n",
    "        label = LabelEncoder().fit(data[atributo])\n",
    "        data[atributo]=label.transform(data[atributo])\n",
    "    scaler = MinMaxScaler().fit(data.values)\n",
    "    train_values=df_train_num[atributo].values.reshape(-1,1)\n",
    "    df_train_norm[atributo]=scaler.transform(train_values)\n",
    "    train_values_rpl=df_train_num_rpl[atributo].values.reshape(-1,1)\n",
    "    df_train_norm_rpl[atributo]=scaler.transform(train_values_rpl)\n",
    "    test_values=df_test_num[atributo].values.reshape(-1,1)\n",
    "    df_test_norm[atributo]=scaler.transform(test_values)\n",
    "    "
   ]
  },
  {
   "cell_type": "markdown",
   "metadata": {},
   "source": [
    "## Aplicación de los algoritmos"
   ]
  },
  {
   "cell_type": "code",
   "execution_count": 11,
   "metadata": {},
   "outputs": [],
   "source": [
    "import numpy as np\n",
    "\n",
    "from sklearn.model_selection import cross_val_score\n",
    "\n",
    "def cross_validation(clf,x,y,mostrar=False):\n",
    "    scores=cross_val_score(clf,x,y,scoring='accuracy',cv=5)\n",
    "    accuracy=np.mean(scores)  \n",
    "    if mostrar:\n",
    "        print(\"Accuracy: \", accuracy)\n",
    "    return accuracy"
   ]
  },
  {
   "cell_type": "code",
   "execution_count": 29,
   "metadata": {},
   "outputs": [
    {
     "name": "stdout",
     "output_type": "stream",
     "text": [
      "Datos normalizados con todos nulos eliminados: \n",
      "GradientBoostingClassifier(max_depth=5, max_features='auto', random_state=10,\n",
      "                           subsample=0.8)\n",
      "Accuracy:  0.8360374531835205\n",
      "Datos normalizados con nulos en asientos reemplazados: \n",
      "GradientBoostingClassifier(max_depth=5, max_features='auto', random_state=10,\n",
      "                           subsample=0.8)\n",
      "Accuracy:  0.8328797993111952\n",
      "Datos normalizados con todos nulos eliminados: \n",
      "BaggingClassifier(base_estimator=KNeighborsClassifier(), max_features=0.6,\n",
      "                  n_estimators=22, random_state=10)\n",
      "Accuracy:  0.8102943196004995\n",
      "Datos normalizados con nulos en asientos reemplazados: \n",
      "BaggingClassifier(base_estimator=KNeighborsClassifier(), max_features=0.6,\n",
      "                  n_estimators=22, random_state=10)\n",
      "Accuracy:  0.8035494098995949\n",
      "Datos normalizados con todos nulos eliminados: \n",
      "RandomForestClassifier(random_state=10)\n",
      "Accuracy:  0.822791822721598\n",
      "Datos normalizados con nulos en asientos reemplazados: \n",
      "RandomForestClassifier(random_state=10)\n",
      "Accuracy:  0.8225264679620732\n",
      "Datos normalizados con todos nulos eliminados: \n",
      "ExtraTreesClassifier(bootstrap=True, max_samples=0.9, n_estimators=275,\n",
      "                     random_state=10)\n",
      "Accuracy:  0.8147927590511861\n",
      "Datos normalizados con nulos en asientos reemplazados: \n",
      "ExtraTreesClassifier(bootstrap=True, max_samples=0.9, n_estimators=275,\n",
      "                     random_state=10)\n",
      "Accuracy:  0.8111885223497112\n"
     ]
    }
   ],
   "source": [
    "from sklearn.neighbors import KNeighborsClassifier\n",
    "from sklearn.ensemble import RandomForestClassifier,ExtraTreesClassifier,BaggingClassifier,GradientBoostingClassifier\n",
    "\n",
    "knn=KNeighborsClassifier()\n",
    "bagging_knn=BaggingClassifier(knn,n_estimators=22, max_samples=1.0, max_features=0.6, random_state=10)\n",
    "forest=RandomForestClassifier(random_state=10)\n",
    "extra=ExtraTreesClassifier(n_estimators=275,random_state=10,bootstrap=True, max_samples=0.9)\n",
    "gradient=GradientBoostingClassifier(n_estimators=100, learning_rate=0.1, random_state=10,max_features='auto',subsample=0.8,max_depth=5)\n",
    "\n",
    "clfs=[gradient,bagging_knn,forest,extra]\n",
    "\n",
    "for clf in clfs:\n",
    "    print(\"Datos normalizados con todos nulos eliminados: \")\n",
    "    print(clf)\n",
    "    cross_validation(clf, df_train_norm, df_train_obj,True)\n",
    "    print(\"Datos normalizados con nulos en asientos reemplazados: \")\n",
    "    print(clf)\n",
    "    cross_validation(clf,df_train_norm_rpl,df_train_obj_replaced,True)"
   ]
  },
  {
   "cell_type": "code",
   "execution_count": 13,
   "metadata": {},
   "outputs": [
    {
     "name": "stdout",
     "output_type": "stream",
     "text": [
      "Accuracy:  0.8055483770287142\n"
     ]
    },
    {
     "data": {
      "text/plain": [
       "0.8055483770287142"
      ]
     },
     "execution_count": 13,
     "metadata": {},
     "output_type": "execute_result"
    }
   ],
   "source": [
    "from sklearn.ensemble import StackingClassifier\n",
    "\n",
    "knn=KNeighborsClassifier()\n",
    "bagging_knn=BaggingClassifier(knn,n_estimators=22, max_samples=1.0, max_features=0.6, random_state=10)\n",
    "forest=RandomForestClassifier(random_state=10)\n",
    "extra=ExtraTreesClassifier(n_estimators=275,random_state=10,bootstrap=True, max_samples=0.9)\n",
    "gradient=GradientBoostingClassifier(n_estimators=100, learning_rate=0.1, random_state=10,max_features='auto',subsample=0.8,max_depth=5)\n",
    "\n",
    "estimators = [('bagging_knn', bagging_knn),\n",
    "     ('forest', forest),('extra_trees', extra)]\n",
    "\n",
    "clf = StackingClassifier(estimators=estimators, final_estimator=gradient,cv=5)\n",
    "cross_validation(clf, df_train_norm, df_train_obj,True)"
   ]
  },
  {
   "cell_type": "code",
   "execution_count": 14,
   "metadata": {},
   "outputs": [
    {
     "name": "stdout",
     "output_type": "stream",
     "text": [
      "Accuracy:  0.8005493133583019\n"
     ]
    },
    {
     "data": {
      "text/plain": [
       "0.8005493133583019"
      ]
     },
     "execution_count": 14,
     "metadata": {},
     "output_type": "execute_result"
    }
   ],
   "source": [
    "estimators = [('forest', forest),('extra_trees', extra)]\n",
    "\n",
    "clf = StackingClassifier(estimators=estimators, final_estimator=gradient,cv=5)\n",
    "cross_validation(clf, df_train_norm, df_train_obj,True)"
   ]
  },
  {
   "cell_type": "code",
   "execution_count": 15,
   "metadata": {},
   "outputs": [
    {
     "name": "stdout",
     "output_type": "stream",
     "text": [
      "Accuracy:  0.8227911985018727\n"
     ]
    },
    {
     "data": {
      "text/plain": [
       "0.8227911985018727"
      ]
     },
     "execution_count": 15,
     "metadata": {},
     "output_type": "execute_result"
    }
   ],
   "source": [
    "estimators = [('forest', forest),('extra_trees', extra),('gradient',gradient)]\n",
    "\n",
    "clf = StackingClassifier(estimators=estimators, final_estimator=gradient,cv=5)\n",
    "cross_validation(clf, df_train_norm, df_train_obj,True)"
   ]
  },
  {
   "cell_type": "code",
   "execution_count": 16,
   "metadata": {},
   "outputs": [
    {
     "name": "stdout",
     "output_type": "stream",
     "text": [
      "Accuracy:  0.8317887016229714\n"
     ]
    },
    {
     "data": {
      "text/plain": [
       "0.8317887016229714"
      ]
     },
     "execution_count": 16,
     "metadata": {},
     "output_type": "execute_result"
    }
   ],
   "source": [
    "estimators = [('forest', forest),('extra_trees', extra),('gradient',gradient)]\n",
    "\n",
    "clf = StackingClassifier(estimators=estimators, final_estimator=forest,cv=5)\n",
    "cross_validation(clf, df_train_norm, df_train_obj,True)"
   ]
  },
  {
   "cell_type": "code",
   "execution_count": 18,
   "metadata": {},
   "outputs": [
    {
     "name": "stdout",
     "output_type": "stream",
     "text": [
      "Accuracy:  0.819291822721598\n"
     ]
    },
    {
     "data": {
      "text/plain": [
       "0.819291822721598"
      ]
     },
     "execution_count": 18,
     "metadata": {},
     "output_type": "execute_result"
    }
   ],
   "source": [
    "capa1_estimadores=[('forest', forest),('gradient',gradient)]\n",
    "capa2_estimadores=[('extra_trees', extra),('gradient',gradient)]\n",
    "capa2=StackingClassifier(estimators=capa2_estimadores, final_estimator=forest,cv=5)\n",
    "clf = StackingClassifier(estimators=capa1_estimadores, final_estimator=capa2,cv=5)\n",
    "cross_validation(clf, df_train_norm, df_train_obj,True)"
   ]
  },
  {
   "cell_type": "code",
   "execution_count": 19,
   "metadata": {},
   "outputs": [
    {
     "name": "stdout",
     "output_type": "stream",
     "text": [
      "Accuracy:  0.8322921348314607\n"
     ]
    },
    {
     "data": {
      "text/plain": [
       "0.8322921348314607"
      ]
     },
     "execution_count": 19,
     "metadata": {},
     "output_type": "execute_result"
    }
   ],
   "source": [
    "estimators = [('bagging_knn', bagging_knn),('forest', forest),('extra_trees', extra),('gradient',gradient)]\n",
    "\n",
    "clf = StackingClassifier(estimators=estimators, final_estimator=forest,cv=5)\n",
    "cross_validation(clf, df_train_norm, df_train_obj,True)"
   ]
  },
  {
   "cell_type": "code",
   "execution_count": 20,
   "metadata": {},
   "outputs": [
    {
     "name": "stdout",
     "output_type": "stream",
     "text": [
      "Accuracy:  0.8100415106117353\n"
     ]
    },
    {
     "data": {
      "text/plain": [
       "0.8100415106117353"
      ]
     },
     "execution_count": 20,
     "metadata": {},
     "output_type": "execute_result"
    }
   ],
   "source": [
    "capa1_estimadores=[('forest', forest),('gradient',gradient)]\n",
    "capa2_estimadores=[('extra_trees', extra),('gradient',gradient)]\n",
    "capa2=StackingClassifier(estimators=capa2_estimadores, final_estimator=gradient,cv=5)\n",
    "clf = StackingClassifier(estimators=capa1_estimadores, final_estimator=capa2,cv=5)\n",
    "cross_validation(clf, df_train_norm, df_train_obj,True)"
   ]
  },
  {
   "cell_type": "code",
   "execution_count": 21,
   "metadata": {},
   "outputs": [
    {
     "name": "stdout",
     "output_type": "stream",
     "text": [
      "Accuracy:  0.8197946317103622\n"
     ]
    },
    {
     "data": {
      "text/plain": [
       "0.8197946317103622"
      ]
     },
     "execution_count": 21,
     "metadata": {},
     "output_type": "execute_result"
    }
   ],
   "source": [
    "capa1_estimadores=[('forest', forest),('extra_trees', extra),('gradient',gradient),('bagging_knn', bagging_knn)]\n",
    "capa2_estimadores=[('forest', forest),('gradient',gradient)]\n",
    "capa2=StackingClassifier(estimators=capa2_estimadores, final_estimator=forest,cv=5)\n",
    "clf = StackingClassifier(estimators=capa1_estimadores, final_estimator=capa2,cv=5)\n",
    "cross_validation(clf, df_train_norm, df_train_obj,True)"
   ]
  },
  {
   "cell_type": "code",
   "execution_count": 23,
   "metadata": {},
   "outputs": [
    {
     "name": "stdout",
     "output_type": "stream",
     "text": [
      "Accuracy:  0.8237924469413234\n"
     ]
    },
    {
     "data": {
      "text/plain": [
       "0.8237924469413234"
      ]
     },
     "execution_count": 23,
     "metadata": {},
     "output_type": "execute_result"
    }
   ],
   "source": [
    "capa1_estimadores=[('forest', forest),('extra_trees', extra),('gradient',gradient),('bagging_knn', bagging_knn)]\n",
    "capa2_estimadores=[('forest', forest),('extra_trees', extra),('gradient',gradient),('bagging_knn', bagging_knn)]\n",
    "capa2=StackingClassifier(estimators=capa2_estimadores, final_estimator=forest,cv=5)\n",
    "clf  = StackingClassifier(estimators=capa1_estimadores, final_estimator=capa2,cv=5)\n",
    "cross_validation(clf, df_train_norm, df_train_obj,True)"
   ]
  },
  {
   "cell_type": "code",
   "execution_count": 24,
   "metadata": {},
   "outputs": [
    {
     "name": "stdout",
     "output_type": "stream",
     "text": [
      "Accuracy:  0.8350374531835205\n"
     ]
    },
    {
     "data": {
      "text/plain": [
       "0.8350374531835205"
      ]
     },
     "execution_count": 24,
     "metadata": {},
     "output_type": "execute_result"
    }
   ],
   "source": [
    "from sklearn.neural_network import MLPClassifier\n",
    "NN=MLPClassifier(hidden_layer_sizes=(300,200,100),random_state=10,max_iter=1000,alpha=0.0015)\n",
    "\n",
    "estimators = [('red neuronal',NN),('bagging_knn', bagging_knn),('forest', forest),('extra_trees', extra),('gradient',gradient)]\n",
    "\n",
    "clf = StackingClassifier(estimators=estimators, final_estimator=forest,cv=5)\n",
    "cross_validation(clf, df_train_norm, df_train_obj,True)"
   ]
  },
  {
   "cell_type": "code",
   "execution_count": 25,
   "metadata": {},
   "outputs": [
    {
     "name": "stdout",
     "output_type": "stream",
     "text": [
      "Accuracy:  0.8295455680399499\n"
     ]
    },
    {
     "data": {
      "text/plain": [
       "0.8295455680399499"
      ]
     },
     "execution_count": 25,
     "metadata": {},
     "output_type": "execute_result"
    }
   ],
   "source": [
    "estimators = [('red neuronal',NN),('bagging_knn', bagging_knn),('forest', forest),('extra_trees', extra),('gradient',gradient)]\n",
    "\n",
    "clf = StackingClassifier(estimators=estimators, final_estimator=NN,cv=5)\n",
    "cross_validation(clf, df_train_norm, df_train_obj,True)"
   ]
  },
  {
   "cell_type": "code",
   "execution_count": 26,
   "metadata": {},
   "outputs": [
    {
     "name": "stdout",
     "output_type": "stream",
     "text": [
      "Accuracy:  0.8327877652933833\n"
     ]
    },
    {
     "data": {
      "text/plain": [
       "0.8327877652933833"
      ]
     },
     "execution_count": 26,
     "metadata": {},
     "output_type": "execute_result"
    }
   ],
   "source": [
    "estimators = [('red neuronal',NN),('forest', forest),('extra_trees', extra),('gradient',gradient)]\n",
    "\n",
    "clf = StackingClassifier(estimators=estimators, final_estimator=forest,cv=5)\n",
    "cross_validation(clf, df_train_norm, df_train_obj,True)"
   ]
  },
  {
   "cell_type": "code",
   "execution_count": 30,
   "metadata": {},
   "outputs": [
    {
     "name": "stdout",
     "output_type": "stream",
     "text": [
      "Accuracy:  0.8230411985018726\n"
     ]
    },
    {
     "data": {
      "text/plain": [
       "0.8230411985018726"
      ]
     },
     "execution_count": 30,
     "metadata": {},
     "output_type": "execute_result"
    }
   ],
   "source": [
    "capa1_estimadores=[('forest', forest),('extra_trees', extra),('gradient',gradient),('bagging_knn', bagging_knn)]\n",
    "capa2_estimadores=[('forest', forest),('gradient',gradient),('red neuronal',NN)]\n",
    "capa2=StackingClassifier(estimators=capa2_estimadores, final_estimator=forest,cv=5)\n",
    "clf  = StackingClassifier(estimators=capa1_estimadores, final_estimator=capa2,cv=5)\n",
    "cross_validation(clf, df_train_norm, df_train_obj,True)"
   ]
  },
  {
   "cell_type": "code",
   "execution_count": 31,
   "metadata": {},
   "outputs": [
    {
     "name": "stdout",
     "output_type": "stream",
     "text": [
      "Accuracy:  0.8277887016229712\n"
     ]
    },
    {
     "data": {
      "text/plain": [
       "0.8277887016229712"
      ]
     },
     "execution_count": 31,
     "metadata": {},
     "output_type": "execute_result"
    }
   ],
   "source": [
    "estimators = [('red neuronal',NN),('forest', forest),('gradient',gradient)]\n",
    "\n",
    "clf = StackingClassifier(estimators=estimators, final_estimator=forest,cv=5)\n",
    "cross_validation(clf, df_train_norm, df_train_obj,True)"
   ]
  },
  {
   "cell_type": "markdown",
   "metadata": {},
   "source": [
    "### Aplicación al conjunto de test"
   ]
  },
  {
   "cell_type": "code",
   "execution_count": 33,
   "metadata": {},
   "outputs": [],
   "source": [
    "knn=KNeighborsClassifier()\n",
    "bagging_knn=BaggingClassifier(knn,n_estimators=22, max_samples=1.0, max_features=0.6, random_state=10)\n",
    "forest=RandomForestClassifier(random_state=10)\n",
    "extra=ExtraTreesClassifier(n_estimators=275,random_state=10,bootstrap=True, max_samples=0.9)\n",
    "gradient=GradientBoostingClassifier(n_estimators=100, learning_rate=0.1, random_state=10,max_features='auto',subsample=0.8,max_depth=5)\n",
    "NN=MLPClassifier(hidden_layer_sizes=(300,200,100),random_state=10,max_iter=1000,alpha=0.0015)\n",
    "\n",
    "estimators = [('red neuronal',NN),('bagging_knn', bagging_knn),('forest', forest),('extra_trees', extra),('gradient',gradient)]\n",
    "\n",
    "clf = StackingClassifier(estimators=estimators, final_estimator=forest,cv=5)\n",
    "\n",
    "clf.fit(df_train_norm,df_train_obj)\n",
    "pred=clf.predict(df_test_norm)\n",
    "ids=df_test_orig[\"id\"]\n",
    "\n",
    "df_result = pd.DataFrame({'id': ids, 'Precio_cat': pred})\n",
    "df_result.to_csv(\"resultados_7.csv\", index=False)"
   ]
  },
  {
   "cell_type": "code",
   "execution_count": 37,
   "metadata": {},
   "outputs": [
    {
     "data": {
      "text/html": [
       "<div>\n",
       "<style scoped>\n",
       "    .dataframe tbody tr th:only-of-type {\n",
       "        vertical-align: middle;\n",
       "    }\n",
       "\n",
       "    .dataframe tbody tr th {\n",
       "        vertical-align: top;\n",
       "    }\n",
       "\n",
       "    .dataframe thead th {\n",
       "        text-align: right;\n",
       "    }\n",
       "</style>\n",
       "<table border=\"1\" class=\"dataframe\">\n",
       "  <thead>\n",
       "    <tr style=\"text-align: right;\">\n",
       "      <th></th>\n",
       "      <th>id</th>\n",
       "      <th>Precio_cat</th>\n",
       "    </tr>\n",
       "  </thead>\n",
       "  <tbody>\n",
       "    <tr>\n",
       "      <th>0</th>\n",
       "      <td>4820</td>\n",
       "      <td>5</td>\n",
       "    </tr>\n",
       "    <tr>\n",
       "      <th>1</th>\n",
       "      <td>4821</td>\n",
       "      <td>2</td>\n",
       "    </tr>\n",
       "    <tr>\n",
       "      <th>2</th>\n",
       "      <td>4822</td>\n",
       "      <td>2</td>\n",
       "    </tr>\n",
       "    <tr>\n",
       "      <th>3</th>\n",
       "      <td>4823</td>\n",
       "      <td>3</td>\n",
       "    </tr>\n",
       "    <tr>\n",
       "      <th>4</th>\n",
       "      <td>4824</td>\n",
       "      <td>2</td>\n",
       "    </tr>\n",
       "  </tbody>\n",
       "</table>\n",
       "</div>"
      ],
      "text/plain": [
       "     id  Precio_cat\n",
       "0  4820           5\n",
       "1  4821           2\n",
       "2  4822           2\n",
       "3  4823           3\n",
       "4  4824           2"
      ]
     },
     "execution_count": 37,
     "metadata": {},
     "output_type": "execute_result"
    }
   ],
   "source": [
    "df_result.head()"
   ]
  }
 ],
 "metadata": {
  "kernelspec": {
   "display_name": "Python 3",
   "language": "python",
   "name": "python3"
  },
  "language_info": {
   "codemirror_mode": {
    "name": "ipython",
    "version": 3
   },
   "file_extension": ".py",
   "mimetype": "text/x-python",
   "name": "python",
   "nbconvert_exporter": "python",
   "pygments_lexer": "ipython3",
   "version": "3.8.5"
  }
 },
 "nbformat": 4,
 "nbformat_minor": 4
}
