{
 "cells": [
  {
   "cell_type": "markdown",
   "metadata": {},
   "source": [
    "# Práctica 3 - Tercera prueba\n",
    "\n",
    "#### Pilar Navarro Ramírez"
   ]
  },
  {
   "cell_type": "code",
   "execution_count": 1,
   "metadata": {},
   "outputs": [],
   "source": [
    "import pandas as pd"
   ]
  },
  {
   "cell_type": "markdown",
   "metadata": {},
   "source": [
    "## Preprocesamiento"
   ]
  },
  {
   "cell_type": "code",
   "execution_count": 2,
   "metadata": {},
   "outputs": [],
   "source": [
    "df_train=pd.read_csv(\"data/train.csv\",na_values=[\"\"])\n",
    "df_test=pd.read_csv(\"data/test.csv\",na_values=[\"\"])"
   ]
  },
  {
   "cell_type": "code",
   "execution_count": 3,
   "metadata": {},
   "outputs": [],
   "source": [
    "df_train.columns = [col.lower() for col in df_train]\n",
    "df_test.columns = [col.lower() for col in df_test]\n",
    "\n",
    "df_train_orig = df_train.copy()\n",
    "df_test_orig = df_test.copy()\n",
    "\n",
    "del df_train[\"id\"]\n",
    "del df_test[\"id\"]"
   ]
  },
  {
   "cell_type": "markdown",
   "metadata": {},
   "source": [
    "### Tratamos los datos perdidos"
   ]
  },
  {
   "cell_type": "code",
   "execution_count": 4,
   "metadata": {},
   "outputs": [],
   "source": [
    "from sklearn import impute"
   ]
  },
  {
   "cell_type": "code",
   "execution_count": 5,
   "metadata": {},
   "outputs": [],
   "source": [
    "del df_train['descuento']\n",
    "del df_test['descuento']"
   ]
  },
  {
   "cell_type": "code",
   "execution_count": 6,
   "metadata": {},
   "outputs": [],
   "source": [
    "df_train_replaced=df_train.copy()\n",
    "imputer=impute.SimpleImputer(strategy=\"most_frequent\")\n",
    "values = imputer.fit_transform([df_train_replaced.asientos.values])\n",
    "df_train_replaced.asientos.update(pd.Series(values[0]))"
   ]
  },
  {
   "cell_type": "code",
   "execution_count": 7,
   "metadata": {},
   "outputs": [],
   "source": [
    "df_train_replaced=df_train_replaced.dropna()\n",
    "df_train=df_train.dropna()"
   ]
  },
  {
   "cell_type": "markdown",
   "metadata": {},
   "source": [
    "Separamos el atributo a predecir del resto de atributos en el conjunto de entrenamiento."
   ]
  },
  {
   "cell_type": "code",
   "execution_count": 8,
   "metadata": {},
   "outputs": [],
   "source": [
    "cols = [col for col in df_train.columns if col not in ['precio_cat']]    \n",
    "df_train, df_train_obj= df_train[cols], df_train['precio_cat']\n",
    "df_train_replaced, df_train_obj_replaced= df_train_replaced[cols], df_train_replaced['precio_cat']"
   ]
  },
  {
   "cell_type": "markdown",
   "metadata": {},
   "source": [
    "### 'Transformación' de variables categóricas a numéricas"
   ]
  },
  {
   "cell_type": "code",
   "execution_count": 9,
   "metadata": {},
   "outputs": [],
   "source": [
    "from sklearn.preprocessing import LabelEncoder\n",
    "\n",
    "categorical=[\"nombre\",\"ciudad\",\"combustible\",\"tipo_marchas\",\"mano\",\"consumo\",\"motor_cc\",\"potencia\"]\n",
    "\n",
    "df_train_num=df_train.copy()\n",
    "df_train_num_rpl=df_train_replaced.copy()\n",
    "df_test_num=df_test.copy()\n",
    "\n",
    "for atributo in categorical:\n",
    "    data=pd.read_csv(\"data/\"+atributo+\".csv\")\n",
    "    data.columns = [col.lower() for col in data]\n",
    "    label = LabelEncoder().fit(data[atributo])\n",
    "    df_train_num[atributo]=label.transform(df_train[atributo])\n",
    "    df_train_num_rpl[atributo]=label.transform(df_train_replaced[atributo])\n",
    "    df_test_num[atributo]=label.transform(df_test[atributo])"
   ]
  },
  {
   "cell_type": "markdown",
   "metadata": {},
   "source": [
    "### Normalización de los datos"
   ]
  },
  {
   "cell_type": "code",
   "execution_count": 10,
   "metadata": {},
   "outputs": [],
   "source": [
    "from sklearn.preprocessing import MinMaxScaler, LabelEncoder\n",
    "\n",
    "cols = [col for col in df_train_orig.columns if col not in ['precio_cat','id','descuento']]  \n",
    "categorical=[\"nombre\",\"ciudad\",\"combustible\",\"tipo_marchas\",\"mano\",\"consumo\",\"motor_cc\",\"potencia\"]\n",
    "\n",
    "df_train_norm=df_train_num.copy()\n",
    "df_train_norm_rpl=df_train_num_rpl.copy()\n",
    "df_test_norm=df_test_num.copy()\n",
    "\n",
    "\n",
    "for atributo in cols:\n",
    "    data=pd.read_csv(\"data/\"+atributo+\".csv\")\n",
    "    data.columns = [col.lower() for col in data]\n",
    "    if atributo in categorical:\n",
    "        label = LabelEncoder().fit(data[atributo])\n",
    "        data[atributo]=label.transform(data[atributo])\n",
    "    scaler = MinMaxScaler().fit(data.values)\n",
    "    train_values=df_train_num[atributo].values.reshape(-1,1)\n",
    "    df_train_norm[atributo]=scaler.transform(train_values)\n",
    "    train_values_rpl=df_train_num_rpl[atributo].values.reshape(-1,1)\n",
    "    df_train_norm_rpl[atributo]=scaler.transform(train_values_rpl)\n",
    "    test_values=df_test_num[atributo].values.reshape(-1,1)\n",
    "    df_test_norm[atributo]=scaler.transform(test_values)\n",
    "    "
   ]
  },
  {
   "cell_type": "markdown",
   "metadata": {},
   "source": [
    "## Aplicación de los algoritmos"
   ]
  },
  {
   "cell_type": "code",
   "execution_count": 11,
   "metadata": {},
   "outputs": [],
   "source": [
    "import numpy as np\n",
    "\n",
    "from sklearn.model_selection import cross_val_score\n",
    "\n",
    "def cross_validation(clf,x,y,mostrar=False):\n",
    "    scores=cross_val_score(clf,x,y,scoring='accuracy',cv=5)\n",
    "    accuracy=np.mean(scores)  \n",
    "    if mostrar:\n",
    "        print(\"Accuracy: \", accuracy)\n",
    "    return accuracy"
   ]
  },
  {
   "cell_type": "code",
   "execution_count": 12,
   "metadata": {},
   "outputs": [
    {
     "name": "stdout",
     "output_type": "stream",
     "text": [
      "Datos normalizados con todos nulos eliminados: \n",
      "GradientBoostingClassifier(max_features='auto', random_state=10)\n",
      "Accuracy:  0.8065480649188513\n",
      "Datos normalizados con nulos en asientos reemplazados: \n",
      "GradientBoostingClassifier(max_features='auto', random_state=10)\n",
      "Accuracy:  0.8055231940133509\n",
      "Datos normalizados con todos nulos eliminados: \n",
      "AdaBoostClassifier(random_state=10)\n",
      "Accuracy:  0.6755895755305867\n",
      "Datos normalizados con nulos en asientos reemplazados: \n",
      "AdaBoostClassifier(random_state=10)\n",
      "Accuracy:  0.604655202784375\n",
      "Datos normalizados con todos nulos eliminados: \n",
      "BaggingClassifier(base_estimator=KNeighborsClassifier(), max_features=0.5,\n",
      "                  max_samples=0.5, n_estimators=50, random_state=10)\n",
      "Accuracy:  0.7803058676654182\n",
      "Datos normalizados con nulos en asientos reemplazados: \n",
      "BaggingClassifier(base_estimator=KNeighborsClassifier(), max_features=0.5,\n",
      "                  max_samples=0.5, n_estimators=50, random_state=10)\n",
      "Accuracy:  0.7636193837201534\n",
      "Datos normalizados con todos nulos eliminados: \n",
      "RandomForestClassifier(random_state=10)\n",
      "Accuracy:  0.822791822721598\n",
      "Datos normalizados con nulos en asientos reemplazados: \n",
      "RandomForestClassifier(random_state=10)\n",
      "Accuracy:  0.8225264679620732\n",
      "Datos normalizados con todos nulos eliminados: \n",
      "ExtraTreesClassifier(random_state=10)\n",
      "Accuracy:  0.8077958801498127\n",
      "Datos normalizados con nulos en asientos reemplazados: \n",
      "ExtraTreesClassifier(random_state=10)\n",
      "Accuracy:  0.8131592694052833\n"
     ]
    }
   ],
   "source": [
    "from sklearn.neighbors import KNeighborsClassifier\n",
    "from sklearn.ensemble import RandomForestClassifier,ExtraTreesClassifier,BaggingClassifier,AdaBoostClassifier,GradientBoostingClassifier\n",
    "\n",
    "knn=KNeighborsClassifier()\n",
    "bagging_knn= BaggingClassifier(knn,n_estimators=50, max_samples=0.5, max_features=0.5, random_state=10)\n",
    "forest=RandomForestClassifier(random_state=10)\n",
    "extra=ExtraTreesClassifier(random_state=10)\n",
    "ada=AdaBoostClassifier(random_state=10)\n",
    "gradient=GradientBoostingClassifier(random_state=10,max_features='auto')\n",
    "\n",
    "clfs=[gradient,ada,bagging_knn,forest,extra]\n",
    "\n",
    "for clf in clfs:\n",
    "    print(\"Datos normalizados con todos nulos eliminados: \")\n",
    "    print(clf)\n",
    "    cross_validation(clf, df_train_norm, df_train_obj,True)\n",
    "    print(\"Datos normalizados con nulos en asientos reemplazados: \")\n",
    "    print(clf)\n",
    "    cross_validation(clf,df_train_norm_rpl,df_train_obj_replaced,True)"
   ]
  },
  {
   "cell_type": "markdown",
   "metadata": {},
   "source": [
    "### Configuración de los parámetros"
   ]
  },
  {
   "cell_type": "markdown",
   "metadata": {},
   "source": [
    "##### Knn"
   ]
  },
  {
   "cell_type": "code",
   "execution_count": 12,
   "metadata": {},
   "outputs": [],
   "source": [
    "from matplotlib import pyplot as plt\n",
    "from sklearn.neighbors import KNeighborsClassifier\n",
    "\n",
    "def tune_knn(max_value):\n",
    "    acc=[]\n",
    "    for i in range(2,max_value):\n",
    "        knn=KNeighborsClassifier(n_neighbors=i)\n",
    "        acc.append(cross_validation(knn,df_train_norm,df_train_obj))\n",
    "\n",
    "    fig, ax =plt.subplots(figsize=(15,5))\n",
    "    ax.plot(range(2,max_value), acc)\n",
    "    ax.set_title('Vecino más cercano')\n",
    "    ax.set_xlabel('Num vecinos')\n",
    "    ax.set_ylabel('Accuracy')\n",
    "    plt.show()"
   ]
  },
  {
   "cell_type": "code",
   "execution_count": 14,
   "metadata": {},
   "outputs": [
    {
     "data": {
      "image/png": "[encoded data removed]",
      "text/plain": [
       "<Figure size 1080x360 with 1 Axes>"
      ]
     },
     "metadata": {
      "needs_background": "light"
     },
     "output_type": "display_data"
    }
   ],
   "source": [
    "tune_knn(30)"
   ]
  },
  {
   "cell_type": "code",
   "execution_count": 13,
   "metadata": {},
   "outputs": [
    {
     "name": "stdout",
     "output_type": "stream",
     "text": [
      "ERROR! Session/line number was not unique in database. History logging moved to new session 28\n"
     ]
    },
    {
     "data": {
      "image/png": "[encoded data removed]",
      "text/plain": [
       "<Figure size 1080x360 with 1 Axes>"
      ]
     },
     "metadata": {
      "needs_background": "light"
     },
     "output_type": "display_data"
    }
   ],
   "source": [
    "tune_knn(8)"
   ]
  },
  {
   "cell_type": "markdown",
   "metadata": {},
   "source": [
    "#### Bagging con Knn"
   ]
  },
  {
   "cell_type": "markdown",
   "metadata": {},
   "source": [
    "Configurando el parámetro max_samples."
   ]
  },
  {
   "cell_type": "code",
   "execution_count": 75,
   "metadata": {},
   "outputs": [
    {
     "name": "stdout",
     "output_type": "stream",
     "text": [
      "Bagging con knn y max_samples= 0.5\n",
      "Accuracy:  0.7803058676654182\n",
      "Bagging con knn y max_samples= 0.8\n",
      "Accuracy:  0.7920505617977527\n",
      "Bagging con knn y max_samples= 0.9\n",
      "Accuracy:  0.795549313358302\n",
      "Bagging con knn y max_samples= 1.0\n",
      "Accuracy:  0.7995486891385768\n"
     ]
    },
    {
     "data": {
      "text/plain": [
       "0.7995486891385768"
      ]
     },
     "execution_count": 75,
     "metadata": {},
     "output_type": "execute_result"
    }
   ],
   "source": [
    "knn=KNeighborsClassifier()\n",
    "print(\"Bagging con knn y max_samples= 0.5\")\n",
    "bagging_knn= BaggingClassifier(knn,n_estimators=50, max_samples=0.5, max_features=0.5, random_state=10)\n",
    "cross_validation(bagging_knn,df_train_norm,df_train_obj,True)\n",
    "print(\"Bagging con knn y max_samples= 0.8\")\n",
    "bagging_knn= BaggingClassifier(knn,n_estimators=50, max_samples=0.8, max_features=0.5, random_state=10)\n",
    "cross_validation(bagging_knn,df_train_norm,df_train_obj,True)\n",
    "print(\"Bagging con knn y max_samples= 0.9\")\n",
    "bagging_knn= BaggingClassifier(knn,n_estimators=50, max_samples=0.9, max_features=0.5, random_state=10)\n",
    "cross_validation(bagging_knn,df_train_norm,df_train_obj,True)\n",
    "print(\"Bagging con knn y max_samples= 1.0\")\n",
    "bagging_knn= BaggingClassifier(knn,n_estimators=50, max_samples=1.0, max_features=0.5, random_state=10)\n",
    "cross_validation(bagging_knn,df_train_norm,df_train_obj,True)"
   ]
  },
  {
   "cell_type": "markdown",
   "metadata": {},
   "source": [
    "Configurando el parámetro max_features."
   ]
  },
  {
   "cell_type": "code",
   "execution_count": 80,
   "metadata": {},
   "outputs": [
    {
     "name": "stdout",
     "output_type": "stream",
     "text": [
      "Bagging con knn y max_features= 0.5\n",
      "Accuracy:  0.7995486891385768\n",
      "Bagging con knn y max_features= 0.4\n",
      "Accuracy:  0.7942974406991261\n",
      "Bagging con knn y max_features= 0.6\n",
      "Accuracy:  0.8030477528089888\n",
      "Bagging con knn y max_features= 0.8\n",
      "Accuracy:  0.7753080524344569\n",
      "Bagging con knn y max_features= 0.7\n",
      "Accuracy:  0.7888033707865169\n"
     ]
    },
    {
     "data": {
      "text/plain": [
       "0.7888033707865169"
      ]
     },
     "execution_count": 80,
     "metadata": {},
     "output_type": "execute_result"
    }
   ],
   "source": [
    "knn=KNeighborsClassifier()\n",
    "print(\"Bagging con knn y max_features= 0.5\")\n",
    "bagging_knn= BaggingClassifier(knn,n_estimators=50, max_samples=1.0, max_features=0.5, random_state=10)\n",
    "cross_validation(bagging_knn,df_train_norm,df_train_obj,True)\n",
    "print(\"Bagging con knn y max_features= 0.4\")\n",
    "bagging_knn= BaggingClassifier(knn,n_estimators=50, max_samples=1.0, max_features=0.4, random_state=10)\n",
    "cross_validation(bagging_knn,df_train_norm,df_train_obj,True)\n",
    "print(\"Bagging con knn y max_features= 0.6\")\n",
    "bagging_knn= BaggingClassifier(knn,n_estimators=50, max_samples=1.0, max_features=0.6, random_state=10)\n",
    "cross_validation(bagging_knn,df_train_norm,df_train_obj,True)\n",
    "print(\"Bagging con knn y max_features= 0.8\")\n",
    "bagging_knn= BaggingClassifier(knn,n_estimators=50, max_samples=1.0, max_features=0.8, random_state=10)\n",
    "cross_validation(bagging_knn,df_train_norm,df_train_obj,True)\n",
    "print(\"Bagging con knn y max_features= 0.7\")\n",
    "bagging_knn= BaggingClassifier(knn,n_estimators=50, max_samples=1.0, max_features=0.7, random_state=10)\n",
    "cross_validation(bagging_knn,df_train_norm,df_train_obj,True)"
   ]
  },
  {
   "cell_type": "markdown",
   "metadata": {},
   "source": [
    "Configuramos el número de estimadores."
   ]
  },
  {
   "cell_type": "code",
   "execution_count": 21,
   "metadata": {},
   "outputs": [],
   "source": [
    "from sklearn.ensemble import RandomForestClassifier,ExtraTreesClassifier,BaggingClassifier,AdaBoostClassifier,GradientBoostingClassifier\n",
    "knn=KNeighborsClassifier()\n",
    "def tune_bagging_knn(max_value):\n",
    "    acc=[]\n",
    "    for i in range(2,max_value):\n",
    "        bagging_knn= BaggingClassifier(knn,n_estimators=i, max_samples=1.0, max_features=0.6, random_state=10)\n",
    "        acc.append(cross_validation(bagging_knn,df_train_norm,df_train_obj))\n",
    "\n",
    "    fig, ax =plt.subplots(figsize=(15,5))\n",
    "    ax.plot(range(2,max_value), acc)\n",
    "    ax.set_title('Bagging con knn')\n",
    "    ax.set_xlabel('Num estimadores')\n",
    "    ax.set_ylabel('Accuracy')\n",
    "    plt.show()"
   ]
  },
  {
   "cell_type": "code",
   "execution_count": 27,
   "metadata": {
    "scrolled": true
   },
   "outputs": [
    {
     "data": {
      "image/png": "[encoded data removed]",
      "text/plain": [
       "<Figure size 1080x360 with 1 Axes>"
      ]
     },
     "metadata": {
      "needs_background": "light"
     },
     "output_type": "display_data"
    }
   ],
   "source": [
    "tune_bagging_knn(100)"
   ]
  },
  {
   "cell_type": "code",
   "execution_count": 22,
   "metadata": {},
   "outputs": [
    {
     "data": {
      "image/png": "[encoded data removed]",
      "text/plain": [
       "<Figure size 1080x360 with 1 Axes>"
      ]
     },
     "metadata": {
      "needs_background": "light"
     },
     "output_type": "display_data"
    }
   ],
   "source": [
    "tune_bagging_knn(40)"
   ]
  },
  {
   "cell_type": "code",
   "execution_count": 26,
   "metadata": {},
   "outputs": [
    {
     "name": "stdout",
     "output_type": "stream",
     "text": [
      "Accuracy:  0.8102943196004995\n"
     ]
    },
    {
     "data": {
      "text/plain": [
       "0.8102943196004995"
      ]
     },
     "execution_count": 26,
     "metadata": {},
     "output_type": "execute_result"
    }
   ],
   "source": [
    "bagging_knn= BaggingClassifier(knn,n_estimators=22, max_samples=1.0, max_features=0.6, random_state=10)\n",
    "cross_validation(bagging_knn,df_train_norm,df_train_obj,True)"
   ]
  },
  {
   "cell_type": "markdown",
   "metadata": {},
   "source": [
    "#### Gradient Boosting"
   ]
  },
  {
   "cell_type": "code",
   "execution_count": 58,
   "metadata": {},
   "outputs": [
    {
     "name": "stdout",
     "output_type": "stream",
     "text": [
      "Fraction of samples to be used for fitting the individual base learners = 0.8\n",
      "Accuracy:  0.8100490012484395\n",
      "Fraction of samples to be used for fitting the individual base learners = 0.6\n",
      "Accuracy:  0.8102983770287141\n",
      "Fraction of samples to be used for fitting the individual base learners = 0.9\n",
      "Accuracy:  0.8112983770287141\n",
      "Fraction of samples to be used for fitting the individual base learners = 0.7\n",
      "Accuracy:  0.8118005617977527\n",
      "Fraction of samples to be used for fitting the individual base learners = 0.75\n",
      "Accuracy:  0.808051186017478\n",
      "Fraction of samples to be used for fitting the individual base learners = 0.95\n",
      "Accuracy:  0.806549313358302\n"
     ]
    },
    {
     "data": {
      "text/plain": [
       "0.806549313358302"
      ]
     },
     "execution_count": 58,
     "metadata": {},
     "output_type": "execute_result"
    }
   ],
   "source": [
    "print(\"Fraction of samples to be used for fitting the individual base learners = 0.8\")\n",
    "gradient=GradientBoostingClassifier(random_state=10,max_features='auto',subsample=0.8)\n",
    "cross_validation(gradient,df_train_norm,df_train_obj,True)\n",
    "print(\"Fraction of samples to be used for fitting the individual base learners = 0.6\")\n",
    "gradient=GradientBoostingClassifier(random_state=10,max_features='auto',subsample=0.6)\n",
    "cross_validation(gradient,df_train_norm,df_train_obj,True)\n",
    "print(\"Fraction of samples to be used for fitting the individual base learners = 0.9\")\n",
    "gradient=GradientBoostingClassifier(random_state=10,max_features='auto',subsample=0.9)\n",
    "cross_validation(gradient,df_train_norm,df_train_obj,True)\n",
    "print(\"Fraction of samples to be used for fitting the individual base learners = 0.7\")\n",
    "gradient=GradientBoostingClassifier(random_state=10,max_features='auto',subsample=0.7)\n",
    "cross_validation(gradient,df_train_norm,df_train_obj,True)"
   ]
  },
  {
   "cell_type": "markdown",
   "metadata": {},
   "source": [
    "Configurando el parámetro max_depth de cada estimador."
   ]
  },
  {
   "cell_type": "code",
   "execution_count": null,
   "metadata": {},
   "outputs": [],
   "source": [
    "def tune_gradient_boosting(max_value):\n",
    "    acc=[]\n",
    "    for i in range(1,max_value):\n",
    "        gradient=GradientBoostingClassifier(max_depth=i,random_state=10,subsample=0.7)\n",
    "        acc.append(cross_validation(gradient,df_train_norm,df_train_obj))\n",
    "\n",
    "    fig, ax =plt.subplots(figsize=(15,5))\n",
    "    ax.plot(range(1,max_value), acc)\n",
    "    ax.set_title('Gradient Boosting')\n",
    "    ax.set_xlabel('Max depth')\n",
    "    ax.set_ylabel('Accuracy')\n",
    "    plt.show()"
   ]
  },
  {
   "cell_type": "code",
   "execution_count": 28,
   "metadata": {},
   "outputs": [
    {
     "data": {
      "image/png": "[encoded data removed]",
      "text/plain": [
       "<Figure size 1080x360 with 1 Axes>"
      ]
     },
     "metadata": {
      "needs_background": "light"
     },
     "output_type": "display_data"
    }
   ],
   "source": [
    "tune_gradient_boosting(20)"
   ]
  },
  {
   "cell_type": "code",
   "execution_count": 24,
   "metadata": {},
   "outputs": [
    {
     "data": {
      "image/png": "[encoded data removed]",
      "text/plain": [
       "<Figure size 1080x360 with 1 Axes>"
      ]
     },
     "metadata": {
      "needs_background": "light"
     },
     "output_type": "display_data"
    }
   ],
   "source": [
    "tune_gradient_boosting(8)"
   ]
  },
  {
   "cell_type": "markdown",
   "metadata": {},
   "source": [
    "Configurando el número de estimadores."
   ]
  },
  {
   "cell_type": "code",
   "execution_count": null,
   "metadata": {},
   "outputs": [],
   "source": [
    "print(\"Número de árboles = 300\")\n",
    "gradient=GradientBoostingClassifier(n_estimators=300, random_state=10,max_features='auto',subsample=0.7,max_depth=6)\n",
    "cross_validation(gradient,df_train_norm,df_train_obj,True)\n",
    "print(\"Número de árboles = 200\")\n",
    "gradient=GradientBoostingClassifier(n_estimators=200, random_state=10,max_features='auto',subsample=0.7,max_depth=6)\n",
    "cross_validation(gradient,df_train_norm,df_train_obj,True)\n",
    "print(\"Número de árboles = 100\")\n",
    "gradient=GradientBoostingClassifier(n_estimators=100, random_state=10,max_features='auto',subsample=0.7,max_depth=6)\n",
    "cross_validation(gradient,df_train_norm,df_train_obj,True)\n",
    "print(\"Número de árboles = 50\")\n",
    "gradient=GradientBoostingClassifier(n_estimators=50, random_state=10,max_features='auto',subsample=0.7,max_depth=6)\n",
    "cross_validation(gradient,df_train_norm,df_train_obj,True)"
   ]
  },
  {
   "cell_type": "markdown",
   "metadata": {},
   "source": [
    "Configurando el parámetro learning_rate."
   ]
  },
  {
   "cell_type": "code",
   "execution_count": 114,
   "metadata": {},
   "outputs": [
    {
     "name": "stdout",
     "output_type": "stream",
     "text": [
      "Learning rate=0.2\n",
      "Accuracy:  0.8320402621722847\n",
      "Learning rate=0.3\n",
      "Accuracy:  0.8210433832709114\n",
      "Learning rate=0.5\n",
      "Accuracy:  0.8117936953807741\n"
     ]
    },
    {
     "data": {
      "text/plain": [
       "0.8117936953807741"
      ]
     },
     "execution_count": 114,
     "metadata": {},
     "output_type": "execute_result"
    }
   ],
   "source": [
    "print(\"Learning rate=0.2\")\n",
    "gradient=GradientBoostingClassifier(n_estimators=100, learning_rate=0.2, random_state=10,max_features='auto',subsample=0.7,max_depth=6)\n",
    "cross_validation(gradient,df_train_norm,df_train_obj,True)\n",
    "print(\"Learning rate=0.3\")\n",
    "gradient=GradientBoostingClassifier(n_estimators=100, learning_rate=0.3, random_state=10,max_features='auto',subsample=0.7,max_depth=6)\n",
    "cross_validation(gradient,df_train_norm,df_train_obj,True)\n",
    "print(\"Learning rate=0.5\")\n",
    "gradient=GradientBoostingClassifier(n_estimators=100, learning_rate=0.5, random_state=10,max_features='auto',subsample=0.7,max_depth=6)\n",
    "cross_validation(gradient,df_train_norm,df_train_obj,True)"
   ]
  },
  {
   "cell_type": "code",
   "execution_count": 115,
   "metadata": {},
   "outputs": [
    {
     "name": "stdout",
     "output_type": "stream",
     "text": [
      "Learning rate=0.15\n",
      "Accuracy:  0.8312899500624219\n",
      "Learning rate=0.25\n",
      "Accuracy:  0.8307911985018727\n"
     ]
    },
    {
     "data": {
      "text/plain": [
       "0.8307911985018727"
      ]
     },
     "execution_count": 115,
     "metadata": {},
     "output_type": "execute_result"
    }
   ],
   "source": [
    "print(\"Learning rate=0.15\")\n",
    "gradient=GradientBoostingClassifier(n_estimators=100, learning_rate=0.15, random_state=10,max_features='auto',subsample=0.7,max_depth=6)\n",
    "cross_validation(gradient,df_train_norm,df_train_obj,True)\n",
    "print(\"Learning rate=0.25\")\n",
    "gradient=GradientBoostingClassifier(n_estimators=100, learning_rate=0.25, random_state=10,max_features='auto',subsample=0.7,max_depth=6)\n",
    "cross_validation(gradient,df_train_norm,df_train_obj,True)"
   ]
  },
  {
   "cell_type": "code",
   "execution_count": 116,
   "metadata": {},
   "outputs": [
    {
     "name": "stdout",
     "output_type": "stream",
     "text": [
      "Accuracy:  0.8320402621722847\n"
     ]
    },
    {
     "data": {
      "text/plain": [
       "0.8320402621722847"
      ]
     },
     "execution_count": 116,
     "metadata": {},
     "output_type": "execute_result"
    }
   ],
   "source": [
    "gradient=GradientBoostingClassifier(n_estimators=100, learning_rate=0.2, random_state=10,max_features='auto',subsample=0.7,max_depth=6)\n",
    "cross_validation(gradient,df_train_norm,df_train_obj,True)"
   ]
  },
  {
   "cell_type": "code",
   "execution_count": 117,
   "metadata": {},
   "outputs": [
    {
     "name": "stdout",
     "output_type": "stream",
     "text": [
      "Accuracy:  0.8340405742821474\n"
     ]
    },
    {
     "data": {
      "text/plain": [
       "0.8340405742821474"
      ]
     },
     "execution_count": 117,
     "metadata": {},
     "output_type": "execute_result"
    }
   ],
   "source": [
    "gradient=GradientBoostingClassifier(n_estimators=200, learning_rate=0.2, random_state=10,max_features='auto',subsample=0.9,max_depth=5)\n",
    "cross_validation(gradient,df_train_norm,df_train_obj,True)"
   ]
  },
  {
   "cell_type": "code",
   "execution_count": 118,
   "metadata": {},
   "outputs": [
    {
     "name": "stdout",
     "output_type": "stream",
     "text": [
      "Accuracy:  0.8340405742821474\n"
     ]
    },
    {
     "data": {
      "text/plain": [
       "0.8340405742821474"
      ]
     },
     "execution_count": 118,
     "metadata": {},
     "output_type": "execute_result"
    }
   ],
   "source": [
    "gradient=GradientBoostingClassifier(n_estimators=200, learning_rate=0.2, random_state=10,max_features='auto',subsample=0.9,max_depth=5)\n",
    "cross_validation(gradient,df_train_norm,df_train_obj,True)"
   ]
  },
  {
   "cell_type": "code",
   "execution_count": 119,
   "metadata": {},
   "outputs": [
    {
     "name": "stdout",
     "output_type": "stream",
     "text": [
      "Accuracy:  0.8347896379525593\n"
     ]
    },
    {
     "data": {
      "text/plain": [
       "0.8347896379525593"
      ]
     },
     "execution_count": 119,
     "metadata": {},
     "output_type": "execute_result"
    }
   ],
   "source": [
    "gradient=GradientBoostingClassifier(n_estimators=150, learning_rate=0.2, random_state=10,max_features='auto',subsample=0.9,max_depth=5)\n",
    "cross_validation(gradient,df_train_norm,df_train_obj,True)"
   ]
  },
  {
   "cell_type": "code",
   "execution_count": 120,
   "metadata": {},
   "outputs": [
    {
     "data": {
      "text/plain": [
       "GridSearchCV(cv=5,\n",
       "             estimator=GradientBoostingClassifier(max_features='auto',\n",
       "                                                  random_state=10),\n",
       "             n_jobs=-1,\n",
       "             param_grid={'learning_rate': [0.2, 0.1, 0.3], 'max_depth': [5, 6],\n",
       "                         'n_estimators': [100, 150, 200, 250],\n",
       "                         'subsample': [0.9, 0.7, 0.6, 0.8]})"
      ]
     },
     "execution_count": 120,
     "metadata": {},
     "output_type": "execute_result"
    }
   ],
   "source": [
    "from sklearn.model_selection import GridSearchCV\n",
    "\n",
    "gradient=GradientBoostingClassifier(random_state=10,max_features='auto')\n",
    "parameter_space = {\n",
    "    'n_estimators': [100,150,200,250],\n",
    "    'learning_rate': [0.2,0.1,0.3],\n",
    "    'subsample': [0.9, 0.7,0.6,0.8],\n",
    "    'max_depth':[5,6],\n",
    "}\n",
    "\n",
    "clf=GridSearchCV(gradient, parameter_space, n_jobs=-1, cv=5)\n",
    "clf.fit(df_train_norm,df_train_obj)"
   ]
  },
  {
   "cell_type": "code",
   "execution_count": 121,
   "metadata": {},
   "outputs": [
    {
     "name": "stdout",
     "output_type": "stream",
     "text": [
      "Mejores parámetros:  {'learning_rate': 0.1, 'max_depth': 5, 'n_estimators': 100, 'subsample': 0.8}\n"
     ]
    }
   ],
   "source": [
    "print('Mejores parámetros: ', clf.best_params_)"
   ]
  },
  {
   "cell_type": "code",
   "execution_count": 122,
   "metadata": {},
   "outputs": [
    {
     "name": "stdout",
     "output_type": "stream",
     "text": [
      "Accuracy:  0.8360374531835205\n"
     ]
    },
    {
     "data": {
      "text/plain": [
       "0.8360374531835205"
      ]
     },
     "execution_count": 122,
     "metadata": {},
     "output_type": "execute_result"
    }
   ],
   "source": [
    "gradient=GradientBoostingClassifier(n_estimators=100, learning_rate=0.1, random_state=10,max_features='auto',subsample=0.8,max_depth=5)\n",
    "cross_validation(gradient,df_train_norm,df_train_obj,True)"
   ]
  },
  {
   "cell_type": "code",
   "execution_count": 15,
   "metadata": {},
   "outputs": [
    {
     "name": "stdout",
     "output_type": "stream",
     "text": [
      "Accuracy:  0.8328797993111952\n"
     ]
    },
    {
     "data": {
      "text/plain": [
       "0.8328797993111952"
      ]
     },
     "execution_count": 15,
     "metadata": {},
     "output_type": "execute_result"
    }
   ],
   "source": [
    "gradient=GradientBoostingClassifier(n_estimators=100, learning_rate=0.1, random_state=10,max_features='auto',subsample=0.8,max_depth=5)\n",
    "cross_validation(gradient,df_train_norm_rpl,df_train_obj_replaced,True)"
   ]
  },
  {
   "cell_type": "markdown",
   "metadata": {},
   "source": [
    "### Aplicación al conjunto de test"
   ]
  },
  {
   "cell_type": "markdown",
   "metadata": {},
   "source": [
    "#### Entrega 3"
   ]
  },
  {
   "cell_type": "code",
   "execution_count": 97,
   "metadata": {},
   "outputs": [],
   "source": [
    "knn=KNeighborsClassifier()\n",
    "bagging_knn= BaggingClassifier(knn,n_estimators=22, max_samples=1.0, max_features=0.6, random_state=10)\n",
    "bagging_knn.fit(df_train_norm,df_train_obj)\n",
    "pred=bagging_knn.predict(df_test_norm)\n",
    "ids=df_test_orig[\"id\"]\n",
    "\n",
    "df_result = pd.DataFrame({'id': ids, 'Precio_cat': pred})\n",
    "df_result.to_csv(\"resultados_3.csv\", index=False)"
   ]
  },
  {
   "cell_type": "code",
   "execution_count": 98,
   "metadata": {},
   "outputs": [
    {
     "data": {
      "text/html": [
       "<div>\n",
       "<style scoped>\n",
       "    .dataframe tbody tr th:only-of-type {\n",
       "        vertical-align: middle;\n",
       "    }\n",
       "\n",
       "    .dataframe tbody tr th {\n",
       "        vertical-align: top;\n",
       "    }\n",
       "\n",
       "    .dataframe thead th {\n",
       "        text-align: right;\n",
       "    }\n",
       "</style>\n",
       "<table border=\"1\" class=\"dataframe\">\n",
       "  <thead>\n",
       "    <tr style=\"text-align: right;\">\n",
       "      <th></th>\n",
       "      <th>id</th>\n",
       "      <th>Precio_cat</th>\n",
       "    </tr>\n",
       "  </thead>\n",
       "  <tbody>\n",
       "    <tr>\n",
       "      <th>0</th>\n",
       "      <td>4820</td>\n",
       "      <td>5</td>\n",
       "    </tr>\n",
       "    <tr>\n",
       "      <th>1</th>\n",
       "      <td>4821</td>\n",
       "      <td>2</td>\n",
       "    </tr>\n",
       "    <tr>\n",
       "      <th>2</th>\n",
       "      <td>4822</td>\n",
       "      <td>2</td>\n",
       "    </tr>\n",
       "    <tr>\n",
       "      <th>3</th>\n",
       "      <td>4823</td>\n",
       "      <td>3</td>\n",
       "    </tr>\n",
       "    <tr>\n",
       "      <th>4</th>\n",
       "      <td>4824</td>\n",
       "      <td>2</td>\n",
       "    </tr>\n",
       "  </tbody>\n",
       "</table>\n",
       "</div>"
      ],
      "text/plain": [
       "     id  Precio_cat\n",
       "0  4820           5\n",
       "1  4821           2\n",
       "2  4822           2\n",
       "3  4823           3\n",
       "4  4824           2"
      ]
     },
     "execution_count": 98,
     "metadata": {},
     "output_type": "execute_result"
    }
   ],
   "source": [
    "df_result.head()"
   ]
  },
  {
   "cell_type": "markdown",
   "metadata": {},
   "source": [
    "#### Entrega 4"
   ]
  },
  {
   "cell_type": "code",
   "execution_count": 123,
   "metadata": {},
   "outputs": [],
   "source": [
    "gradient=GradientBoostingClassifier(n_estimators=100, learning_rate=0.1, random_state=10,max_features='auto',subsample=0.8,max_depth=5)\n",
    "gradient.fit(df_train_norm,df_train_obj)\n",
    "pred=gradient.predict(df_test_norm)\n",
    "ids=df_test_orig[\"id\"]\n",
    "\n",
    "df_result = pd.DataFrame({'id': ids, 'Precio_cat': pred})\n",
    "df_result.to_csv(\"resultados_4.csv\", index=False)"
   ]
  }
 ],
 "metadata": {
  "kernelspec": {
   "display_name": "Python 3",
   "language": "python",
   "name": "python3"
  },
  "language_info": {
   "codemirror_mode": {
    "name": "ipython",
    "version": 3
   },
   "file_extension": ".py",
   "mimetype": "text/x-python",
   "name": "python",
   "nbconvert_exporter": "python",
   "pygments_lexer": "ipython3",
   "version": "3.8.5"
  }
 },
 "nbformat": 4,
 "nbformat_minor": 4
}
