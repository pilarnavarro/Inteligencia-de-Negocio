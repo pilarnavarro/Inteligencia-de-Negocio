{
 "cells": [
  {
   "cell_type": "markdown",
   "metadata": {},
   "source": [
    "# Práctica 3 - Séptima prueba\n",
    "\n",
    "#### Pilar Navarro Ramírez"
   ]
  },
  {
   "cell_type": "code",
   "execution_count": 1,
   "metadata": {},
   "outputs": [],
   "source": [
    "import pandas as pd"
   ]
  },
  {
   "cell_type": "markdown",
   "metadata": {},
   "source": [
    "## Preprocesamiento"
   ]
  },
  {
   "cell_type": "code",
   "execution_count": 2,
   "metadata": {},
   "outputs": [],
   "source": [
    "df_train=pd.read_csv(\"data/train.csv\",na_values=[\"\"])\n",
    "df_test=pd.read_csv(\"data/test.csv\",na_values=[\"\"])"
   ]
  },
  {
   "cell_type": "code",
   "execution_count": 3,
   "metadata": {},
   "outputs": [],
   "source": [
    "df_train.columns = [col.lower() for col in df_train]\n",
    "df_test.columns = [col.lower() for col in df_test]\n",
    "\n",
    "df_train_orig = df_train.copy()\n",
    "df_test_orig = df_test.copy()\n",
    "\n",
    "del df_train[\"id\"]\n",
    "del df_test[\"id\"]"
   ]
  },
  {
   "cell_type": "markdown",
   "metadata": {},
   "source": [
    "### Tratamos los datos perdidos"
   ]
  },
  {
   "cell_type": "code",
   "execution_count": 4,
   "metadata": {},
   "outputs": [],
   "source": [
    "from sklearn import impute"
   ]
  },
  {
   "cell_type": "code",
   "execution_count": 5,
   "metadata": {},
   "outputs": [],
   "source": [
    "del df_train['descuento']\n",
    "del df_test['descuento']"
   ]
  },
  {
   "cell_type": "code",
   "execution_count": 6,
   "metadata": {},
   "outputs": [],
   "source": [
    "df_train_replaced=df_train.copy()\n",
    "imputer=impute.SimpleImputer(strategy=\"most_frequent\")\n",
    "values = imputer.fit_transform([df_train_replaced.asientos.values])\n",
    "df_train_replaced.asientos.update(pd.Series(values[0]))"
   ]
  },
  {
   "cell_type": "code",
   "execution_count": 7,
   "metadata": {},
   "outputs": [],
   "source": [
    "df_train_replaced=df_train_replaced.dropna()\n",
    "df_train=df_train.dropna()"
   ]
  },
  {
   "cell_type": "markdown",
   "metadata": {},
   "source": [
    "Separamos el atributo a predecir del resto de atributos en el conjunto de entrenamiento."
   ]
  },
  {
   "cell_type": "code",
   "execution_count": 8,
   "metadata": {},
   "outputs": [],
   "source": [
    "cols = [col for col in df_train.columns if col not in ['precio_cat']]    \n",
    "df_train, df_train_obj= df_train[cols], df_train['precio_cat']\n",
    "df_train_replaced, df_train_obj_replaced= df_train_replaced[cols], df_train_replaced['precio_cat']"
   ]
  },
  {
   "cell_type": "markdown",
   "metadata": {},
   "source": [
    "### Normalización de los datos numéricos"
   ]
  },
  {
   "cell_type": "code",
   "execution_count": 9,
   "metadata": {},
   "outputs": [],
   "source": [
    "from sklearn.preprocessing import MinMaxScaler\n",
    "\n",
    "exc=[\"nombre\",\"ciudad\",\"combustible\",\"tipo_marchas\",\"mano\",\"consumo\",\"motor_cc\",\"potencia\",'precio_cat','id','descuento']\n",
    "cols = [col for col in df_train_orig.columns if col not in exc]  \n",
    "\n",
    "\n",
    "df_train_norm=df_train.copy()\n",
    "df_train_norm_rpl=df_train_replaced.copy()\n",
    "df_test_norm=df_test.copy()\n",
    "\n",
    "\n",
    "for atributo in cols:\n",
    "    data=pd.read_csv(\"data/\"+atributo+\".csv\")\n",
    "    data.columns = [col.lower() for col in data]\n",
    "    scaler = MinMaxScaler().fit(data.values)\n",
    "    train_values=df_train[atributo].values.reshape(-1,1)\n",
    "    df_train_norm[atributo]=scaler.transform(train_values)\n",
    "    train_values_rpl=df_train_replaced[atributo].values.reshape(-1,1)\n",
    "    df_train_norm_rpl[atributo]=scaler.transform(train_values_rpl)\n",
    "    test_values=df_test[atributo].values.reshape(-1,1)\n",
    "    df_test_norm[atributo]=scaler.transform(test_values)\n",
    "    "
   ]
  },
  {
   "cell_type": "code",
   "execution_count": 10,
   "metadata": {},
   "outputs": [
    {
     "data": {
      "text/html": [
       "<div>\n",
       "<style scoped>\n",
       "    .dataframe tbody tr th:only-of-type {\n",
       "        vertical-align: middle;\n",
       "    }\n",
       "\n",
       "    .dataframe tbody tr th {\n",
       "        vertical-align: top;\n",
       "    }\n",
       "\n",
       "    .dataframe thead th {\n",
       "        text-align: right;\n",
       "    }\n",
       "</style>\n",
       "<table border=\"1\" class=\"dataframe\">\n",
       "  <thead>\n",
       "    <tr style=\"text-align: right;\">\n",
       "      <th></th>\n",
       "      <th>nombre</th>\n",
       "      <th>ciudad</th>\n",
       "      <th>año</th>\n",
       "      <th>kilometros</th>\n",
       "      <th>combustible</th>\n",
       "      <th>tipo_marchas</th>\n",
       "      <th>mano</th>\n",
       "      <th>consumo</th>\n",
       "      <th>motor_cc</th>\n",
       "      <th>potencia</th>\n",
       "      <th>asientos</th>\n",
       "    </tr>\n",
       "  </thead>\n",
       "  <tbody>\n",
       "    <tr>\n",
       "      <th>4813</th>\n",
       "      <td>Volkswagen Vento Petrol Highline</td>\n",
       "      <td>C</td>\n",
       "      <td>0.666667</td>\n",
       "      <td>0.010312</td>\n",
       "      <td>Petrol</td>\n",
       "      <td>Manual</td>\n",
       "      <td>First</td>\n",
       "      <td>15.04 kmpl</td>\n",
       "      <td>1598 CC</td>\n",
       "      <td>103.6 bhp</td>\n",
       "      <td>0.5</td>\n",
       "    </tr>\n",
       "    <tr>\n",
       "      <th>4814</th>\n",
       "      <td>Maruti Swift VDI</td>\n",
       "      <td>E</td>\n",
       "      <td>0.761905</td>\n",
       "      <td>0.012785</td>\n",
       "      <td>Diesel</td>\n",
       "      <td>Manual</td>\n",
       "      <td>First</td>\n",
       "      <td>22.9 kmpl</td>\n",
       "      <td>1248 CC</td>\n",
       "      <td>74 bhp</td>\n",
       "      <td>0.5</td>\n",
       "    </tr>\n",
       "    <tr>\n",
       "      <th>4815</th>\n",
       "      <td>Porsche Panamera Diesel 250hp</td>\n",
       "      <td>H</td>\n",
       "      <td>0.761905</td>\n",
       "      <td>0.009210</td>\n",
       "      <td>Diesel</td>\n",
       "      <td>Automatic</td>\n",
       "      <td>First</td>\n",
       "      <td>18.18 kmpl</td>\n",
       "      <td>2967 CC</td>\n",
       "      <td>250 bhp</td>\n",
       "      <td>0.4</td>\n",
       "    </tr>\n",
       "    <tr>\n",
       "      <th>4817</th>\n",
       "      <td>Hyundai Xcent 1.2 VTVT S</td>\n",
       "      <td>E</td>\n",
       "      <td>0.809524</td>\n",
       "      <td>0.010088</td>\n",
       "      <td>Petrol</td>\n",
       "      <td>Manual</td>\n",
       "      <td>First</td>\n",
       "      <td>20.14 kmpl</td>\n",
       "      <td>1197 CC</td>\n",
       "      <td>81.86 bhp</td>\n",
       "      <td>0.5</td>\n",
       "    </tr>\n",
       "    <tr>\n",
       "      <th>4818</th>\n",
       "      <td>Maruti Ertiga ZDI</td>\n",
       "      <td>B</td>\n",
       "      <td>0.714286</td>\n",
       "      <td>0.011512</td>\n",
       "      <td>Diesel</td>\n",
       "      <td>Manual</td>\n",
       "      <td>First</td>\n",
       "      <td>20.77 kmpl</td>\n",
       "      <td>1248 CC</td>\n",
       "      <td>88.8 bhp</td>\n",
       "      <td>0.7</td>\n",
       "    </tr>\n",
       "  </tbody>\n",
       "</table>\n",
       "</div>"
      ],
      "text/plain": [
       "                                nombre ciudad       año  kilometros  \\\n",
       "4813  Volkswagen Vento Petrol Highline      C  0.666667    0.010312   \n",
       "4814                  Maruti Swift VDI      E  0.761905    0.012785   \n",
       "4815     Porsche Panamera Diesel 250hp      H  0.761905    0.009210   \n",
       "4817          Hyundai Xcent 1.2 VTVT S      E  0.809524    0.010088   \n",
       "4818                 Maruti Ertiga ZDI      B  0.714286    0.011512   \n",
       "\n",
       "     combustible tipo_marchas   mano     consumo motor_cc   potencia  asientos  \n",
       "4813      Petrol       Manual  First  15.04 kmpl  1598 CC  103.6 bhp       0.5  \n",
       "4814      Diesel       Manual  First   22.9 kmpl  1248 CC     74 bhp       0.5  \n",
       "4815      Diesel    Automatic  First  18.18 kmpl  2967 CC    250 bhp       0.4  \n",
       "4817      Petrol       Manual  First  20.14 kmpl  1197 CC  81.86 bhp       0.5  \n",
       "4818      Diesel       Manual  First  20.77 kmpl  1248 CC   88.8 bhp       0.7  "
      ]
     },
     "execution_count": 10,
     "metadata": {},
     "output_type": "execute_result"
    }
   ],
   "source": [
    "df_train_norm.tail()"
   ]
  },
  {
   "cell_type": "markdown",
   "metadata": {},
   "source": [
    "### 'Transformación' de variables categóricas a binarias"
   ]
  },
  {
   "cell_type": "code",
   "execution_count": 11,
   "metadata": {},
   "outputs": [],
   "source": [
    "from sklearn.preprocessing import OneHotEncoder\n",
    "import numpy as np\n",
    "\n",
    "categorical=[\"nombre\",\"ciudad\",\"combustible\",\"tipo_marchas\",\"mano\",\"consumo\",\"motor_cc\",\"potencia\"]\n",
    "cols = [col for col in df_train.columns if col not in categorical]    \n",
    "\n",
    "df_train_num=df_train_norm.copy()\n",
    "df_train_num_rpl=df_train_norm_rpl.copy()\n",
    "df_test_num=df_test_norm.copy()\n",
    "\n",
    "df_train_num=np.array(df_train_num[cols])\n",
    "df_train_num_rpl=np.array(df_train_num_rpl[cols])\n",
    "df_test_num=np.array(df_test_num[cols])\n",
    "\n",
    "for atributo in categorical:\n",
    "    data=pd.read_csv(\"data/\"+atributo+\".csv\")\n",
    "    data.columns = [col.lower() for col in data]\n",
    "    enc = OneHotEncoder().fit(data[atributo].values.reshape(-1,1))\n",
    "\n",
    "    #Conjunto de entrenamiento con ambos preprocesamientos\n",
    "    enc_train=enc.transform(df_train[atributo].values.reshape(-1,1)).toarray()        \n",
    "    df_train_num=np.hstack((df_train_num,enc_train))\n",
    "    \n",
    "    enc_train_rpl=enc.transform(df_train_replaced[atributo].values.reshape(-1,1)).toarray()\n",
    "    df_train_num_rpl=np.hstack((df_train_num_rpl,enc_train_rpl))\n",
    "\n",
    "    \n",
    "    #Conjunto de test\n",
    "    enc_test=enc.transform(df_test[atributo].values.reshape(-1,1)).toarray()\n",
    "    df_test_num=np.hstack((df_test_num,enc_test))\n",
    "                          \n",
    "df_train_num=pd.DataFrame(df_train_num)\n",
    "df_train_num_rpl=pd.DataFrame(df_train_num_rpl)\n",
    "df_test_num=pd.DataFrame(df_test_num)"
   ]
  },
  {
   "cell_type": "code",
   "execution_count": 12,
   "metadata": {},
   "outputs": [
    {
     "data": {
      "text/html": [
       "<div>\n",
       "<style scoped>\n",
       "    .dataframe tbody tr th:only-of-type {\n",
       "        vertical-align: middle;\n",
       "    }\n",
       "\n",
       "    .dataframe tbody tr th {\n",
       "        vertical-align: top;\n",
       "    }\n",
       "\n",
       "    .dataframe thead th {\n",
       "        text-align: right;\n",
       "    }\n",
       "</style>\n",
       "<table border=\"1\" class=\"dataframe\">\n",
       "  <thead>\n",
       "    <tr style=\"text-align: right;\">\n",
       "      <th></th>\n",
       "      <th>0</th>\n",
       "      <th>1</th>\n",
       "      <th>2</th>\n",
       "      <th>3</th>\n",
       "      <th>4</th>\n",
       "      <th>5</th>\n",
       "      <th>6</th>\n",
       "      <th>7</th>\n",
       "      <th>8</th>\n",
       "      <th>9</th>\n",
       "      <th>...</th>\n",
       "      <th>2838</th>\n",
       "      <th>2839</th>\n",
       "      <th>2840</th>\n",
       "      <th>2841</th>\n",
       "      <th>2842</th>\n",
       "      <th>2843</th>\n",
       "      <th>2844</th>\n",
       "      <th>2845</th>\n",
       "      <th>2846</th>\n",
       "      <th>2847</th>\n",
       "    </tr>\n",
       "  </thead>\n",
       "  <tbody>\n",
       "    <tr>\n",
       "      <th>0</th>\n",
       "      <td>0.666667</td>\n",
       "      <td>0.012743</td>\n",
       "      <td>0.5</td>\n",
       "      <td>0.0</td>\n",
       "      <td>0.0</td>\n",
       "      <td>0.0</td>\n",
       "      <td>0.0</td>\n",
       "      <td>0.0</td>\n",
       "      <td>0.0</td>\n",
       "      <td>0.0</td>\n",
       "      <td>...</td>\n",
       "      <td>0.0</td>\n",
       "      <td>0.0</td>\n",
       "      <td>0.0</td>\n",
       "      <td>0.0</td>\n",
       "      <td>0.0</td>\n",
       "      <td>0.0</td>\n",
       "      <td>0.0</td>\n",
       "      <td>0.0</td>\n",
       "      <td>0.0</td>\n",
       "      <td>0.0</td>\n",
       "    </tr>\n",
       "    <tr>\n",
       "      <th>1</th>\n",
       "      <td>0.857143</td>\n",
       "      <td>0.000712</td>\n",
       "      <td>0.5</td>\n",
       "      <td>0.0</td>\n",
       "      <td>0.0</td>\n",
       "      <td>0.0</td>\n",
       "      <td>0.0</td>\n",
       "      <td>0.0</td>\n",
       "      <td>0.0</td>\n",
       "      <td>0.0</td>\n",
       "      <td>...</td>\n",
       "      <td>0.0</td>\n",
       "      <td>0.0</td>\n",
       "      <td>0.0</td>\n",
       "      <td>0.0</td>\n",
       "      <td>0.0</td>\n",
       "      <td>0.0</td>\n",
       "      <td>0.0</td>\n",
       "      <td>0.0</td>\n",
       "      <td>0.0</td>\n",
       "      <td>0.0</td>\n",
       "    </tr>\n",
       "    <tr>\n",
       "      <th>2</th>\n",
       "      <td>0.857143</td>\n",
       "      <td>0.003974</td>\n",
       "      <td>0.6</td>\n",
       "      <td>0.0</td>\n",
       "      <td>0.0</td>\n",
       "      <td>0.0</td>\n",
       "      <td>0.0</td>\n",
       "      <td>0.0</td>\n",
       "      <td>0.0</td>\n",
       "      <td>0.0</td>\n",
       "      <td>...</td>\n",
       "      <td>0.0</td>\n",
       "      <td>0.0</td>\n",
       "      <td>0.0</td>\n",
       "      <td>0.0</td>\n",
       "      <td>0.0</td>\n",
       "      <td>0.0</td>\n",
       "      <td>0.0</td>\n",
       "      <td>0.0</td>\n",
       "      <td>0.0</td>\n",
       "      <td>0.0</td>\n",
       "    </tr>\n",
       "    <tr>\n",
       "      <th>3</th>\n",
       "      <td>0.714286</td>\n",
       "      <td>0.008609</td>\n",
       "      <td>0.5</td>\n",
       "      <td>0.0</td>\n",
       "      <td>0.0</td>\n",
       "      <td>0.0</td>\n",
       "      <td>0.0</td>\n",
       "      <td>0.0</td>\n",
       "      <td>0.0</td>\n",
       "      <td>0.0</td>\n",
       "      <td>...</td>\n",
       "      <td>0.0</td>\n",
       "      <td>0.0</td>\n",
       "      <td>0.0</td>\n",
       "      <td>0.0</td>\n",
       "      <td>0.0</td>\n",
       "      <td>0.0</td>\n",
       "      <td>0.0</td>\n",
       "      <td>0.0</td>\n",
       "      <td>0.0</td>\n",
       "      <td>0.0</td>\n",
       "    </tr>\n",
       "    <tr>\n",
       "      <th>4</th>\n",
       "      <td>0.904762</td>\n",
       "      <td>0.006432</td>\n",
       "      <td>0.5</td>\n",
       "      <td>0.0</td>\n",
       "      <td>0.0</td>\n",
       "      <td>0.0</td>\n",
       "      <td>0.0</td>\n",
       "      <td>0.0</td>\n",
       "      <td>0.0</td>\n",
       "      <td>0.0</td>\n",
       "      <td>...</td>\n",
       "      <td>0.0</td>\n",
       "      <td>0.0</td>\n",
       "      <td>0.0</td>\n",
       "      <td>0.0</td>\n",
       "      <td>0.0</td>\n",
       "      <td>0.0</td>\n",
       "      <td>0.0</td>\n",
       "      <td>0.0</td>\n",
       "      <td>0.0</td>\n",
       "      <td>0.0</td>\n",
       "    </tr>\n",
       "  </tbody>\n",
       "</table>\n",
       "<p>5 rows × 2848 columns</p>\n",
       "</div>"
      ],
      "text/plain": [
       "       0         1     2     3     4     5     6     7     8     9     ...  \\\n",
       "0  0.666667  0.012743   0.5   0.0   0.0   0.0   0.0   0.0   0.0   0.0  ...   \n",
       "1  0.857143  0.000712   0.5   0.0   0.0   0.0   0.0   0.0   0.0   0.0  ...   \n",
       "2  0.857143  0.003974   0.6   0.0   0.0   0.0   0.0   0.0   0.0   0.0  ...   \n",
       "3  0.714286  0.008609   0.5   0.0   0.0   0.0   0.0   0.0   0.0   0.0  ...   \n",
       "4  0.904762  0.006432   0.5   0.0   0.0   0.0   0.0   0.0   0.0   0.0  ...   \n",
       "\n",
       "   2838  2839  2840  2841  2842  2843  2844  2845  2846  2847  \n",
       "0   0.0   0.0   0.0   0.0   0.0   0.0   0.0   0.0   0.0   0.0  \n",
       "1   0.0   0.0   0.0   0.0   0.0   0.0   0.0   0.0   0.0   0.0  \n",
       "2   0.0   0.0   0.0   0.0   0.0   0.0   0.0   0.0   0.0   0.0  \n",
       "3   0.0   0.0   0.0   0.0   0.0   0.0   0.0   0.0   0.0   0.0  \n",
       "4   0.0   0.0   0.0   0.0   0.0   0.0   0.0   0.0   0.0   0.0  \n",
       "\n",
       "[5 rows x 2848 columns]"
      ]
     },
     "execution_count": 12,
     "metadata": {},
     "output_type": "execute_result"
    }
   ],
   "source": [
    "df_train_num.head()"
   ]
  },
  {
   "cell_type": "code",
   "execution_count": 13,
   "metadata": {},
   "outputs": [
    {
     "data": {
      "text/html": [
       "<div>\n",
       "<style scoped>\n",
       "    .dataframe tbody tr th:only-of-type {\n",
       "        vertical-align: middle;\n",
       "    }\n",
       "\n",
       "    .dataframe tbody tr th {\n",
       "        vertical-align: top;\n",
       "    }\n",
       "\n",
       "    .dataframe thead th {\n",
       "        text-align: right;\n",
       "    }\n",
       "</style>\n",
       "<table border=\"1\" class=\"dataframe\">\n",
       "  <thead>\n",
       "    <tr style=\"text-align: right;\">\n",
       "      <th></th>\n",
       "      <th>0</th>\n",
       "      <th>1</th>\n",
       "      <th>2</th>\n",
       "      <th>3</th>\n",
       "      <th>4</th>\n",
       "      <th>5</th>\n",
       "      <th>6</th>\n",
       "      <th>7</th>\n",
       "      <th>8</th>\n",
       "      <th>9</th>\n",
       "      <th>...</th>\n",
       "      <th>2838</th>\n",
       "      <th>2839</th>\n",
       "      <th>2840</th>\n",
       "      <th>2841</th>\n",
       "      <th>2842</th>\n",
       "      <th>2843</th>\n",
       "      <th>2844</th>\n",
       "      <th>2845</th>\n",
       "      <th>2846</th>\n",
       "      <th>2847</th>\n",
       "    </tr>\n",
       "  </thead>\n",
       "  <tbody>\n",
       "    <tr>\n",
       "      <th>count</th>\n",
       "      <td>4001.000000</td>\n",
       "      <td>4001.000000</td>\n",
       "      <td>4001.000000</td>\n",
       "      <td>4001.0</td>\n",
       "      <td>4001.0</td>\n",
       "      <td>4001.000000</td>\n",
       "      <td>4001.000000</td>\n",
       "      <td>4001.000000</td>\n",
       "      <td>4001.000000</td>\n",
       "      <td>4001.000000</td>\n",
       "      <td>...</td>\n",
       "      <td>4001.000000</td>\n",
       "      <td>4001.000000</td>\n",
       "      <td>4001.000000</td>\n",
       "      <td>4001.000000</td>\n",
       "      <td>4001.000000</td>\n",
       "      <td>4001.000000</td>\n",
       "      <td>4001.000000</td>\n",
       "      <td>4001.000000</td>\n",
       "      <td>4001.000000</td>\n",
       "      <td>4001.000000</td>\n",
       "    </tr>\n",
       "    <tr>\n",
       "      <th>mean</th>\n",
       "      <td>0.745302</td>\n",
       "      <td>0.009001</td>\n",
       "      <td>0.529468</td>\n",
       "      <td>0.0</td>\n",
       "      <td>0.0</td>\n",
       "      <td>0.000250</td>\n",
       "      <td>0.000250</td>\n",
       "      <td>0.000250</td>\n",
       "      <td>0.000250</td>\n",
       "      <td>0.000250</td>\n",
       "      <td>...</td>\n",
       "      <td>0.000250</td>\n",
       "      <td>0.000500</td>\n",
       "      <td>0.000750</td>\n",
       "      <td>0.002999</td>\n",
       "      <td>0.026243</td>\n",
       "      <td>0.000250</td>\n",
       "      <td>0.000500</td>\n",
       "      <td>0.001500</td>\n",
       "      <td>0.002749</td>\n",
       "      <td>0.001000</td>\n",
       "    </tr>\n",
       "    <tr>\n",
       "      <th>std</th>\n",
       "      <td>0.145271</td>\n",
       "      <td>0.016793</td>\n",
       "      <td>0.081295</td>\n",
       "      <td>0.0</td>\n",
       "      <td>0.0</td>\n",
       "      <td>0.015809</td>\n",
       "      <td>0.015809</td>\n",
       "      <td>0.015809</td>\n",
       "      <td>0.015809</td>\n",
       "      <td>0.015809</td>\n",
       "      <td>...</td>\n",
       "      <td>0.015809</td>\n",
       "      <td>0.022355</td>\n",
       "      <td>0.027376</td>\n",
       "      <td>0.054690</td>\n",
       "      <td>0.159878</td>\n",
       "      <td>0.015809</td>\n",
       "      <td>0.022355</td>\n",
       "      <td>0.038701</td>\n",
       "      <td>0.052368</td>\n",
       "      <td>0.031607</td>\n",
       "    </tr>\n",
       "    <tr>\n",
       "      <th>min</th>\n",
       "      <td>0.000000</td>\n",
       "      <td>0.000000</td>\n",
       "      <td>0.200000</td>\n",
       "      <td>0.0</td>\n",
       "      <td>0.0</td>\n",
       "      <td>0.000000</td>\n",
       "      <td>0.000000</td>\n",
       "      <td>0.000000</td>\n",
       "      <td>0.000000</td>\n",
       "      <td>0.000000</td>\n",
       "      <td>...</td>\n",
       "      <td>0.000000</td>\n",
       "      <td>0.000000</td>\n",
       "      <td>0.000000</td>\n",
       "      <td>0.000000</td>\n",
       "      <td>0.000000</td>\n",
       "      <td>0.000000</td>\n",
       "      <td>0.000000</td>\n",
       "      <td>0.000000</td>\n",
       "      <td>0.000000</td>\n",
       "      <td>0.000000</td>\n",
       "    </tr>\n",
       "    <tr>\n",
       "      <th>25%</th>\n",
       "      <td>0.666667</td>\n",
       "      <td>0.005051</td>\n",
       "      <td>0.500000</td>\n",
       "      <td>0.0</td>\n",
       "      <td>0.0</td>\n",
       "      <td>0.000000</td>\n",
       "      <td>0.000000</td>\n",
       "      <td>0.000000</td>\n",
       "      <td>0.000000</td>\n",
       "      <td>0.000000</td>\n",
       "      <td>...</td>\n",
       "      <td>0.000000</td>\n",
       "      <td>0.000000</td>\n",
       "      <td>0.000000</td>\n",
       "      <td>0.000000</td>\n",
       "      <td>0.000000</td>\n",
       "      <td>0.000000</td>\n",
       "      <td>0.000000</td>\n",
       "      <td>0.000000</td>\n",
       "      <td>0.000000</td>\n",
       "      <td>0.000000</td>\n",
       "    </tr>\n",
       "    <tr>\n",
       "      <th>50%</th>\n",
       "      <td>0.761905</td>\n",
       "      <td>0.008011</td>\n",
       "      <td>0.500000</td>\n",
       "      <td>0.0</td>\n",
       "      <td>0.0</td>\n",
       "      <td>0.000000</td>\n",
       "      <td>0.000000</td>\n",
       "      <td>0.000000</td>\n",
       "      <td>0.000000</td>\n",
       "      <td>0.000000</td>\n",
       "      <td>...</td>\n",
       "      <td>0.000000</td>\n",
       "      <td>0.000000</td>\n",
       "      <td>0.000000</td>\n",
       "      <td>0.000000</td>\n",
       "      <td>0.000000</td>\n",
       "      <td>0.000000</td>\n",
       "      <td>0.000000</td>\n",
       "      <td>0.000000</td>\n",
       "      <td>0.000000</td>\n",
       "      <td>0.000000</td>\n",
       "    </tr>\n",
       "    <tr>\n",
       "      <th>75%</th>\n",
       "      <td>0.857143</td>\n",
       "      <td>0.011051</td>\n",
       "      <td>0.500000</td>\n",
       "      <td>0.0</td>\n",
       "      <td>0.0</td>\n",
       "      <td>0.000000</td>\n",
       "      <td>0.000000</td>\n",
       "      <td>0.000000</td>\n",
       "      <td>0.000000</td>\n",
       "      <td>0.000000</td>\n",
       "      <td>...</td>\n",
       "      <td>0.000000</td>\n",
       "      <td>0.000000</td>\n",
       "      <td>0.000000</td>\n",
       "      <td>0.000000</td>\n",
       "      <td>0.000000</td>\n",
       "      <td>0.000000</td>\n",
       "      <td>0.000000</td>\n",
       "      <td>0.000000</td>\n",
       "      <td>0.000000</td>\n",
       "      <td>0.000000</td>\n",
       "    </tr>\n",
       "    <tr>\n",
       "      <th>max</th>\n",
       "      <td>1.000000</td>\n",
       "      <td>1.000000</td>\n",
       "      <td>1.000000</td>\n",
       "      <td>0.0</td>\n",
       "      <td>0.0</td>\n",
       "      <td>1.000000</td>\n",
       "      <td>1.000000</td>\n",
       "      <td>1.000000</td>\n",
       "      <td>1.000000</td>\n",
       "      <td>1.000000</td>\n",
       "      <td>...</td>\n",
       "      <td>1.000000</td>\n",
       "      <td>1.000000</td>\n",
       "      <td>1.000000</td>\n",
       "      <td>1.000000</td>\n",
       "      <td>1.000000</td>\n",
       "      <td>1.000000</td>\n",
       "      <td>1.000000</td>\n",
       "      <td>1.000000</td>\n",
       "      <td>1.000000</td>\n",
       "      <td>1.000000</td>\n",
       "    </tr>\n",
       "  </tbody>\n",
       "</table>\n",
       "<p>8 rows × 2848 columns</p>\n",
       "</div>"
      ],
      "text/plain": [
       "              0            1            2       3       4            5     \\\n",
       "count  4001.000000  4001.000000  4001.000000  4001.0  4001.0  4001.000000   \n",
       "mean      0.745302     0.009001     0.529468     0.0     0.0     0.000250   \n",
       "std       0.145271     0.016793     0.081295     0.0     0.0     0.015809   \n",
       "min       0.000000     0.000000     0.200000     0.0     0.0     0.000000   \n",
       "25%       0.666667     0.005051     0.500000     0.0     0.0     0.000000   \n",
       "50%       0.761905     0.008011     0.500000     0.0     0.0     0.000000   \n",
       "75%       0.857143     0.011051     0.500000     0.0     0.0     0.000000   \n",
       "max       1.000000     1.000000     1.000000     0.0     0.0     1.000000   \n",
       "\n",
       "              6            7            8            9     ...         2838  \\\n",
       "count  4001.000000  4001.000000  4001.000000  4001.000000  ...  4001.000000   \n",
       "mean      0.000250     0.000250     0.000250     0.000250  ...     0.000250   \n",
       "std       0.015809     0.015809     0.015809     0.015809  ...     0.015809   \n",
       "min       0.000000     0.000000     0.000000     0.000000  ...     0.000000   \n",
       "25%       0.000000     0.000000     0.000000     0.000000  ...     0.000000   \n",
       "50%       0.000000     0.000000     0.000000     0.000000  ...     0.000000   \n",
       "75%       0.000000     0.000000     0.000000     0.000000  ...     0.000000   \n",
       "max       1.000000     1.000000     1.000000     1.000000  ...     1.000000   \n",
       "\n",
       "              2839         2840         2841         2842         2843  \\\n",
       "count  4001.000000  4001.000000  4001.000000  4001.000000  4001.000000   \n",
       "mean      0.000500     0.000750     0.002999     0.026243     0.000250   \n",
       "std       0.022355     0.027376     0.054690     0.159878     0.015809   \n",
       "min       0.000000     0.000000     0.000000     0.000000     0.000000   \n",
       "25%       0.000000     0.000000     0.000000     0.000000     0.000000   \n",
       "50%       0.000000     0.000000     0.000000     0.000000     0.000000   \n",
       "75%       0.000000     0.000000     0.000000     0.000000     0.000000   \n",
       "max       1.000000     1.000000     1.000000     1.000000     1.000000   \n",
       "\n",
       "              2844         2845         2846         2847  \n",
       "count  4001.000000  4001.000000  4001.000000  4001.000000  \n",
       "mean      0.000500     0.001500     0.002749     0.001000  \n",
       "std       0.022355     0.038701     0.052368     0.031607  \n",
       "min       0.000000     0.000000     0.000000     0.000000  \n",
       "25%       0.000000     0.000000     0.000000     0.000000  \n",
       "50%       0.000000     0.000000     0.000000     0.000000  \n",
       "75%       0.000000     0.000000     0.000000     0.000000  \n",
       "max       1.000000     1.000000     1.000000     1.000000  \n",
       "\n",
       "[8 rows x 2848 columns]"
      ]
     },
     "execution_count": 13,
     "metadata": {},
     "output_type": "execute_result"
    }
   ],
   "source": [
    "df_train_num.describe()"
   ]
  },
  {
   "cell_type": "code",
   "execution_count": 14,
   "metadata": {},
   "outputs": [
    {
     "data": {
      "text/html": [
       "<div>\n",
       "<style scoped>\n",
       "    .dataframe tbody tr th:only-of-type {\n",
       "        vertical-align: middle;\n",
       "    }\n",
       "\n",
       "    .dataframe tbody tr th {\n",
       "        vertical-align: top;\n",
       "    }\n",
       "\n",
       "    .dataframe thead th {\n",
       "        text-align: right;\n",
       "    }\n",
       "</style>\n",
       "<table border=\"1\" class=\"dataframe\">\n",
       "  <thead>\n",
       "    <tr style=\"text-align: right;\">\n",
       "      <th></th>\n",
       "      <th>0</th>\n",
       "      <th>1</th>\n",
       "      <th>2</th>\n",
       "      <th>3</th>\n",
       "      <th>4</th>\n",
       "      <th>5</th>\n",
       "      <th>6</th>\n",
       "      <th>7</th>\n",
       "      <th>8</th>\n",
       "      <th>9</th>\n",
       "      <th>...</th>\n",
       "      <th>2838</th>\n",
       "      <th>2839</th>\n",
       "      <th>2840</th>\n",
       "      <th>2841</th>\n",
       "      <th>2842</th>\n",
       "      <th>2843</th>\n",
       "      <th>2844</th>\n",
       "      <th>2845</th>\n",
       "      <th>2846</th>\n",
       "      <th>2847</th>\n",
       "    </tr>\n",
       "  </thead>\n",
       "  <tbody>\n",
       "    <tr>\n",
       "      <th>count</th>\n",
       "      <td>1159.000000</td>\n",
       "      <td>1159.000000</td>\n",
       "      <td>1159.000000</td>\n",
       "      <td>1159.000000</td>\n",
       "      <td>1159.0</td>\n",
       "      <td>1159.0</td>\n",
       "      <td>1159.0</td>\n",
       "      <td>1159.0</td>\n",
       "      <td>1159.000000</td>\n",
       "      <td>1159.0</td>\n",
       "      <td>...</td>\n",
       "      <td>1159.0</td>\n",
       "      <td>1159.000000</td>\n",
       "      <td>1159.000000</td>\n",
       "      <td>1159.000000</td>\n",
       "      <td>1159.000000</td>\n",
       "      <td>1159.0</td>\n",
       "      <td>1159.0</td>\n",
       "      <td>1159.000000</td>\n",
       "      <td>1159.000000</td>\n",
       "      <td>1159.0</td>\n",
       "    </tr>\n",
       "    <tr>\n",
       "      <th>mean</th>\n",
       "      <td>0.699618</td>\n",
       "      <td>0.009109</td>\n",
       "      <td>0.525798</td>\n",
       "      <td>0.000863</td>\n",
       "      <td>0.0</td>\n",
       "      <td>0.0</td>\n",
       "      <td>0.0</td>\n",
       "      <td>0.0</td>\n",
       "      <td>0.000863</td>\n",
       "      <td>0.0</td>\n",
       "      <td>...</td>\n",
       "      <td>0.0</td>\n",
       "      <td>0.000863</td>\n",
       "      <td>0.000863</td>\n",
       "      <td>0.000863</td>\n",
       "      <td>0.009491</td>\n",
       "      <td>0.0</td>\n",
       "      <td>0.0</td>\n",
       "      <td>0.002588</td>\n",
       "      <td>0.005177</td>\n",
       "      <td>0.0</td>\n",
       "    </tr>\n",
       "    <tr>\n",
       "      <th>std</th>\n",
       "      <td>0.171870</td>\n",
       "      <td>0.005493</td>\n",
       "      <td>0.079172</td>\n",
       "      <td>0.029374</td>\n",
       "      <td>0.0</td>\n",
       "      <td>0.0</td>\n",
       "      <td>0.0</td>\n",
       "      <td>0.0</td>\n",
       "      <td>0.029374</td>\n",
       "      <td>0.0</td>\n",
       "      <td>...</td>\n",
       "      <td>0.0</td>\n",
       "      <td>0.029374</td>\n",
       "      <td>0.029374</td>\n",
       "      <td>0.029374</td>\n",
       "      <td>0.097000</td>\n",
       "      <td>0.0</td>\n",
       "      <td>0.0</td>\n",
       "      <td>0.050833</td>\n",
       "      <td>0.071795</td>\n",
       "      <td>0.0</td>\n",
       "    </tr>\n",
       "    <tr>\n",
       "      <th>min</th>\n",
       "      <td>0.000000</td>\n",
       "      <td>0.000066</td>\n",
       "      <td>0.200000</td>\n",
       "      <td>0.000000</td>\n",
       "      <td>0.0</td>\n",
       "      <td>0.0</td>\n",
       "      <td>0.0</td>\n",
       "      <td>0.0</td>\n",
       "      <td>0.000000</td>\n",
       "      <td>0.0</td>\n",
       "      <td>...</td>\n",
       "      <td>0.0</td>\n",
       "      <td>0.000000</td>\n",
       "      <td>0.000000</td>\n",
       "      <td>0.000000</td>\n",
       "      <td>0.000000</td>\n",
       "      <td>0.0</td>\n",
       "      <td>0.0</td>\n",
       "      <td>0.000000</td>\n",
       "      <td>0.000000</td>\n",
       "      <td>0.0</td>\n",
       "    </tr>\n",
       "    <tr>\n",
       "      <th>25%</th>\n",
       "      <td>0.571429</td>\n",
       "      <td>0.005400</td>\n",
       "      <td>0.500000</td>\n",
       "      <td>0.000000</td>\n",
       "      <td>0.0</td>\n",
       "      <td>0.0</td>\n",
       "      <td>0.0</td>\n",
       "      <td>0.0</td>\n",
       "      <td>0.000000</td>\n",
       "      <td>0.0</td>\n",
       "      <td>...</td>\n",
       "      <td>0.0</td>\n",
       "      <td>0.000000</td>\n",
       "      <td>0.000000</td>\n",
       "      <td>0.000000</td>\n",
       "      <td>0.000000</td>\n",
       "      <td>0.0</td>\n",
       "      <td>0.0</td>\n",
       "      <td>0.000000</td>\n",
       "      <td>0.000000</td>\n",
       "      <td>0.0</td>\n",
       "    </tr>\n",
       "    <tr>\n",
       "      <th>50%</th>\n",
       "      <td>0.714286</td>\n",
       "      <td>0.008435</td>\n",
       "      <td>0.500000</td>\n",
       "      <td>0.000000</td>\n",
       "      <td>0.0</td>\n",
       "      <td>0.0</td>\n",
       "      <td>0.0</td>\n",
       "      <td>0.0</td>\n",
       "      <td>0.000000</td>\n",
       "      <td>0.0</td>\n",
       "      <td>...</td>\n",
       "      <td>0.0</td>\n",
       "      <td>0.000000</td>\n",
       "      <td>0.000000</td>\n",
       "      <td>0.000000</td>\n",
       "      <td>0.000000</td>\n",
       "      <td>0.0</td>\n",
       "      <td>0.0</td>\n",
       "      <td>0.000000</td>\n",
       "      <td>0.000000</td>\n",
       "      <td>0.0</td>\n",
       "    </tr>\n",
       "    <tr>\n",
       "      <th>75%</th>\n",
       "      <td>0.857143</td>\n",
       "      <td>0.011512</td>\n",
       "      <td>0.500000</td>\n",
       "      <td>0.000000</td>\n",
       "      <td>0.0</td>\n",
       "      <td>0.0</td>\n",
       "      <td>0.0</td>\n",
       "      <td>0.0</td>\n",
       "      <td>0.000000</td>\n",
       "      <td>0.0</td>\n",
       "      <td>...</td>\n",
       "      <td>0.0</td>\n",
       "      <td>0.000000</td>\n",
       "      <td>0.000000</td>\n",
       "      <td>0.000000</td>\n",
       "      <td>0.000000</td>\n",
       "      <td>0.0</td>\n",
       "      <td>0.0</td>\n",
       "      <td>0.000000</td>\n",
       "      <td>0.000000</td>\n",
       "      <td>0.0</td>\n",
       "    </tr>\n",
       "    <tr>\n",
       "      <th>max</th>\n",
       "      <td>1.000000</td>\n",
       "      <td>0.073822</td>\n",
       "      <td>0.800000</td>\n",
       "      <td>1.000000</td>\n",
       "      <td>0.0</td>\n",
       "      <td>0.0</td>\n",
       "      <td>0.0</td>\n",
       "      <td>0.0</td>\n",
       "      <td>1.000000</td>\n",
       "      <td>0.0</td>\n",
       "      <td>...</td>\n",
       "      <td>0.0</td>\n",
       "      <td>1.000000</td>\n",
       "      <td>1.000000</td>\n",
       "      <td>1.000000</td>\n",
       "      <td>1.000000</td>\n",
       "      <td>0.0</td>\n",
       "      <td>0.0</td>\n",
       "      <td>1.000000</td>\n",
       "      <td>1.000000</td>\n",
       "      <td>0.0</td>\n",
       "    </tr>\n",
       "  </tbody>\n",
       "</table>\n",
       "<p>8 rows × 2848 columns</p>\n",
       "</div>"
      ],
      "text/plain": [
       "              0            1            2            3       4       5     \\\n",
       "count  1159.000000  1159.000000  1159.000000  1159.000000  1159.0  1159.0   \n",
       "mean      0.699618     0.009109     0.525798     0.000863     0.0     0.0   \n",
       "std       0.171870     0.005493     0.079172     0.029374     0.0     0.0   \n",
       "min       0.000000     0.000066     0.200000     0.000000     0.0     0.0   \n",
       "25%       0.571429     0.005400     0.500000     0.000000     0.0     0.0   \n",
       "50%       0.714286     0.008435     0.500000     0.000000     0.0     0.0   \n",
       "75%       0.857143     0.011512     0.500000     0.000000     0.0     0.0   \n",
       "max       1.000000     0.073822     0.800000     1.000000     0.0     0.0   \n",
       "\n",
       "         6       7            8       9     ...    2838         2839  \\\n",
       "count  1159.0  1159.0  1159.000000  1159.0  ...  1159.0  1159.000000   \n",
       "mean      0.0     0.0     0.000863     0.0  ...     0.0     0.000863   \n",
       "std       0.0     0.0     0.029374     0.0  ...     0.0     0.029374   \n",
       "min       0.0     0.0     0.000000     0.0  ...     0.0     0.000000   \n",
       "25%       0.0     0.0     0.000000     0.0  ...     0.0     0.000000   \n",
       "50%       0.0     0.0     0.000000     0.0  ...     0.0     0.000000   \n",
       "75%       0.0     0.0     0.000000     0.0  ...     0.0     0.000000   \n",
       "max       0.0     0.0     1.000000     0.0  ...     0.0     1.000000   \n",
       "\n",
       "              2840         2841         2842    2843    2844         2845  \\\n",
       "count  1159.000000  1159.000000  1159.000000  1159.0  1159.0  1159.000000   \n",
       "mean      0.000863     0.000863     0.009491     0.0     0.0     0.002588   \n",
       "std       0.029374     0.029374     0.097000     0.0     0.0     0.050833   \n",
       "min       0.000000     0.000000     0.000000     0.0     0.0     0.000000   \n",
       "25%       0.000000     0.000000     0.000000     0.0     0.0     0.000000   \n",
       "50%       0.000000     0.000000     0.000000     0.0     0.0     0.000000   \n",
       "75%       0.000000     0.000000     0.000000     0.0     0.0     0.000000   \n",
       "max       1.000000     1.000000     1.000000     0.0     0.0     1.000000   \n",
       "\n",
       "              2846    2847  \n",
       "count  1159.000000  1159.0  \n",
       "mean      0.005177     0.0  \n",
       "std       0.071795     0.0  \n",
       "min       0.000000     0.0  \n",
       "25%       0.000000     0.0  \n",
       "50%       0.000000     0.0  \n",
       "75%       0.000000     0.0  \n",
       "max       1.000000     0.0  \n",
       "\n",
       "[8 rows x 2848 columns]"
      ]
     },
     "execution_count": 14,
     "metadata": {},
     "output_type": "execute_result"
    }
   ],
   "source": [
    "df_test_num.describe()"
   ]
  },
  {
   "cell_type": "markdown",
   "metadata": {},
   "source": [
    "Eliminamos las columnas que son todo nula."
   ]
  },
  {
   "cell_type": "code",
   "execution_count": 15,
   "metadata": {},
   "outputs": [],
   "source": [
    "cols = [col for col in df_train_num.columns if df_train_num[col].max()!=0.0]\n",
    "df_train_num=df_train_num[cols]\n",
    "df_test_num=df_test_num[cols]\n",
    "df_train_num_rpl=df_train_num_rpl[cols]"
   ]
  },
  {
   "cell_type": "markdown",
   "metadata": {},
   "source": [
    "### Oversampling"
   ]
  },
  {
   "cell_type": "code",
   "execution_count": 16,
   "metadata": {},
   "outputs": [
    {
     "data": {
      "text/plain": [
       "Counter({3: 1825, 2: 502, 4: 834, 5: 637, 1: 203})"
      ]
     },
     "execution_count": 16,
     "metadata": {},
     "output_type": "execute_result"
    }
   ],
   "source": [
    "from collections import Counter\n",
    "Counter(df_train_obj)"
   ]
  },
  {
   "cell_type": "code",
   "execution_count": 17,
   "metadata": {},
   "outputs": [
    {
     "data": {
      "text/plain": [
       "Counter({3: 1825, 2: 1825, 4: 1825, 5: 1825, 1: 1825})"
      ]
     },
     "execution_count": 17,
     "metadata": {},
     "output_type": "execute_result"
    }
   ],
   "source": [
    "from imblearn.over_sampling import SMOTE\n",
    "smote=SMOTE(random_state=10)\n",
    "df_train_over, df_train_obj_over = smote.fit_resample(df_train_num, df_train_obj)\n",
    "df_train_over_rpl, df_train_obj_over_rpl = smote.fit_resample(df_train_num_rpl, df_train_obj_replaced)\n",
    "Counter(df_train_obj_over)"
   ]
  },
  {
   "cell_type": "code",
   "execution_count": 18,
   "metadata": {},
   "outputs": [
    {
     "name": "stdout",
     "output_type": "stream",
     "text": [
      "<class 'pandas.core.frame.DataFrame'>\n",
      "RangeIndex: 9125 entries, 0 to 9124\n",
      "Columns: 2387 entries, 0 to 2847\n",
      "dtypes: float64(2387)\n",
      "memory usage: 166.2 MB\n"
     ]
    }
   ],
   "source": [
    "df_train_over.info()"
   ]
  },
  {
   "cell_type": "markdown",
   "metadata": {},
   "source": [
    "### Undersampling"
   ]
  },
  {
   "cell_type": "code",
   "execution_count": 19,
   "metadata": {},
   "outputs": [
    {
     "data": {
      "text/plain": [
       "Counter({1: 203, 2: 31, 3: 813, 4: 256, 5: 409})"
      ]
     },
     "execution_count": 19,
     "metadata": {},
     "output_type": "execute_result"
    }
   ],
   "source": [
    "from imblearn.under_sampling import EditedNearestNeighbours\n",
    "resampler=EditedNearestNeighbours(n_neighbors=5)\n",
    "df_train_under, df_train_obj_under = resampler.fit_resample(df_train_num, df_train_obj)\n",
    "df_train_under_rpl, df_train_obj_under_rpl = resampler.fit_resample(df_train_num_rpl, df_train_obj_replaced)\n",
    "Counter(df_train_obj_under)"
   ]
  },
  {
   "cell_type": "code",
   "execution_count": 20,
   "metadata": {},
   "outputs": [
    {
     "name": "stdout",
     "output_type": "stream",
     "text": [
      "<class 'pandas.core.frame.DataFrame'>\n",
      "RangeIndex: 1712 entries, 0 to 1711\n",
      "Columns: 2387 entries, 0 to 2847\n",
      "dtypes: float64(2387)\n",
      "memory usage: 31.2 MB\n"
     ]
    }
   ],
   "source": [
    "df_train_under.info()"
   ]
  },
  {
   "cell_type": "markdown",
   "metadata": {},
   "source": [
    "## Aplicación de los algoritmos"
   ]
  },
  {
   "cell_type": "code",
   "execution_count": 21,
   "metadata": {},
   "outputs": [],
   "source": [
    "import numpy as np\n",
    "\n",
    "from sklearn.model_selection import cross_val_score\n",
    "\n",
    "def cross_validation(clf,x,y,mostrar=False):\n",
    "    scores=cross_val_score(clf,x,y,scoring='accuracy',cv=5)\n",
    "    accuracy=np.mean(scores)  \n",
    "    if mostrar:\n",
    "        print(\"Accuracy: \", accuracy)\n",
    "    return accuracy"
   ]
  },
  {
   "cell_type": "code",
   "execution_count": 21,
   "metadata": {},
   "outputs": [
    {
     "name": "stdout",
     "output_type": "stream",
     "text": [
      "ONE_HOT_ENCODING\n",
      "-------------\n",
      "Datos normalizados con todos nulos eliminados: \n",
      "LinearSVC(random_state=10)\n",
      "Accuracy:  0.7528117977528089\n",
      "Datos normalizados con nulos en asientos reemplazados: \n",
      "LinearSVC(random_state=10)\n",
      "Accuracy:  0.7527749600626849\n",
      "OVERSAMPLING\n",
      "-------------\n",
      "Datos normalizados con todos nulos eliminados: \n",
      "LinearSVC(random_state=10)\n",
      "Accuracy:  0.8897534246575342\n",
      "Datos normalizados con nulos en asientos reemplazados: \n",
      "LinearSVC(random_state=10)\n",
      "Accuracy:  0.8853448275862069\n",
      "UNDERSAMPLING\n",
      "-------------\n",
      "Datos normalizados con todos nulos eliminados: \n",
      "LinearSVC(random_state=10)\n",
      "Accuracy:  0.9567251461988304\n",
      "Datos normalizados con nulos en asientos reemplazados: \n",
      "LinearSVC(random_state=10)\n",
      "Accuracy:  0.9539020090415598\n",
      "ONE_HOT_ENCODING\n",
      "-------------\n",
      "Datos normalizados con todos nulos eliminados: \n",
      "KNeighborsClassifier()\n",
      "Accuracy:  0.748813670411985\n",
      "Datos normalizados con nulos en asientos reemplazados: \n",
      "KNeighborsClassifier()\n",
      "Accuracy:  0.7475989017997607\n",
      "OVERSAMPLING\n",
      "-------------\n",
      "Datos normalizados con todos nulos eliminados: \n",
      "KNeighborsClassifier()\n",
      "Accuracy:  0.8643287671232877\n",
      "Datos normalizados con nulos en asientos reemplazados: \n",
      "KNeighborsClassifier()\n",
      "Accuracy:  0.8654094827586208\n",
      "UNDERSAMPLING\n",
      "-------------\n",
      "Datos normalizados con todos nulos eliminados: \n",
      "KNeighborsClassifier()\n",
      "Accuracy:  0.9432748538011696\n",
      "Datos normalizados con nulos en asientos reemplazados: \n",
      "KNeighborsClassifier()\n",
      "Accuracy:  0.9420833987886406\n",
      "ONE_HOT_ENCODING\n",
      "-------------\n",
      "Datos normalizados con todos nulos eliminados: \n",
      "DecisionTreeClassifier(random_state=10)\n",
      "Accuracy:  0.7433136704119852\n",
      "Datos normalizados con nulos en asientos reemplazados: \n",
      "DecisionTreeClassifier(random_state=10)\n",
      "Accuracy:  0.747842170160296\n",
      "OVERSAMPLING\n",
      "-------------\n",
      "Datos normalizados con todos nulos eliminados: \n",
      "DecisionTreeClassifier(random_state=10)\n",
      "Accuracy:  0.8883287671232877\n",
      "Datos normalizados con nulos en asientos reemplazados: \n",
      "DecisionTreeClassifier(random_state=10)\n",
      "Accuracy:  0.8899784482758619\n",
      "UNDERSAMPLING\n",
      "-------------\n",
      "Datos normalizados con todos nulos eliminados: \n",
      "DecisionTreeClassifier(random_state=10)\n",
      "Accuracy:  0.9350877192982455\n",
      "Datos normalizados con nulos en asientos reemplazados: \n",
      "DecisionTreeClassifier(random_state=10)\n",
      "Accuracy:  0.9373496709779896\n",
      "ONE_HOT_ENCODING\n",
      "-------------\n",
      "Datos normalizados con todos nulos eliminados: \n",
      "RandomForestClassifier(random_state=10)\n",
      "Accuracy:  0.7923014981273409\n",
      "Datos normalizados con nulos en asientos reemplazados: \n",
      "RandomForestClassifier(random_state=10)\n",
      "Accuracy:  0.787528016861747\n",
      "OVERSAMPLING\n",
      "-------------\n",
      "Datos normalizados con todos nulos eliminados: \n",
      "RandomForestClassifier(random_state=10)\n",
      "Accuracy:  0.9362191780821917\n",
      "Datos normalizados con nulos en asientos reemplazados: \n",
      "RandomForestClassifier(random_state=10)\n",
      "Accuracy:  0.9366379310344828\n",
      "UNDERSAMPLING\n",
      "-------------\n",
      "Datos normalizados con todos nulos eliminados: \n",
      "RandomForestClassifier(random_state=10)\n",
      "Accuracy:  0.9573099415204677\n",
      "Datos normalizados con nulos en asientos reemplazados: \n",
      "RandomForestClassifier(random_state=10)\n",
      "Accuracy:  0.9527115951894712\n",
      "ONE_HOT_ENCODING\n",
      "-------------\n",
      "Datos normalizados con todos nulos eliminados: \n",
      "MLPClassifier(max_iter=10000, random_state=10)\n",
      "Accuracy:  0.7550614856429464\n",
      "Datos normalizados con nulos en asientos reemplazados: \n",
      "MLPClassifier(max_iter=10000, random_state=10)\n",
      "Accuracy:  0.7562238433363907\n",
      "OVERSAMPLING\n",
      "-------------\n",
      "Datos normalizados con todos nulos eliminados: \n",
      "MLPClassifier(max_iter=10000, random_state=10)\n",
      "Accuracy:  0.9378630136986302\n",
      "Datos normalizados con nulos en asientos reemplazados: \n",
      "MLPClassifier(max_iter=10000, random_state=10)\n",
      "Accuracy:  0.9385775862068966\n",
      "UNDERSAMPLING\n",
      "-------------\n",
      "Datos normalizados con todos nulos eliminados: \n",
      "MLPClassifier(max_iter=10000, random_state=10)\n",
      "Accuracy:  0.9520467836257309\n",
      "Datos normalizados con nulos en asientos reemplazados: \n",
      "MLPClassifier(max_iter=10000, random_state=10)\n",
      "Accuracy:  0.9479935766525284\n",
      "ONE_HOT_ENCODING\n",
      "-------------\n",
      "Datos normalizados con todos nulos eliminados: \n",
      "ExtraTreesClassifier(random_state=10)\n",
      "Accuracy:  0.774558052434457\n",
      "Datos normalizados con nulos en asientos reemplazados: \n",
      "ExtraTreesClassifier(random_state=10)\n",
      "Accuracy:  0.7769295949171793\n",
      "OVERSAMPLING\n",
      "-------------\n",
      "Datos normalizados con todos nulos eliminados: \n",
      "ExtraTreesClassifier(random_state=10)\n",
      "Accuracy:  0.9414794520547944\n",
      "Datos normalizados con nulos en asientos reemplazados: \n",
      "ExtraTreesClassifier(random_state=10)\n",
      "Accuracy:  0.9428879310344828\n",
      "UNDERSAMPLING\n",
      "-------------\n",
      "Datos normalizados con todos nulos eliminados: \n",
      "ExtraTreesClassifier(random_state=10)\n",
      "Accuracy:  0.9573099415204679\n",
      "Datos normalizados con nulos en asientos reemplazados: \n",
      "ExtraTreesClassifier(random_state=10)\n",
      "Accuracy:  0.9550732226702274\n",
      "ONE_HOT_ENCODING\n",
      "-------------\n",
      "Datos normalizados con todos nulos eliminados: \n",
      "GradientBoostingClassifier(max_features='auto', random_state=10)\n",
      "Accuracy:  0.7678064918851436\n",
      "Datos normalizados con nulos en asientos reemplazados: \n",
      "GradientBoostingClassifier(max_features='auto', random_state=10)\n",
      "Accuracy:  0.7567179727029212\n",
      "OVERSAMPLING\n",
      "-------------\n",
      "Datos normalizados con todos nulos eliminados: \n",
      "GradientBoostingClassifier(max_features='auto', random_state=10)\n",
      "Accuracy:  0.8598356164383562\n",
      "Datos normalizados con nulos en asientos reemplazados: \n",
      "GradientBoostingClassifier(max_features='auto', random_state=10)\n",
      "Accuracy:  0.8534482758620691\n",
      "UNDERSAMPLING\n",
      "-------------\n",
      "Datos normalizados con todos nulos eliminados: \n",
      "GradientBoostingClassifier(max_features='auto', random_state=10)\n",
      "Accuracy:  0.9426900584795321\n",
      "Datos normalizados con nulos en asientos reemplazados: \n",
      "GradientBoostingClassifier(max_features='auto', random_state=10)\n",
      "Accuracy:  0.9444293169956886\n"
     ]
    }
   ],
   "source": [
    "from sklearn.svm import LinearSVC\n",
    "from sklearn.neighbors import KNeighborsClassifier\n",
    "from sklearn.tree import DecisionTreeClassifier\n",
    "from sklearn.ensemble import RandomForestClassifier,ExtraTreesClassifier,GradientBoostingClassifier\n",
    "from sklearn.neural_network import MLPClassifier\n",
    "\n",
    "\n",
    "extra=ExtraTreesClassifier(random_state=10)\n",
    "gradient=GradientBoostingClassifier(random_state=10,max_features='auto')\n",
    "svc=LinearSVC(random_state=10)\n",
    "knn=KNeighborsClassifier()\n",
    "tree=DecisionTreeClassifier(random_state=10)\n",
    "forest=RandomForestClassifier(random_state=10)\n",
    "NN=MLPClassifier(random_state=10,max_iter=10000)\n",
    "\n",
    "clfs=[svc,knn,tree,forest,NN,extra,gradient]\n",
    "for clf in clfs:\n",
    "    print(\"ONE_HOT_ENCODING\")\n",
    "    print(\"-------------\")\n",
    "    print(\"Datos normalizados con todos nulos eliminados: \")\n",
    "    print(clf)\n",
    "    cross_validation(clf, df_train_num, df_train_obj,True)\n",
    "    print(\"Datos normalizados con nulos en asientos reemplazados: \")\n",
    "    print(clf)\n",
    "    cross_validation(clf,df_train_num_rpl,df_train_obj_replaced,True)\n",
    "    print(\"OVERSAMPLING\")\n",
    "    print(\"-------------\")\n",
    "    print(\"Datos normalizados con todos nulos eliminados: \")\n",
    "    print(clf)\n",
    "    cross_validation(clf, df_train_over, df_train_obj_over,True)\n",
    "    print(\"Datos normalizados con nulos en asientos reemplazados: \")\n",
    "    print(clf)\n",
    "    cross_validation(clf,df_train_over_rpl,df_train_obj_over_rpl,True)\n",
    "    print(\"UNDERSAMPLING\")\n",
    "    print(\"-------------\")\n",
    "    print(\"Datos normalizados con todos nulos eliminados: \")\n",
    "    print(clf)\n",
    "    cross_validation(clf, df_train_under, df_train_obj_under,True)\n",
    "    print(\"Datos normalizados con nulos en asientos reemplazados: \")\n",
    "    print(clf)\n",
    "    cross_validation(clf,df_train_under_rpl,df_train_obj_under_rpl,True)\n",
    "   "
   ]
  },
  {
   "cell_type": "markdown",
   "metadata": {},
   "source": [
    "### Configuración de los parámetros"
   ]
  },
  {
   "cell_type": "markdown",
   "metadata": {},
   "source": [
    "##### LinearSVC"
   ]
  },
  {
   "cell_type": "code",
   "execution_count": 1,
   "metadata": {},
   "outputs": [],
   "source": [
    "from matplotlib import pyplot as plt\n",
    "from sklearn.neighbors import KNeighborsClassifier\n",
    "def tune_svc(max_value,data,obj):\n",
    "    acc=[]\n",
    "    for i in range(1,max_value):\n",
    "        svc=LinearSVC(random_state=10,C=i,max_iter=100000)\n",
    "        acc.append(cross_validation(svc,data,obj))\n",
    "\n",
    "    fig, ax =plt.subplots(figsize=(15,5))\n",
    "    ax.plot(range(1,max_value), acc)\n",
    "    ax.set_title('Linear SVC')\n",
    "    ax.set_xlabel('Valor parámetro')\n",
    "    ax.set_ylabel('Accuracy')\n",
    "    plt.show()"
   ]
  },
  {
   "cell_type": "code",
   "execution_count": 27,
   "metadata": {},
   "outputs": [
    {
     "data": {
      "image/png": "[encoded data removed]",
      "text/plain": [
       "<Figure size 1080x360 with 1 Axes>"
      ]
     },
     "metadata": {
      "needs_background": "light"
     },
     "output_type": "display_data"
    }
   ],
   "source": [
    "tune_svc(15,df_train_under,df_train_obj_under)"
   ]
  },
  {
   "cell_type": "code",
   "execution_count": 55,
   "metadata": {},
   "outputs": [
    {
     "name": "stdout",
     "output_type": "stream",
     "text": [
      "Accuracy:  0.9573099415204679\n"
     ]
    },
    {
     "data": {
      "text/plain": [
       "0.9573099415204679"
      ]
     },
     "execution_count": 55,
     "metadata": {},
     "output_type": "execute_result"
    }
   ],
   "source": [
    "svc=LinearSVC(random_state=10,C=6.5,max_iter=100000)\n",
    "cross_validation(svc, df_train_under,df_train_obj_under,True)"
   ]
  },
  {
   "cell_type": "code",
   "execution_count": 56,
   "metadata": {},
   "outputs": [
    {
     "name": "stdout",
     "output_type": "stream",
     "text": [
      "Accuracy:  0.9573099415204679\n"
     ]
    },
    {
     "data": {
      "text/plain": [
       "0.9573099415204679"
      ]
     },
     "execution_count": 56,
     "metadata": {},
     "output_type": "execute_result"
    }
   ],
   "source": [
    "svc=LinearSVC(random_state=10,C=7,max_iter=100000)\n",
    "cross_validation(svc, df_train_under,df_train_obj_under,True)"
   ]
  },
  {
   "cell_type": "code",
   "execution_count": 57,
   "metadata": {},
   "outputs": [
    {
     "name": "stdout",
     "output_type": "stream",
     "text": [
      "Accuracy:  0.9573099415204679\n"
     ]
    },
    {
     "data": {
      "text/plain": [
       "0.9573099415204679"
      ]
     },
     "execution_count": 57,
     "metadata": {},
     "output_type": "execute_result"
    }
   ],
   "source": [
    "svc=LinearSVC(random_state=10,C=6,max_iter=100000)\n",
    "cross_validation(svc, df_train_under,df_train_obj_under,True)"
   ]
  },
  {
   "cell_type": "markdown",
   "metadata": {},
   "source": [
    "##### Knn"
   ]
  },
  {
   "cell_type": "code",
   "execution_count": 28,
   "metadata": {},
   "outputs": [],
   "source": [
    "from sklearn.neighbors import KNeighborsClassifier\n",
    "\n",
    "def tune_knn(max_value,data,obj):\n",
    "    acc=[]\n",
    "    for i in range(2,max_value):\n",
    "        knn=KNeighborsClassifier(n_neighbors=i)\n",
    "        acc.append(cross_validation(knn,data,obj))\n",
    "\n",
    "    fig, ax =plt.subplots(figsize=(15,5))\n",
    "    ax.plot(range(2,max_value), acc)\n",
    "    ax.set_title('vecino más cercano')\n",
    "    ax.set_xlabel('Num vecinos')\n",
    "    ax.set_ylabel('Accuracy')\n",
    "    plt.show()"
   ]
  },
  {
   "cell_type": "code",
   "execution_count": 30,
   "metadata": {},
   "outputs": [
    {
     "data": {
      "image/png": "[encoded data removed]",
      "text/plain": [
       "<Figure size 1080x360 with 1 Axes>"
      ]
     },
     "metadata": {
      "needs_background": "light"
     },
     "output_type": "display_data"
    }
   ],
   "source": [
    "tune_knn(20,df_train_under,df_train_obj_under)"
   ]
  },
  {
   "cell_type": "code",
   "execution_count": 61,
   "metadata": {},
   "outputs": [
    {
     "data": {
      "text/plain": [
       "0.9584795321637427"
      ]
     },
     "execution_count": 61,
     "metadata": {},
     "output_type": "execute_result"
    }
   ],
   "source": [
    "knn=KNeighborsClassifier(n_neighbors=2)\n",
    "cross_validation(knn,df_train_under,df_train_obj_under)"
   ]
  },
  {
   "cell_type": "code",
   "execution_count": 62,
   "metadata": {},
   "outputs": [
    {
     "data": {
      "text/plain": [
       "0.9532163742690057"
      ]
     },
     "execution_count": 62,
     "metadata": {},
     "output_type": "execute_result"
    }
   ],
   "source": [
    "knn=KNeighborsClassifier(n_neighbors=3)\n",
    "cross_validation(knn,df_train_under,df_train_obj_under)"
   ]
  },
  {
   "cell_type": "markdown",
   "metadata": {},
   "source": [
    "## Stacking"
   ]
  },
  {
   "cell_type": "code",
   "execution_count": 67,
   "metadata": {},
   "outputs": [
    {
     "name": "stdout",
     "output_type": "stream",
     "text": [
      "Accuracy:  0.9719298245614034\n"
     ]
    },
    {
     "data": {
      "text/plain": [
       "0.9719298245614034"
      ]
     },
     "execution_count": 67,
     "metadata": {},
     "output_type": "execute_result"
    }
   ],
   "source": [
    "from sklearn.ensemble import StackingClassifier\n",
    "\n",
    "extra=ExtraTreesClassifier(random_state=10)\n",
    "svc=LinearSVC(random_state=10,C=6,max_iter=100000)\n",
    "knn=KNeighborsClassifier(n_neighbors=2)\n",
    "forest=RandomForestClassifier(random_state=10)\n",
    "NN=MLPClassifier(random_state=10,max_iter=10000)\n",
    "\n",
    "estimators = [('Linear SVC', svc),\n",
    "     ('forest', forest),('extra_trees', extra),('Red Neuronal',NN),('knn',knn)]\n",
    "\n",
    "clf = StackingClassifier(estimators=estimators, final_estimator=forest,cv=5)\n",
    "cross_validation(clf, df_train_under, df_train_obj_under,True)"
   ]
  },
  {
   "cell_type": "code",
   "execution_count": 68,
   "metadata": {},
   "outputs": [
    {
     "name": "stdout",
     "output_type": "stream",
     "text": [
      "Accuracy:  0.9701754385964912\n"
     ]
    },
    {
     "data": {
      "text/plain": [
       "0.9701754385964912"
      ]
     },
     "execution_count": 68,
     "metadata": {},
     "output_type": "execute_result"
    }
   ],
   "source": [
    "estimators = [('Linear SVC', svc),\n",
    "     ('forest', forest),('extra_trees', extra),('Red Neuronal',NN)]\n",
    "\n",
    "clf = StackingClassifier(estimators=estimators, final_estimator=forest,cv=5)\n",
    "cross_validation(clf, df_train_under, df_train_obj_under,True)"
   ]
  },
  {
   "cell_type": "code",
   "execution_count": 70,
   "metadata": {},
   "outputs": [
    {
     "name": "stdout",
     "output_type": "stream",
     "text": [
      "Accuracy:  0.9701754385964911\n"
     ]
    },
    {
     "data": {
      "text/plain": [
       "0.9701754385964911"
      ]
     },
     "execution_count": 70,
     "metadata": {},
     "output_type": "execute_result"
    }
   ],
   "source": [
    "gradient=GradientBoostingClassifier(random_state=10,max_features='auto')\n",
    "\n",
    "estimators = [('Linear SVC', svc),\n",
    "     ('forest', forest),('extra_trees', extra),('Red Neuronal',NN),('knn',knn),('Gradient Boosting',gradient)]\n",
    "\n",
    "clf = StackingClassifier(estimators=estimators, final_estimator=forest,cv=5)\n",
    "cross_validation(clf, df_train_under, df_train_obj_under,True)"
   ]
  },
  {
   "cell_type": "markdown",
   "metadata": {},
   "source": [
    "Probamos con los datos preprocesados con oversampling y los clasificadores con parámetros por defecto."
   ]
  },
  {
   "cell_type": "code",
   "execution_count": 42,
   "metadata": {},
   "outputs": [
    {
     "name": "stdout",
     "output_type": "stream",
     "text": [
      "Accuracy:  0.9505753424657535\n"
     ]
    },
    {
     "data": {
      "text/plain": [
       "0.9505753424657535"
      ]
     },
     "execution_count": 42,
     "metadata": {},
     "output_type": "execute_result"
    }
   ],
   "source": [
    "extra=ExtraTreesClassifier(random_state=10)\n",
    "svc=LinearSVC(random_state=10,max_iter=100000)\n",
    "forest=RandomForestClassifier(random_state=10)\n",
    "NN=MLPClassifier(random_state=10,max_iter=10000)\n",
    "\n",
    "\n",
    "estimators = [('Linear SVC', svc),\n",
    "     ('forest', forest),('extra_trees', extra),('Red Neuronal',NN)]\n",
    "\n",
    "clf = StackingClassifier(estimators=estimators, final_estimator=forest,cv=5,n_jobs=6)\n",
    "cross_validation(clf, df_train_over, df_train_obj_over,True)"
   ]
  },
  {
   "cell_type": "code",
   "execution_count": 22,
   "metadata": {},
   "outputs": [
    {
     "name": "stdout",
     "output_type": "stream",
     "text": [
      "Accuracy:  0.9511232876712329\n"
     ]
    },
    {
     "data": {
      "text/plain": [
       "0.9511232876712329"
      ]
     },
     "execution_count": 22,
     "metadata": {},
     "output_type": "execute_result"
    }
   ],
   "source": [
    "extra=ExtraTreesClassifier(random_state=10)\n",
    "gradient=GradientBoostingClassifier(random_state=10,max_features='auto')\n",
    "svc=LinearSVC(random_state=10)\n",
    "knn=KNeighborsClassifier()\n",
    "tree=DecisionTreeClassifier(random_state=10)\n",
    "forest=RandomForestClassifier(random_state=10)\n",
    "NN=MLPClassifier(random_state=10,max_iter=10000)\n",
    "\n",
    "estimators = [('Linear SVC', svc),\n",
    "     ('forest', forest),('extra_trees', extra)]\n",
    "\n",
    "clf = StackingClassifier(estimators=estimators, final_estimator=extra,cv=5,n_jobs=6)\n",
    "cross_validation(clf, df_train_over, df_train_obj_over,True)"
   ]
  },
  {
   "cell_type": "code",
   "execution_count": 23,
   "metadata": {},
   "outputs": [
    {
     "name": "stdout",
     "output_type": "stream",
     "text": [
      "Accuracy:  0.9464109589041095\n"
     ]
    },
    {
     "data": {
      "text/plain": [
       "0.9464109589041095"
      ]
     },
     "execution_count": 23,
     "metadata": {},
     "output_type": "execute_result"
    }
   ],
   "source": [
    "estimators = [('forest', forest),('extra_trees', extra),('Red Neuronal',NN)]\n",
    "\n",
    "clf = StackingClassifier(estimators=estimators, final_estimator=forest,cv=5,n_jobs=6)\n",
    "cross_validation(clf, df_train_over, df_train_obj_over,True)"
   ]
  },
  {
   "cell_type": "code",
   "execution_count": 24,
   "metadata": {},
   "outputs": [
    {
     "name": "stdout",
     "output_type": "stream",
     "text": [
      "Accuracy:  0.9512328767123288\n"
     ]
    },
    {
     "data": {
      "text/plain": [
       "0.9512328767123288"
      ]
     },
     "execution_count": 24,
     "metadata": {},
     "output_type": "execute_result"
    }
   ],
   "source": [
    "gradient=GradientBoostingClassifier(random_state=10,max_features='auto')\n",
    "estimators = [('Linear SVC', svc),\n",
    "     ('forest', forest),('extra_trees', extra),('Red Neuronal',NN),('Gradient Boosting',gradient)]\n",
    "\n",
    "clf = StackingClassifier(estimators=estimators, final_estimator=gradient,cv=5,n_jobs=6)\n",
    "cross_validation(clf, df_train_over, df_train_obj_over,True)"
   ]
  },
  {
   "cell_type": "markdown",
   "metadata": {},
   "source": [
    "### Aplicación al conjunto de test"
   ]
  },
  {
   "cell_type": "markdown",
   "metadata": {},
   "source": [
    "#### Entrega 8"
   ]
  },
  {
   "cell_type": "code",
   "execution_count": 66,
   "metadata": {},
   "outputs": [
    {
     "name": "stdout",
     "output_type": "stream",
     "text": [
      "Accuracy:  0.9573099415204679\n"
     ]
    }
   ],
   "source": [
    "svc=LinearSVC(random_state=10,C=6,max_iter=100000)\n",
    "cross_validation(svc, df_train_under,df_train_obj_under,True)\n",
    "svc.fit(df_train_under,df_train_obj_under)\n",
    "pred=svc.predict(df_test_num)\n",
    "ids=df_test_orig[\"id\"]\n",
    "\n",
    "df_result = pd.DataFrame({'id': ids, 'Precio_cat': pred})\n",
    "df_result.to_csv(\"resultados_8.csv\", index=False)"
   ]
  },
  {
   "cell_type": "markdown",
   "metadata": {},
   "source": [
    "#### Entrega 9"
   ]
  },
  {
   "cell_type": "code",
   "execution_count": 69,
   "metadata": {},
   "outputs": [
    {
     "name": "stdout",
     "output_type": "stream",
     "text": [
      "Accuracy:  0.9573099415204677\n"
     ]
    }
   ],
   "source": [
    "forest=RandomForestClassifier(random_state=10)\n",
    "cross_validation(forest, df_train_under,df_train_obj_under,True)\n",
    "forest.fit(df_train_under,df_train_obj_under)\n",
    "pred=forest.predict(df_test_num)\n",
    "ids=df_test_orig[\"id\"]\n",
    "\n",
    "df_result = pd.DataFrame({'id': ids, 'Precio_cat': pred})\n",
    "df_result.to_csv(\"resultados_9.csv\", index=False)"
   ]
  },
  {
   "cell_type": "markdown",
   "metadata": {},
   "source": [
    "#### Entrega 10"
   ]
  },
  {
   "cell_type": "code",
   "execution_count": 73,
   "metadata": {},
   "outputs": [
    {
     "name": "stdout",
     "output_type": "stream",
     "text": [
      "Accuracy:  0.9719298245614034\n"
     ]
    }
   ],
   "source": [
    "extra=ExtraTreesClassifier(random_state=10)\n",
    "svc=LinearSVC(random_state=10,C=6,max_iter=100000)\n",
    "knn=KNeighborsClassifier(n_neighbors=2)\n",
    "forest=RandomForestClassifier(random_state=10)\n",
    "NN=MLPClassifier(random_state=10,max_iter=10000)\n",
    "\n",
    "estimators = [('Linear SVC', svc),\n",
    "     ('forest', forest),('extra_trees', extra),('Red Neuronal',NN),('knn',knn)]\n",
    "\n",
    "clf = StackingClassifier(estimators=estimators, final_estimator=forest,cv=5)\n",
    "cross_validation(clf, df_train_under, df_train_obj_under,True)\n",
    "clf.fit(df_train_under,df_train_obj_under)\n",
    "pred=clf.predict(df_test_num)\n",
    "ids=df_test_orig[\"id\"]\n",
    "\n",
    "df_result = pd.DataFrame({'id': ids, 'Precio_cat': pred})\n",
    "df_result.to_csv(\"resultados_10.csv\", index=False)"
   ]
  },
  {
   "cell_type": "markdown",
   "metadata": {},
   "source": [
    "#### Entrega 11"
   ]
  },
  {
   "cell_type": "code",
   "execution_count": 46,
   "metadata": {},
   "outputs": [
    {
     "name": "stdout",
     "output_type": "stream",
     "text": [
      "Accuracy:  0.9507945205479453\n"
     ]
    }
   ],
   "source": [
    "extra=ExtraTreesClassifier(random_state=10)\n",
    "svc=LinearSVC(random_state=10)\n",
    "forest=RandomForestClassifier(random_state=10)\n",
    "NN=MLPClassifier(random_state=10,max_iter=10000)\n",
    "\n",
    "\n",
    "estimators = [('Linear SVC', svc),\n",
    "     ('forest', forest),('extra_trees', extra),('Red Neuronal',NN)]\n",
    "\n",
    "clf = StackingClassifier(estimators=estimators, final_estimator=forest,cv=5,n_jobs=6)\n",
    "cross_validation(clf, df_train_over, df_train_obj_over,True)\n",
    "clf.fit(df_train_over,df_train_obj_over)\n",
    "pred=clf.predict(df_test_num)\n",
    "ids=df_test_orig[\"id\"]\n",
    "\n",
    "df_result = pd.DataFrame({'id': ids, 'Precio_cat': pred})\n",
    "df_result.to_csv(\"resultados_11.csv\", index=False)"
   ]
  }
 ],
 "metadata": {
  "kernelspec": {
   "display_name": "Python 3",
   "language": "python",
   "name": "python3"
  },
  "language_info": {
   "codemirror_mode": {
    "name": "ipython",
    "version": 3
   },
   "file_extension": ".py",
   "mimetype": "text/x-python",
   "name": "python",
   "nbconvert_exporter": "python",
   "pygments_lexer": "ipython3",
   "version": "3.8.5"
  }
 },
 "nbformat": 4,
 "nbformat_minor": 4
}
