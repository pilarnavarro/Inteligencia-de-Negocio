{
 "cells": [
  {
   "cell_type": "markdown",
   "metadata": {
    "id": "xDSjZXkYB0_K"
   },
   "source": [
    "# Práctica 3 - Octava prueba\n",
    "\n",
    "#### Pilar Navarro Ramírez"
   ]
  },
  {
   "cell_type": "code",
   "execution_count": 1,
   "metadata": {
    "executionInfo": {
     "elapsed": 1620,
     "status": "ok",
     "timestamp": 1609362334555,
     "user": {
      "displayName": "Pilar Navarro",
      "photoUrl": "https://lh3.googleusercontent.com/a-/AOh14GjVEQ2fcXNkztOVtwH3gYkL7MU-0jktiO2acTgy7Q=s64",
      "userId": "13653515932275687032"
     },
     "user_tz": -60
    },
    "id": "TTUQbXJNB0_W"
   },
   "outputs": [],
   "source": [
    "import pandas as pd"
   ]
  },
  {
   "cell_type": "markdown",
   "metadata": {
    "id": "sX9PCxhkB0_Y"
   },
   "source": [
    "## Preprocesamiento"
   ]
  },
  {
   "cell_type": "code",
   "execution_count": 2,
   "metadata": {
    "executionInfo": {
     "elapsed": 1905,
     "status": "ok",
     "timestamp": 1609362380899,
     "user": {
      "displayName": "Pilar Navarro",
      "photoUrl": "https://lh3.googleusercontent.com/a-/AOh14GjVEQ2fcXNkztOVtwH3gYkL7MU-0jktiO2acTgy7Q=s64",
      "userId": "13653515932275687032"
     },
     "user_tz": -60
    },
    "id": "R6Gk-aHrB0_w"
   },
   "outputs": [],
   "source": [
    "df_train=pd.read_csv(\"data/train.csv\",na_values=[\"\"])\n",
    "df_test=pd.read_csv(\"data/test.csv\",na_values=[\"\"])"
   ]
  },
  {
   "cell_type": "code",
   "execution_count": 3,
   "metadata": {
    "executionInfo": {
     "elapsed": 1905,
     "status": "ok",
     "timestamp": 1609362380909,
     "user": {
      "displayName": "Pilar Navarro",
      "photoUrl": "https://lh3.googleusercontent.com/a-/AOh14GjVEQ2fcXNkztOVtwH3gYkL7MU-0jktiO2acTgy7Q=s64",
      "userId": "13653515932275687032"
     },
     "user_tz": -60
    },
    "id": "RFl-nvt_B0_x"
   },
   "outputs": [],
   "source": [
    "df_train.columns = [col.lower() for col in df_train]\n",
    "df_test.columns = [col.lower() for col in df_test]\n",
    "\n",
    "df_train_orig = df_train.copy()\n",
    "df_test_orig = df_test.copy()\n",
    "\n",
    "del df_train[\"id\"]\n",
    "del df_test[\"id\"]"
   ]
  },
  {
   "cell_type": "markdown",
   "metadata": {
    "id": "gZnFoXbmB0_z"
   },
   "source": [
    "### Tratamos los datos perdidos"
   ]
  },
  {
   "cell_type": "code",
   "execution_count": 4,
   "metadata": {
    "executionInfo": {
     "elapsed": 2337,
     "status": "ok",
     "timestamp": 1609362381347,
     "user": {
      "displayName": "Pilar Navarro",
      "photoUrl": "https://lh3.googleusercontent.com/a-/AOh14GjVEQ2fcXNkztOVtwH3gYkL7MU-0jktiO2acTgy7Q=s64",
      "userId": "13653515932275687032"
     },
     "user_tz": -60
    },
    "id": "NN_I8d9mB0_1"
   },
   "outputs": [],
   "source": [
    "from sklearn import impute"
   ]
  },
  {
   "cell_type": "code",
   "execution_count": 5,
   "metadata": {
    "executionInfo": {
     "elapsed": 2333,
     "status": "ok",
     "timestamp": 1609362381349,
     "user": {
      "displayName": "Pilar Navarro",
      "photoUrl": "https://lh3.googleusercontent.com/a-/AOh14GjVEQ2fcXNkztOVtwH3gYkL7MU-0jktiO2acTgy7Q=s64",
      "userId": "13653515932275687032"
     },
     "user_tz": -60
    },
    "id": "Zxy9HpAcB0_4"
   },
   "outputs": [],
   "source": [
    "del df_train['descuento']\n",
    "del df_test['descuento']"
   ]
  },
  {
   "cell_type": "code",
   "execution_count": 6,
   "metadata": {
    "executionInfo": {
     "elapsed": 3204,
     "status": "ok",
     "timestamp": 1609362382223,
     "user": {
      "displayName": "Pilar Navarro",
      "photoUrl": "https://lh3.googleusercontent.com/a-/AOh14GjVEQ2fcXNkztOVtwH3gYkL7MU-0jktiO2acTgy7Q=s64",
      "userId": "13653515932275687032"
     },
     "user_tz": -60
    },
    "id": "Qxb2TLxqB0_5"
   },
   "outputs": [],
   "source": [
    "df_train_replaced=df_train.copy()\n",
    "imputer=impute.SimpleImputer(strategy=\"most_frequent\")\n",
    "values = imputer.fit_transform([df_train_replaced.asientos.values])\n",
    "df_train_replaced.asientos.update(pd.Series(values[0]))"
   ]
  },
  {
   "cell_type": "code",
   "execution_count": 7,
   "metadata": {
    "executionInfo": {
     "elapsed": 3218,
     "status": "ok",
     "timestamp": 1609362382240,
     "user": {
      "displayName": "Pilar Navarro",
      "photoUrl": "https://lh3.googleusercontent.com/a-/AOh14GjVEQ2fcXNkztOVtwH3gYkL7MU-0jktiO2acTgy7Q=s64",
      "userId": "13653515932275687032"
     },
     "user_tz": -60
    },
    "id": "FOZg8amEB0_8"
   },
   "outputs": [],
   "source": [
    "df_train_replaced=df_train_replaced.dropna()\n",
    "df_train=df_train.dropna()"
   ]
  },
  {
   "cell_type": "markdown",
   "metadata": {
    "id": "cI9VvNx5B0_-"
   },
   "source": [
    "Separamos el atributo a predecir del resto de atributos en el conjunto de entrenamiento."
   ]
  },
  {
   "cell_type": "code",
   "execution_count": 8,
   "metadata": {
    "executionInfo": {
     "elapsed": 3224,
     "status": "ok",
     "timestamp": 1609362382248,
     "user": {
      "displayName": "Pilar Navarro",
      "photoUrl": "https://lh3.googleusercontent.com/a-/AOh14GjVEQ2fcXNkztOVtwH3gYkL7MU-0jktiO2acTgy7Q=s64",
      "userId": "13653515932275687032"
     },
     "user_tz": -60
    },
    "id": "8IQxwKS_B1AA"
   },
   "outputs": [],
   "source": [
    "cols = [col for col in df_train.columns if col not in ['precio_cat']]    \n",
    "df_train, df_train_obj= df_train[cols], df_train['precio_cat']\n",
    "df_train_replaced, df_train_obj_replaced= df_train_replaced[cols], df_train_replaced['precio_cat']"
   ]
  },
  {
   "cell_type": "markdown",
   "metadata": {
    "id": "fcEmDN3CB1AC"
   },
   "source": [
    "### Normalización de los datos numéricos"
   ]
  },
  {
   "cell_type": "code",
   "execution_count": 9,
   "metadata": {
    "executionInfo": {
     "elapsed": 3924,
     "status": "ok",
     "timestamp": 1609362382951,
     "user": {
      "displayName": "Pilar Navarro",
      "photoUrl": "https://lh3.googleusercontent.com/a-/AOh14GjVEQ2fcXNkztOVtwH3gYkL7MU-0jktiO2acTgy7Q=s64",
      "userId": "13653515932275687032"
     },
     "user_tz": -60
    },
    "id": "x2nHfzyQB1AE"
   },
   "outputs": [],
   "source": [
    "from sklearn.preprocessing import MinMaxScaler\n",
    "\n",
    "exc=[\"nombre\",\"ciudad\",\"combustible\",\"tipo_marchas\",\"mano\",\"consumo\",\"motor_cc\",\"potencia\",'precio_cat','id','descuento']\n",
    "cols = [col for col in df_train_orig.columns if col not in exc]  \n",
    "\n",
    "\n",
    "df_train_norm=df_train.copy()\n",
    "df_train_norm_rpl=df_train_replaced.copy()\n",
    "df_test_norm=df_test.copy()\n",
    "\n",
    "\n",
    "for atributo in cols:\n",
    "    data=pd.read_csv(\"data/\"+atributo+\".csv\")\n",
    "    data.columns = [col.lower() for col in data]\n",
    "    scaler = MinMaxScaler().fit(data.values)\n",
    "    train_values=df_train[atributo].values.reshape(-1,1)\n",
    "    df_train_norm[atributo]=scaler.transform(train_values)\n",
    "    train_values_rpl=df_train_replaced[atributo].values.reshape(-1,1)\n",
    "    df_train_norm_rpl[atributo]=scaler.transform(train_values_rpl)\n",
    "    test_values=df_test[atributo].values.reshape(-1,1)\n",
    "    df_test_norm[atributo]=scaler.transform(test_values)\n",
    "    "
   ]
  },
  {
   "cell_type": "markdown",
   "metadata": {
    "id": "xwLCUh-zB1AH"
   },
   "source": [
    "### 'Transformación' de variables categóricas a binarias"
   ]
  },
  {
   "cell_type": "code",
   "execution_count": 10,
   "metadata": {
    "executionInfo": {
     "elapsed": 6267,
     "status": "ok",
     "timestamp": 1609362385296,
     "user": {
      "displayName": "Pilar Navarro",
      "photoUrl": "https://lh3.googleusercontent.com/a-/AOh14GjVEQ2fcXNkztOVtwH3gYkL7MU-0jktiO2acTgy7Q=s64",
      "userId": "13653515932275687032"
     },
     "user_tz": -60
    },
    "id": "3D03l52UB1AJ"
   },
   "outputs": [],
   "source": [
    "from sklearn.preprocessing import OneHotEncoder\n",
    "import numpy as np\n",
    "\n",
    "categorical=[\"nombre\",\"ciudad\",\"combustible\",\"tipo_marchas\",\"mano\",\"consumo\",\"motor_cc\",\"potencia\"]\n",
    "cols = [col for col in df_train.columns if col not in categorical]    \n",
    "\n",
    "df_train_num=df_train_norm.copy()\n",
    "df_train_num_rpl=df_train_norm_rpl.copy()\n",
    "df_test_num=df_test_norm.copy()\n",
    "\n",
    "df_train_num=np.array(df_train_num[cols])\n",
    "df_train_num_rpl=np.array(df_train_num_rpl[cols])\n",
    "df_test_num=np.array(df_test_num[cols])\n",
    "\n",
    "for atributo in categorical:\n",
    "    data=pd.read_csv(\"data/\"+atributo+\".csv\")\n",
    "    data.columns = [col.lower() for col in data]\n",
    "    enc = OneHotEncoder().fit(data[atributo].values.reshape(-1,1))\n",
    "\n",
    "    #Conjunto de entrenamiento con ambos preprocesamientos\n",
    "    enc_train=enc.transform(df_train[atributo].values.reshape(-1,1)).toarray()        \n",
    "    df_train_num=np.hstack((df_train_num,enc_train))\n",
    "    \n",
    "    enc_train_rpl=enc.transform(df_train_replaced[atributo].values.reshape(-1,1)).toarray()\n",
    "    df_train_num_rpl=np.hstack((df_train_num_rpl,enc_train_rpl))\n",
    "\n",
    "    \n",
    "    #Conjunto de test\n",
    "    enc_test=enc.transform(df_test[atributo].values.reshape(-1,1)).toarray()\n",
    "    df_test_num=np.hstack((df_test_num,enc_test))\n",
    "                          \n",
    "df_train_num=pd.DataFrame(df_train_num)\n",
    "df_train_num_rpl=pd.DataFrame(df_train_num_rpl)\n",
    "df_test_num=pd.DataFrame(df_test_num)"
   ]
  },
  {
   "cell_type": "markdown",
   "metadata": {
    "id": "dDsDvNRKB1AN"
   },
   "source": [
    "Eliminamos las columnas que son todo nula."
   ]
  },
  {
   "cell_type": "code",
   "execution_count": 11,
   "metadata": {
    "executionInfo": {
     "elapsed": 6690,
     "status": "ok",
     "timestamp": 1609362385721,
     "user": {
      "displayName": "Pilar Navarro",
      "photoUrl": "https://lh3.googleusercontent.com/a-/AOh14GjVEQ2fcXNkztOVtwH3gYkL7MU-0jktiO2acTgy7Q=s64",
      "userId": "13653515932275687032"
     },
     "user_tz": -60
    },
    "id": "uLi65H0yB1AP"
   },
   "outputs": [],
   "source": [
    "cols = [col for col in df_train_num.columns if df_train_num[col].max()!=0.0]\n",
    "df_train_num=df_train_num[cols]\n",
    "df_test_num=df_test_num[cols]\n",
    "df_train_num_rpl=df_train_num_rpl[cols]"
   ]
  },
  {
   "cell_type": "markdown",
   "metadata": {
    "id": "228HY0uYB1AQ"
   },
   "source": [
    "### Oversampling"
   ]
  },
  {
   "cell_type": "code",
   "execution_count": 12,
   "metadata": {
    "colab": {
     "base_uri": "https://localhost:8080/"
    },
    "executionInfo": {
     "elapsed": 23060,
     "status": "ok",
     "timestamp": 1609362402103,
     "user": {
      "displayName": "Pilar Navarro",
      "photoUrl": "https://lh3.googleusercontent.com/a-/AOh14GjVEQ2fcXNkztOVtwH3gYkL7MU-0jktiO2acTgy7Q=s64",
      "userId": "13653515932275687032"
     },
     "user_tz": -60
    },
    "id": "PRyR5h_ZB1AR",
    "outputId": "492e625c-6417-408f-8586-d71de1a96fa1"
   },
   "outputs": [
    {
     "data": {
      "text/plain": [
       "Counter({3: 1825, 2: 1825, 4: 1825, 5: 1825, 1: 1825})"
      ]
     },
     "execution_count": 12,
     "metadata": {},
     "output_type": "execute_result"
    }
   ],
   "source": [
    "from imblearn.over_sampling import SMOTE\n",
    "from collections import Counter\n",
    "smote=SMOTE(random_state=10)\n",
    "df_train_over, df_train_obj_over = smote.fit_resample(df_train_num, df_train_obj)\n",
    "df_train_over_rpl, df_train_obj_over_rpl = smote.fit_resample(df_train_num_rpl, df_train_obj_replaced)\n",
    "Counter(df_train_obj_over)"
   ]
  },
  {
   "cell_type": "markdown",
   "metadata": {
    "id": "4uPPvTs2B1AY"
   },
   "source": [
    "## Aplicación de los algoritmos"
   ]
  },
  {
   "cell_type": "code",
   "execution_count": 13,
   "metadata": {
    "executionInfo": {
     "elapsed": 18858,
     "status": "ok",
     "timestamp": 1609362402106,
     "user": {
      "displayName": "Pilar Navarro",
      "photoUrl": "https://lh3.googleusercontent.com/a-/AOh14GjVEQ2fcXNkztOVtwH3gYkL7MU-0jktiO2acTgy7Q=s64",
      "userId": "13653515932275687032"
     },
     "user_tz": -60
    },
    "id": "PoE1pWdUB1Aa"
   },
   "outputs": [],
   "source": [
    "import numpy as np\n",
    "\n",
    "from sklearn.model_selection import cross_val_score\n",
    "\n",
    "def cross_validation(clf,x,y,mostrar=False):\n",
    "    scores=cross_val_score(clf,x,y,scoring='accuracy',cv=5)\n",
    "    accuracy=np.mean(scores)  \n",
    "    if mostrar:\n",
    "        print(\"Accuracy: \", accuracy)\n",
    "    return accuracy"
   ]
  },
  {
   "cell_type": "code",
   "execution_count": 30,
   "metadata": {
    "colab": {
     "referenced_widgets": [
      "7a2c9db6ee544f7d99d46c4a0c44dcd7"
     ]
    },
    "id": "_wK5eioFB1Ac",
    "outputId": "f46be874-dd19-494e-bcf7-7aa4cc5d0ff3"
   },
   "outputs": [
    {
     "name": "stdout",
     "output_type": "stream",
     "text": [
      "LinearSVC(random_state=10)\n",
      "Accuracy:  0.8900821917808219\n",
      "KNeighborsClassifier()\n",
      "Accuracy:  0.8642191780821917\n",
      "DecisionTreeClassifier(random_state=10)\n",
      "Accuracy:  0.8896438356164383\n",
      "RandomForestClassifier(random_state=10)\n",
      "Accuracy:  0.9376438356164384\n",
      "MLPClassifier(max_iter=10000, random_state=10)\n",
      "Accuracy:  0.9375342465753425\n",
      "ExtraTreesClassifier(random_state=10)\n",
      "Accuracy:  0.940931506849315\n",
      "GradientBoostingClassifier(max_features='auto', random_state=10)\n",
      "Accuracy:  0.8585205479452055\n"
     ]
    }
   ],
   "source": [
    "from sklearn.svm import LinearSVC\n",
    "from sklearn.neighbors import KNeighborsClassifier\n",
    "from sklearn.tree import DecisionTreeClassifier\n",
    "\n",
    "from sklearn.ensemble import RandomForestClassifier,ExtraTreesClassifier,GradientBoostingClassifier\n",
    "from sklearn.neural_network import MLPClassifier\n",
    "\n",
    "\n",
    "extra=ExtraTreesClassifier(random_state=10)\n",
    "gradient=GradientBoostingClassifier(random_state=10,max_features='auto')\n",
    "svc=LinearSVC(random_state=10)\n",
    "knn=KNeighborsClassifier()\n",
    "tree=DecisionTreeClassifier(random_state=10)\n",
    "forest=RandomForestClassifier(random_state=10)\n",
    "NN=MLPClassifier(random_state=10,max_iter=10000)\n",
    "\n",
    "clfs=[svc,knn,tree,forest,NN,extra,gradient]\n",
    "for clf in clfs:\n",
    "    print(clf)\n",
    "    cross_validation(clf, df_train_over, df_train_obj_over,True)"
   ]
  },
  {
   "cell_type": "markdown",
   "metadata": {
    "id": "cseXXU9BB1Ag"
   },
   "source": [
    "### Configuración de los parámetros"
   ]
  },
  {
   "cell_type": "markdown",
   "metadata": {
    "id": "rP5eOplbB1Ah"
   },
   "source": [
    "#### Extra Trees"
   ]
  },
  {
   "cell_type": "markdown",
   "metadata": {
    "id": "tSNXNTTlB1Aj"
   },
   "source": [
    "Parámetro bootstrap."
   ]
  },
  {
   "cell_type": "code",
   "execution_count": 31,
   "metadata": {
    "id": "0rSCv_pCB1Al",
    "outputId": "346b0626-c39c-45b7-90de-78a6538d1d19",
    "scrolled": true
   },
   "outputs": [
    {
     "name": "stdout",
     "output_type": "stream",
     "text": [
      "Accuracy:  0.9377534246575342\n"
     ]
    },
    {
     "data": {
      "text/plain": [
       "0.9377534246575342"
      ]
     },
     "execution_count": 31,
     "metadata": {},
     "output_type": "execute_result"
    }
   ],
   "source": [
    "extra=ExtraTreesClassifier(random_state=10,bootstrap=True)\n",
    "cross_validation(extra, df_train_over, df_train_obj_over,True)"
   ]
  },
  {
   "cell_type": "code",
   "execution_count": 32,
   "metadata": {
    "id": "mI9y1pIGB1Am",
    "outputId": "6e153886-baac-4a38-c49c-767879968c85",
    "scrolled": true
   },
   "outputs": [
    {
     "name": "stdout",
     "output_type": "stream",
     "text": [
      "Accuracy:  0.940931506849315\n"
     ]
    },
    {
     "data": {
      "text/plain": [
       "0.940931506849315"
      ]
     },
     "execution_count": 32,
     "metadata": {},
     "output_type": "execute_result"
    }
   ],
   "source": [
    "extra=ExtraTreesClassifier(random_state=10)\n",
    "cross_validation(extra, df_train_over, df_train_obj_over,True)"
   ]
  },
  {
   "cell_type": "markdown",
   "metadata": {
    "id": "8S4wjrjZB1Ao"
   },
   "source": [
    "Configuramos el número de árboles"
   ]
  },
  {
   "cell_type": "code",
   "execution_count": 33,
   "metadata": {
    "id": "VO_svXOOB1Ap"
   },
   "outputs": [],
   "source": [
    "from matplotlib import pyplot as plt\n",
    "\n",
    "def tune_num_arboles(max_value):\n",
    "    acc=[]\n",
    "    for i in range(5,max_value,20):\n",
    "        extra=ExtraTreesClassifier(n_estimators=i,random_state=10)\n",
    "        acc.append(cross_validation(extra,df_train_over,df_train_obj_over))\n",
    "\n",
    "    fig, ax =plt.subplots(figsize=(15,5))\n",
    "    ax.plot(range(5,max_value,20), acc)\n",
    "    ax.set_title('Extra trees')\n",
    "    ax.set_xlabel('Num árboles')\n",
    "    ax.set_ylabel('Accuracy')\n",
    "    plt.show()"
   ]
  },
  {
   "cell_type": "code",
   "execution_count": 34,
   "metadata": {
    "colab": {
     "referenced_widgets": [
      "15d69db493d444eaa65565494665e0f5"
     ]
    },
    "id": "rmG1lOcyB1As",
    "outputId": "4abd3f53-1d11-4b61-f937-6976c5580755",
    "scrolled": true
   },
   "outputs": [
    {
     "data": {
      "image/png": "[encoded data removed]",
      "text/plain": [
       "<Figure size 1080x360 with 1 Axes>"
      ]
     },
     "metadata": {
      "needs_background": "light"
     },
     "output_type": "display_data"
    }
   ],
   "source": [
    "tune_num_arboles(300)"
   ]
  },
  {
   "cell_type": "code",
   "execution_count": 35,
   "metadata": {
    "id": "gy2sLK0dB1Av",
    "outputId": "b7480a31-65ab-40e0-abbe-337b34059f87",
    "scrolled": true
   },
   "outputs": [
    {
     "name": "stdout",
     "output_type": "stream",
     "text": [
      "Accuracy:  0.9414794520547944\n"
     ]
    },
    {
     "data": {
      "text/plain": [
       "0.9414794520547944"
      ]
     },
     "execution_count": 35,
     "metadata": {},
     "output_type": "execute_result"
    }
   ],
   "source": [
    "extra=ExtraTreesClassifier(n_estimators=150,random_state=10)\n",
    "cross_validation(extra, df_train_over, df_train_obj_over,True)"
   ]
  },
  {
   "cell_type": "code",
   "execution_count": 36,
   "metadata": {
    "id": "6Az9I_TPB1Ax",
    "outputId": "dd5eefc6-a2c8-4191-b1ac-30486bb9dfe5",
    "scrolled": true
   },
   "outputs": [
    {
     "name": "stdout",
     "output_type": "stream",
     "text": [
      "Accuracy:  0.9410410958904109\n"
     ]
    },
    {
     "data": {
      "text/plain": [
       "0.9410410958904109"
      ]
     },
     "execution_count": 36,
     "metadata": {},
     "output_type": "execute_result"
    }
   ],
   "source": [
    "extra=ExtraTreesClassifier(n_estimators=275,random_state=10)\n",
    "cross_validation(extra, df_train_over, df_train_obj_over,True)"
   ]
  },
  {
   "cell_type": "code",
   "execution_count": 37,
   "metadata": {
    "id": "3aS8jYRjB1Ay",
    "outputId": "d734b44e-b04e-4bd5-f2de-effbab722db9",
    "scrolled": true
   },
   "outputs": [
    {
     "name": "stdout",
     "output_type": "stream",
     "text": [
      "Accuracy:  0.9408219178082191\n"
     ]
    },
    {
     "data": {
      "text/plain": [
       "0.9408219178082191"
      ]
     },
     "execution_count": 37,
     "metadata": {},
     "output_type": "execute_result"
    }
   ],
   "source": [
    "extra=ExtraTreesClassifier(n_estimators=250,random_state=10)\n",
    "cross_validation(extra, df_train_over, df_train_obj_over,True)"
   ]
  },
  {
   "cell_type": "code",
   "execution_count": 38,
   "metadata": {
    "id": "i_Vcl4MTB1A0",
    "outputId": "1701eabf-5b17-4f2c-91ca-5b07bab941b2"
   },
   "outputs": [
    {
     "name": "stdout",
     "output_type": "stream",
     "text": [
      "Accuracy:  0.9413698630136986\n"
     ]
    },
    {
     "data": {
      "text/plain": [
       "0.9413698630136986"
      ]
     },
     "execution_count": 38,
     "metadata": {},
     "output_type": "execute_result"
    }
   ],
   "source": [
    "extra=ExtraTreesClassifier(n_estimators=240,random_state=10)\n",
    "cross_validation(extra, df_train_over, df_train_obj_over,True)"
   ]
  },
  {
   "cell_type": "code",
   "execution_count": 39,
   "metadata": {
    "id": "uFartkHAB1A1",
    "outputId": "976659cd-943b-467c-f775-57b3d84f7d49"
   },
   "outputs": [
    {
     "name": "stdout",
     "output_type": "stream",
     "text": [
      "Accuracy:  0.9415890410958904\n"
     ]
    },
    {
     "data": {
      "text/plain": [
       "0.9415890410958904"
      ]
     },
     "execution_count": 39,
     "metadata": {},
     "output_type": "execute_result"
    }
   ],
   "source": [
    "extra=ExtraTreesClassifier(n_estimators=350,random_state=10)\n",
    "cross_validation(extra, df_train_over, df_train_obj_over,True)"
   ]
  },
  {
   "cell_type": "markdown",
   "metadata": {
    "id": "ybtBBn-PB1A2"
   },
   "source": [
    "Vemos si mejora al cambiar el parámetro max_depth:"
   ]
  },
  {
   "cell_type": "code",
   "execution_count": 40,
   "metadata": {
    "id": "_CgGC5-QB1A3",
    "outputId": "1feaad17-eefb-4a3c-f626-19fbd0f3ee27",
    "scrolled": true
   },
   "outputs": [
    {
     "name": "stdout",
     "output_type": "stream",
     "text": [
      "Accuracy:  0.9385205479452056\n"
     ]
    },
    {
     "data": {
      "text/plain": [
       "0.9385205479452056"
      ]
     },
     "execution_count": 40,
     "metadata": {},
     "output_type": "execute_result"
    }
   ],
   "source": [
    "extra=ExtraTreesClassifier(n_estimators=275,random_state=10,max_depth=60)\n",
    "cross_validation(extra, df_train_over, df_train_obj_over,True)"
   ]
  },
  {
   "cell_type": "code",
   "execution_count": 41,
   "metadata": {
    "id": "Ufmjd3tWB1A4",
    "outputId": "798f5db7-b768-4468-8ca4-65db02cb7dc5"
   },
   "outputs": [
    {
     "name": "stdout",
     "output_type": "stream",
     "text": [
      "Accuracy:  0.9330410958904108\n"
     ]
    },
    {
     "data": {
      "text/plain": [
       "0.9330410958904108"
      ]
     },
     "execution_count": 41,
     "metadata": {},
     "output_type": "execute_result"
    }
   ],
   "source": [
    "extra=ExtraTreesClassifier(n_estimators=275,random_state=10,max_depth=50)\n",
    "cross_validation(extra, df_train_over, df_train_obj_over,True)"
   ]
  },
  {
   "cell_type": "code",
   "execution_count": 42,
   "metadata": {
    "id": "2WZDyS2DB1A5",
    "outputId": "d9027f73-eadd-44b9-a29e-d02246352a5e",
    "scrolled": true
   },
   "outputs": [
    {
     "name": "stdout",
     "output_type": "stream",
     "text": [
      "Accuracy:  0.8587397260273972\n"
     ]
    },
    {
     "data": {
      "text/plain": [
       "0.8587397260273972"
      ]
     },
     "execution_count": 42,
     "metadata": {},
     "output_type": "execute_result"
    }
   ],
   "source": [
    "extra=ExtraTreesClassifier(n_estimators=275,random_state=10,max_depth=20)\n",
    "cross_validation(extra, df_train_over, df_train_obj_over,True)"
   ]
  },
  {
   "cell_type": "code",
   "execution_count": 43,
   "metadata": {
    "id": "RzevmANtB1A5",
    "outputId": "a53353ae-c2cd-4a35-bbc7-5f50bd8855fb",
    "scrolled": true
   },
   "outputs": [
    {
     "name": "stdout",
     "output_type": "stream",
     "text": [
      "Accuracy:  0.940931506849315\n"
     ]
    },
    {
     "data": {
      "text/plain": [
       "0.940931506849315"
      ]
     },
     "execution_count": 43,
     "metadata": {},
     "output_type": "execute_result"
    }
   ],
   "source": [
    "extra=ExtraTreesClassifier(n_estimators=275,random_state=10,max_depth=80)\n",
    "cross_validation(extra, df_train_over, df_train_obj_over,True)"
   ]
  },
  {
   "cell_type": "code",
   "execution_count": 44,
   "metadata": {
    "id": "8_bs8pIgB1A6",
    "outputId": "1f941f13-70f4-4014-e78e-c5b0abbb0e14"
   },
   "outputs": [
    {
     "name": "stdout",
     "output_type": "stream",
     "text": [
      "Accuracy:  0.7496986301369863\n"
     ]
    },
    {
     "data": {
      "text/plain": [
       "0.7496986301369863"
      ]
     },
     "execution_count": 44,
     "metadata": {},
     "output_type": "execute_result"
    }
   ],
   "source": [
    "extra=ExtraTreesClassifier(n_estimators=275,random_state=10,max_depth=10)\n",
    "cross_validation(extra, df_train_over, df_train_obj_over,True)"
   ]
  },
  {
   "cell_type": "code",
   "execution_count": 45,
   "metadata": {
    "id": "zRtSPIOcB1A8",
    "outputId": "3f2f997c-910c-46fe-f397-0e10acb0ed39",
    "scrolled": true
   },
   "outputs": [
    {
     "name": "stdout",
     "output_type": "stream",
     "text": [
      "Accuracy:  0.6707945205479453\n"
     ]
    },
    {
     "data": {
      "text/plain": [
       "0.6707945205479453"
      ]
     },
     "execution_count": 45,
     "metadata": {},
     "output_type": "execute_result"
    }
   ],
   "source": [
    "extra=ExtraTreesClassifier(n_estimators=275,random_state=10,max_depth=5)\n",
    "cross_validation(extra, df_train_over, df_train_obj_over,True)"
   ]
  },
  {
   "cell_type": "code",
   "execution_count": 46,
   "metadata": {
    "id": "_-fm14XFB1A8",
    "outputId": "780cbba1-9c1a-45a4-888e-4e51de254a15",
    "scrolled": true
   },
   "outputs": [
    {
     "name": "stdout",
     "output_type": "stream",
     "text": [
      "Accuracy:  0.9404931506849314\n"
     ]
    },
    {
     "data": {
      "text/plain": [
       "0.9404931506849314"
      ]
     },
     "execution_count": 46,
     "metadata": {},
     "output_type": "execute_result"
    }
   ],
   "source": [
    "extra=ExtraTreesClassifier(n_estimators=275,random_state=10,max_depth=100)\n",
    "cross_validation(extra, df_train_over, df_train_obj_over,True)"
   ]
  },
  {
   "cell_type": "markdown",
   "metadata": {
    "id": "JDktfzFXB1A9"
   },
   "source": [
    "Mejores resultados:"
   ]
  },
  {
   "cell_type": "code",
   "execution_count": 47,
   "metadata": {
    "id": "g2bOh3_oB1A9"
   },
   "outputs": [
    {
     "name": "stdout",
     "output_type": "stream",
     "text": [
      "Accuracy:  0.9410410958904109\n"
     ]
    },
    {
     "data": {
      "text/plain": [
       "0.9410410958904109"
      ]
     },
     "execution_count": 47,
     "metadata": {},
     "output_type": "execute_result"
    }
   ],
   "source": [
    "extra=ExtraTreesClassifier(n_estimators=275,random_state=10)\n",
    "cross_validation(extra, df_train_over, df_train_obj_over,True)"
   ]
  },
  {
   "cell_type": "markdown",
   "metadata": {
    "id": "HLhuY6AXB1A-"
   },
   "source": [
    "##### LinearSVC"
   ]
  },
  {
   "cell_type": "code",
   "execution_count": 48,
   "metadata": {
    "id": "iwQvREbvB1A-"
   },
   "outputs": [],
   "source": [
    "from matplotlib import pyplot as plt\n",
    "from sklearn.neighbors import KNeighborsClassifier\n",
    "\n",
    "def tune_svc(max_value,data,obj):\n",
    "    acc=[]\n",
    "    for i in range(1,max_value):\n",
    "        svc=LinearSVC(random_state=10,C=i,max_iter=100000)\n",
    "        acc.append(cross_validation(svc,data,obj))\n",
    "\n",
    "    fig, ax =plt.subplots(figsize=(15,5))\n",
    "    ax.plot(range(1,max_value), acc)\n",
    "    ax.set_title('Linear SVC')\n",
    "    ax.set_xlabel('Valor parámetro')\n",
    "    ax.set_ylabel('Accuracy')\n",
    "    plt.show()"
   ]
  },
  {
   "cell_type": "code",
   "execution_count": 49,
   "metadata": {
    "id": "UP-OYjDTB1A_",
    "outputId": "d56d0334-e465-4d94-a87f-34118d1be071"
   },
   "outputs": [
    {
     "data": {
      "image/png": "[encoded data removed]",
      "text/plain": [
       "<Figure size 1080x360 with 1 Axes>"
      ]
     },
     "metadata": {
      "needs_background": "light"
     },
     "output_type": "display_data"
    }
   ],
   "source": [
    "tune_svc(30,df_train_over,df_train_obj_over)"
   ]
  },
  {
   "cell_type": "code",
   "execution_count": 50,
   "metadata": {
    "id": "6JJQN-S0B1A_",
    "outputId": "1eec952a-cf2c-4fc3-d6d2-a6f6397f733a"
   },
   "outputs": [
    {
     "name": "stdout",
     "output_type": "stream",
     "text": [
      "Accuracy:  0.8961095890410959\n"
     ]
    },
    {
     "data": {
      "text/plain": [
       "0.8961095890410959"
      ]
     },
     "execution_count": 50,
     "metadata": {},
     "output_type": "execute_result"
    }
   ],
   "source": [
    "svc=LinearSVC(random_state=10,C=7,max_iter=100000)\n",
    "cross_validation(svc, df_train_over,df_train_obj_over,True)"
   ]
  },
  {
   "cell_type": "code",
   "execution_count": 51,
   "metadata": {
    "id": "ELAjL-3VB1BA",
    "outputId": "8de31320-ae22-4851-9582-44f4822a0648"
   },
   "outputs": [
    {
     "name": "stdout",
     "output_type": "stream",
     "text": [
      "Accuracy:  0.8961095890410957\n"
     ]
    },
    {
     "data": {
      "text/plain": [
       "0.8961095890410957"
      ]
     },
     "execution_count": 51,
     "metadata": {},
     "output_type": "execute_result"
    }
   ],
   "source": [
    "svc=LinearSVC(random_state=10,C=6,max_iter=100000)\n",
    "cross_validation(svc, df_train_over,df_train_obj_over,True)"
   ]
  },
  {
   "cell_type": "code",
   "execution_count": 52,
   "metadata": {
    "id": "NgHxbsb5B1BA",
    "outputId": "d2f2beea-88da-480a-e3dd-fb416a97f973"
   },
   "outputs": [
    {
     "name": "stdout",
     "output_type": "stream",
     "text": [
      "Accuracy:  0.8964383561643835\n"
     ]
    },
    {
     "data": {
      "text/plain": [
       "0.8964383561643835"
      ]
     },
     "execution_count": 52,
     "metadata": {},
     "output_type": "execute_result"
    }
   ],
   "source": [
    "svc=LinearSVC(random_state=10,C=6.5,max_iter=100000)\n",
    "cross_validation(svc, df_train_over,df_train_obj_over,True)"
   ]
  },
  {
   "cell_type": "markdown",
   "metadata": {
    "id": "egadxxqkB1BC"
   },
   "source": [
    "#### Gradient Boosting"
   ]
  },
  {
   "cell_type": "code",
   "execution_count": 53,
   "metadata": {
    "id": "C9-B1dhIB1BC",
    "outputId": "ad996a49-cdde-4c21-a9df-afb2f9fd68f1"
   },
   "outputs": [
    {
     "name": "stdout",
     "output_type": "stream",
     "text": [
      "Fraction of samples to be used for fitting the individual base learners = 0.8\n",
      "Accuracy:  0.8656438356164383\n",
      "Fraction of samples to be used for fitting the individual base learners = 0.6\n",
      "Accuracy:  0.8658630136986302\n",
      "Fraction of samples to be used for fitting the individual base learners = 0.9\n",
      "Accuracy:  0.8647671232876712\n",
      "Fraction of samples to be used for fitting the individual base learners = 0.7\n",
      "Accuracy:  0.864986301369863\n",
      "Fraction of samples to be used for fitting the individual base learners = 0.5\n",
      "Accuracy:  0.8638904109589041\n"
     ]
    },
    {
     "data": {
      "text/plain": [
       "0.8638904109589041"
      ]
     },
     "execution_count": 53,
     "metadata": {},
     "output_type": "execute_result"
    }
   ],
   "source": [
    "print(\"Fraction of samples to be used for fitting the individual base learners = 0.8\")\n",
    "gradient=GradientBoostingClassifier(random_state=10,max_features='auto',subsample=0.8)\n",
    "cross_validation(gradient, df_train_over, df_train_obj_over,True)\n",
    "print(\"Fraction of samples to be used for fitting the individual base learners = 0.6\")\n",
    "gradient=GradientBoostingClassifier(random_state=10,max_features='auto',subsample=0.6)\n",
    "cross_validation(gradient,df_train_over, df_train_obj_over,True)\n",
    "print(\"Fraction of samples to be used for fitting the individual base learners = 0.9\")\n",
    "gradient=GradientBoostingClassifier(random_state=10,max_features='auto',subsample=0.9)\n",
    "cross_validation(gradient,df_train_over, df_train_obj_over,True)\n",
    "print(\"Fraction of samples to be used for fitting the individual base learners = 0.7\")\n",
    "gradient=GradientBoostingClassifier(random_state=10,max_features='auto',subsample=0.7)\n",
    "cross_validation(gradient,df_train_over, df_train_obj_over,True)\n",
    "print(\"Fraction of samples to be used for fitting the individual base learners = 0.5\")\n",
    "gradient=GradientBoostingClassifier(random_state=10,max_features='auto',subsample=0.5)\n",
    "cross_validation(gradient,df_train_over, df_train_obj_over,True)"
   ]
  },
  {
   "cell_type": "markdown",
   "metadata": {
    "id": "SbBMGom-B1BD"
   },
   "source": [
    "Configurando el parámetro max_depth de cada estimador."
   ]
  },
  {
   "cell_type": "code",
   "execution_count": 54,
   "metadata": {
    "id": "laTNHNQQB1BD"
   },
   "outputs": [],
   "source": [
    "from sklearn.ensemble import RandomForestClassifier,ExtraTreesClassifier,GradientBoostingClassifier\n",
    "def tune_gradient_boosting(max_value):\n",
    "    acc=[]\n",
    "    for i in range(2,max_value):\n",
    "        gradient=GradientBoostingClassifier(max_depth=i,random_state=10,subsample=0.8)\n",
    "        print(i)\n",
    "        acc.append(cross_validation(gradient,df_train_over,df_train_obj_over,True))\n",
    "\n",
    "    fig, ax =plt.subplots(figsize=(15,5))\n",
    "    ax.plot(range(2,max_value), acc)\n",
    "    ax.set_title('Gradient Boosting')\n",
    "    ax.set_xlabel('Max depth')\n",
    "    ax.set_ylabel('Accuracy')\n",
    "    plt.show()"
   ]
  },
  {
   "cell_type": "code",
   "execution_count": 55,
   "metadata": {
    "id": "xB-uQNr5B1BE",
    "outputId": "2d6d5ed9-513c-4521-93e9-6c6db5d0b27e"
   },
   "outputs": [
    {
     "name": "stdout",
     "output_type": "stream",
     "text": [
      "2\n",
      "Accuracy:  0.8089863013698629\n",
      "3\n",
      "Accuracy:  0.8656438356164383\n",
      "4\n",
      "Accuracy:  0.8926027397260274\n",
      "5\n",
      "Accuracy:  0.909041095890411\n",
      "6\n",
      "Accuracy:  0.9174794520547944\n",
      "7\n",
      "Accuracy:  0.9216438356164384\n",
      "8\n",
      "Accuracy:  0.9219726027397261\n",
      "9\n",
      "Accuracy:  0.9235068493150684\n",
      "10\n",
      "Accuracy:  0.9221917808219178\n",
      "11\n",
      "Accuracy:  0.9263561643835617\n",
      "12\n",
      "Accuracy:  0.9255890410958905\n",
      "13\n",
      "Accuracy:  0.9267945205479451\n",
      "14\n",
      "Accuracy:  0.9274520547945206\n",
      "15\n",
      "Accuracy:  0.9275616438356165\n",
      "16\n",
      "Accuracy:  0.9283287671232877\n",
      "17\n",
      "Accuracy:  0.9273424657534246\n",
      "18\n",
      "Accuracy:  0.9277808219178082\n",
      "19\n",
      "Accuracy:  0.928986301369863\n"
     ]
    },
    {
     "data": {
      "image/png": "[encoded data removed]",
      "text/plain": [
       "<Figure size 1080x360 with 1 Axes>"
      ]
     },
     "metadata": {
      "needs_background": "light"
     },
     "output_type": "display_data"
    }
   ],
   "source": [
    "tune_gradient_boosting(20)"
   ]
  },
  {
   "cell_type": "markdown",
   "metadata": {
    "id": "TP8uy_DRB1BF"
   },
   "source": [
    "Configurando el número de estimadores."
   ]
  },
  {
   "cell_type": "code",
   "execution_count": null,
   "metadata": {
    "id": "WoB83Y-cB1BF"
   },
   "outputs": [
    {
     "name": "stdout",
     "output_type": "stream",
     "text": [
      "50\n",
      "Accuracy:  0.9254794520547944\n",
      "100\n",
      "Accuracy:  0.9283287671232877\n",
      "150\n",
      "Accuracy:  0.9311780821917808\n",
      "200\n",
      "Accuracy:  0.9313972602739726\n",
      "250\n",
      "Accuracy:  0.9313972602739726\n",
      "300\n",
      "Accuracy:  0.9320547945205477\n",
      "350\n",
      "Accuracy:  0.9318356164383561\n",
      "400\n",
      "Accuracy:  0.9322739726027398\n",
      "450\n"
     ]
    }
   ],
   "source": [
    "from sklearn.ensemble import GradientBoostingClassifier\n",
    "def tune_gradient_boosting_2(max_value):\n",
    "    acc=[]\n",
    "    for i in range(50,max_value,50):\n",
    "        gradient=GradientBoostingClassifier(n_estimators=i,max_depth=16,random_state=10,subsample=0.8)\n",
    "        print(i)\n",
    "        acc.append(cross_validation(gradient,df_train_over,df_train_obj_over,True))\n",
    "\n",
    "    fig, ax =plt.subplots(figsize=(15,5))\n",
    "    ax.plot(range(50,max_value,50), acc)\n",
    "    ax.set_title('Gradient Boosting')\n",
    "    ax.set_xlabel('Num estimadores')\n",
    "    ax.set_ylabel('Accuracy')\n",
    "    plt.show()\n",
    "tune_gradient_boosting_2(500) "
   ]
  },
  {
   "cell_type": "markdown",
   "metadata": {
    "id": "hAvdgjv0B1BG"
   },
   "source": [
    "Configurando el parámetro learning_rate."
   ]
  },
  {
   "cell_type": "code",
   "execution_count": null,
   "metadata": {
    "id": "QEqszgbvB1BG"
   },
   "outputs": [],
   "source": [
    "print(\"Learning rate=0.2\")\n",
    "gradient=GradientBoostingClassifier(n_estimators=400, learning_rate=0.2, random_state=10,max_features='auto',subsample=0.8,max_depth=16)\n",
    "cross_validation(gradient,df_train_over,df_train_obj_over,True)\n",
    "print(\"Learning rate=0.05\")\n",
    "gradient=GradientBoostingClassifier(n_estimators=400, learning_rate=0.05, random_state=10,max_features='auto',subsample=0.8,max_depth=16)\n",
    "cross_validation(gradient,df_train_over,df_train_obj_over,True)\n",
    "print(\"Learning rate=0.15\")\n",
    "gradient=GradientBoostingClassifier(n_estimators=400, learning_rate=0.15, random_state=10,max_features='auto',subsample=0.8,max_depth=16)\n",
    "cross_validation(gradient,df_train_over,df_train_obj_over,True)\n",
    "print(\"Learning rate=0.3\")\n",
    "gradient=GradientBoostingClassifier(n_estimators=400, learning_rate=0.3, random_state=10,max_features='auto',subsample=0.8,max_depth=16)\n",
    "cross_validation(gradient,df_train_over,df_train_obj_over,True)\n",
    "print(\"Learning rate=0.1\")\n",
    "gradient=GradientBoostingClassifier(n_estimators=400, learning_rate=0.1, random_state=10,max_features='auto',subsample=0.8,max_depth=16)\n",
    "cross_validation(gradient,df_train_over,df_train_obj_over,True) "
   ]
  },
  {
   "cell_type": "markdown",
   "metadata": {
    "id": "z3shKAiHB1BN"
   },
   "source": [
    "#### Red neuronal"
   ]
  },
  {
   "cell_type": "code",
   "execution_count": 14,
   "metadata": {
    "id": "RENkhDLvB1BN"
   },
   "outputs": [],
   "source": [
    "from matplotlib import pyplot as plt\n",
    "from sklearn.neural_network import MLPClassifier\n",
    "\n",
    "def tune_layers(max_value):\n",
    "    acc=[]\n",
    "    for i in range(20,max_value,20):\n",
    "        NN=MLPClassifier(hidden_layer_sizes=(i,i),random_state=10,max_iter=1000)\n",
    "        print(i)\n",
    "        acc.append(cross_validation(NN,df_train_over,df_train_obj_over,True))\n",
    "\n",
    "    fig, ax =plt.subplots(figsize=(15,5))\n",
    "    ax.plot(range(20,max_value,20), acc)\n",
    "    ax.set_title('Neural Network')\n",
    "    ax.set_xlabel('Tamaño capas')\n",
    "    ax.set_ylabel('Accuracy')\n",
    "    plt.show()"
   ]
  },
  {
   "cell_type": "code",
   "execution_count": 15,
   "metadata": {
    "id": "nIzAGZrxB1BO",
    "outputId": "c658fc8a-b24b-4a88-fa02-9990d4f70ad0"
   },
   "outputs": [
    {
     "name": "stdout",
     "output_type": "stream",
     "text": [
      "20\n",
      "Accuracy:  0.9414794520547944\n",
      "40\n",
      "Accuracy:  0.9443287671232877\n",
      "60\n",
      "Accuracy:  0.9425753424657535\n",
      "80\n",
      "Accuracy:  0.942027397260274\n",
      "100\n",
      "Accuracy:  0.9444383561643835\n",
      "120\n",
      "Accuracy:  0.9443287671232877\n",
      "140\n",
      "Accuracy:  0.9468493150684931\n",
      "160\n",
      "Accuracy:  0.9415890410958905\n",
      "180\n",
      "Accuracy:  0.9406027397260275\n",
      "200\n",
      "Accuracy:  0.9430136986301371\n",
      "220\n",
      "Accuracy:  0.9447671232876713\n",
      "240\n",
      "Accuracy:  0.9457534246575342\n",
      "260\n",
      "Accuracy:  0.9407123287671233\n",
      "280\n",
      "Accuracy:  0.9454246575342464\n",
      "300\n",
      "Accuracy:  0.9429041095890411\n",
      "320\n",
      "Accuracy:  0.9436712328767124\n",
      "340\n",
      "Accuracy:  0.9431232876712329\n",
      "360\n",
      "Accuracy:  0.9445479452054795\n",
      "380\n",
      "Accuracy:  0.9445479452054795\n",
      "400\n",
      "Accuracy:  0.9432328767123288\n",
      "420\n",
      "Accuracy:  0.9457534246575342\n",
      "440\n",
      "Accuracy:  0.9446575342465753\n",
      "460\n",
      "Accuracy:  0.938958904109589\n",
      "480\n",
      "Accuracy:  0.9448767123287671\n"
     ]
    },
    {
     "data": {
      "image/png": "[encoded data removed]",
      "text/plain": [
       "<Figure size 1080x360 with 1 Axes>"
      ]
     },
     "metadata": {
      "needs_background": "light"
     },
     "output_type": "display_data"
    }
   ],
   "source": [
    "tune_layers(500)"
   ]
  },
  {
   "cell_type": "code",
   "execution_count": 16,
   "metadata": {
    "id": "QUk2HXxfB1BQ",
    "outputId": "48c279ca-93f2-4cec-da85-7e84bf8ffd15"
   },
   "outputs": [
    {
     "name": "stdout",
     "output_type": "stream",
     "text": [
      "Accuracy:  0.9448767123287671\n"
     ]
    },
    {
     "data": {
      "text/plain": [
       "0.9448767123287671"
      ]
     },
     "execution_count": 16,
     "metadata": {},
     "output_type": "execute_result"
    }
   ],
   "source": [
    "NN=MLPClassifier(hidden_layer_sizes=(480,480),random_state=10,max_iter=10000)\n",
    "cross_validation(NN,df_train_over,df_train_obj_over,True)"
   ]
  },
  {
   "cell_type": "code",
   "execution_count": 17,
   "metadata": {
    "id": "8ph_US51B1BR",
    "outputId": "b38291ac-e858-474c-b32d-c4db0427807f"
   },
   "outputs": [
    {
     "name": "stdout",
     "output_type": "stream",
     "text": [
      "Accuracy:  0.9431232876712329\n"
     ]
    },
    {
     "data": {
      "text/plain": [
       "0.9431232876712329"
      ]
     },
     "execution_count": 17,
     "metadata": {},
     "output_type": "execute_result"
    }
   ],
   "source": [
    "NN=MLPClassifier(hidden_layer_sizes=(340,340),random_state=10,max_iter=10000)\n",
    "cross_validation(NN,df_train_over,df_train_obj_over,True)"
   ]
  },
  {
   "cell_type": "code",
   "execution_count": 18,
   "metadata": {
    "colab": {
     "background_save": true,
     "base_uri": "https://localhost:8080/"
    },
    "id": "haVgPznwB1BS",
    "outputId": "e15eefcd-1fb0-425c-fd25-ecbb09714cf2"
   },
   "outputs": [
    {
     "name": "stdout",
     "output_type": "stream",
     "text": [
      "Alpha=0.0015\n",
      "Accuracy:  0.9414794520547947\n",
      "Alpha=0.01\n",
      "Accuracy:  0.9481643835616438\n",
      "Alpha=0.02\n",
      "Accuracy:  0.9471780821917809\n",
      "Alpha=0.05\n",
      "Accuracy:  0.9507945205479451\n",
      "Alpha=0.003\n",
      "Accuracy:  0.9438904109589041\n",
      "Alpha=0.1\n",
      "Accuracy:  0.948931506849315\n"
     ]
    },
    {
     "data": {
      "text/plain": [
       "0.948931506849315"
      ]
     },
     "execution_count": 18,
     "metadata": {},
     "output_type": "execute_result"
    }
   ],
   "source": [
    "print(\"Alpha=0.0015\")\n",
    "NN=MLPClassifier(hidden_layer_sizes=(340,340),random_state=10,max_iter=10000,alpha=0.0015)\n",
    "cross_validation(NN,df_train_over,df_train_obj_over,True)\n",
    "print(\"Alpha=0.01\")\n",
    "NN=MLPClassifier(hidden_layer_sizes=(340,340),random_state=10,max_iter=10000,alpha=0.01)\n",
    "cross_validation(NN,df_train_over,df_train_obj_over,True)\n",
    "print(\"Alpha=0.02\")\n",
    "NN=MLPClassifier(hidden_layer_sizes=(340,340),random_state=10,max_iter=10000,alpha=0.02)\n",
    "cross_validation(NN,df_train_over,df_train_obj_over,True)\n",
    "print(\"Alpha=0.05\")\n",
    "NN=MLPClassifier(hidden_layer_sizes=(340,340),random_state=10,max_iter=10000,alpha=0.05)\n",
    "cross_validation(NN,df_train_over,df_train_obj_over,True)\n",
    "print(\"Alpha=0.003\")\n",
    "NN=MLPClassifier(hidden_layer_sizes=(340,340),random_state=10,max_iter=10000,alpha=0.003)\n",
    "cross_validation(NN,df_train_over,df_train_obj_over,True)\n",
    "print(\"Alpha=0.1\")\n",
    "NN=MLPClassifier(hidden_layer_sizes=(340,340),random_state=10,max_iter=10000,alpha=0.1)\n",
    "cross_validation(NN,df_train_over,df_train_obj_over,True)"
   ]
  },
  {
   "cell_type": "markdown",
   "metadata": {
    "id": "7pN732bqB1BV"
   },
   "source": [
    "### Aplicación al conjunto de test"
   ]
  },
  {
   "cell_type": "markdown",
   "metadata": {
    "id": "sAwr71uHB1BV"
   },
   "source": [
    "#### Entrega 12"
   ]
  },
  {
   "cell_type": "code",
   "execution_count": 22,
   "metadata": {
    "id": "botUfiKRB1BV",
    "outputId": "868c172a-5187-468a-c7ec-470d5789e290"
   },
   "outputs": [
    {
     "name": "stdout",
     "output_type": "stream",
     "text": [
      "Accuracy:  0.9410410958904109\n"
     ]
    }
   ],
   "source": [
    "from sklearn.ensemble import ExtraTreesClassifier\n",
    "extra=ExtraTreesClassifier(n_estimators=275,random_state=10)\n",
    "cross_validation(extra, df_train_over, df_train_obj_over,True)\n",
    "extra.fit(df_train_over,df_train_obj_over)\n",
    "pred=extra.predict(df_test_num)\n",
    "ids=df_test_orig[\"id\"]\n",
    "\n",
    "df_result = pd.DataFrame({'id': ids, 'Precio_cat': pred})\n",
    "df_result.to_csv(\"resultados_12.csv\", index=False)"
   ]
  },
  {
   "cell_type": "markdown",
   "metadata": {
    "id": "ffcVLYliPeY1"
   },
   "source": [
    "#### Entrega 21"
   ]
  },
  {
   "cell_type": "code",
   "execution_count": 23,
   "metadata": {
    "colab": {
     "base_uri": "https://localhost:8080/"
    },
    "executionInfo": {
     "elapsed": 1260546,
     "status": "ok",
     "timestamp": 1609343175997,
     "user": {
      "displayName": "Pilar Navarro",
      "photoUrl": "https://lh3.googleusercontent.com/a-/AOh14GjVEQ2fcXNkztOVtwH3gYkL7MU-0jktiO2acTgy7Q=s64",
      "userId": "13653515932275687032"
     },
     "user_tz": -60
    },
    "id": "oDZatUJBPiHc",
    "outputId": "4b9f78b4-8a93-4618-ded0-b4ee2997d27f"
   },
   "outputs": [
    {
     "name": "stdout",
     "output_type": "stream",
     "text": [
      "Accuracy:  0.9507945205479451\n"
     ]
    }
   ],
   "source": [
    "NN=MLPClassifier(hidden_layer_sizes=(340,340),random_state=10,max_iter=10000,alpha=0.05)\n",
    "cross_validation(NN,df_train_over,df_train_obj_over,True)\n",
    "NN.fit(df_train_over,df_train_obj_over)\n",
    "pred=NN.predict(df_test_num)\n",
    "ids=df_test_orig[\"id\"]\n",
    "\n",
    "df_result = pd.DataFrame({'id': ids, 'Precio_cat': pred})\n",
    "df_result.to_csv(\"resultados_21.csv\", index=False)"
   ]
  },
  {
   "cell_type": "markdown",
   "metadata": {
    "id": "TrrvaJb5dq56"
   },
   "source": [
    "#### Entrega 22"
   ]
  },
  {
   "cell_type": "code",
   "execution_count": 24,
   "metadata": {
    "executionInfo": {
     "elapsed": 4968593,
     "status": "ok",
     "timestamp": 1609367406555,
     "user": {
      "displayName": "Pilar Navarro",
      "photoUrl": "https://lh3.googleusercontent.com/a-/AOh14GjVEQ2fcXNkztOVtwH3gYkL7MU-0jktiO2acTgy7Q=s64",
      "userId": "13653515932275687032"
     },
     "user_tz": -60
    },
    "id": "jSavA4xOdtw0"
   },
   "outputs": [
    {
     "name": "stdout",
     "output_type": "stream",
     "text": [
      "Accuracy:  0.9322739726027398\n"
     ]
    }
   ],
   "source": [
    "from sklearn.ensemble import RandomForestClassifier,ExtraTreesClassifier,GradientBoostingClassifier\n",
    "gradient=GradientBoostingClassifier(n_estimators=400, learning_rate=0.1, random_state=10,max_features='auto',subsample=0.8,max_depth=16)\n",
    "cross_validation(gradient,df_train_over,df_train_obj_over,True)\n",
    "gradient.fit(df_train_over,df_train_obj_over)\n",
    "pred=gradient.predict(df_test_num)\n",
    "ids=df_test_orig[\"id\"]\n",
    "\n",
    "df_result = pd.DataFrame({'id': ids, 'Precio_cat': pred})\n",
    "df_result.to_csv(\"resultados_22.csv\", index=False)"
   ]
  }
 ],
 "metadata": {
  "colab": {
   "collapsed_sections": [],
   "name": "p3_8.ipynb",
   "provenance": []
  },
  "kernelspec": {
   "display_name": "Python 3",
   "language": "python",
   "name": "python3"
  },
  "language_info": {
   "codemirror_mode": {
    "name": "ipython",
    "version": 3
   },
   "file_extension": ".py",
   "mimetype": "text/x-python",
   "name": "python",
   "nbconvert_exporter": "python",
   "pygments_lexer": "ipython3",
   "version": "3.8.5"
  }
 },
 "nbformat": 4,
 "nbformat_minor": 1
}
