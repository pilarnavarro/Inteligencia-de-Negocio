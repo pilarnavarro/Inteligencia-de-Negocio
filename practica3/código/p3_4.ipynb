{
 "cells": [
  {
   "cell_type": "markdown",
   "metadata": {},
   "source": [
    "# Práctica 3 - Cuarta prueba\n",
    "\n",
    "#### Pilar Navarro Ramírez"
   ]
  },
  {
   "cell_type": "code",
   "execution_count": 1,
   "metadata": {},
   "outputs": [],
   "source": [
    "import pandas as pd"
   ]
  },
  {
   "cell_type": "markdown",
   "metadata": {},
   "source": [
    "## Preprocesamiento"
   ]
  },
  {
   "cell_type": "code",
   "execution_count": 2,
   "metadata": {},
   "outputs": [],
   "source": [
    "df_train=pd.read_csv(\"data/train.csv\",na_values=[\"\"])\n",
    "df_test=pd.read_csv(\"data/test.csv\",na_values=[\"\"])"
   ]
  },
  {
   "cell_type": "code",
   "execution_count": 3,
   "metadata": {},
   "outputs": [],
   "source": [
    "df_train.columns = [col.lower() for col in df_train]\n",
    "df_test.columns = [col.lower() for col in df_test]\n",
    "\n",
    "df_train_orig = df_train.copy()\n",
    "df_test_orig = df_test.copy()\n",
    "\n",
    "del df_train[\"id\"]\n",
    "del df_test[\"id\"]"
   ]
  },
  {
   "cell_type": "markdown",
   "metadata": {},
   "source": [
    "### Tratamos los datos perdidos"
   ]
  },
  {
   "cell_type": "code",
   "execution_count": 4,
   "metadata": {},
   "outputs": [],
   "source": [
    "from sklearn import impute"
   ]
  },
  {
   "cell_type": "code",
   "execution_count": 5,
   "metadata": {},
   "outputs": [],
   "source": [
    "del df_train['descuento']\n",
    "del df_test['descuento']"
   ]
  },
  {
   "cell_type": "code",
   "execution_count": 6,
   "metadata": {},
   "outputs": [],
   "source": [
    "df_train_replaced=df_train.copy()\n",
    "imputer=impute.SimpleImputer(strategy=\"most_frequent\")\n",
    "values = imputer.fit_transform([df_train_replaced.asientos.values])\n",
    "df_train_replaced.asientos.update(pd.Series(values[0]))"
   ]
  },
  {
   "cell_type": "code",
   "execution_count": 7,
   "metadata": {},
   "outputs": [],
   "source": [
    "df_train_replaced=df_train_replaced.dropna()\n",
    "df_train=df_train.dropna()"
   ]
  },
  {
   "cell_type": "markdown",
   "metadata": {},
   "source": [
    "Separamos el atributo a predecir del resto de atributos en el conjunto de entrenamiento."
   ]
  },
  {
   "cell_type": "code",
   "execution_count": 8,
   "metadata": {},
   "outputs": [],
   "source": [
    "cols = [col for col in df_train.columns if col not in ['precio_cat']]    \n",
    "df_train, df_train_obj= df_train[cols], df_train['precio_cat']\n",
    "df_train_replaced, df_train_obj_replaced= df_train_replaced[cols], df_train_replaced['precio_cat']"
   ]
  },
  {
   "cell_type": "markdown",
   "metadata": {},
   "source": [
    "### 'Transformación' de variables categóricas a numéricas"
   ]
  },
  {
   "cell_type": "code",
   "execution_count": 9,
   "metadata": {},
   "outputs": [],
   "source": [
    "from sklearn.preprocessing import LabelEncoder\n",
    "\n",
    "categorical=[\"nombre\",\"ciudad\",\"combustible\",\"tipo_marchas\",\"mano\",\"consumo\",\"motor_cc\",\"potencia\"]\n",
    "\n",
    "df_train_num=df_train.copy()\n",
    "df_train_num_rpl=df_train_replaced.copy()\n",
    "df_test_num=df_test.copy()\n",
    "\n",
    "for atributo in categorical:\n",
    "    data=pd.read_csv(\"data/\"+atributo+\".csv\")\n",
    "    data.columns = [col.lower() for col in data]\n",
    "    label = LabelEncoder().fit(data[atributo])\n",
    "    df_train_num[atributo]=label.transform(df_train[atributo])\n",
    "    df_train_num_rpl[atributo]=label.transform(df_train_replaced[atributo])\n",
    "    df_test_num[atributo]=label.transform(df_test[atributo])"
   ]
  },
  {
   "cell_type": "markdown",
   "metadata": {},
   "source": [
    "### Normalización de los datos"
   ]
  },
  {
   "cell_type": "code",
   "execution_count": 10,
   "metadata": {},
   "outputs": [],
   "source": [
    "from sklearn.preprocessing import MinMaxScaler, LabelEncoder\n",
    "\n",
    "cols = [col for col in df_train_orig.columns if col not in ['precio_cat','id','descuento']]  \n",
    "categorical=[\"nombre\",\"ciudad\",\"combustible\",\"tipo_marchas\",\"mano\",\"consumo\",\"motor_cc\",\"potencia\"]\n",
    "\n",
    "df_train_norm=df_train_num.copy()\n",
    "df_train_norm_rpl=df_train_num_rpl.copy()\n",
    "df_test_norm=df_test_num.copy()\n",
    "\n",
    "\n",
    "for atributo in cols:\n",
    "    data=pd.read_csv(\"data/\"+atributo+\".csv\")\n",
    "    data.columns = [col.lower() for col in data]\n",
    "    if atributo in categorical:\n",
    "        label = LabelEncoder().fit(data[atributo])\n",
    "        data[atributo]=label.transform(data[atributo])\n",
    "    scaler = MinMaxScaler().fit(data.values)\n",
    "    train_values=df_train_num[atributo].values.reshape(-1,1)\n",
    "    df_train_norm[atributo]=scaler.transform(train_values)\n",
    "    train_values_rpl=df_train_num_rpl[atributo].values.reshape(-1,1)\n",
    "    df_train_norm_rpl[atributo]=scaler.transform(train_values_rpl)\n",
    "    test_values=df_test_num[atributo].values.reshape(-1,1)\n",
    "    df_test_norm[atributo]=scaler.transform(test_values)\n",
    "    "
   ]
  },
  {
   "cell_type": "markdown",
   "metadata": {},
   "source": [
    "## Aplicación de los algoritmos"
   ]
  },
  {
   "cell_type": "code",
   "execution_count": 11,
   "metadata": {},
   "outputs": [],
   "source": [
    "import numpy as np\n",
    "\n",
    "from sklearn.model_selection import cross_val_score\n",
    "\n",
    "def cross_validation(clf,x,y,mostrar=False):\n",
    "    scores=cross_val_score(clf,x,y,scoring='accuracy',cv=5)\n",
    "    accuracy=np.mean(scores)  \n",
    "    if mostrar:\n",
    "        print(\"Accuracy: \", accuracy)\n",
    "    return accuracy"
   ]
  },
  {
   "cell_type": "code",
   "execution_count": 13,
   "metadata": {},
   "outputs": [
    {
     "name": "stdout",
     "output_type": "stream",
     "text": [
      "Datos normalizados con todos nulos eliminados: \n",
      "GradientBoostingClassifier(max_depth=5, max_features='auto', random_state=10,\n",
      "                           subsample=0.8)\n",
      "Accuracy:  0.8360374531835205\n",
      "Datos normalizados con nulos en asientos reemplazados: \n",
      "GradientBoostingClassifier(max_depth=5, max_features='auto', random_state=10,\n",
      "                           subsample=0.8)\n",
      "Accuracy:  0.8328797993111952\n",
      "Datos normalizados con todos nulos eliminados: \n",
      "BaggingClassifier(base_estimator=KNeighborsClassifier(), max_features=0.6,\n",
      "                  n_estimators=22, random_state=10)\n",
      "Accuracy:  0.8102943196004995\n",
      "Datos normalizados con nulos en asientos reemplazados: \n",
      "BaggingClassifier(base_estimator=KNeighborsClassifier(), max_features=0.6,\n",
      "                  n_estimators=22, random_state=10)\n",
      "Accuracy:  0.8035494098995949\n",
      "Datos normalizados con todos nulos eliminados: \n",
      "RandomForestClassifier(random_state=10)\n",
      "Accuracy:  0.822791822721598\n",
      "Datos normalizados con nulos en asientos reemplazados: \n",
      "RandomForestClassifier(random_state=10)\n",
      "Accuracy:  0.8225264679620732\n",
      "Datos normalizados con todos nulos eliminados: \n",
      "ExtraTreesClassifier(random_state=10)\n",
      "Accuracy:  0.8077958801498127\n",
      "Datos normalizados con nulos en asientos reemplazados: \n",
      "ExtraTreesClassifier(random_state=10)\n",
      "Accuracy:  0.8131592694052833\n"
     ]
    }
   ],
   "source": [
    "from sklearn.neighbors import KNeighborsClassifier\n",
    "from sklearn.ensemble import RandomForestClassifier,ExtraTreesClassifier,BaggingClassifier,GradientBoostingClassifier\n",
    "\n",
    "knn=KNeighborsClassifier()\n",
    "bagging_knn=BaggingClassifier(knn,n_estimators=22, max_samples=1.0, max_features=0.6, random_state=10)\n",
    "forest=RandomForestClassifier(random_state=10)\n",
    "extra=ExtraTreesClassifier(random_state=10)\n",
    "gradient=GradientBoostingClassifier(n_estimators=100, learning_rate=0.1, random_state=10,max_features='auto',subsample=0.8,max_depth=5)\n",
    "\n",
    "clfs=[gradient,bagging_knn,forest,extra]\n",
    "\n",
    "for clf in clfs:\n",
    "    print(\"Datos normalizados con todos nulos eliminados: \")\n",
    "    print(clf)\n",
    "    cross_validation(clf, df_train_norm, df_train_obj,True)\n",
    "    print(\"Datos normalizados con nulos en asientos reemplazados: \")\n",
    "    print(clf)\n",
    "    cross_validation(clf,df_train_norm_rpl,df_train_obj_replaced,True)"
   ]
  },
  {
   "cell_type": "markdown",
   "metadata": {},
   "source": [
    "### Configuración de los parámetros"
   ]
  },
  {
   "cell_type": "markdown",
   "metadata": {},
   "source": [
    "\n",
    "##### Extra Trees Classiffier"
   ]
  },
  {
   "cell_type": "code",
   "execution_count": 20,
   "metadata": {},
   "outputs": [
    {
     "name": "stdout",
     "output_type": "stream",
     "text": [
      "Max_samples=0.9\n",
      "Accuracy:  0.8117952559300875\n",
      "Max_samples=0.8\n",
      "Accuracy:  0.8102946317103621\n",
      "Max_samples=0.95\n",
      "Accuracy:  0.810043695380774\n",
      "Max_samples=0.7\n",
      "Accuracy:  0.8092961922596753\n",
      "Max_samples=0.5\n",
      "Accuracy:  0.8085440074906367\n",
      "Max_samples=0.85\n",
      "Accuracy:  0.8097955680399501\n"
     ]
    },
    {
     "data": {
      "text/plain": [
       "0.8097955680399501"
      ]
     },
     "execution_count": 20,
     "metadata": {},
     "output_type": "execute_result"
    }
   ],
   "source": [
    "print(\"Max_samples=0.9\")\n",
    "extra=ExtraTreesClassifier(random_state=10,bootstrap=True, max_samples=0.9)\n",
    "cross_validation(extra, df_train_norm, df_train_obj,True)\n",
    "print(\"Max_samples=0.8\")\n",
    "extra=ExtraTreesClassifier(random_state=10,bootstrap=True, max_samples=0.8)\n",
    "cross_validation(extra, df_train_norm, df_train_obj,True)\n",
    "print(\"Max_samples=0.95\")\n",
    "extra=ExtraTreesClassifier(random_state=10,bootstrap=True, max_samples=0.95)\n",
    "cross_validation(extra, df_train_norm, df_train_obj,True)\n",
    "print(\"Max_samples=0.7\")\n",
    "extra=ExtraTreesClassifier(random_state=10,bootstrap=True, max_samples=0.7)\n",
    "cross_validation(extra, df_train_norm, df_train_obj,True)\n",
    "print(\"Max_samples=0.5\")\n",
    "extra=ExtraTreesClassifier(random_state=10,bootstrap=True, max_samples=0.5)\n",
    "cross_validation(extra, df_train_norm, df_train_obj,True)\n",
    "print(\"Max_samples=0.85\")\n",
    "extra=ExtraTreesClassifier(random_state=10,bootstrap=True, max_samples=0.85)\n",
    "cross_validation(extra, df_train_norm, df_train_obj,True)"
   ]
  },
  {
   "cell_type": "code",
   "execution_count": 21,
   "metadata": {},
   "outputs": [],
   "source": [
    "\n"
   ]
  },
  {
   "cell_type": "code",
   "execution_count": 22,
   "metadata": {},
   "outputs": [
    {
     "data": {
      "image/png": "[encoded data removed]",
      "text/plain": [
       "<Figure size 1080x360 with 1 Axes>"
      ]
     },
     "metadata": {
      "needs_background": "light"
     },
     "output_type": "display_data"
    }
   ],
   "source": [
    "tune_num_arboles(300)"
   ]
  },
  {
   "cell_type": "code",
   "execution_count": 26,
   "metadata": {},
   "outputs": [
    {
     "name": "stdout",
     "output_type": "stream",
     "text": [
      "Accuracy:  0.8147927590511861\n"
     ]
    },
    {
     "data": {
      "text/plain": [
       "0.8147927590511861"
      ]
     },
     "execution_count": 26,
     "metadata": {},
     "output_type": "execute_result"
    }
   ],
   "source": [
    "extra=ExtraTreesClassifier(n_estimators=275,random_state=10,bootstrap=True, max_samples=0.9)\n",
    "cross_validation(extra, df_train_norm, df_train_obj,True)"
   ]
  },
  {
   "cell_type": "code",
   "execution_count": 14,
   "metadata": {},
   "outputs": [],
   "source": [
    "from matplotlib import pyplot as plt\n",
    "\n",
    "def tune_max_depth(max_value):\n",
    "    acc=[]\n",
    "    for i in range(2,max_value):\n",
    "        extra=ExtraTreesClassifier(n_estimators=275,random_state=10,bootstrap=True, max_samples=0.9,max_depth=i)\n",
    "        acc.append(cross_validation(extra,df_train_norm,df_train_obj))\n",
    "\n",
    "    fig, ax =plt.subplots(figsize=(15,5))\n",
    "    ax.plot(range(2,max_value), acc)\n",
    "    ax.set_title('Extra trees')\n",
    "    ax.set_xlabel('Max depth')\n",
    "    ax.set_ylabel('Accuracy')\n",
    "    plt.show()"
   ]
  },
  {
   "cell_type": "code",
   "execution_count": 15,
   "metadata": {},
   "outputs": [
    {
     "data": {
      "image/png": "[encoded data removed]",
      "text/plain": [
       "<Figure size 1080x360 with 1 Axes>"
      ]
     },
     "metadata": {
      "needs_background": "light"
     },
     "output_type": "display_data"
    }
   ],
   "source": [
    "tune_max_depth(50)"
   ]
  },
  {
   "cell_type": "code",
   "execution_count": 31,
   "metadata": {},
   "outputs": [
    {
     "name": "stdout",
     "output_type": "stream",
     "text": [
      "Accuracy:  0.8147927590511861\n"
     ]
    },
    {
     "data": {
      "text/plain": [
       "0.8147927590511861"
      ]
     },
     "execution_count": 31,
     "metadata": {},
     "output_type": "execute_result"
    }
   ],
   "source": [
    "extra=ExtraTreesClassifier(n_estimators=275,random_state=10,bootstrap=True, max_samples=0.9,max_depth=40)\n",
    "cross_validation(extra, df_train_norm, df_train_obj,True)"
   ]
  },
  {
   "cell_type": "code",
   "execution_count": 33,
   "metadata": {},
   "outputs": [
    {
     "data": {
      "text/plain": [
       "GridSearchCV(cv=5, estimator=ExtraTreesClassifier(random_state=10), n_jobs=-1,\n",
       "             param_grid={'bootstrap': [True, False],\n",
       "                         'max_samples': [0.9, 0.7, 0.8],\n",
       "                         'n_estimators': [275, 270, 100, 70, 10]})"
      ]
     },
     "execution_count": 33,
     "metadata": {},
     "output_type": "execute_result"
    }
   ],
   "source": [
    "from sklearn.model_selection import GridSearchCV\n",
    "\n",
    "extra=ExtraTreesClassifier(random_state=10)\n",
    "parameter_space = {\n",
    "    'bootstrap':[True,False],\n",
    "    'n_estimators': [275,270,100,70,10],\n",
    "    'max_samples': [0.9, 0.7,0.8],\n",
    "}\n",
    "\n",
    "clf=GridSearchCV(extra, parameter_space, n_jobs=-1, cv=5)\n",
    "clf.fit(df_train_norm,df_train_obj)"
   ]
  },
  {
   "cell_type": "code",
   "execution_count": 35,
   "metadata": {},
   "outputs": [
    {
     "name": "stdout",
     "output_type": "stream",
     "text": [
      "Mejores parámetros:  {'bootstrap': True, 'max_samples': 0.9, 'n_estimators': 275}\n"
     ]
    }
   ],
   "source": [
    "print('Mejores parámetros: ', clf.best_params_)"
   ]
  },
  {
   "cell_type": "markdown",
   "metadata": {},
   "source": [
    "### Aplicación al conjunto de test"
   ]
  },
  {
   "cell_type": "code",
   "execution_count": 36,
   "metadata": {},
   "outputs": [],
   "source": [
    "extra=ExtraTreesClassifier(n_estimators=275,random_state=10,bootstrap=True, max_samples=0.9)\n",
    "extra.fit(df_train_norm,df_train_obj)\n",
    "pred=extra.predict(df_test_norm)\n",
    "ids=df_test_orig[\"id\"]\n",
    "\n",
    "df_result = pd.DataFrame({'id': ids, 'Precio_cat': pred})\n",
    "df_result.to_csv(\"resultados_5.csv\", index=False)"
   ]
  },
  {
   "cell_type": "code",
   "execution_count": 37,
   "metadata": {},
   "outputs": [
    {
     "data": {
      "text/html": [
       "<div>\n",
       "<style scoped>\n",
       "    .dataframe tbody tr th:only-of-type {\n",
       "        vertical-align: middle;\n",
       "    }\n",
       "\n",
       "    .dataframe tbody tr th {\n",
       "        vertical-align: top;\n",
       "    }\n",
       "\n",
       "    .dataframe thead th {\n",
       "        text-align: right;\n",
       "    }\n",
       "</style>\n",
       "<table border=\"1\" class=\"dataframe\">\n",
       "  <thead>\n",
       "    <tr style=\"text-align: right;\">\n",
       "      <th></th>\n",
       "      <th>id</th>\n",
       "      <th>Precio_cat</th>\n",
       "    </tr>\n",
       "  </thead>\n",
       "  <tbody>\n",
       "    <tr>\n",
       "      <th>0</th>\n",
       "      <td>4820</td>\n",
       "      <td>5</td>\n",
       "    </tr>\n",
       "    <tr>\n",
       "      <th>1</th>\n",
       "      <td>4821</td>\n",
       "      <td>2</td>\n",
       "    </tr>\n",
       "    <tr>\n",
       "      <th>2</th>\n",
       "      <td>4822</td>\n",
       "      <td>2</td>\n",
       "    </tr>\n",
       "    <tr>\n",
       "      <th>3</th>\n",
       "      <td>4823</td>\n",
       "      <td>3</td>\n",
       "    </tr>\n",
       "    <tr>\n",
       "      <th>4</th>\n",
       "      <td>4824</td>\n",
       "      <td>2</td>\n",
       "    </tr>\n",
       "  </tbody>\n",
       "</table>\n",
       "</div>"
      ],
      "text/plain": [
       "     id  Precio_cat\n",
       "0  4820           5\n",
       "1  4821           2\n",
       "2  4822           2\n",
       "3  4823           3\n",
       "4  4824           2"
      ]
     },
     "execution_count": 37,
     "metadata": {},
     "output_type": "execute_result"
    }
   ],
   "source": [
    "df_result.head()"
   ]
  }
 ],
 "metadata": {
  "kernelspec": {
   "display_name": "Python 3",
   "language": "python",
   "name": "python3"
  },
  "language_info": {
   "codemirror_mode": {
    "name": "ipython",
    "version": 3
   },
   "file_extension": ".py",
   "mimetype": "text/x-python",
   "name": "python",
   "nbconvert_exporter": "python",
   "pygments_lexer": "ipython3",
   "version": "3.8.5"
  }
 },
 "nbformat": 4,
 "nbformat_minor": 4
}
