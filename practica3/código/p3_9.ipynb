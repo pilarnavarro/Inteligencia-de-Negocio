{
 "cells": [
  {
   "cell_type": "markdown",
   "metadata": {},
   "source": [
    "# Práctica 3 - Novena prueba\n",
    "\n",
    "#### Pilar Navarro Ramírez"
   ]
  },
  {
   "cell_type": "code",
   "execution_count": 1,
   "metadata": {},
   "outputs": [],
   "source": [
    "import pandas as pd"
   ]
  },
  {
   "cell_type": "markdown",
   "metadata": {},
   "source": [
    "## Preprocesamiento"
   ]
  },
  {
   "cell_type": "code",
   "execution_count": 2,
   "metadata": {},
   "outputs": [],
   "source": [
    "df_train=pd.read_csv(\"data/train.csv\",na_values=[\"\"])\n",
    "df_test=pd.read_csv(\"data/test.csv\",na_values=[\"\"])"
   ]
  },
  {
   "cell_type": "code",
   "execution_count": 3,
   "metadata": {},
   "outputs": [],
   "source": [
    "df_train.columns = [col.lower() for col in df_train]\n",
    "df_test.columns = [col.lower() for col in df_test]\n",
    "\n",
    "df_train_orig = df_train.copy()\n",
    "df_test_orig = df_test.copy()\n",
    "\n",
    "del df_train[\"id\"]\n",
    "del df_test[\"id\"]"
   ]
  },
  {
   "cell_type": "markdown",
   "metadata": {},
   "source": [
    "### Tratamos los datos perdidos"
   ]
  },
  {
   "cell_type": "code",
   "execution_count": 4,
   "metadata": {},
   "outputs": [],
   "source": [
    "from sklearn import impute"
   ]
  },
  {
   "cell_type": "code",
   "execution_count": 5,
   "metadata": {},
   "outputs": [],
   "source": [
    "del df_train['descuento']\n",
    "del df_test['descuento']"
   ]
  },
  {
   "cell_type": "code",
   "execution_count": 6,
   "metadata": {},
   "outputs": [],
   "source": [
    "df_train_replaced=df_train.copy()\n",
    "imputer=impute.SimpleImputer(strategy=\"most_frequent\")\n",
    "values = imputer.fit_transform([df_train_replaced.asientos.values])\n",
    "df_train_replaced.asientos.update(pd.Series(values[0]))"
   ]
  },
  {
   "cell_type": "code",
   "execution_count": 7,
   "metadata": {},
   "outputs": [],
   "source": [
    "df_train_replaced=df_train_replaced.dropna()\n",
    "df_train=df_train.dropna()"
   ]
  },
  {
   "cell_type": "markdown",
   "metadata": {},
   "source": [
    "Separamos el atributo a predecir del resto de atributos en el conjunto de entrenamiento."
   ]
  },
  {
   "cell_type": "code",
   "execution_count": 8,
   "metadata": {},
   "outputs": [],
   "source": [
    "cols = [col for col in df_train.columns if col not in ['precio_cat']]    \n",
    "df_train, df_train_obj= df_train[cols], df_train['precio_cat']\n",
    "df_train_replaced, df_train_obj_replaced= df_train_replaced[cols], df_train_replaced['precio_cat']"
   ]
  },
  {
   "cell_type": "markdown",
   "metadata": {},
   "source": [
    "### Normalización de los datos numéricos"
   ]
  },
  {
   "cell_type": "code",
   "execution_count": 9,
   "metadata": {},
   "outputs": [],
   "source": [
    "from sklearn.preprocessing import MinMaxScaler\n",
    "\n",
    "exc=[\"nombre\",\"ciudad\",\"combustible\",\"tipo_marchas\",\"mano\",\"consumo\",\"motor_cc\",\"potencia\",'precio_cat','id','descuento']\n",
    "cols = [col for col in df_train_orig.columns if col not in exc]  \n",
    "\n",
    "\n",
    "df_train_norm=df_train.copy()\n",
    "df_train_norm_rpl=df_train_replaced.copy()\n",
    "df_test_norm=df_test.copy()\n",
    "\n",
    "\n",
    "for atributo in cols:\n",
    "    data=pd.read_csv(\"data/\"+atributo+\".csv\")\n",
    "    data.columns = [col.lower() for col in data]\n",
    "    scaler = MinMaxScaler().fit(data.values)\n",
    "    train_values=df_train[atributo].values.reshape(-1,1)\n",
    "    df_train_norm[atributo]=scaler.transform(train_values)\n",
    "    train_values_rpl=df_train_replaced[atributo].values.reshape(-1,1)\n",
    "    df_train_norm_rpl[atributo]=scaler.transform(train_values_rpl)\n",
    "    test_values=df_test[atributo].values.reshape(-1,1)\n",
    "    df_test_norm[atributo]=scaler.transform(test_values)\n",
    "    "
   ]
  },
  {
   "cell_type": "markdown",
   "metadata": {},
   "source": [
    "### 'Transformación' de variables categóricas a binarias"
   ]
  },
  {
   "cell_type": "code",
   "execution_count": 10,
   "metadata": {},
   "outputs": [],
   "source": [
    "from sklearn.preprocessing import OneHotEncoder\n",
    "import numpy as np\n",
    "\n",
    "categorical=[\"nombre\",\"ciudad\",\"combustible\",\"tipo_marchas\",\"mano\",\"consumo\",\"motor_cc\",\"potencia\"]\n",
    "cols = [col for col in df_train.columns if col not in categorical]    \n",
    "\n",
    "df_train_num=df_train_norm.copy()\n",
    "df_train_num_rpl=df_train_norm_rpl.copy()\n",
    "df_test_num=df_test_norm.copy()\n",
    "\n",
    "df_train_num=np.array(df_train_num[cols])\n",
    "df_train_num_rpl=np.array(df_train_num_rpl[cols])\n",
    "df_test_num=np.array(df_test_num[cols])\n",
    "\n",
    "for atributo in categorical:\n",
    "    data=pd.read_csv(\"data/\"+atributo+\".csv\")\n",
    "    data.columns = [col.lower() for col in data]\n",
    "    enc = OneHotEncoder().fit(data[atributo].values.reshape(-1,1))\n",
    "\n",
    "    #Conjunto de entrenamiento con ambos preprocesamientos\n",
    "    enc_train=enc.transform(df_train[atributo].values.reshape(-1,1)).toarray()        \n",
    "    df_train_num=np.hstack((df_train_num,enc_train))\n",
    "    \n",
    "    enc_train_rpl=enc.transform(df_train_replaced[atributo].values.reshape(-1,1)).toarray()\n",
    "    df_train_num_rpl=np.hstack((df_train_num_rpl,enc_train_rpl))\n",
    "\n",
    "    \n",
    "    #Conjunto de test\n",
    "    enc_test=enc.transform(df_test[atributo].values.reshape(-1,1)).toarray()\n",
    "    df_test_num=np.hstack((df_test_num,enc_test))\n",
    "                          \n",
    "df_train_num=pd.DataFrame(df_train_num)\n",
    "df_train_num_rpl=pd.DataFrame(df_train_num_rpl)\n",
    "df_test_num=pd.DataFrame(df_test_num)"
   ]
  },
  {
   "cell_type": "markdown",
   "metadata": {},
   "source": [
    "Eliminamos las columnas que son todo nula."
   ]
  },
  {
   "cell_type": "code",
   "execution_count": 11,
   "metadata": {},
   "outputs": [],
   "source": [
    "cols = [col for col in df_train_num.columns if df_train_num[col].max()!=0.0]\n",
    "df_train_num=df_train_num[cols]\n",
    "df_test_num=df_test_num[cols]\n",
    "df_train_num_rpl=df_train_num_rpl[cols]"
   ]
  },
  {
   "cell_type": "code",
   "execution_count": 12,
   "metadata": {},
   "outputs": [
    {
     "name": "stdout",
     "output_type": "stream",
     "text": [
      "<class 'pandas.core.frame.DataFrame'>\n",
      "RangeIndex: 4001 entries, 0 to 4000\n",
      "Columns: 2387 entries, 0 to 2847\n",
      "dtypes: float64(2387)\n",
      "memory usage: 72.9 MB\n"
     ]
    }
   ],
   "source": [
    "df_train_num.info()"
   ]
  },
  {
   "cell_type": "markdown",
   "metadata": {},
   "source": [
    "### Oversampling"
   ]
  },
  {
   "cell_type": "code",
   "execution_count": 13,
   "metadata": {},
   "outputs": [
    {
     "data": {
      "text/plain": [
       "Counter({3: 1825, 2: 502, 4: 834, 5: 637, 1: 1825})"
      ]
     },
     "execution_count": 13,
     "metadata": {},
     "output_type": "execute_result"
    }
   ],
   "source": [
    "from imblearn.over_sampling import SMOTE\n",
    "from collections import Counter\n",
    "smote=SMOTE(random_state=10,sampling_strategy='minority')\n",
    "df_train_over, df_train_obj_over = smote.fit_resample(df_train_num, df_train_obj)\n",
    "df_train_over_rpl, df_train_obj_over_rpl = smote.fit_resample(df_train_num_rpl, df_train_obj_replaced)\n",
    "Counter(df_train_obj_over)"
   ]
  },
  {
   "cell_type": "markdown",
   "metadata": {},
   "source": [
    "## Aplicación de los algoritmos"
   ]
  },
  {
   "cell_type": "code",
   "execution_count": 14,
   "metadata": {},
   "outputs": [],
   "source": [
    "import numpy as np\n",
    "\n",
    "from sklearn.model_selection import cross_val_score\n",
    "\n",
    "def cross_validation(clf,x,y,mostrar=False):\n",
    "    scores=cross_val_score(clf,x,y,scoring='accuracy',cv=5)\n",
    "    accuracy=np.mean(scores)  \n",
    "    if mostrar:\n",
    "        print(\"Accuracy: \", accuracy)\n",
    "    return accuracy"
   ]
  },
  {
   "cell_type": "code",
   "execution_count": 15,
   "metadata": {},
   "outputs": [
    {
     "name": "stdout",
     "output_type": "stream",
     "text": [
      "LinearSVC(random_state=10)\n",
      "Accuracy:  0.8253633847370502\n",
      "KNeighborsClassifier()\n",
      "Accuracy:  0.7805488335310399\n",
      "DecisionTreeClassifier(random_state=10)\n",
      "Accuracy:  0.8258990905496244\n",
      "RandomForestClassifier(random_state=10)\n",
      "Accuracy:  0.8557738236457098\n",
      "MLPClassifier(max_iter=10000, random_state=10)\n",
      "Accuracy:  0.8445684460260973\n",
      "ExtraTreesClassifier(random_state=10)\n",
      "Accuracy:  0.8483058916567814\n",
      "GradientBoostingClassifier(max_features='auto', random_state=10)\n",
      "Accuracy:  0.8216291024120205\n"
     ]
    }
   ],
   "source": [
    "from sklearn.svm import LinearSVC\n",
    "from sklearn.neighbors import KNeighborsClassifier\n",
    "from sklearn.tree import DecisionTreeClassifier\n",
    "from sklearn.ensemble import RandomForestClassifier,ExtraTreesClassifier,GradientBoostingClassifier\n",
    "from sklearn.neural_network import MLPClassifier\n",
    "\n",
    "\n",
    "extra=ExtraTreesClassifier(random_state=10)\n",
    "gradient=GradientBoostingClassifier(random_state=10,max_features='auto')\n",
    "svc=LinearSVC(random_state=10)\n",
    "knn=KNeighborsClassifier()\n",
    "tree=DecisionTreeClassifier(random_state=10)\n",
    "forest=RandomForestClassifier(random_state=10)\n",
    "NN=MLPClassifier(random_state=10,max_iter=10000)\n",
    "\n",
    "clfs=[svc,knn,tree,forest,NN,extra,gradient]\n",
    "for clf in clfs:\n",
    "    print(clf)\n",
    "    cross_validation(clf, df_train_over, df_train_obj_over,True)"
   ]
  },
  {
   "cell_type": "markdown",
   "metadata": {},
   "source": [
    "### Stacking"
   ]
  },
  {
   "cell_type": "code",
   "execution_count": 16,
   "metadata": {},
   "outputs": [
    {
     "name": "stdout",
     "output_type": "stream",
     "text": [
      "Accuracy:  0.8753361803084223\n"
     ]
    },
    {
     "data": {
      "text/plain": [
       "0.8753361803084223"
      ]
     },
     "execution_count": 16,
     "metadata": {},
     "output_type": "execute_result"
    }
   ],
   "source": [
    "from sklearn.ensemble import StackingClassifier\n",
    "\n",
    "extra=ExtraTreesClassifier(random_state=10)\n",
    "gradient=GradientBoostingClassifier(random_state=10,max_features='auto')\n",
    "svc=LinearSVC(random_state=10)\n",
    "knn=KNeighborsClassifier()\n",
    "tree=DecisionTreeClassifier(random_state=10)\n",
    "forest=RandomForestClassifier(random_state=10)\n",
    "NN=MLPClassifier(random_state=10,max_iter=10000)\n",
    "\n",
    "\n",
    "estimators = [('Linear SVC', svc),\n",
    "     ('forest', forest),('extra_trees', extra),('Red Neuronal',NN),('decision tree',tree)]\n",
    "\n",
    "clf = StackingClassifier(estimators=estimators, final_estimator=forest,cv=5,n_jobs=6)\n",
    "cross_validation(clf, df_train_over, df_train_obj_over,True)"
   ]
  },
  {
   "cell_type": "code",
   "execution_count": 17,
   "metadata": {},
   "outputs": [
    {
     "name": "stdout",
     "output_type": "stream",
     "text": [
      "Accuracy:  0.8703582443653618\n"
     ]
    },
    {
     "data": {
      "text/plain": [
       "0.8703582443653618"
      ]
     },
     "execution_count": 17,
     "metadata": {},
     "output_type": "execute_result"
    }
   ],
   "source": [
    "estimators = [('forest', forest),('extra_trees', extra),('Red Neuronal',NN),('decision tree',tree)]\n",
    "\n",
    "clf = StackingClassifier(estimators=estimators, final_estimator=forest,cv=5,n_jobs=6)\n",
    "cross_validation(clf, df_train_over, df_train_obj_over,True)"
   ]
  },
  {
   "cell_type": "code",
   "execution_count": 18,
   "metadata": {},
   "outputs": [
    {
     "name": "stdout",
     "output_type": "stream",
     "text": [
      "Accuracy:  0.8703582443653618\n"
     ]
    },
    {
     "data": {
      "text/plain": [
       "0.8703582443653618"
      ]
     },
     "execution_count": 18,
     "metadata": {},
     "output_type": "execute_result"
    }
   ],
   "source": [
    "vestimators = [ ('forest', forest),('Red Neuronal',NN),('decision tree',tree)]\n",
    "\n",
    "clf = StackingClassifier(estimators=estimators, final_estimator=forest,cv=5,n_jobs=6)\n",
    "cross_validation(clf, df_train_over, df_train_obj_over,True)"
   ]
  },
  {
   "cell_type": "code",
   "execution_count": 19,
   "metadata": {},
   "outputs": [
    {
     "name": "stdout",
     "output_type": "stream",
     "text": [
      "Accuracy:  0.8787131672597864\n"
     ]
    },
    {
     "data": {
      "text/plain": [
       "0.8787131672597864"
      ]
     },
     "execution_count": 19,
     "metadata": {},
     "output_type": "execute_result"
    }
   ],
   "source": [
    "estimators = [('Linear SVC', svc),('gradient',gradient),\n",
    "     ('forest', forest),('extra_trees', extra),('Red Neuronal',NN),('decision tree',tree)]\n",
    "\n",
    "clf = StackingClassifier(estimators=estimators, final_estimator=forest,cv=5,n_jobs=6)\n",
    "cross_validation(clf, df_train_over, df_train_obj_over,True) "
   ]
  },
  {
   "cell_type": "markdown",
   "metadata": {},
   "source": [
    "### Aplicación al conjunto de test"
   ]
  },
  {
   "cell_type": "markdown",
   "metadata": {},
   "source": [
    "#### Entrega 13"
   ]
  },
  {
   "cell_type": "code",
   "execution_count": 20,
   "metadata": {},
   "outputs": [
    {
     "name": "stdout",
     "output_type": "stream",
     "text": [
      "Accuracy:  0.8788909450375643\n"
     ]
    }
   ],
   "source": [
    "extra=ExtraTreesClassifier(random_state=10)\n",
    "gradient=GradientBoostingClassifier(random_state=10,max_features='auto')\n",
    "svc=LinearSVC(random_state=10)\n",
    "tree=DecisionTreeClassifier(random_state=10)\n",
    "forest=RandomForestClassifier(random_state=10)\n",
    "NN=MLPClassifier(random_state=10,max_iter=10000)\n",
    "\n",
    "\n",
    "estimators = [('Linear SVC', svc),('gradient',gradient),\n",
    "     ('forest', forest),('extra_trees', extra),('Red Neuronal',NN),('decision tree',tree)]\n",
    "\n",
    "clf = StackingClassifier(estimators=estimators, final_estimator=forest,cv=5,n_jobs=6)\n",
    "cross_validation(clf, df_train_over, df_train_obj_over,True) \n",
    "clf.fit(df_train_over,df_train_obj_over)\n",
    "pred=clf.predict(df_test_num)\n",
    "ids=df_test_orig[\"id\"]\n",
    "\n",
    "df_result = pd.DataFrame({'id': ids, 'Precio_cat': pred})\n",
    "df_result.to_csv(\"resultados_13.csv\", index=False)"
   ]
  }
 ],
 "metadata": {
  "kernelspec": {
   "display_name": "Python 3",
   "language": "python",
   "name": "python3"
  },
  "language_info": {
   "codemirror_mode": {
    "name": "ipython",
    "version": 3
   },
   "file_extension": ".py",
   "mimetype": "text/x-python",
   "name": "python",
   "nbconvert_exporter": "python",
   "pygments_lexer": "ipython3",
   "version": "3.8.5"
  }
 },
 "nbformat": 4,
 "nbformat_minor": 4
}
