{
 "cells": [
  {
   "cell_type": "markdown",
   "metadata": {},
   "source": [
    "# Práctica 1: Resolución de problemas de clasificación y análisis experimental\n",
    "\n",
    "### Pilar Navarro Ramírez\n",
    "\n",
    "\n"
   ]
  },
  {
   "cell_type": "code",
   "execution_count": 3,
   "metadata": {},
   "outputs": [],
   "source": [
    "import pandas as pd"
   ]
  },
  {
   "cell_type": "markdown",
   "metadata": {},
   "source": [
    "Leemos el fichero con los datos que vamos a estudiar, indicado que los valores con '?' son valores perdidos"
   ]
  },
  {
   "cell_type": "code",
   "execution_count": 4,
   "metadata": {},
   "outputs": [],
   "source": [
    "raw_data=pd.read_csv(\"mamografias.csv\",na_values=[\"?\"])"
   ]
  },
  {
   "cell_type": "code",
   "execution_count": 5,
   "metadata": {},
   "outputs": [
    {
     "data": {
      "text/html": [
       "<div>\n",
       "<style scoped>\n",
       "    .dataframe tbody tr th:only-of-type {\n",
       "        vertical-align: middle;\n",
       "    }\n",
       "\n",
       "    .dataframe tbody tr th {\n",
       "        vertical-align: top;\n",
       "    }\n",
       "\n",
       "    .dataframe thead th {\n",
       "        text-align: right;\n",
       "    }\n",
       "</style>\n",
       "<table border=\"1\" class=\"dataframe\">\n",
       "  <thead>\n",
       "    <tr style=\"text-align: right;\">\n",
       "      <th></th>\n",
       "      <th>BI-RADS</th>\n",
       "      <th>Age</th>\n",
       "      <th>Shape</th>\n",
       "      <th>Margin</th>\n",
       "      <th>Density</th>\n",
       "      <th>Severity</th>\n",
       "    </tr>\n",
       "  </thead>\n",
       "  <tbody>\n",
       "    <tr>\n",
       "      <th>0</th>\n",
       "      <td>5.0</td>\n",
       "      <td>67.0</td>\n",
       "      <td>L</td>\n",
       "      <td>5.0</td>\n",
       "      <td>3.0</td>\n",
       "      <td>maligno</td>\n",
       "    </tr>\n",
       "    <tr>\n",
       "      <th>1</th>\n",
       "      <td>4.0</td>\n",
       "      <td>43.0</td>\n",
       "      <td>R</td>\n",
       "      <td>1.0</td>\n",
       "      <td>NaN</td>\n",
       "      <td>maligno</td>\n",
       "    </tr>\n",
       "    <tr>\n",
       "      <th>2</th>\n",
       "      <td>5.0</td>\n",
       "      <td>58.0</td>\n",
       "      <td>I</td>\n",
       "      <td>5.0</td>\n",
       "      <td>3.0</td>\n",
       "      <td>maligno</td>\n",
       "    </tr>\n",
       "    <tr>\n",
       "      <th>3</th>\n",
       "      <td>4.0</td>\n",
       "      <td>28.0</td>\n",
       "      <td>R</td>\n",
       "      <td>1.0</td>\n",
       "      <td>3.0</td>\n",
       "      <td>benigno</td>\n",
       "    </tr>\n",
       "    <tr>\n",
       "      <th>4</th>\n",
       "      <td>5.0</td>\n",
       "      <td>74.0</td>\n",
       "      <td>R</td>\n",
       "      <td>5.0</td>\n",
       "      <td>NaN</td>\n",
       "      <td>maligno</td>\n",
       "    </tr>\n",
       "  </tbody>\n",
       "</table>\n",
       "</div>"
      ],
      "text/plain": [
       "   BI-RADS   Age Shape  Margin  Density Severity\n",
       "0      5.0  67.0     L     5.0      3.0  maligno\n",
       "1      4.0  43.0     R     1.0      NaN  maligno\n",
       "2      5.0  58.0     I     5.0      3.0  maligno\n",
       "3      4.0  28.0     R     1.0      3.0  benigno\n",
       "4      5.0  74.0     R     5.0      NaN  maligno"
      ]
     },
     "execution_count": 5,
     "metadata": {},
     "output_type": "execute_result"
    }
   ],
   "source": [
    "raw_data.head()"
   ]
  },
  {
   "cell_type": "code",
   "execution_count": 6,
   "metadata": {},
   "outputs": [
    {
     "name": "stdout",
     "output_type": "stream",
     "text": [
      "<class 'pandas.core.frame.DataFrame'>\n",
      "RangeIndex: 961 entries, 0 to 960\n",
      "Data columns (total 6 columns):\n",
      " #   Column    Non-Null Count  Dtype  \n",
      "---  ------    --------------  -----  \n",
      " 0   BI-RADS   959 non-null    float64\n",
      " 1   Age       956 non-null    float64\n",
      " 2   Shape     961 non-null    object \n",
      " 3   Margin    913 non-null    float64\n",
      " 4   Density   885 non-null    float64\n",
      " 5   Severity  961 non-null    object \n",
      "dtypes: float64(4), object(2)\n",
      "memory usage: 45.2+ KB\n"
     ]
    }
   ],
   "source": [
    "raw_data.info()"
   ]
  },
  {
   "cell_type": "code",
   "execution_count": 7,
   "metadata": {},
   "outputs": [
    {
     "data": {
      "text/plain": [
       "(961, 6)"
      ]
     },
     "execution_count": 7,
     "metadata": {},
     "output_type": "execute_result"
    }
   ],
   "source": [
    "raw_data.shape"
   ]
  },
  {
   "cell_type": "code",
   "execution_count": 8,
   "metadata": {},
   "outputs": [
    {
     "data": {
      "text/html": [
       "<div>\n",
       "<style scoped>\n",
       "    .dataframe tbody tr th:only-of-type {\n",
       "        vertical-align: middle;\n",
       "    }\n",
       "\n",
       "    .dataframe tbody tr th {\n",
       "        vertical-align: top;\n",
       "    }\n",
       "\n",
       "    .dataframe thead th {\n",
       "        text-align: right;\n",
       "    }\n",
       "</style>\n",
       "<table border=\"1\" class=\"dataframe\">\n",
       "  <thead>\n",
       "    <tr style=\"text-align: right;\">\n",
       "      <th></th>\n",
       "      <th>BI-RADS</th>\n",
       "      <th>Age</th>\n",
       "      <th>Margin</th>\n",
       "      <th>Density</th>\n",
       "    </tr>\n",
       "  </thead>\n",
       "  <tbody>\n",
       "    <tr>\n",
       "      <th>count</th>\n",
       "      <td>959.000000</td>\n",
       "      <td>956.000000</td>\n",
       "      <td>913.000000</td>\n",
       "      <td>885.000000</td>\n",
       "    </tr>\n",
       "    <tr>\n",
       "      <th>mean</th>\n",
       "      <td>4.296142</td>\n",
       "      <td>55.487448</td>\n",
       "      <td>2.796276</td>\n",
       "      <td>2.910734</td>\n",
       "    </tr>\n",
       "    <tr>\n",
       "      <th>std</th>\n",
       "      <td>0.706291</td>\n",
       "      <td>14.480131</td>\n",
       "      <td>1.566546</td>\n",
       "      <td>0.380444</td>\n",
       "    </tr>\n",
       "    <tr>\n",
       "      <th>min</th>\n",
       "      <td>0.000000</td>\n",
       "      <td>18.000000</td>\n",
       "      <td>1.000000</td>\n",
       "      <td>1.000000</td>\n",
       "    </tr>\n",
       "    <tr>\n",
       "      <th>25%</th>\n",
       "      <td>4.000000</td>\n",
       "      <td>45.000000</td>\n",
       "      <td>1.000000</td>\n",
       "      <td>3.000000</td>\n",
       "    </tr>\n",
       "    <tr>\n",
       "      <th>50%</th>\n",
       "      <td>4.000000</td>\n",
       "      <td>57.000000</td>\n",
       "      <td>3.000000</td>\n",
       "      <td>3.000000</td>\n",
       "    </tr>\n",
       "    <tr>\n",
       "      <th>75%</th>\n",
       "      <td>5.000000</td>\n",
       "      <td>66.000000</td>\n",
       "      <td>4.000000</td>\n",
       "      <td>3.000000</td>\n",
       "    </tr>\n",
       "    <tr>\n",
       "      <th>max</th>\n",
       "      <td>6.000000</td>\n",
       "      <td>96.000000</td>\n",
       "      <td>5.000000</td>\n",
       "      <td>4.000000</td>\n",
       "    </tr>\n",
       "  </tbody>\n",
       "</table>\n",
       "</div>"
      ],
      "text/plain": [
       "          BI-RADS         Age      Margin     Density\n",
       "count  959.000000  956.000000  913.000000  885.000000\n",
       "mean     4.296142   55.487448    2.796276    2.910734\n",
       "std      0.706291   14.480131    1.566546    0.380444\n",
       "min      0.000000   18.000000    1.000000    1.000000\n",
       "25%      4.000000   45.000000    1.000000    3.000000\n",
       "50%      4.000000   57.000000    3.000000    3.000000\n",
       "75%      5.000000   66.000000    4.000000    3.000000\n",
       "max      6.000000   96.000000    5.000000    4.000000"
      ]
     },
     "execution_count": 8,
     "metadata": {},
     "output_type": "execute_result"
    }
   ],
   "source": [
    "raw_data.describe()"
   ]
  },
  {
   "cell_type": "code",
   "execution_count": 9,
   "metadata": {},
   "outputs": [],
   "source": [
    "raw_data.columns = [col.lower() for col in raw_data]"
   ]
  },
  {
   "cell_type": "code",
   "execution_count": 10,
   "metadata": {},
   "outputs": [
    {
     "data": {
      "text/plain": [
       "count     961\n",
       "unique      5\n",
       "top         I\n",
       "freq      400\n",
       "Name: shape, dtype: object"
      ]
     },
     "execution_count": 10,
     "metadata": {},
     "output_type": "execute_result"
    }
   ],
   "source": [
    "raw_data['shape'].describe()"
   ]
  },
  {
   "cell_type": "code",
   "execution_count": 11,
   "metadata": {},
   "outputs": [
    {
     "data": {
      "text/plain": [
       "count         961\n",
       "unique          2\n",
       "top       benigno\n",
       "freq          516\n",
       "Name: severity, dtype: object"
      ]
     },
     "execution_count": 11,
     "metadata": {},
     "output_type": "execute_result"
    }
   ],
   "source": [
    "raw_data['severity'].describe()"
   ]
  },
  {
   "cell_type": "markdown",
   "metadata": {},
   "source": [
    "## 1. Preprocesamiento de los Datos"
   ]
  },
  {
   "cell_type": "markdown",
   "metadata": {},
   "source": [
    "Transformamos los atributos de tipo cadena en valores numéricos:  "
   ]
  },
  {
   "cell_type": "code",
   "execution_count": 12,
   "metadata": {},
   "outputs": [],
   "source": [
    "from sklearn import preprocessing\n",
    "\n",
    "le=preprocessing.LabelEncoder()\n",
    "\n",
    "numeric_data=raw_data.copy()\n",
    "\n",
    "numeric_data['shape']=le.fit_transform(raw_data['shape'])\n",
    "numeric_data['severity']=le.fit_transform(raw_data['severity'])\n"
   ]
  },
  {
   "cell_type": "code",
   "execution_count": 116,
   "metadata": {
    "scrolled": true
   },
   "outputs": [
    {
     "data": {
      "text/html": [
       "<div>\n",
       "<style scoped>\n",
       "    .dataframe tbody tr th:only-of-type {\n",
       "        vertical-align: middle;\n",
       "    }\n",
       "\n",
       "    .dataframe tbody tr th {\n",
       "        vertical-align: top;\n",
       "    }\n",
       "\n",
       "    .dataframe thead th {\n",
       "        text-align: right;\n",
       "    }\n",
       "</style>\n",
       "<table border=\"1\" class=\"dataframe\">\n",
       "  <thead>\n",
       "    <tr style=\"text-align: right;\">\n",
       "      <th></th>\n",
       "      <th>bi-rads</th>\n",
       "      <th>age</th>\n",
       "      <th>shape</th>\n",
       "      <th>margin</th>\n",
       "      <th>density</th>\n",
       "      <th>severity</th>\n",
       "    </tr>\n",
       "  </thead>\n",
       "  <tbody>\n",
       "    <tr>\n",
       "      <th>0</th>\n",
       "      <td>5.0</td>\n",
       "      <td>67.0</td>\n",
       "      <td>1</td>\n",
       "      <td>5.0</td>\n",
       "      <td>3.0</td>\n",
       "      <td>1</td>\n",
       "    </tr>\n",
       "    <tr>\n",
       "      <th>1</th>\n",
       "      <td>4.0</td>\n",
       "      <td>43.0</td>\n",
       "      <td>4</td>\n",
       "      <td>1.0</td>\n",
       "      <td>NaN</td>\n",
       "      <td>1</td>\n",
       "    </tr>\n",
       "    <tr>\n",
       "      <th>2</th>\n",
       "      <td>5.0</td>\n",
       "      <td>58.0</td>\n",
       "      <td>0</td>\n",
       "      <td>5.0</td>\n",
       "      <td>3.0</td>\n",
       "      <td>1</td>\n",
       "    </tr>\n",
       "    <tr>\n",
       "      <th>3</th>\n",
       "      <td>4.0</td>\n",
       "      <td>28.0</td>\n",
       "      <td>4</td>\n",
       "      <td>1.0</td>\n",
       "      <td>3.0</td>\n",
       "      <td>0</td>\n",
       "    </tr>\n",
       "    <tr>\n",
       "      <th>4</th>\n",
       "      <td>5.0</td>\n",
       "      <td>74.0</td>\n",
       "      <td>4</td>\n",
       "      <td>5.0</td>\n",
       "      <td>NaN</td>\n",
       "      <td>1</td>\n",
       "    </tr>\n",
       "  </tbody>\n",
       "</table>\n",
       "</div>"
      ],
      "text/plain": [
       "   bi-rads   age  shape  margin  density  severity\n",
       "0      5.0  67.0      1     5.0      3.0         1\n",
       "1      4.0  43.0      4     1.0      NaN         1\n",
       "2      5.0  58.0      0     5.0      3.0         1\n",
       "3      4.0  28.0      4     1.0      3.0         0\n",
       "4      5.0  74.0      4     5.0      NaN         1"
      ]
     },
     "execution_count": 116,
     "metadata": {},
     "output_type": "execute_result"
    }
   ],
   "source": [
    "numeric_data.head()"
   ]
  },
  {
   "cell_type": "code",
   "execution_count": 14,
   "metadata": {},
   "outputs": [
    {
     "data": {
      "text/html": [
       "<div>\n",
       "<style scoped>\n",
       "    .dataframe tbody tr th:only-of-type {\n",
       "        vertical-align: middle;\n",
       "    }\n",
       "\n",
       "    .dataframe tbody tr th {\n",
       "        vertical-align: top;\n",
       "    }\n",
       "\n",
       "    .dataframe thead th {\n",
       "        text-align: right;\n",
       "    }\n",
       "</style>\n",
       "<table border=\"1\" class=\"dataframe\">\n",
       "  <thead>\n",
       "    <tr style=\"text-align: right;\">\n",
       "      <th></th>\n",
       "      <th>bi-rads</th>\n",
       "      <th>age</th>\n",
       "      <th>shape</th>\n",
       "      <th>margin</th>\n",
       "      <th>density</th>\n",
       "      <th>severity</th>\n",
       "    </tr>\n",
       "  </thead>\n",
       "  <tbody>\n",
       "    <tr>\n",
       "      <th>count</th>\n",
       "      <td>959.000000</td>\n",
       "      <td>956.000000</td>\n",
       "      <td>961.000000</td>\n",
       "      <td>913.000000</td>\n",
       "      <td>885.000000</td>\n",
       "      <td>961.000000</td>\n",
       "    </tr>\n",
       "    <tr>\n",
       "      <th>mean</th>\n",
       "      <td>4.296142</td>\n",
       "      <td>55.487448</td>\n",
       "      <td>1.754422</td>\n",
       "      <td>2.796276</td>\n",
       "      <td>2.910734</td>\n",
       "      <td>0.463059</td>\n",
       "    </tr>\n",
       "    <tr>\n",
       "      <th>std</th>\n",
       "      <td>0.706291</td>\n",
       "      <td>14.480131</td>\n",
       "      <td>1.690674</td>\n",
       "      <td>1.566546</td>\n",
       "      <td>0.380444</td>\n",
       "      <td>0.498893</td>\n",
       "    </tr>\n",
       "    <tr>\n",
       "      <th>min</th>\n",
       "      <td>0.000000</td>\n",
       "      <td>18.000000</td>\n",
       "      <td>0.000000</td>\n",
       "      <td>1.000000</td>\n",
       "      <td>1.000000</td>\n",
       "      <td>0.000000</td>\n",
       "    </tr>\n",
       "    <tr>\n",
       "      <th>25%</th>\n",
       "      <td>4.000000</td>\n",
       "      <td>45.000000</td>\n",
       "      <td>0.000000</td>\n",
       "      <td>1.000000</td>\n",
       "      <td>3.000000</td>\n",
       "      <td>0.000000</td>\n",
       "    </tr>\n",
       "    <tr>\n",
       "      <th>50%</th>\n",
       "      <td>4.000000</td>\n",
       "      <td>57.000000</td>\n",
       "      <td>1.000000</td>\n",
       "      <td>3.000000</td>\n",
       "      <td>3.000000</td>\n",
       "      <td>0.000000</td>\n",
       "    </tr>\n",
       "    <tr>\n",
       "      <th>75%</th>\n",
       "      <td>5.000000</td>\n",
       "      <td>66.000000</td>\n",
       "      <td>3.000000</td>\n",
       "      <td>4.000000</td>\n",
       "      <td>3.000000</td>\n",
       "      <td>1.000000</td>\n",
       "    </tr>\n",
       "    <tr>\n",
       "      <th>max</th>\n",
       "      <td>6.000000</td>\n",
       "      <td>96.000000</td>\n",
       "      <td>4.000000</td>\n",
       "      <td>5.000000</td>\n",
       "      <td>4.000000</td>\n",
       "      <td>1.000000</td>\n",
       "    </tr>\n",
       "  </tbody>\n",
       "</table>\n",
       "</div>"
      ],
      "text/plain": [
       "          bi-rads         age       shape      margin     density    severity\n",
       "count  959.000000  956.000000  961.000000  913.000000  885.000000  961.000000\n",
       "mean     4.296142   55.487448    1.754422    2.796276    2.910734    0.463059\n",
       "std      0.706291   14.480131    1.690674    1.566546    0.380444    0.498893\n",
       "min      0.000000   18.000000    0.000000    1.000000    1.000000    0.000000\n",
       "25%      4.000000   45.000000    0.000000    1.000000    3.000000    0.000000\n",
       "50%      4.000000   57.000000    1.000000    3.000000    3.000000    0.000000\n",
       "75%      5.000000   66.000000    3.000000    4.000000    3.000000    1.000000\n",
       "max      6.000000   96.000000    4.000000    5.000000    4.000000    1.000000"
      ]
     },
     "execution_count": 14,
     "metadata": {},
     "output_type": "execute_result"
    }
   ],
   "source": [
    "numeric_data.describe()"
   ]
  },
  {
   "cell_type": "markdown",
   "metadata": {},
   "source": [
    "### Valores perdidos"
   ]
  },
  {
   "cell_type": "markdown",
   "metadata": {},
   "source": [
    "Tratamos ahora con los valores perdidos. Para ello probamos un par opciones que se indican a continuación."
   ]
  },
  {
   "cell_type": "markdown",
   "metadata": {},
   "source": [
    "**Borrado de columnas**\n",
    "\n",
    "Empezamos probando la opción más fácil que es eliminar las filas que tengan valores perdidos."
   ]
  },
  {
   "cell_type": "code",
   "execution_count": 15,
   "metadata": {},
   "outputs": [],
   "source": [
    "less_data=numeric_data.copy()\n",
    "less_data=less_data.dropna()"
   ]
  },
  {
   "cell_type": "code",
   "execution_count": 16,
   "metadata": {},
   "outputs": [
    {
     "data": {
      "text/plain": [
       "bi-rads     437\n",
       "age         437\n",
       "shape       437\n",
       "margin      437\n",
       "density     437\n",
       "severity    437\n",
       "dtype: int64"
      ]
     },
     "execution_count": 16,
     "metadata": {},
     "output_type": "execute_result"
    }
   ],
   "source": [
    "less_data[(less_data['severity']==0)].count()"
   ]
  },
  {
   "cell_type": "code",
   "execution_count": 17,
   "metadata": {},
   "outputs": [
    {
     "data": {
      "text/plain": [
       "bi-rads     847\n",
       "age         847\n",
       "shape       847\n",
       "margin      847\n",
       "density     847\n",
       "severity    847\n",
       "dtype: int64"
      ]
     },
     "execution_count": 17,
     "metadata": {},
     "output_type": "execute_result"
    }
   ],
   "source": [
    "less_data.count()"
   ]
  },
  {
   "cell_type": "markdown",
   "metadata": {},
   "source": [
    "Perdemos algunos datos de entrenamiento, pero nos quitamos de problemas con los valores perdidos y la diferencia de los valores estadísticos es muy pequeña. Sólo cambia ligeramente la media y la desviación típica. "
   ]
  },
  {
   "cell_type": "markdown",
   "metadata": {},
   "source": [
    "**Reemplazar valores perdidos por el valor más frecuente**"
   ]
  },
  {
   "cell_type": "markdown",
   "metadata": {},
   "source": [
    "Sustituimos ahora los valores perdidos por el valor más fecuente en la columna afectada."
   ]
  },
  {
   "cell_type": "code",
   "execution_count": 18,
   "metadata": {},
   "outputs": [],
   "source": [
    "from sklearn import impute"
   ]
  },
  {
   "cell_type": "code",
   "execution_count": 19,
   "metadata": {},
   "outputs": [],
   "source": [
    "imputer=impute.SimpleImputer(strategy=\"most_frequent\")"
   ]
  },
  {
   "cell_type": "code",
   "execution_count": 20,
   "metadata": {},
   "outputs": [],
   "source": [
    "replaced_data=imputer.fit_transform(numeric_data)"
   ]
  },
  {
   "cell_type": "code",
   "execution_count": 21,
   "metadata": {},
   "outputs": [
    {
     "data": {
      "text/html": [
       "<div>\n",
       "<style scoped>\n",
       "    .dataframe tbody tr th:only-of-type {\n",
       "        vertical-align: middle;\n",
       "    }\n",
       "\n",
       "    .dataframe tbody tr th {\n",
       "        vertical-align: top;\n",
       "    }\n",
       "\n",
       "    .dataframe thead th {\n",
       "        text-align: right;\n",
       "    }\n",
       "</style>\n",
       "<table border=\"1\" class=\"dataframe\">\n",
       "  <thead>\n",
       "    <tr style=\"text-align: right;\">\n",
       "      <th></th>\n",
       "      <th>bi-rads</th>\n",
       "      <th>age</th>\n",
       "      <th>shape</th>\n",
       "      <th>margin</th>\n",
       "      <th>density</th>\n",
       "      <th>severity</th>\n",
       "    </tr>\n",
       "  </thead>\n",
       "  <tbody>\n",
       "    <tr>\n",
       "      <th>count</th>\n",
       "      <td>961.000000</td>\n",
       "      <td>961.000000</td>\n",
       "      <td>961.000000</td>\n",
       "      <td>961.000000</td>\n",
       "      <td>961.000000</td>\n",
       "      <td>961.000000</td>\n",
       "    </tr>\n",
       "    <tr>\n",
       "      <th>mean</th>\n",
       "      <td>4.295525</td>\n",
       "      <td>55.505723</td>\n",
       "      <td>1.754422</td>\n",
       "      <td>2.706556</td>\n",
       "      <td>2.917794</td>\n",
       "      <td>0.463059</td>\n",
       "    </tr>\n",
       "    <tr>\n",
       "      <th>std</th>\n",
       "      <td>0.705684</td>\n",
       "      <td>14.444586</td>\n",
       "      <td>1.690674</td>\n",
       "      <td>1.576272</td>\n",
       "      <td>0.365869</td>\n",
       "      <td>0.498893</td>\n",
       "    </tr>\n",
       "    <tr>\n",
       "      <th>min</th>\n",
       "      <td>0.000000</td>\n",
       "      <td>18.000000</td>\n",
       "      <td>0.000000</td>\n",
       "      <td>1.000000</td>\n",
       "      <td>1.000000</td>\n",
       "      <td>0.000000</td>\n",
       "    </tr>\n",
       "    <tr>\n",
       "      <th>25%</th>\n",
       "      <td>4.000000</td>\n",
       "      <td>45.000000</td>\n",
       "      <td>0.000000</td>\n",
       "      <td>1.000000</td>\n",
       "      <td>3.000000</td>\n",
       "      <td>0.000000</td>\n",
       "    </tr>\n",
       "    <tr>\n",
       "      <th>50%</th>\n",
       "      <td>4.000000</td>\n",
       "      <td>57.000000</td>\n",
       "      <td>1.000000</td>\n",
       "      <td>3.000000</td>\n",
       "      <td>3.000000</td>\n",
       "      <td>0.000000</td>\n",
       "    </tr>\n",
       "    <tr>\n",
       "      <th>75%</th>\n",
       "      <td>5.000000</td>\n",
       "      <td>66.000000</td>\n",
       "      <td>3.000000</td>\n",
       "      <td>4.000000</td>\n",
       "      <td>3.000000</td>\n",
       "      <td>1.000000</td>\n",
       "    </tr>\n",
       "    <tr>\n",
       "      <th>max</th>\n",
       "      <td>6.000000</td>\n",
       "      <td>96.000000</td>\n",
       "      <td>4.000000</td>\n",
       "      <td>5.000000</td>\n",
       "      <td>4.000000</td>\n",
       "      <td>1.000000</td>\n",
       "    </tr>\n",
       "  </tbody>\n",
       "</table>\n",
       "</div>"
      ],
      "text/plain": [
       "          bi-rads         age       shape      margin     density    severity\n",
       "count  961.000000  961.000000  961.000000  961.000000  961.000000  961.000000\n",
       "mean     4.295525   55.505723    1.754422    2.706556    2.917794    0.463059\n",
       "std      0.705684   14.444586    1.690674    1.576272    0.365869    0.498893\n",
       "min      0.000000   18.000000    0.000000    1.000000    1.000000    0.000000\n",
       "25%      4.000000   45.000000    0.000000    1.000000    3.000000    0.000000\n",
       "50%      4.000000   57.000000    1.000000    3.000000    3.000000    0.000000\n",
       "75%      5.000000   66.000000    3.000000    4.000000    3.000000    1.000000\n",
       "max      6.000000   96.000000    4.000000    5.000000    4.000000    1.000000"
      ]
     },
     "execution_count": 21,
     "metadata": {},
     "output_type": "execute_result"
    }
   ],
   "source": [
    "replaced_data=pd.DataFrame(replaced_data)\n",
    "replaced_data.columns=numeric_data.columns\n",
    "\n",
    "replaced_data.describe()"
   ]
  },
  {
   "cell_type": "markdown",
   "metadata": {},
   "source": [
    "### Variables correladas"
   ]
  },
  {
   "cell_type": "markdown",
   "metadata": {},
   "source": [
    "Estudiamos ahora la correlación entre los diferentes atributos de los que disponemos."
   ]
  },
  {
   "cell_type": "code",
   "execution_count": 86,
   "metadata": {},
   "outputs": [
    {
     "data": {
      "text/html": [
       "<div>\n",
       "<style scoped>\n",
       "    .dataframe tbody tr th:only-of-type {\n",
       "        vertical-align: middle;\n",
       "    }\n",
       "\n",
       "    .dataframe tbody tr th {\n",
       "        vertical-align: top;\n",
       "    }\n",
       "\n",
       "    .dataframe thead th {\n",
       "        text-align: right;\n",
       "    }\n",
       "</style>\n",
       "<table border=\"1\" class=\"dataframe\">\n",
       "  <thead>\n",
       "    <tr style=\"text-align: right;\">\n",
       "      <th></th>\n",
       "      <th>bi-rads</th>\n",
       "      <th>age</th>\n",
       "      <th>shape</th>\n",
       "      <th>margin</th>\n",
       "      <th>density</th>\n",
       "      <th>severity</th>\n",
       "    </tr>\n",
       "  </thead>\n",
       "  <tbody>\n",
       "    <tr>\n",
       "      <th>bi-rads</th>\n",
       "      <td>1.000000</td>\n",
       "      <td>0.354125</td>\n",
       "      <td>-0.492195</td>\n",
       "      <td>0.520715</td>\n",
       "      <td>0.090118</td>\n",
       "      <td>0.616910</td>\n",
       "    </tr>\n",
       "    <tr>\n",
       "      <th>age</th>\n",
       "      <td>0.354125</td>\n",
       "      <td>1.000000</td>\n",
       "      <td>-0.351511</td>\n",
       "      <td>0.385146</td>\n",
       "      <td>0.047433</td>\n",
       "      <td>0.428576</td>\n",
       "    </tr>\n",
       "    <tr>\n",
       "      <th>shape</th>\n",
       "      <td>-0.492195</td>\n",
       "      <td>-0.351511</td>\n",
       "      <td>1.000000</td>\n",
       "      <td>-0.711305</td>\n",
       "      <td>-0.071306</td>\n",
       "      <td>-0.555479</td>\n",
       "    </tr>\n",
       "    <tr>\n",
       "      <th>margin</th>\n",
       "      <td>0.520715</td>\n",
       "      <td>0.385146</td>\n",
       "      <td>-0.711305</td>\n",
       "      <td>1.000000</td>\n",
       "      <td>0.111100</td>\n",
       "      <td>0.566320</td>\n",
       "    </tr>\n",
       "    <tr>\n",
       "      <th>density</th>\n",
       "      <td>0.090118</td>\n",
       "      <td>0.047433</td>\n",
       "      <td>-0.071306</td>\n",
       "      <td>0.111100</td>\n",
       "      <td>1.000000</td>\n",
       "      <td>0.075020</td>\n",
       "    </tr>\n",
       "    <tr>\n",
       "      <th>severity</th>\n",
       "      <td>0.616910</td>\n",
       "      <td>0.428576</td>\n",
       "      <td>-0.555479</td>\n",
       "      <td>0.566320</td>\n",
       "      <td>0.075020</td>\n",
       "      <td>1.000000</td>\n",
       "    </tr>\n",
       "  </tbody>\n",
       "</table>\n",
       "</div>"
      ],
      "text/plain": [
       "           bi-rads       age     shape    margin   density  severity\n",
       "bi-rads   1.000000  0.354125 -0.492195  0.520715  0.090118  0.616910\n",
       "age       0.354125  1.000000 -0.351511  0.385146  0.047433  0.428576\n",
       "shape    -0.492195 -0.351511  1.000000 -0.711305 -0.071306 -0.555479\n",
       "margin    0.520715  0.385146 -0.711305  1.000000  0.111100  0.566320\n",
       "density   0.090118  0.047433 -0.071306  0.111100  1.000000  0.075020\n",
       "severity  0.616910  0.428576 -0.555479  0.566320  0.075020  1.000000"
      ]
     },
     "execution_count": 86,
     "metadata": {},
     "output_type": "execute_result"
    }
   ],
   "source": [
    "numeric_data.corr(method='spearman')"
   ]
  },
  {
   "cell_type": "markdown",
   "metadata": {},
   "source": [
    "Podemos observar que los atributos *shape* y *margin* están correlacionados, pues el valor del coeficiente de correlación de Spearman es -0.711, lo cual está próximo a -1.\n",
    "\n",
    "Así pues, probamos a eliminar uno de estos atributos, por ejemplo *margin*."
   ]
  },
  {
   "cell_type": "code",
   "execution_count": 24,
   "metadata": {},
   "outputs": [
    {
     "name": "stdout",
     "output_type": "stream",
     "text": [
      "<class 'pandas.core.frame.DataFrame'>\n",
      "Int64Index: 878 entries, 0 to 960\n",
      "Data columns (total 5 columns):\n",
      " #   Column    Non-Null Count  Dtype  \n",
      "---  ------    --------------  -----  \n",
      " 0   bi-rads   878 non-null    float64\n",
      " 1   age       878 non-null    float64\n",
      " 2   shape     878 non-null    int64  \n",
      " 3   density   878 non-null    float64\n",
      " 4   severity  878 non-null    int64  \n",
      "dtypes: float64(3), int64(2)\n",
      "memory usage: 41.2 KB\n"
     ]
    }
   ],
   "source": [
    "cols = [col for col in numeric_data.columns if col not in ['margin']]    \n",
    "corr_data=numeric_data[cols]\n",
    "corr_data=corr_data.dropna()\n",
    "corr_data.info()"
   ]
  },
  {
   "cell_type": "markdown",
   "metadata": {},
   "source": [
    "### Elegir atributo a precedir"
   ]
  },
  {
   "cell_type": "markdown",
   "metadata": {},
   "source": [
    "Finalmente, para cada DataFrame resultante del preprocesado, vamos a seleccionar el atributo que queremos predecir(target) y separarlo del resto de atributos, los cuales usaremos para predecir dicho atributo (en nuestro caso sería 'severity')"
   ]
  },
  {
   "cell_type": "code",
   "execution_count": 26,
   "metadata": {},
   "outputs": [],
   "source": [
    "def splitData(data):\n",
    "    cols = [col for col in data.columns if col not in ['severity']]    \n",
    "    return data[cols], data['severity']\n",
    "   \n",
    "less_attributes,less_target=splitData(less_data)\n",
    "replaced_attributes,replaced_target =splitData(replaced_data)\n",
    "corr_attributes,corr_target=splitData(corr_data)"
   ]
  },
  {
   "cell_type": "markdown",
   "metadata": {},
   "source": [
    "## 2. Configuración de algoritmos"
   ]
  },
  {
   "cell_type": "markdown",
   "metadata": {},
   "source": [
    "En todos los casos usaremos la validación cruzada con k=5 para dividir el conjunto de datos en el conjunto de entrenamiendo y el conjunto de test. Para ello, recurrimos a la función *Kfold* de sklearn."
   ]
  },
  {
   "cell_type": "code",
   "execution_count": 27,
   "metadata": {},
   "outputs": [],
   "source": [
    "import numpy as np\n",
    "from sklearn.model_selection import KFold\n",
    "from sklearn.metrics import accuracy_score, confusion_matrix, roc_auc_score, f1_score\n",
    "import matplotlib.pyplot as plt"
   ]
  },
  {
   "cell_type": "code",
   "execution_count": 28,
   "metadata": {},
   "outputs": [],
   "source": [
    "'''\n",
    "Función genérica para resolver el problema de clasificación.\n",
    "Muestra por pantalla los resultados de las métricas de \n",
    "evaluación tras entrenar el modelo y predecir las clases sobre el \n",
    "conjunto de datos de test\n",
    "    \n",
    "    X -> Conjunto de atributos que se usarán para predecir la clases\n",
    "    Y -> Etiquetas de las clases\n",
    "    clf -> Clasificador que se usará para resolver el problema \n",
    "    \n",
    "    No devuelve nada \n",
    "   \n",
    "'''\n",
    "\n",
    "def clasificacion(X,Y,clf):\n",
    "    kf=KFold(n_splits=5,shuffle=True,random_state=100)\n",
    "\n",
    "    f1,auc,accuracy=0,0,0\n",
    "    cm=np.zeros((2,2))\n",
    "\n",
    "    for train_index, test_index in kf.split(X):\n",
    "        #print(\"TRAIN:\", train_index, \"TEST:\", test_index)\n",
    "        x_train, x_test = X.iloc[train_index], X.iloc[test_index]\n",
    "        y_train, y_test = Y.iloc[train_index], Y.iloc[test_index]\n",
    "\n",
    "        clf.fit(x_train, y_train)\n",
    "        pred=clf.predict(x_test)\n",
    "\n",
    "        auc=auc+roc_auc_score(y_test,pred)\n",
    "\n",
    "        accuracy=accuracy+accuracy_score(y_test, pred, normalize=True)\n",
    "        f1=f1+f1_score(y_test, pred)\n",
    "        cm=cm+confusion_matrix(y_test,pred,normalize='true')\n",
    "\n",
    "    print(\"Precisión: \", accuracy/5)\n",
    "    print(\"AUC: \", auc/5)\n",
    "    print(\"F1-score: \",f1/5)\n",
    "    print(\"Confusion Matrix:\\n \", cm/5)"
   ]
  },
  {
   "cell_type": "markdown",
   "metadata": {},
   "source": [
    "### Linear SVC"
   ]
  },
  {
   "cell_type": "code",
   "execution_count": 29,
   "metadata": {},
   "outputs": [],
   "source": [
    "from sklearn.svm import LinearSVC\n",
    "\n",
    "def svm(X,Y,C=1.0,class_weight=None,max_iter=1000):\n",
    "    clf=LinearSVC(C=C,class_weight=class_weight,random_state=10,max_iter=max_iter)\n",
    "    clasificacion(X,Y,clf)"
   ]
  },
  {
   "cell_type": "markdown",
   "metadata": {},
   "source": [
    "Determinar cuales de los datos preprocesados es mejor."
   ]
  },
  {
   "cell_type": "code",
   "execution_count": 479,
   "metadata": {},
   "outputs": [
    {
     "name": "stdout",
     "output_type": "stream",
     "text": [
      "Linear Support Vector Classification\n",
      "Datos con instancias eliminadas:\n",
      "\n",
      "Precisión:  0.825255830142708\n",
      "AUC:  0.8259227956975396\n",
      "F1-score:  0.8227365658017838\n",
      "Confusion Matrix:\n",
      "  [[0.80661943 0.19338057]\n",
      " [0.15477383 0.84522617]]\n",
      "\n",
      "\n",
      "Datos con valores perdidos reemplazados por la moda:\n",
      "\n",
      "Precisión:  0.8323633832231117\n",
      "AUC:  0.8321279762509427\n",
      "F1-score:  0.8182631300244225\n",
      "Confusion Matrix:\n",
      "  [[0.83729218 0.16270782]\n",
      " [0.17303623 0.82696377]]\n",
      "\n",
      "\n",
      "Datos con atributos correlados eliminados:\n",
      "\n",
      "Precisión:  0.826446223459798\n",
      "AUC:  0.825609191849742\n",
      "F1-score:  0.8105254041770446\n",
      "Confusion Matrix:\n",
      "  [[0.8347692  0.1652308 ]\n",
      " [0.18355082 0.81644918]]\n"
     ]
    }
   ],
   "source": [
    "print(\"Linear Support Vector Classification\")\n",
    "\n",
    "print(\"Datos con instancias eliminadas:\\n\")\n",
    "svm(less_attributes,less_target,1.0,None,1000000)\n",
    "print(\"\\n\")\n",
    "\n",
    "print(\"Datos con valores perdidos reemplazados por la moda:\\n\")\n",
    "svm(replaced_attributes,replaced_target,1.0,None,1000000)\n",
    "print(\"\\n\")\n",
    "\n",
    "print(\"Datos con atributos correlados eliminados:\\n\")\n",
    "svm(corr_attributes,corr_target,1.0,None,1000000)"
   ]
  },
  {
   "cell_type": "markdown",
   "metadata": {},
   "source": [
    "Intentamos ajustar los hiperparámetros."
   ]
  },
  {
   "cell_type": "code",
   "execution_count": 34,
   "metadata": {},
   "outputs": [
    {
     "name": "stdout",
     "output_type": "stream",
     "text": [
      "Linear Support Vector Classification\n",
      "C=5\n",
      "Precisión:  0.8299617124956491\n",
      "AUC:  0.8302540993848118\n",
      "F1-score:  0.8236110334283498\n",
      "Confusion Matrix:\n",
      "  [[0.82440853 0.17559147]\n",
      " [0.16390033 0.83609967]]\n",
      "\n",
      "\n",
      "C=10\n",
      "Precisión:  0.8299617124956491\n",
      "AUC:  0.8302540993848118\n",
      "F1-score:  0.8236110334283498\n",
      "Confusion Matrix:\n",
      "  [[0.82440853 0.17559147]\n",
      " [0.16390033 0.83609967]]\n",
      "\n",
      "\n",
      "C=2\n",
      "Precisión:  0.8299547511312216\n",
      "AUC:  0.8300997783971574\n",
      "F1-score:  0.8233093774178657\n",
      "Confusion Matrix:\n",
      "  [[0.82440853 0.17559147]\n",
      " [0.16420898 0.83579102]]\n",
      "\n",
      "\n",
      "C=5 y número de iteraciones menor\n",
      "Precisión:  0.8299547511312216\n",
      "AUC:  0.8300997783971574\n",
      "F1-score:  0.8233093774178657\n",
      "Confusion Matrix:\n",
      "  [[0.82440853 0.17559147]\n",
      " [0.16420898 0.83579102]]\n",
      "\n",
      "\n",
      "C=5 y clases con pesos balanceados\n",
      "Precisión:  0.8311521058127391\n",
      "AUC:  0.8314239813326136\n",
      "F1-score:  0.8262881447006674\n",
      "Confusion Matrix:\n",
      "  [[0.81710525 0.18289475]\n",
      " [0.15425729 0.84574271]]\n"
     ]
    }
   ],
   "source": [
    "print(\"Linear Support Vector Classification\")\n",
    "print(\"C=5\")\n",
    "svm(less_attributes,less_target,5,None, 100000000)\n",
    "print(\"\\n\")\n",
    "print(\"C=10\")\n",
    "svm(less_attributes,less_target,10,None, 100000000)\n",
    "print(\"\\n\")\n",
    "print(\"C=2\")\n",
    "svm(less_attributes,less_target,2,None, 100000000)\n",
    "print(\"\\n\")\n",
    "print(\"C=5 y número de iteraciones menor\")\n",
    "svm(less_attributes,less_target,2,None, 100000000)\n",
    "print(\"\\n\")\n",
    "print(\"C=5 y clases con pesos balanceados\")\n",
    "svm(less_attributes,less_target,5,'balanced', 100000000)"
   ]
  },
  {
   "cell_type": "markdown",
   "metadata": {},
   "source": [
    "### Vecino más cercano kNN"
   ]
  },
  {
   "cell_type": "code",
   "execution_count": 539,
   "metadata": {},
   "outputs": [],
   "source": [
    "from sklearn.neighbors import KNeighborsClassifier\n",
    "\n",
    "def Knn(X,Y,n_neighbors,weights,p,metric='minkowski'):\n",
    "    clf=KNeighborsClassifier(n_neighbors=n_neighbors, weights=weights, p=p,metric=metric)\n",
    "    clasificacion(X,Y,clf)"
   ]
  },
  {
   "cell_type": "markdown",
   "metadata": {},
   "source": [
    "  Empezamos determinando cual de los datos preprocesados nos da mejores resultados."
   ]
  },
  {
   "cell_type": "code",
   "execution_count": 484,
   "metadata": {},
   "outputs": [
    {
     "name": "stdout",
     "output_type": "stream",
     "text": [
      "VECINO MÁS CERCANO\n",
      "Datos con instancias eliminadas:\n",
      "\n",
      "Precisión:  0.7981204316045944\n",
      "AUC:  0.797888272147077\n",
      "F1-score:  0.7950620849451633\n",
      "Confusion Matrix:\n",
      "  [[0.78836964 0.21163036]\n",
      " [0.1925931  0.8074069 ]]\n",
      "\n",
      "\n",
      "Datos con valores perdidos reemplazados por la moda:\n",
      "\n",
      "Precisión:  0.7993108249216847\n",
      "AUC:  0.7982967673840176\n",
      "F1-score:  0.7809578062902119\n",
      "Confusion Matrix:\n",
      "  [[0.81197106 0.18802894]\n",
      " [0.21537753 0.78462247]]\n",
      "\n",
      "\n",
      "Datos con atributos correlados eliminados:\n",
      "\n",
      "Precisión:  0.7698085624782458\n",
      "AUC:  0.7687251803454176\n",
      "F1-score:  0.747574747900269\n",
      "Confusion Matrix:\n",
      "  [[0.78476617 0.21523383]\n",
      " [0.24731581 0.75268419]]\n"
     ]
    }
   ],
   "source": [
    "print(\"VECINO MÁS CERCANO\")\n",
    "\n",
    "print(\"Datos con instancias eliminadas:\\n\")\n",
    "Knn(less_attributes,less_target,5,'uniform',2)\n",
    "print(\"\\n\")\n",
    "\n",
    "print(\"Datos con valores perdidos reemplazados por la moda:\\n\")\n",
    "Knn(replaced_attributes,replaced_target,5,'uniform',2)\n",
    "print(\"\\n\")\n",
    "\n",
    "print(\"Datos con atributos correlados eliminados:\\n\")\n",
    "Knn(corr_attributes,corr_target,5,'uniform',2)"
   ]
  },
  {
   "cell_type": "markdown",
   "metadata": {},
   "source": [
    "Comparamos entre la distancia Euclídea (por defecto) y la distancia de Hamming"
   ]
  },
  {
   "cell_type": "code",
   "execution_count": 583,
   "metadata": {},
   "outputs": [
    {
     "name": "stdout",
     "output_type": "stream",
     "text": [
      "VECINO MÁS CERCANO, con 5 vecinos, distancia euclídea y pesos uniformes\n",
      "Precisión:  0.7981482770623043\n",
      "AUC:  0.7998434994828142\n",
      "F1-score:  0.7954530604944772\n",
      "Confusion Matrix:\n",
      "  [[0.78356185 0.21643815]\n",
      " [0.18387485 0.81612515]]\n",
      "\n",
      "\n",
      "VECINO MÁS CERCANO, con 5 vecinos, distancia de Hamming y pesos uniformes\n",
      "Precisión:  0.8028750435085279\n",
      "AUC:  0.8024053692594484\n",
      "F1-score:  0.7982439181263353\n",
      "Confusion Matrix:\n",
      "  [[0.80172264 0.19827736]\n",
      " [0.1969119  0.8030881 ]]\n",
      "\n",
      "\n"
     ]
    }
   ],
   "source": [
    "print(\"VECINO MÁS CERCANO, con 5 vecinos, distancia euclídea y pesos uniformes\")\n",
    "Knn(less_attributes,less_target,5,'uniform', 2)\n",
    "print(\"\\n\")\n",
    "\n",
    "print(\"VECINO MÁS CERCANO, con 5 vecinos, distancia de Hamming y pesos uniformes\")\n",
    "Knn(less_attributes,less_target,5,'uniform', 2)\n",
    "print(\"\\n\")"
   ]
  },
  {
   "cell_type": "code",
   "execution_count": 584,
   "metadata": {},
   "outputs": [
    {
     "name": "stdout",
     "output_type": "stream",
     "text": [
      "VECINO MÁS CERCANO, con 5 vecinos, distancia de Manhattan y pesos uniformes\n",
      "Precisión:  0.7957883745214062\n",
      "AUC:  0.7957903723340201\n",
      "F1-score:  0.7870512179271973\n",
      "Confusion Matrix:\n",
      "  [[0.80276774 0.19723226]\n",
      " [0.211187   0.788813  ]]\n",
      "\n",
      "\n"
     ]
    }
   ],
   "source": [
    "print(\"VECINO MÁS CERCANO, con 5 vecinos, distancia de Manhattan y pesos uniformes\")\n",
    "Knn(less_attributes,less_target,5,'uniform', 1)\n",
    "print(\"\\n\")"
   ]
  },
  {
   "cell_type": "markdown",
   "metadata": {},
   "source": [
    "Comparación con pesos inversamente proporcionales a la distancia"
   ]
  },
  {
   "cell_type": "code",
   "execution_count": 592,
   "metadata": {},
   "outputs": [
    {
     "name": "stdout",
     "output_type": "stream",
     "text": [
      "VECINO MÁS CERCANO, con 5 vecinos, distancia euclídea y pesos inversamente proporcionales a la distancia\n",
      "Precisión:  0.7851305255830143\n",
      "AUC:  0.784532897126519\n",
      "F1-score:  0.7742808769869896\n",
      "Confusion Matrix:\n",
      "  [[0.80559439 0.19440561]\n",
      " [0.2365286  0.7634714 ]]\n",
      "\n",
      "\n",
      "VECINO MÁS CERCANO, con 5 vecinos, distancia de Hamming y pesos inversamente proporcionales a la distancia\n",
      "Precisión:  0.7946049425687434\n",
      "AUC:  0.7931606933143145\n",
      "F1-score:  0.7728125448801005\n",
      "Confusion Matrix:\n",
      "  [[0.8621373  0.1378627 ]\n",
      " [0.27581592 0.72418408]]\n",
      "\n",
      "\n"
     ]
    }
   ],
   "source": [
    "print(\"VECINO MÁS CERCANO, con 5 vecinos, distancia euclídea y pesos inversamente proporcionales a la distancia\")\n",
    "Knn(less_attributes,less_target,5,'distance', 2)\n",
    "print(\"\\n\")\n",
    "\n",
    "print(\"VECINO MÁS CERCANO, con 5 vecinos, distancia de Hamming y pesos inversamente proporcionales a la distancia\")\n",
    "Knn(less_attributes,less_target,5,'distance', 2,'hamming')\n",
    "print(\"\\n\")"
   ]
  },
  {
   "cell_type": "markdown",
   "metadata": {},
   "source": [
    "Probamos con diferentes números de vecinos hasta encontrar el que está próximo al óptimo."
   ]
  },
  {
   "cell_type": "code",
   "execution_count": 572,
   "metadata": {},
   "outputs": [
    {
     "name": "stdout",
     "output_type": "stream",
     "text": [
      "VECINO MÁS CERCANO, con 1 vecino, distancia de Hamming y pesos uniformes\n",
      "Precisión:  0.7555516881308736\n",
      "AUC:  0.7550017134079365\n",
      "F1-score:  0.7378623780668422\n",
      "Confusion Matrix:\n",
      "  [[0.79986728 0.20013272]\n",
      " [0.28986385 0.71013615]]\n",
      "\n",
      "\n",
      "VECINO MÁS CERCANO, con 4 vecinos, distancia de Hamming y pesos uniformes\n",
      "Precisión:  0.7851514096762966\n",
      "AUC:  0.7819217267058346\n",
      "F1-score:  0.7463511213315167\n",
      "Confusion Matrix:\n",
      "  [[0.8994839  0.1005161 ]\n",
      " [0.33564044 0.66435956]]\n",
      "\n",
      "\n",
      "VECINO MÁS CERCANO, con 10 vecinos, distancia de Hamming y pesos uniformes\n",
      "Precisión:  0.8134145492516532\n",
      "AUC:  0.8109042249554775\n",
      "F1-score:  0.7910524451696564\n",
      "Confusion Matrix:\n",
      "  [[0.89069953 0.10930047]\n",
      " [0.26889108 0.73110892]]\n",
      "\n",
      "\n",
      "VECINO MÁS CERCANO, con 20 vecinos, distancia de Hamming y pesos uniformes\n",
      "Precisión:  0.8146258266620258\n",
      "AUC:  0.8120754079569815\n",
      "F1-score:  0.7915890507550165\n",
      "Confusion Matrix:\n",
      "  [[0.89287608 0.10712392]\n",
      " [0.26872526 0.73127474]]\n",
      "\n",
      "\n"
     ]
    }
   ],
   "source": [
    "#Tunning k\n",
    "\n",
    "print(\"VECINO MÁS CERCANO, con 1 vecino, distancia de Hamming y pesos uniformes\")\n",
    "Knn(less_attributes,less_target,1,'uniform', 2,'hamming')\n",
    "print(\"\\n\")\n",
    "\n",
    "print(\"VECINO MÁS CERCANO, con 4 vecinos, distancia de Hamming y pesos uniformes\")\n",
    "Knn(less_attributes,less_target,4,'uniform', 2,'hamming')\n",
    "print(\"\\n\")\n",
    "\n",
    "print(\"VECINO MÁS CERCANO, con 10 vecinos, distancia de Hamming y pesos uniformes\")\n",
    "Knn(less_attributes,less_target,10,'uniform', 2,'hamming')\n",
    "print(\"\\n\")\n",
    "\n",
    "print(\"VECINO MÁS CERCANO, con 20 vecinos, distancia de Hamming y pesos uniformes\")\n",
    "Knn(less_attributes,less_target,20,'uniform', 2,'hamming')\n",
    "print(\"\\n\")"
   ]
  },
  {
   "cell_type": "code",
   "execution_count": 570,
   "metadata": {},
   "outputs": [
    {
     "name": "stdout",
     "output_type": "stream",
     "text": [
      "VECINO MÁS CERCANO, con 7 vecinos, distancia de Hamming y pesos uniformes\n",
      "Precisión:  0.8229376957883746\n",
      "AUC:  0.8212037488725834\n",
      "F1-score:  0.8031505451230256\n",
      "Confusion Matrix:\n",
      "  [[0.89519431 0.10480569]\n",
      " [0.25278681 0.74721319]]\n",
      "\n",
      "\n",
      "VECINO MÁS CERCANO, con 8 vecinos, distancia de Hamming y pesos uniformes\n",
      "Precisión:  0.8217194570135746\n",
      "AUC:  0.8196990173192409\n",
      "F1-score:  0.7996630552624869\n",
      "Confusion Matrix:\n",
      "  [[0.89735201 0.10264799]\n",
      " [0.25795397 0.74204603]]\n",
      "\n",
      "\n",
      "VECINO MÁS CERCANO, con 15 vecinos, distancia de Hamming y pesos uniformes\n",
      "Precisión:  0.8181970066132962\n",
      "AUC:  0.8154989719369954\n",
      "F1-score:  0.7999403271649197\n",
      "Confusion Matrix:\n",
      "  [[0.87830899 0.12169101]\n",
      " [0.24731104 0.75268896]]\n",
      "\n",
      "\n",
      "VECINO MÁS CERCANO, con 17 vecinos, distancia de Hamming y pesos uniformes\n",
      "Precisión:  0.8098990602158022\n",
      "AUC:  0.8080871065866624\n",
      "F1-score:  0.7888527818999972\n",
      "Confusion Matrix:\n",
      "  [[0.88146513 0.11853487]\n",
      " [0.26529092 0.73470908]]\n",
      "\n",
      "\n"
     ]
    }
   ],
   "source": [
    "print(\"VECINO MÁS CERCANO, con 7 vecinos, distancia de Hamming y pesos uniformes\")\n",
    "Knn(less_attributes,less_target,7,'uniform', 2,'hamming')\n",
    "print(\"\\n\")\n",
    "\n",
    "print(\"VECINO MÁS CERCANO, con 8 vecinos, distancia de Hamming y pesos uniformes\")\n",
    "Knn(less_attributes,less_target,8,'uniform', 2,'hamming')\n",
    "print(\"\\n\")\n",
    "\n",
    "print(\"VECINO MÁS CERCANO, con 15 vecinos, distancia de Hamming y pesos uniformes\")\n",
    "Knn(less_attributes,less_target,15,'uniform', 2,'hamming')\n",
    "print(\"\\n\")\n",
    "\n",
    "print(\"VECINO MÁS CERCANO, con 17 vecinos, distancia de Hamming y pesos uniformes\")\n",
    "Knn(less_attributes,less_target,17,'uniform', 2,'hamming')\n",
    "print(\"\\n\")"
   ]
  },
  {
   "cell_type": "code",
   "execution_count": 571,
   "metadata": {},
   "outputs": [
    {
     "name": "stdout",
     "output_type": "stream",
     "text": [
      "VECINO MÁS CERCANO, con 6 vecinos, distancia de Hamming y pesos uniformes\n",
      "Precisión:  0.818162199791159\n",
      "AUC:  0.8174518844480131\n",
      "F1-score:  0.7946248465939861\n",
      "Confusion Matrix:\n",
      "  [[0.90459017 0.09540983]\n",
      " [0.2696864  0.7303136 ]]\n",
      "\n",
      "\n"
     ]
    }
   ],
   "source": [
    "print(\"VECINO MÁS CERCANO, con 6 vecinos, distancia de Hamming y pesos uniformes\")\n",
    "Knn(less_attributes,less_target,6,'uniform', 2,'hamming')\n",
    "print(\"\\n\")"
   ]
  },
  {
   "cell_type": "markdown",
   "metadata": {},
   "source": [
    "### Àrboles de decisión"
   ]
  },
  {
   "cell_type": "code",
   "execution_count": 109,
   "metadata": {},
   "outputs": [],
   "source": [
    "from sklearn.tree import DecisionTreeClassifier,export_graphviz\n",
    "import graphviz\n",
    "\n",
    "def decisionTree(X,Y, criterion,depth=False,max_depth=None, min_samples_split=2,min_samples_leaf=1,plot=False):\n",
    "    clf=DecisionTreeClassifier(criterion=criterion,max_depth=max_depth, min_samples_split=min_samples_split,min_samples_leaf=min_samples_leaf,random_state=100)\n",
    "    clasificacion(X,Y,clf)\n",
    "    if depth:\n",
    "        print(\"Max depth: \", clf.tree_.max_depth)\n",
    "        print(\"Número de hojas: \", clf.get_n_leaves())\n",
    "        print(\"Número de nodos: \", clf.tree_.node_count)\n",
    "    if plot:\n",
    "       dot_data = export_graphviz(clf, out_file=None, feature_names=X.columns, class_names=['benigno','maligno'], filled=True)\n",
    "       graph = graphviz.Source(dot_data, format=\"png\")\n",
    "       graph.render('decision_tree') \n",
    "       graph\n",
    "                                  "
   ]
  },
  {
   "cell_type": "markdown",
   "metadata": {},
   "source": [
    "  Empezamos determinando cual de los datos preprocesados nos da mejores resultados."
   ]
  },
  {
   "cell_type": "code",
   "execution_count": 527,
   "metadata": {},
   "outputs": [
    {
     "name": "stdout",
     "output_type": "stream",
     "text": [
      "DECISION TREE\n",
      "Datos con instancias eliminadas:\n",
      "\n",
      "Precisión:  0.7779951270449008\n",
      "AUC:  0.7768099277338513\n",
      "F1-score:  0.7586725291309332\n",
      "Confusion Matrix:\n",
      "  [[0.83055656 0.16944344]\n",
      " [0.2769367  0.7230633 ]]\n",
      "\n",
      "\n",
      "Datos con valores perdidos reemplazados por la moda:\n",
      "\n",
      "Precisión:  0.7839679777236339\n",
      "AUC:  0.7793948178911096\n",
      "F1-score:  0.7500298347871655\n",
      "Confusion Matrix:\n",
      "  [[0.83771273 0.16228727]\n",
      " [0.2789231  0.7210769 ]]\n",
      "\n",
      "\n"
     ]
    }
   ],
   "source": [
    "print(\"DECISION TREE\")\n",
    "\n",
    "print(\"Datos con instancias eliminadas:\\n\")\n",
    "decisionTree(less_attributes,less_target,'gini')\n",
    "print(\"\\n\")\n",
    "\n",
    "\n",
    "print(\"Datos con valores perdidos reemplazados por la moda:\\n\")\n",
    "decisionTree(replaced_attributes,replaced_target,'gini')\n",
    "print(\"\\n\")"
   ]
  },
  {
   "cell_type": "code",
   "execution_count": 528,
   "metadata": {},
   "outputs": [
    {
     "name": "stdout",
     "output_type": "stream",
     "text": [
      "Datos con atributos correlados eliminados:\n",
      "\n",
      "Precisión:  0.7697737556561085\n",
      "AUC:  0.7688380621922528\n",
      "F1-score:  0.7447295018394028\n",
      "Confusion Matrix:\n",
      "  [[0.79679034 0.20320966]\n",
      " [0.25911422 0.74088578]]\n"
     ]
    }
   ],
   "source": [
    "print(\"Datos con atributos correlados eliminados:\\n\")\n",
    "decisionTree(corr_attributes,corr_target,'gini')"
   ]
  },
  {
   "cell_type": "markdown",
   "metadata": {},
   "source": [
    "Determinamos ahora cual de las dos medidas de impureza (gini o entropía) nos da mejores resultados."
   ]
  },
  {
   "cell_type": "code",
   "execution_count": 711,
   "metadata": {},
   "outputs": [
    {
     "name": "stdout",
     "output_type": "stream",
     "text": [
      "Datos con instancias eliminadas:\n",
      "\n",
      "DECISION TREE usando la medida de gini\n",
      "Precisión:  0.756728158719109\n",
      "AUC:  0.7553461844825675\n",
      "F1-score:  0.7351423218253031\n",
      "Confusion Matrix:\n",
      "  [[0.80574534 0.19425466]\n",
      " [0.29505297 0.70494703]]\n",
      "Max depth:  17\n",
      "Número de hojas:  193\n",
      "Número de nodos:  385\n",
      "\n",
      "\n",
      "DECISION TREE usando la entropía\n",
      "Precisión:  0.7721266968325792\n",
      "AUC:  0.7700158300497173\n",
      "F1-score:  0.7492936050164565\n",
      "Confusion Matrix:\n",
      "  [[0.82799099 0.17200901]\n",
      " [0.28795933 0.71204067]]\n",
      "Max depth:  20\n",
      "Número de hojas:  188\n",
      "Número de nodos:  375\n"
     ]
    }
   ],
   "source": [
    "print(\"Datos con instancias eliminadas:\\n\")\n",
    "\n",
    "print(\"DECISION TREE usando la medida de gini\")\n",
    "decisionTree(less_attributes,less_target,'gini',True)\n",
    "print(\"\\n\")\n",
    "print(\"DECISION TREE usando la entropía\")\n",
    "decisionTree(less_attributes,less_target,'entropy',True)"
   ]
  },
  {
   "cell_type": "markdown",
   "metadata": {},
   "source": [
    "Estudiamos si hay sobreajuste cambiando los valores de max_depth y buscando el óptimo."
   ]
  },
  {
   "cell_type": "code",
   "execution_count": 703,
   "metadata": {},
   "outputs": [
    {
     "name": "stdout",
     "output_type": "stream",
     "text": [
      "DECISION TREE con max_depth=15\n",
      "Precisión:  0.7827149321266968\n",
      "AUC:  0.7808145643329147\n",
      "F1-score:  0.7619943327343985\n",
      "Confusion Matrix:\n",
      "  [[0.82820249 0.17179751]\n",
      " [0.26657336 0.73342664]]\n",
      "Max depth:  15\n",
      "Número de hojas:  168\n",
      "Número de nodos:  335\n",
      "\n",
      "\n",
      "DECISION TREE con max_depth=10\n",
      "Precisión:  0.8028123912286809\n",
      "AUC:  0.80298881340693\n",
      "F1-score:  0.7889916241737553\n",
      "Confusion Matrix:\n",
      "  [[0.83400563 0.16599437]\n",
      " [0.22802801 0.77197199]]\n",
      "Max depth:  10\n",
      "Número de hojas:  100\n",
      "Número de nodos:  199\n",
      "\n",
      "\n",
      "DECISION TREE con max_depth=19\n",
      "Precisión:  0.7756561085972851\n",
      "AUC:  0.7736033391274225\n",
      "F1-score:  0.754481226505251\n",
      "Confusion Matrix:\n",
      "  [[0.82563805 0.17436195]\n",
      " [0.27843137 0.72156863]]\n",
      "Max depth:  19\n",
      "Número de hojas:  187\n",
      "Número de nodos:  373\n",
      "\n",
      "\n",
      "DECISION TREE con max_depth=5\n",
      "Precisión:  0.8157953358858336\n",
      "AUC:  0.8154885233232625\n",
      "F1-score:  0.8026228067873873\n",
      "Confusion Matrix:\n",
      "  [[0.84261577 0.15738423]\n",
      " [0.21163872 0.78836128]]\n",
      "Max depth:  5\n",
      "Número de hojas:  23\n",
      "Número de nodos:  45\n",
      "\n",
      "\n"
     ]
    }
   ],
   "source": [
    "print(\"DECISION TREE con max_depth=15\")\n",
    "decisionTree(less_attributes,less_target,'entropy',True, 15)\n",
    "print(\"\\n\")\n",
    "\n",
    "print(\"DECISION TREE con max_depth=10\")\n",
    "decisionTree(less_attributes,less_target,'entropy',True, 10)\n",
    "\n",
    "print(\"\\n\")\n",
    "print(\"DECISION TREE con max_depth=19\")\n",
    "decisionTree(less_attributes,less_target,'entropy', True,19)\n",
    "print(\"\\n\")\n",
    "\n",
    "print(\"DECISION TREE con max_depth=5\")\n",
    "decisionTree(less_attributes,less_target,'entropy',True, 5)\n",
    "print(\"\\n\")"
   ]
  },
  {
   "cell_type": "code",
   "execution_count": 701,
   "metadata": {},
   "outputs": [
    {
     "name": "stdout",
     "output_type": "stream",
     "text": [
      "Precisión:  0.827615732683606\n",
      "AUC:  0.8261621844016205\n",
      "F1-score:  0.8110240349288036\n",
      "Confusion Matrix:\n",
      "  [[0.87603826 0.12396174]\n",
      " [0.22371389 0.77628611]]\n",
      "Max depth:  4\n",
      "Número de hojas:  13\n",
      "Número de nodos:  25\n",
      "\n",
      "\n",
      "Precisión:  0.8110546467107553\n",
      "AUC:  0.8106310334401012\n",
      "F1-score:  0.798169163162347\n",
      "Confusion Matrix:\n",
      "  [[0.83777118 0.16222882]\n",
      " [0.21650911 0.78349089]]\n",
      "Max depth:  6\n",
      "Número de hojas:  35\n",
      "Número de nodos:  69\n",
      "\n",
      "\n",
      "Precisión:  0.837020536025061\n",
      "AUC:  0.8352894447895473\n",
      "F1-score:  0.8187818975941452\n",
      "Confusion Matrix:\n",
      "  [[0.89923105 0.10076895]\n",
      " [0.22865216 0.77134784]]\n",
      "Max depth:  3\n",
      "Número de hojas:  7\n",
      "Número de nodos:  13\n",
      "\n",
      "\n",
      "Precisión:  0.8040236686390532\n",
      "AUC:  0.8040387860262734\n",
      "F1-score:  0.785271704998151\n",
      "Confusion Matrix:\n",
      "  [[0.85399505 0.14600495]\n",
      " [0.24591748 0.75408252]]\n",
      "Max depth:  2\n",
      "Número de hojas:  4\n",
      "Número de nodos:  7\n",
      "\n",
      "\n"
     ]
    }
   ],
   "source": [
    "decisionTree(less_attributes,less_target,'entropy',True, 4)\n",
    "print(\"\\n\")\n",
    "\n",
    "decisionTree(less_attributes,less_target,'entropy',True, 6)\n",
    "print(\"\\n\")\n",
    "\n",
    "decisionTree(less_attributes,less_target,'entropy',True, 3)\n",
    "print(\"\\n\")\n",
    "\n",
    "decisionTree(less_attributes,less_target,'entropy',True, 2)\n",
    "print(\"\\n\")"
   ]
  },
  {
   "cell_type": "markdown",
   "metadata": {},
   "source": [
    "Intentamos buscar ahora el mejor valor para min_samples_split."
   ]
  },
  {
   "cell_type": "code",
   "execution_count": 714,
   "metadata": {
    "scrolled": true
   },
   "outputs": [
    {
     "name": "stdout",
     "output_type": "stream",
     "text": [
      "Mínimo de ejemplos en un nodo para que se pueda dividir es 10\n",
      "Precisión:  0.7933379742429516\n",
      "AUC:  0.7934916928625583\n",
      "F1-score:  0.777005503468657\n",
      "Confusion Matrix:\n",
      "  [[0.83575024 0.16424976]\n",
      " [0.24876685 0.75123315]]\n",
      "Max depth:  16\n",
      "Número de hojas:  101\n",
      "Número de nodos:  201\n",
      "\n",
      "\n",
      "Mínimo de ejemplos en un nodo para que se pueda dividir es 20\n",
      "Precisión:  0.79686042464323\n",
      "AUC:  0.7963171021430729\n",
      "F1-score:  0.7849535748766355\n",
      "Confusion Matrix:\n",
      "  [[0.81265749 0.18734251]\n",
      " [0.22002329 0.77997671]]\n",
      "Max depth:  15\n",
      "Número de hojas:  61\n",
      "Número de nodos:  121\n",
      "\n",
      "\n",
      "Mínimo de ejemplos en un nodo para que se pueda dividir es 50\n",
      "Precisión:  0.8145910198398886\n",
      "AUC:  0.8138441882529148\n",
      "F1-score:  0.7976758299934119\n",
      "Confusion Matrix:\n",
      "  [[0.86144039 0.13855961]\n",
      " [0.23375201 0.76624799]]\n",
      "Max depth:  11\n",
      "Número de hojas:  35\n",
      "Número de nodos:  69\n",
      "\n",
      "\n",
      "Mínimo de ejemplos en un nodo para que se pueda dividir es 100\n",
      "Precisión:  0.8299547511312217\n",
      "AUC:  0.8291954014044889\n",
      "F1-score:  0.8139892051019363\n",
      "Confusion Matrix:\n",
      "  [[0.87469728 0.12530272]\n",
      " [0.21630648 0.78369352]]\n",
      "Max depth:  8\n",
      "Número de hojas:  17\n",
      "Número de nodos:  33\n",
      "\n",
      "\n",
      "Mínimo de ejemplos en un nodo para que se pueda dividir es 150\n",
      "Precisión:  0.8028402366863905\n",
      "AUC:  0.8030078581912218\n",
      "F1-score:  0.7841506555050085\n",
      "Confusion Matrix:\n",
      "  [[0.8519332  0.1480668 ]\n",
      " [0.24591748 0.75408252]]\n",
      "Max depth:  6\n",
      "Número de hojas:  11\n",
      "Número de nodos:  21\n",
      "\n",
      "\n"
     ]
    }
   ],
   "source": [
    "print(\"Mínimo de ejemplos en un nodo para que se pueda dividir es 10\")\n",
    "decisionTree(less_attributes,less_target,'entropy',True, None, 10)\n",
    "print(\"\\n\")\n",
    "\n",
    "print(\"Mínimo de ejemplos en un nodo para que se pueda dividir es 20\")\n",
    "decisionTree(less_attributes,less_target,'entropy',True, None, 20)\n",
    "print(\"\\n\")\n",
    "\n",
    "print(\"Mínimo de ejemplos en un nodo para que se pueda dividir es 50\")\n",
    "decisionTree(less_attributes,less_target,'entropy',True, None, 50)\n",
    "print(\"\\n\")\n",
    "\n",
    "print(\"Mínimo de ejemplos en un nodo para que se pueda dividir es 100\")\n",
    "decisionTree(less_attributes,less_target,'entropy',True, None, 100)\n",
    "print(\"\\n\") \n",
    "\n",
    "print(\"Mínimo de ejemplos en un nodo para que se pueda dividir es 150\")\n",
    "decisionTree(less_attributes,less_target,'entropy',True, None, 150)\n",
    "print(\"\\n\") "
   ]
  },
  {
   "cell_type": "code",
   "execution_count": 713,
   "metadata": {},
   "outputs": [
    {
     "name": "stdout",
     "output_type": "stream",
     "text": [
      "Mínimo de ejemplos en un nodo para que se pueda dividir es 80\n",
      "Precisión:  0.8240375913679081\n",
      "AUC:  0.8245145885304878\n",
      "F1-score:  0.8127540556360175\n",
      "Confusion Matrix:\n",
      "  [[0.84571005 0.15428995]\n",
      " [0.19668088 0.80331912]]\n",
      "Max depth:  9\n",
      "Número de hojas:  20\n",
      "Número de nodos:  39\n",
      "\n",
      "\n",
      "Mínimo de ejemplos en un nodo para que se pueda dividir es 120\n",
      "Precisión:  0.8134632788026452\n",
      "AUC:  0.8143344636877459\n",
      "F1-score:  0.8036441762817692\n",
      "Confusion Matrix:\n",
      "  [[0.82750627 0.17249373]\n",
      " [0.19883734 0.80116266]]\n",
      "Max depth:  7\n",
      "Número de hojas:  14\n",
      "Número de nodos:  27\n",
      "\n",
      "\n",
      "Mínimo de ejemplos en un nodo para que se pueda dividir es 110\n",
      "Precisión:  0.8311103376261748\n",
      "AUC:  0.8304115895026994\n",
      "F1-score:  0.8160024199572563\n",
      "Confusion Matrix:\n",
      "  [[0.87694447 0.12305553]\n",
      " [0.21612129 0.78387871]]\n",
      "Max depth:  7\n",
      "Número de hojas:  15\n",
      "Número de nodos:  29\n",
      "\n",
      "\n",
      "Mínimo de ejemplos en un nodo para que se pueda dividir es 115\n",
      "Precisión:  0.8322868082144101\n",
      "AUC:  0.8316461574039339\n",
      "F1-score:  0.8174816081237509\n",
      "Confusion Matrix:\n",
      "  [[0.87694447 0.12305553]\n",
      " [0.21365216 0.78634784]]\n",
      "Max depth:  7\n",
      "Número de hojas:  14\n",
      "Número de nodos:  27\n",
      "\n",
      "\n"
     ]
    }
   ],
   "source": [
    "print(\"Mínimo de ejemplos en un nodo para que se pueda dividir es 80\")\n",
    "decisionTree(less_attributes,less_target,'entropy',True, None, 80)\n",
    "print(\"\\n\") \n",
    "\n",
    "print(\"Mínimo de ejemplos en un nodo para que se pueda dividir es 120\")\n",
    "decisionTree(less_attributes,less_target,'entropy',True, None, 120)\n",
    "print(\"\\n\") \n",
    "\n",
    "\n",
    "print(\"Mínimo de ejemplos en un nodo para que se pueda dividir es 110\")\n",
    "decisionTree(less_attributes,less_target,'entropy',True, None, 110)\n",
    "print(\"\\n\") \n",
    "\n",
    "\n",
    "print(\"Mínimo de ejemplos en un nodo para que se pueda dividir es 115\")\n",
    "decisionTree(less_attributes,less_target,'entropy',True, None, 115)\n",
    "print(\"\\n\")  "
   ]
  },
  {
   "cell_type": "markdown",
   "metadata": {},
   "source": [
    "Finalmente estudiamos los resultados para distintos valores de min_samples_leaf."
   ]
  },
  {
   "cell_type": "code",
   "execution_count": 722,
   "metadata": {},
   "outputs": [
    {
     "name": "stdout",
     "output_type": "stream",
     "text": [
      "Mínimo de ejemplos que debe tener un nodo hoja es 30\n",
      "Precisión:  0.8417821092934215\n",
      "AUC:  0.8401078480159866\n",
      "F1-score:  0.8275846830500685\n",
      "Confusion Matrix:\n",
      "  [[0.87416173 0.12583827]\n",
      " [0.19394604 0.80605396]]\n",
      "Max depth:  6\n",
      "Número de hojas:  16\n",
      "Número de nodos:  31\n",
      "\n",
      "\n",
      "Mínimo de ejemplos que debe tener un nodo hoja es 40\n",
      "Precisión:  0.8452975983292725\n",
      "AUC:  0.843296425687365\n",
      "F1-score:  0.833859863341672\n",
      "Confusion Matrix:\n",
      "  [[0.86812209 0.13187791]\n",
      " [0.18152924 0.81847076]]\n",
      "Max depth:  6\n",
      "Número de hojas:  11\n",
      "Número de nodos:  21\n",
      "\n",
      "\n",
      "Mínimo de ejemplos que debe tener un nodo hoja es 50\n",
      "Precisión:  0.8452975983292725\n",
      "AUC:  0.843296425687365\n",
      "F1-score:  0.8342708756366086\n",
      "Confusion Matrix:\n",
      "  [[0.86576915 0.13423085]\n",
      " [0.1791763  0.8208237 ]]\n",
      "Max depth:  5\n",
      "Número de hojas:  10\n",
      "Número de nodos:  19\n",
      "\n",
      "\n",
      "Mínimo de ejemplos que debe tener un nodo hoja es 55\n",
      "Precisión:  0.835851026801253\n",
      "AUC:  0.8351712406737866\n",
      "F1-score:  0.8295292116849893\n",
      "Confusion Matrix:\n",
      "  [[0.82968218 0.17031782]\n",
      " [0.1593397  0.8406603 ]]\n",
      "Max depth:  5\n",
      "Número de hojas:  10\n",
      "Número de nodos:  19\n",
      "\n",
      "\n",
      "Mínimo de ejemplos que debe tener un nodo hoja es 60\n",
      "Precisión:  0.8181970066132962\n",
      "AUC:  0.8186319205513166\n",
      "F1-score:  0.8156017379395349\n",
      "Confusion Matrix:\n",
      "  [[0.79166527 0.20833473]\n",
      " [0.15440142 0.84559858]]\n",
      "Max depth:  5\n",
      "Número de hojas:  9\n",
      "Número de nodos:  17\n",
      "\n",
      "\n",
      "Mínimo de ejemplos que debe tener un nodo hoja es 100\n",
      "Precisión:  0.8087573964497041\n",
      "AUC:  0.8083866121132299\n",
      "F1-score:  0.7912101328775072\n",
      "Confusion Matrix:\n",
      "  [[0.85399505 0.14600495]\n",
      " [0.23722183 0.76277817]]\n",
      "Max depth:  3\n",
      "Número de hojas:  5\n",
      "Número de nodos:  9\n",
      "\n",
      "\n"
     ]
    }
   ],
   "source": [
    "print(\"Mínimo de ejemplos que debe tener un nodo hoja es 30\")\n",
    "decisionTree(less_attributes,less_target,'entropy',True, None,2,30)\n",
    "print(\"\\n\") \n",
    "\n",
    "print(\"Mínimo de ejemplos que debe tener un nodo hoja es 40\")\n",
    "decisionTree(less_attributes,less_target,'entropy',True, None,2,40)\n",
    "print(\"\\n\") \n",
    "\n",
    "print(\"Mínimo de ejemplos que debe tener un nodo hoja es 50\")\n",
    "decisionTree(less_attributes,less_target,'entropy',True, None, 2,50)\n",
    "print(\"\\n\") \n",
    "\n",
    "print(\"Mínimo de ejemplos que debe tener un nodo hoja es 55\")\n",
    "decisionTree(less_attributes,less_target,'entropy',True, None,2,55)\n",
    "print(\"\\n\") \n",
    "\n",
    "print(\"Mínimo de ejemplos que debe tener un nodo hoja es 60\")\n",
    "decisionTree(less_attributes,less_target,'entropy',True, None,2,60)\n",
    "print(\"\\n\") \n",
    "\n",
    "print(\"Mínimo de ejemplos que debe tener un nodo hoja es 100\")\n",
    "decisionTree(less_attributes,less_target,'entropy',True, None,2,100)\n",
    "print(\"\\n\") "
   ]
  },
  {
   "cell_type": "markdown",
   "metadata": {},
   "source": [
    "Juntamos los tres valores óptimos y vemos los resultados"
   ]
  },
  {
   "cell_type": "code",
   "execution_count": 103,
   "metadata": {},
   "outputs": [
    {
     "name": "stdout",
     "output_type": "stream",
     "text": [
      "Precisión:  0.8393804385659589\n",
      "AUC:  0.8381840661368033\n",
      "F1-score:  0.8309056443766405\n",
      "Confusion Matrix:\n",
      "  [[0.84554443 0.15445557]\n",
      " [0.1691763  0.8308237 ]]\n",
      "Max depth:  3\n",
      "Número de hojas:  7\n",
      "Número de nodos:  13\n"
     ]
    }
   ],
   "source": [
    "decisionTree(less_attributes,less_target,'entropy',True, 3,115,50)"
   ]
  },
  {
   "cell_type": "markdown",
   "metadata": {},
   "source": [
    "Ahora visualizamos los árboles con los parámetros con los que hemos obtenido mejores resultados."
   ]
  },
  {
   "cell_type": "code",
   "execution_count": 110,
   "metadata": {},
   "outputs": [
    {
     "name": "stdout",
     "output_type": "stream",
     "text": [
      "Mínimo de ejemplos en un nodo para que se considere una hoja es 50\n",
      "Precisión:  0.8452975983292725\n",
      "AUC:  0.843296425687365\n",
      "F1-score:  0.8342708756366086\n",
      "Confusion Matrix:\n",
      "  [[0.86576915 0.13423085]\n",
      " [0.1791763  0.8208237 ]]\n",
      "Max depth:  5\n",
      "Número de hojas:  10\n",
      "Número de nodos:  19\n"
     ]
    }
   ],
   "source": [
    "print(\"Mínimo de ejemplos en un nodo para que se considere una hoja es 50\")\n",
    "decisionTree(less_attributes,less_target,'entropy',True, None,2,50,True)"
   ]
  },
  {
   "cell_type": "code",
   "execution_count": 111,
   "metadata": {
    "scrolled": true
   },
   "outputs": [
    {
     "name": "stdout",
     "output_type": "stream",
     "text": [
      "Profundidad máxima es 3\n",
      "Precisión:  0.837020536025061\n",
      "AUC:  0.8352894447895473\n",
      "F1-score:  0.8187818975941452\n",
      "Confusion Matrix:\n",
      "  [[0.89923105 0.10076895]\n",
      " [0.22865216 0.77134784]]\n",
      "Max depth:  3\n",
      "Número de hojas:  7\n",
      "Número de nodos:  13\n"
     ]
    }
   ],
   "source": [
    "print(\"Profundidad máxima es 3\")\n",
    "decisionTree(less_attributes,less_target,'entropy',True, 3,2,1,True)"
   ]
  },
  {
   "cell_type": "code",
   "execution_count": 91,
   "metadata": {},
   "outputs": [
    {
     "name": "stdout",
     "output_type": "stream",
     "text": [
      "Mínimo de ejemplos en un nodo para que se pueda dividir es 115\n",
      "Precisión:  0.8322868082144101\n",
      "AUC:  0.8316461574039339\n",
      "F1-score:  0.8174816081237509\n",
      "Confusion Matrix:\n",
      "  [[0.87694447 0.12305553]\n",
      " [0.21365216 0.78634784]]\n",
      "Max depth:  7\n",
      "Número de hojas:  14\n",
      "Número de nodos:  27\n"
     ]
    }
   ],
   "source": [
    "print(\"Mínimo de ejemplos en un nodo para que se pueda dividir es 115\")\n",
    "decisionTree(less_attributes,less_target,'entropy',True, None,115,1,True)"
   ]
  },
  {
   "cell_type": "markdown",
   "metadata": {},
   "source": [
    "### Random Forest"
   ]
  },
  {
   "cell_type": "code",
   "execution_count": 2,
   "metadata": {},
   "outputs": [],
   "source": [
    "from sklearn.ensemble import RandomForestClassifier\n",
    "\n",
    "def RanForest(X,Y,num_trees,criterion,max_depth=None, bootstrap=True,min_samples_split=2,min_samples_leaf=1):\n",
    "    clf=RandomForestClassifier(n_estimators=num_trees, criterion=criterion,max_depth=max_depth, bootstrap=bootstrap,min_samples_split=min_samples_split,min_samples_leaf=min_samples_leaf,random_state=100)\n",
    "    clasificacion(X,Y,clf)"
   ]
  },
  {
   "cell_type": "markdown",
   "metadata": {},
   "source": [
    "Determinar cuales de los datos preprocesados es mejor."
   ]
  },
  {
   "cell_type": "code",
   "execution_count": 461,
   "metadata": {},
   "outputs": [
    {
     "name": "stdout",
     "output_type": "stream",
     "text": [
      "RANDOM FOREST\n",
      "Datos con instancias eliminadas:\n",
      "\n",
      "Precisión:  0.8087504350852767\n",
      "AUC:  0.8086506961702474\n",
      "F1-score:  0.8013035065117279\n",
      "Confusion Matrix:\n",
      "  [[0.81535044 0.18464956]\n",
      " [0.19804905 0.80195095]]\n",
      "\n",
      "\n",
      "Datos con valores perdidos reemplazados por la moda:\n",
      "\n",
      "Precisión:  0.8134702401670728\n",
      "AUC:  0.8150029742851359\n",
      "F1-score:  0.7952746093769246\n",
      "Confusion Matrix:\n",
      "  [[0.82865343 0.17134657]\n",
      " [0.19864748 0.80135252]]\n",
      "\n",
      "\n"
     ]
    }
   ],
   "source": [
    "print(\"RANDOM FOREST\")\n",
    "\n",
    "print(\"Datos con instancias eliminadas:\\n\")\n",
    "RanForest(less_attributes,less_target,200,'gini')\n",
    "print(\"\\n\")\n",
    "\n",
    "print(\"Datos con valores perdidos reemplazados por la moda:\\n\")\n",
    "RanForest(replaced_attributes,replaced_target,200,'gini')\n",
    "print(\"\\n\")"
   ]
  },
  {
   "cell_type": "code",
   "execution_count": 487,
   "metadata": {},
   "outputs": [
    {
     "name": "stdout",
     "output_type": "stream",
     "text": [
      "Datos con atributos correlados eliminados:\n",
      "\n",
      "Precisión:  0.7980577793247476\n",
      "AUC:  0.7985537437360607\n",
      "F1-score:  0.7819330029314434\n",
      "Confusion Matrix:\n",
      "  [[0.80523968 0.19476032]\n",
      " [0.20813219 0.79186781]]\n"
     ]
    }
   ],
   "source": [
    "print(\"Datos con atributos correlados eliminados:\\n\")\n",
    "RanForest(corr_attributes,corr_target,200,'gini')"
   ]
  },
  {
   "cell_type": "markdown",
   "metadata": {},
   "source": [
    "Intentamos determinar ahora el número de árboles óptimo"
   ]
  },
  {
   "cell_type": "code",
   "execution_count": 34,
   "metadata": {},
   "outputs": [
    {
     "name": "stdout",
     "output_type": "stream",
     "text": [
      "RANDOM FOREST con 200 árboles\n",
      "Precisión:  0.8417542638357117\n",
      "AUC:  0.8399088333471827\n",
      "F1-score:  0.8269787044432089\n",
      "Confusion Matrix:\n",
      "  [[0.88274116 0.11725884]\n",
      " [0.20292349 0.79707651]]\n",
      "\n",
      "\n",
      "RANDOM FOREST con 100 árboles\n",
      "Precisión:  0.8417473024712845\n",
      "AUC:  0.8400354154747562\n",
      "F1-score:  0.8290809588813751\n",
      "Confusion Matrix:\n",
      "  [[0.87080478 0.12919522]\n",
      " [0.19073395 0.80926605]]\n",
      "\n",
      "\n",
      "RANDOM FOREST con 300 árboles\n",
      "Precisión:  0.8405777932474765\n",
      "AUC:  0.8389441075359094\n",
      "F1-score:  0.824836783089357\n",
      "Confusion Matrix:\n",
      "  [[0.88769151 0.11230849]\n",
      " [0.20980329 0.79019671]]\n",
      "\n",
      "\n",
      "RANDOM FOREST con 150 árboles\n",
      "Precisión:  0.8441141663766099\n",
      "AUC:  0.8424741928243069\n",
      "F1-score:  0.8301871535042986\n",
      "Confusion Matrix:\n",
      "  [[0.88274116 0.11725884]\n",
      " [0.19779278 0.80220722]]\n",
      "\n",
      "\n",
      "RANDOM FOREST con 50 árboles\n",
      "Precisión:  0.8393873999303864\n",
      "AUC:  0.8378463217765194\n",
      "F1-score:  0.8269920093401876\n",
      "Confusion Matrix:\n",
      "  [[0.8663104  0.1336896 ]\n",
      " [0.19061776 0.80938224]]\n",
      "\n",
      "\n",
      "RANDOM FOREST con 10 árboles\n",
      "Precisión:  0.8370205360250609\n",
      "AUC:  0.8352142007221367\n",
      "F1-score:  0.8224785635155575\n",
      "Confusion Matrix:\n",
      "  [[0.87773169 0.12226831]\n",
      " [0.20730329 0.79269671]]\n",
      "\n",
      "\n"
     ]
    }
   ],
   "source": [
    "print(\"RANDOM FOREST con 200 árboles\")\n",
    "RanForest(less_attributes,less_target,200,'entropy',None,True,2,50)\n",
    "print(\"\\n\")\n",
    "\n",
    "print(\"RANDOM FOREST con 100 árboles\")\n",
    "RanForest(less_attributes,less_target,100,'entropy',None,True,2,50)\n",
    "print(\"\\n\")\n",
    "\n",
    "print(\"RANDOM FOREST con 300 árboles\")\n",
    "RanForest(less_attributes,less_target,300,'entropy',None,True,2,50)\n",
    "print(\"\\n\")\n",
    "\n",
    "print(\"RANDOM FOREST con 150 árboles\")\n",
    "RanForest(less_attributes,less_target,150,'entropy',None,True,2,50)\n",
    "print(\"\\n\")\n",
    "\n",
    "print(\"RANDOM FOREST con 50 árboles\")\n",
    "RanForest(less_attributes,less_target,50,'entropy',None,True,2,50)\n",
    "print(\"\\n\")\n",
    "\n",
    "print(\"RANDOM FOREST con 10 árboles\")\n",
    "RanForest(less_attributes,less_target,10,'entropy',None,True,2,50)\n",
    "print(\"\\n\")"
   ]
  },
  {
   "cell_type": "code",
   "execution_count": 39,
   "metadata": {},
   "outputs": [
    {
     "name": "stdout",
     "output_type": "stream",
     "text": [
      "RANDOM FOREST con 150 árboles sin bootstrap\n",
      "Precisión:  0.8358440654368255\n",
      "AUC:  0.8340731044914417\n",
      "F1-score:  0.8219159954649733\n",
      "Confusion Matrix:\n",
      "  [[0.8710697  0.1289303 ]\n",
      " [0.20292349 0.79707651]]\n",
      "\n",
      "\n"
     ]
    }
   ],
   "source": [
    "print(\"RANDOM FOREST con 150 árboles sin bootstrap\")\n",
    "RanForest(less_attributes,less_target,150,'entropy',None,False,2,50)\n",
    "print(\"\\n\")"
   ]
  },
  {
   "cell_type": "markdown",
   "metadata": {},
   "source": [
    "### Redes neuronales"
   ]
  },
  {
   "cell_type": "code",
   "execution_count": 35,
   "metadata": {},
   "outputs": [],
   "source": [
    "from sklearn.neural_network import MLPClassifier\n",
    "\n",
    "def NN(X,Y,hl_sizes,activation='relu',solver='adam',alpha=0.0001,learning_rate=0.001,max_iter=200):\n",
    "    clf=MLPClassifier(hidden_layer_sizes=hl_sizes, activation=activation,solver=solver,alpha=alpha, learning_rate_init=learning_rate, max_iter=max_iter,random_state=100)\n",
    "    clasificacion(X,Y,clf)"
   ]
  },
  {
   "cell_type": "markdown",
   "metadata": {},
   "source": [
    "Determinar cuales de los datos preprocesados es mejor."
   ]
  },
  {
   "cell_type": "code",
   "execution_count": 531,
   "metadata": {},
   "outputs": [
    {
     "name": "stdout",
     "output_type": "stream",
     "text": [
      "NEURAL NETWORK\n",
      "Datos con instancias eliminadas:\n",
      "\n",
      "Precisión:  0.8016150365471633\n",
      "AUC:  0.8023870371400657\n",
      "F1-score:  0.803364631478301\n",
      "Confusion Matrix:\n",
      "  [[0.76453855 0.23546145]\n",
      " [0.15976448 0.84023552]]\n",
      "\n",
      "\n",
      "Datos con valores perdidos reemplazados por la moda:\n",
      "\n",
      "Precisión:  0.8063487643578142\n",
      "AUC:  0.8082588929874106\n",
      "F1-score:  0.7926877734449324\n",
      "Confusion Matrix:\n",
      "  [[0.79285925 0.20714075]\n",
      " [0.17634147 0.82365853]]\n",
      "\n",
      "\n"
     ]
    }
   ],
   "source": [
    "print(\"NEURAL NETWORK\")\n",
    "\n",
    "print(\"Datos con instancias eliminadas:\\n\")\n",
    "NN(less_attributes,less_target,(100),'relu','adam',0.001,1000)\n",
    "print(\"\\n\")\n",
    "\n",
    "print(\"Datos con valores perdidos reemplazados por la moda:\\n\")\n",
    "NN(replaced_attributes,replaced_target,(100),'relu','adam',0.001,1000)\n",
    "print(\"\\n\")"
   ]
  },
  {
   "cell_type": "code",
   "execution_count": 532,
   "metadata": {},
   "outputs": [
    {
     "name": "stdout",
     "output_type": "stream",
     "text": [
      "Datos con atributos correlados eliminados:\n",
      "\n",
      "Precisión:  0.7933727810650888\n",
      "AUC:  0.7940723507021803\n",
      "F1-score:  0.7776191376369422\n",
      "Confusion Matrix:\n",
      "  [[0.79676006 0.20323994]\n",
      " [0.20861536 0.79138464]]\n"
     ]
    }
   ],
   "source": [
    "print(\"Datos con atributos correlados eliminados:\\n\")\n",
    "NN(corr_attributes,corr_target,(100),'relu','adam',0.001,1000)"
   ]
  },
  {
   "cell_type": "markdown",
   "metadata": {},
   "source": [
    "Pasamos ahora a configurar en lo posible algunos de los hiperparámetros."
   ]
  },
  {
   "cell_type": "code",
   "execution_count": 48,
   "metadata": {},
   "outputs": [
    {
     "data": {
      "text/plain": [
       "GridSearchCV(cv=5, estimator=MLPClassifier(), n_jobs=-1,\n",
       "             param_grid={'alpha': [0.001, 0.05, 0.01],\n",
       "                         'hidden_layer_sizes': [(100,), (100, 50),\n",
       "                                                (200, 100, 50), (10, 20, 10)],\n",
       "                         'max_iter': [1000, 10000], 'solver': ['lbfgs']})"
      ]
     },
     "execution_count": 48,
     "metadata": {},
     "output_type": "execute_result"
    }
   ],
   "source": [
    "from sklearn.model_selection import GridSearchCV\n",
    "\n",
    "mlp=MLPClassifier()\n",
    "parameter_space = {\n",
    "    'hidden_layer_sizes': [(100,),(100,50),(200,100,50),(10,20,10)],\n",
    "    'solver': ['lbfgs'],\n",
    "    'alpha': [0.001, 0.05,0.01],\n",
    "    'max_iter':[1000,10000],\n",
    "}\n",
    "\n",
    "clf=GridSearchCV(mlp, parameter_space, n_jobs=-1, cv=5)\n",
    "clf.fit(less_attributes,less_target)"
   ]
  },
  {
   "cell_type": "code",
   "execution_count": 49,
   "metadata": {},
   "outputs": [
    {
     "name": "stdout",
     "output_type": "stream",
     "text": [
      "Mejores parámetros:  {'alpha': 0.001, 'hidden_layer_sizes': (10, 20, 10), 'max_iter': 10000, 'solver': 'lbfgs'}\n"
     ]
    }
   ],
   "source": [
    "print('Mejores parámetros: ', clf.best_params_)"
   ]
  },
  {
   "cell_type": "code",
   "execution_count": 53,
   "metadata": {},
   "outputs": [
    {
     "name": "stdout",
     "output_type": "stream",
     "text": [
      "NEURAL NETWORK con los mejores parámetros obtenidos\n",
      "Precisión:  0.8429307344239471\n",
      "AUC:  0.8424255921351396\n",
      "F1-score:  0.8328184297541081\n",
      "Confusion Matrix:\n",
      "  [[0.86097193 0.13902807]\n",
      " [0.17612074 0.82387926]]\n"
     ]
    }
   ],
   "source": [
    "print(\"NEURAL NETWORK con los mejores parámetros obtenidos\")\n",
    "NN(less_attributes,less_target,(10,20,10),'relu','lbfgs',0.001,0.0001,10000)"
   ]
  },
  {
   "cell_type": "code",
   "execution_count": 72,
   "metadata": {},
   "outputs": [
    {
     "name": "stdout",
     "output_type": "stream",
     "text": [
      "NEURAL NETWORK con max_iter=100000 y mejores parámetros\n",
      "Precisión:  0.8429307344239471\n",
      "AUC:  0.8424255921351396\n",
      "F1-score:  0.8328184297541081\n",
      "Confusion Matrix:\n",
      "  [[0.86097193 0.13902807]\n",
      " [0.17612074 0.82387926]]\n"
     ]
    }
   ],
   "source": [
    "print(\"NEURAL NETWORK con max_iter=100000 y mejores parámetros\")\n",
    "NN(less_attributes,less_target,(10,20,10),'relu','lbfgs',0.001,0.0001,100000)"
   ]
  },
  {
   "cell_type": "code",
   "execution_count": 55,
   "metadata": {},
   "outputs": [
    {
     "data": {
      "text/plain": [
       "GridSearchCV(cv=5, estimator=MLPClassifier(), n_jobs=-1,\n",
       "             param_grid={'alpha': [0.001, 0.05, 0.01],\n",
       "                         'hidden_layer_sizes': [(25, 50, 25), (10, 20, 10),\n",
       "                                                (5, 10, 5), (10, 20)],\n",
       "                         'max_iter': [10000], 'solver': ['lbfgs']})"
      ]
     },
     "execution_count": 55,
     "metadata": {},
     "output_type": "execute_result"
    }
   ],
   "source": [
    "mlp=MLPClassifier()\n",
    "parameter_space = {\n",
    "    'hidden_layer_sizes': [(25,50,25),(10,20,10),(5,10,5),(10,20)],\n",
    "    'solver': ['lbfgs'],\n",
    "    'alpha': [0.001, 0.05,0.01],\n",
    "    'max_iter':[10000],\n",
    "}\n",
    "\n",
    "clf=GridSearchCV(mlp, parameter_space, n_jobs=-1, cv=5)\n",
    "clf.fit(less_attributes,less_target)"
   ]
  },
  {
   "cell_type": "code",
   "execution_count": 56,
   "metadata": {},
   "outputs": [
    {
     "name": "stdout",
     "output_type": "stream",
     "text": [
      "Mejores parámetros:  {'alpha': 0.05, 'hidden_layer_sizes': (25, 50, 25), 'max_iter': 10000, 'solver': 'lbfgs'}\n"
     ]
    }
   ],
   "source": [
    "print('Mejores parámetros: ', clf.best_params_)"
   ]
  },
  {
   "cell_type": "code",
   "execution_count": 74,
   "metadata": {},
   "outputs": [
    {
     "name": "stdout",
     "output_type": "stream",
     "text": [
      "NEURAL NETWORK con mejores parámetros\n",
      "Precisión:  0.8429237730595197\n",
      "AUC:  0.8425369669307745\n",
      "F1-score:  0.8334203868879484\n",
      "Confusion Matrix:\n",
      "  [[0.85835406 0.14164594]\n",
      " [0.17328013 0.82671987]]\n"
     ]
    }
   ],
   "source": [
    "print(\"NEURAL NETWORK con mejores parámetros\")\n",
    "NN(less_attributes,less_target,(25,50,25),'relu','lbfgs',0.05,0.001,10000)"
   ]
  },
  {
   "cell_type": "code",
   "execution_count": 83,
   "metadata": {},
   "outputs": [
    {
     "data": {
      "text/plain": [
       "GridSearchCV(cv=5, estimator=MLPClassifier(), n_jobs=-1,\n",
       "             param_grid={'alpha': [0.0001, 0.001, 0.05, 0.1, 0.25, 0.08],\n",
       "                         'hidden_layer_sizes': [(25, 50, 25), (50, 100, 50),\n",
       "                                                (100, 150, 100), (100, 50, 25),\n",
       "                                                (25, 25, 25)],\n",
       "                         'max_iter': [10000], 'solver': ['lbfgs']})"
      ]
     },
     "execution_count": 83,
     "metadata": {},
     "output_type": "execute_result"
    }
   ],
   "source": [
    "mlp=MLPClassifier()\n",
    "parameter_space = {\n",
    "    'hidden_layer_sizes': [(25,50,25),(50,100,50),(100,150,100),(100,50,25),(25,25,25)],\n",
    "    'solver': ['lbfgs'],\n",
    "    'alpha': [0.0001,0.001, 0.05,0.1,0.25,0.08],\n",
    "    'max_iter':[10000],\n",
    "}\n",
    "\n",
    "clf=GridSearchCV(mlp, parameter_space, n_jobs=-1, cv=5)\n",
    "clf.fit(less_attributes,less_target)"
   ]
  },
  {
   "cell_type": "code",
   "execution_count": 84,
   "metadata": {},
   "outputs": [
    {
     "name": "stdout",
     "output_type": "stream",
     "text": [
      "Mejores parámetros:  {'alpha': 0.25, 'hidden_layer_sizes': (25, 25, 25), 'max_iter': 10000, 'solver': 'lbfgs'}\n"
     ]
    }
   ],
   "source": [
    "print('Mejores parámetros: ', clf.best_params_)"
   ]
  },
  {
   "cell_type": "code",
   "execution_count": 85,
   "metadata": {},
   "outputs": [
    {
     "name": "stdout",
     "output_type": "stream",
     "text": [
      "NEURAL NETWORK con mejores parámetros\n",
      "Precisión:  0.8346954403063002\n",
      "AUC:  0.8345448343435866\n",
      "F1-score:  0.8239382898700367\n",
      "Confusion Matrix:\n",
      "  [[0.85859853 0.14140147]\n",
      " [0.18950886 0.81049114]]\n"
     ]
    }
   ],
   "source": [
    "print(\"NEURAL NETWORK con mejores parámetros\")\n",
    "NN(less_attributes,less_target,(25,25,25),'relu','lbfgs',0.25,0.0001,10000)"
   ]
  },
  {
   "cell_type": "markdown",
   "metadata": {},
   "source": [
    "Otras configuraciones."
   ]
  },
  {
   "cell_type": "code",
   "execution_count": 70,
   "metadata": {},
   "outputs": [
    {
     "name": "stdout",
     "output_type": "stream",
     "text": [
      "NEURAL NETWORK\n",
      "Precisión:  0.8429098503306648\n",
      "AUC:  0.8416928818272679\n",
      "F1-score:  0.8311054428699279\n",
      "Confusion Matrix:\n",
      "  [[0.86684595 0.13315405]\n",
      " [0.18346018 0.81653982]]\n"
     ]
    }
   ],
   "source": [
    "print(\"NEURAL NETWORK\")\n",
    "NN(less_attributes,less_target,(100,50,25),'relu','lbfgs',0.08,0.001,10000)"
   ]
  },
  {
   "cell_type": "code",
   "execution_count": 76,
   "metadata": {},
   "outputs": [
    {
     "name": "stdout",
     "output_type": "stream",
     "text": [
      "NEURAL NETWORK\n",
      "Precisión:  0.835864949530108\n",
      "AUC:  0.8358058678916092\n",
      "F1-score:  0.8252829003886208\n",
      "Confusion Matrix:\n",
      "  [[0.85883048 0.14116952]\n",
      " [0.18721875 0.81278125]]\n"
     ]
    }
   ],
   "source": [
    "print(\"NEURAL NETWORK\")\n",
    "NN(less_attributes,less_target,(10,20,10),'relu','lbfgs',0.05,0.001,10000)"
   ]
  },
  {
   "cell_type": "code",
   "execution_count": 77,
   "metadata": {},
   "outputs": [
    {
     "name": "stdout",
     "output_type": "stream",
     "text": [
      "NEURAL NETWORK\n",
      "Precisión:  0.8358371040723982\n",
      "AUC:  0.8343120992354989\n",
      "F1-score:  0.821845353228332\n",
      "Confusion Matrix:\n",
      "  [[0.86948997 0.13051003]\n",
      " [0.20086578 0.79913422]]\n"
     ]
    }
   ],
   "source": [
    "print(\"NEURAL NETWORK\")\n",
    "NN(less_attributes,less_target,(100,50,25),'relu','lbfgs',0.05,0.001,10000)"
   ]
  }
 ],
 "metadata": {
  "kernelspec": {
   "display_name": "Python 3",
   "language": "python",
   "name": "python3"
  },
  "language_info": {
   "codemirror_mode": {
    "name": "ipython",
    "version": 3
   },
   "file_extension": ".py",
   "mimetype": "text/x-python",
   "name": "python",
   "nbconvert_exporter": "python",
   "pygments_lexer": "ipython3",
   "version": "3.8.5"
  }
 },
 "nbformat": 4,
 "nbformat_minor": 4
}
